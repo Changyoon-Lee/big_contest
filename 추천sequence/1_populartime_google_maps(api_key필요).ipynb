{
 "cells": [
  {
   "cell_type": "code",
   "execution_count": 1,
   "metadata": {},
   "outputs": [],
   "source": [
    "import populartimes\n",
    "from tqdm.notebook import tqdm\n",
    "import pickle\n",
    "import gzip\n",
    "import pandas as pd\n",
    "import os"
   ]
  },
  {
   "cell_type": "markdown",
   "metadata": {},
   "source": [
    "## PLACE_ALL"
   ]
  },
  {
   "cell_type": "code",
   "execution_count": 2,
   "metadata": {},
   "outputs": [],
   "source": [
    "category = pd.read_csv('장소카테고리.txt',header=None)"
   ]
  },
  {
   "cell_type": "code",
   "execution_count": 3,
   "metadata": {},
   "outputs": [
    {
     "data": {
      "text/html": [
       "<div>\n",
       "<style scoped>\n",
       "    .dataframe tbody tr th:only-of-type {\n",
       "        vertical-align: middle;\n",
       "    }\n",
       "\n",
       "    .dataframe tbody tr th {\n",
       "        vertical-align: top;\n",
       "    }\n",
       "\n",
       "    .dataframe thead th {\n",
       "        text-align: right;\n",
       "    }\n",
       "</style>\n",
       "<table border=\"1\" class=\"dataframe\">\n",
       "  <thead>\n",
       "    <tr style=\"text-align: right;\">\n",
       "      <th></th>\n",
       "      <th>0</th>\n",
       "    </tr>\n",
       "  </thead>\n",
       "  <tbody>\n",
       "    <tr>\n",
       "      <th>0</th>\n",
       "      <td>tourist_attraction</td>\n",
       "    </tr>\n",
       "    <tr>\n",
       "      <th>1</th>\n",
       "      <td>zoo</td>\n",
       "    </tr>\n",
       "  </tbody>\n",
       "</table>\n",
       "</div>"
      ],
      "text/plain": [
       "                    0\n",
       "0  tourist_attraction\n",
       "1                 zoo"
      ]
     },
     "execution_count": 3,
     "metadata": {},
     "output_type": "execute_result"
    }
   ],
   "source": [
    "category"
   ]
  },
  {
   "cell_type": "code",
   "execution_count": null,
   "metadata": {},
   "outputs": [],
   "source": [
    "# api_key =  #api key 넣기\n",
    "# min = (37.427661, 126.766876)\n",
    "# max = (37.698634, 127.181338)\n",
    "# size = 0.035\n",
    "# max_iter = 1000\n",
    "# lat,lon = min[0],min[1]\n",
    "# data = {}\n",
    "# for i in tqdm(category[0].values):\n",
    "#     data[i]=[]\n",
    "#     for _ in range(max_iter):\n",
    "#         data[i].extend(populartimes.get(api_key, [i] ,(lat, lon), (lat+size, lon+size),all_places = False))\n",
    "#         lat += size\n",
    "#         print(len(data[i]))\n",
    "#         if lat > max[0]:\n",
    "#             lon += size\n",
    "#             lat = min[0]        \n",
    "#         if lon > max[1]:\n",
    "#             break"
   ]
  },
  {
   "cell_type": "code",
   "execution_count": null,
   "metadata": {},
   "outputs": [],
   "source": [
    "# with gzip.open('seoul_populartime.pickle', 'wb') as f:\n",
    "#     pickle.dump(data, f)"
   ]
  },
  {
   "cell_type": "code",
   "execution_count": 4,
   "metadata": {},
   "outputs": [
    {
     "data": {
      "application/vnd.jupyter.widget-view+json": {
       "model_id": "fce3f08b8f464f1dabdcb1c19010de46",
       "version_major": 2,
       "version_minor": 0
      },
      "text/plain": [
       "HBox(children=(FloatProgress(value=0.0, max=2.0), HTML(value='')))"
      ]
     },
     "metadata": {},
     "output_type": "display_data"
    },
    {
     "name": "stdout",
     "output_type": "stream",
     "text": [
      "1\n",
      "2\n",
      "5\n",
      "6\n",
      "6\n",
      "6\n",
      "8\n",
      "9\n",
      "9\n",
      "11\n",
      "14\n",
      "14\n",
      "16\n",
      "16\n",
      "16\n",
      "16\n",
      "16\n",
      "17\n",
      "17\n",
      "20\n",
      "23\n",
      "23\n",
      "23\n",
      "24\n",
      "24\n",
      "24\n",
      "28\n",
      "36\n",
      "39\n",
      "40\n",
      "40\n",
      "41\n",
      "41\n",
      "45\n",
      "53\n",
      "61\n",
      "62\n",
      "63\n",
      "64\n",
      "65\n",
      "65\n",
      "66\n",
      "68\n",
      "85\n",
      "103\n",
      "106\n",
      "106\n",
      "106\n",
      "110\n",
      "113\n",
      "117\n",
      "145\n",
      "189\n",
      "192\n",
      "192\n",
      "192\n",
      "196\n",
      "199\n",
      "209\n",
      "220\n",
      "227\n",
      "230\n",
      "233\n",
      "234\n",
      "235\n",
      "235\n",
      "242\n",
      "245\n",
      "246\n",
      "247\n",
      "248\n",
      "249\n",
      "249\n",
      "254\n",
      "269\n",
      "272\n",
      "273\n",
      "274\n",
      "275\n",
      "275\n",
      "278\n",
      "279\n",
      "283\n",
      "286\n",
      "290\n",
      "291\n",
      "291\n",
      "291\n",
      "291\n",
      "297\n",
      "297\n",
      "298\n",
      "298\n",
      "298\n",
      "298\n",
      "299\n",
      "0\n",
      "0\n",
      "0\n",
      "0\n",
      "0\n",
      "0\n",
      "0\n",
      "0\n",
      "0\n",
      "0\n",
      "0\n",
      "0\n",
      "0\n",
      "0\n",
      "0\n",
      "0\n",
      "0\n",
      "0\n",
      "0\n",
      "0\n",
      "0\n",
      "0\n",
      "0\n",
      "1\n",
      "1\n",
      "1\n",
      "1\n",
      "1\n",
      "1\n",
      "1\n",
      "1\n",
      "1\n",
      "1\n",
      "1\n",
      "1\n",
      "1\n",
      "1\n",
      "1\n",
      "1\n",
      "1\n",
      "1\n",
      "1\n",
      "1\n",
      "1\n",
      "1\n",
      "1\n",
      "1\n",
      "1\n",
      "1\n",
      "1\n",
      "1\n",
      "1\n",
      "1\n",
      "2\n",
      "2\n",
      "2\n",
      "2\n",
      "2\n",
      "2\n",
      "2\n",
      "2\n",
      "2\n",
      "2\n",
      "2\n",
      "2\n",
      "2\n",
      "2\n",
      "2\n",
      "2\n",
      "2\n",
      "2\n",
      "2\n",
      "2\n",
      "2\n",
      "2\n",
      "2\n",
      "2\n",
      "2\n",
      "2\n",
      "2\n",
      "2\n",
      "2\n",
      "3\n",
      "3\n",
      "3\n",
      "3\n",
      "3\n",
      "3\n",
      "3\n",
      "3\n",
      "3\n",
      "3\n",
      "3\n",
      "3\n",
      "3\n",
      "3\n",
      "\n"
     ]
    }
   ],
   "source": [
    "api_key = #API key\n",
    "for i in tqdm(category[0].values):\n",
    "    data = {}\n",
    "    data[i]=[]\n",
    "    min = (37.427661, 126.766876)\n",
    "    max = (37.698634, 127.181338)\n",
    "    size = 0.035\n",
    "    max_iter = 1000\n",
    "    lat,lon = min[0],min[1]\n",
    "    for _ in range(max_iter):\n",
    "        data[i].extend(populartimes.get(api_key, [i] ,(lat, lon), (lat+size, lon+size),all_places = False))\n",
    "        lat += size\n",
    "        print(len(data[i]))\n",
    "        if lat > max[0]:\n",
    "            lon += size\n",
    "            lat = min[0]        \n",
    "        if lon > max[1]:\n",
    "            break\n",
    "    with gzip.open('{}_seoul.pickle'.format(i), 'wb') as f:\n",
    "        pickle.dump(data, f)"
   ]
  },
  {
   "cell_type": "markdown",
   "metadata": {},
   "source": [
    "## 하나로 합치기"
   ]
  },
  {
   "cell_type": "code",
   "execution_count": 2,
   "metadata": {},
   "outputs": [
    {
     "data": {
      "text/plain": [
       "['amusement_park_seoul.pickle',\n",
       " 'aquarium_seoul.pickle',\n",
       " 'art_gallery_seoul.pickle',\n",
       " 'bakery_seoul.pickle',\n",
       " 'bank_seoul.pickle']"
      ]
     },
     "execution_count": 2,
     "metadata": {},
     "output_type": "execute_result"
    }
   ],
   "source": [
    "file_list = os.listdir()\n",
    "file_list = [file for file in file_list if file.endswith('.pickle')]\n",
    "file_list[:5]"
   ]
  },
  {
   "cell_type": "code",
   "execution_count": 5,
   "metadata": {},
   "outputs": [],
   "source": [
    "data = {}\n",
    "for i in file_list:\n",
    "    with gzip.open(i,'rb') as f:\n",
    "        data.update(pickle.load(f))"
   ]
  },
  {
   "cell_type": "code",
   "execution_count": 6,
   "metadata": {},
   "outputs": [
    {
     "data": {
      "text/plain": [
       "dict_keys(['amusement_park', 'aquarium', 'art_gallery', 'bakery', 'bank', 'bar', 'book_store', 'bowling_alley', 'cafe', 'clothing_store', 'department_store', 'doctor', 'drugstore', 'hospital', 'library', 'local_government_office', 'meal_takeaway', 'movie_theater', 'museum', 'night_club', 'park', 'pharmacy', 'post_office', 'restaurant', 'shopping_mall', 'spa', 'store', 'tourist_attraction', 'zoo'])"
      ]
     },
     "execution_count": 6,
     "metadata": {},
     "output_type": "execute_result"
    }
   ],
   "source": [
    "del data['a']\n",
    "del data['b']\n",
    "del data['c']\n",
    "data.keys()"
   ]
  },
  {
   "cell_type": "code",
   "execution_count": 7,
   "metadata": {},
   "outputs": [],
   "source": [
    "with gzip.open('seoul_populartime.pickle', 'wb') as f:\n",
    "    pickle.dump(data, f)"
   ]
  }
 ],
 "metadata": {
  "kernelspec": {
   "display_name": "Python 3",
   "language": "python",
   "name": "python3"
  },
  "language_info": {
   "codemirror_mode": {
    "name": "ipython",
    "version": 3
   },
   "file_extension": ".py",
   "mimetype": "text/x-python",
   "name": "python",
   "nbconvert_exporter": "python",
   "pygments_lexer": "ipython3",
   "version": "3.6.10"
  }
 },
 "nbformat": 4,
 "nbformat_minor": 4
}

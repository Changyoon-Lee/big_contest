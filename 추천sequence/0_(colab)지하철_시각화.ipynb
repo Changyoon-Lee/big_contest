{
 "cells": [
  {
   "cell_type": "code",
   "execution_count": null,
   "metadata": {
    "colab": {
     "base_uri": "https://localhost:8080/",
     "height": 34
    },
    "executionInfo": {
     "elapsed": 22493,
     "status": "ok",
     "timestamp": 1600925344235,
     "user": {
      "displayName": "김지예 Jiye Kim",
      "photoUrl": "https://lh3.googleusercontent.com/a-/AOh14GjpRuhx4HRs2qscpHbB3cKFAmxjXdV8jWI9U9Bg=s64",
      "userId": "04362465202552994151"
     },
     "user_tz": -540
    },
    "id": "VfC6LZcsBY6H",
    "outputId": "b1e390e6-550b-433b-86f0-0e081dfdabfe"
   },
   "outputs": [
    {
     "name": "stdout",
     "output_type": "stream",
     "text": [
      "Mounted at /content/drive\n"
     ]
    }
   ],
   "source": [
    "from google.colab import drive\n",
    "drive.mount('/content/drive')"
   ]
  },
  {
   "cell_type": "markdown",
   "metadata": {
    "colab": {
     "base_uri": "https://localhost:8080/",
     "height": 72
    },
    "executionInfo": {
     "elapsed": 22817,
     "status": "ok",
     "timestamp": 1600925344628,
     "user": {
      "displayName": "김지예 Jiye Kim",
      "photoUrl": "https://lh3.googleusercontent.com/a-/AOh14GjpRuhx4HRs2qscpHbB3cKFAmxjXdV8jWI9U9Bg=s64",
      "userId": "04362465202552994151"
     },
     "user_tz": -540
    },
    "id": "_Y-am1wWNUiH",
    "outputId": "0cd72d48-f27e-4324-b082-d410ffeeb835"
   },
   "source": [
    "from PIL import Image\n",
    "import matplotlib.pyplot as plt\n",
    "import seaborn as sns\n",
    "from matplotlib import rc\n",
    "from matplotlib import font_manager as fm\n",
    "from matplotlib import rcParams\n",
    "import matplotlib as mpl\n",
    "from datetime import datetime\n",
    "import time\n",
    "import cv2 as cv \n",
    "import cv2\n",
    "from google.colab.patches import cv2_imshow\n",
    "import pandas as pd\n",
    "from tqdm import tqdm"
   ]
  },
  {
   "cell_type": "markdown",
   "metadata": {
    "id": "7kceSsUB37Qj"
   },
   "source": [
    "# 한글 폰트 적용"
   ]
  },
  {
   "cell_type": "code",
   "execution_count": null,
   "metadata": {
    "id": "3i-cXNSRnmEA"
   },
   "outputs": [],
   "source": [
    "!sudo apt-get install -y fonts-nanum\n",
    "!sudo fc-cache -fv\n",
    "!rm ~/.cache/matplotlib -rf"
   ]
  },
  {
   "cell_type": "code",
   "execution_count": null,
   "metadata": {
    "id": "v8yl79CwC3O9"
   },
   "outputs": [],
   "source": [
    "# 한글 폰트 적용\n",
    "plt.rc('font', family='NanumBarunGothic') "
   ]
  },
  {
   "cell_type": "markdown",
   "metadata": {
    "id": "4LRiiiERcw1T"
   },
   "source": [
    "# 역 좌표 매칭"
   ]
  },
  {
   "cell_type": "code",
   "execution_count": null,
   "metadata": {
    "id": "A1pvfDjOAxL6"
   },
   "outputs": [],
   "source": [
    "df = pd.read_pickle('/content/drive/My Drive/모공전/빅콘/제출용/final_dataframe_2.pickle')\n",
    "df_nosun = df[['역명', 'date', '시간', '하차']]"
   ]
  },
  {
   "cell_type": "code",
   "execution_count": null,
   "metadata": {
    "colab": {
     "base_uri": "https://localhost:8080/",
     "height": 193
    },
    "executionInfo": {
     "elapsed": 1609055,
     "status": "ok",
     "timestamp": 1600790010063,
     "user": {
      "displayName": "김지예 Jiye Kim",
      "photoUrl": "https://lh3.googleusercontent.com/a-/AOh14GjpRuhx4HRs2qscpHbB3cKFAmxjXdV8jWI9U9Bg=s64",
      "userId": "04362465202552994151"
     },
     "user_tz": -540
    },
    "id": "DuH0jmGVa7Tw",
    "outputId": "51f7bdf2-0adc-47aa-fcfd-74fbd69fc580"
   },
   "outputs": [
    {
     "name": "stderr",
     "output_type": "stream",
     "text": [
      "/usr/local/lib/python3.6/dist-packages/ipykernel_launcher.py:3: SettingWithCopyWarning: \n",
      "A value is trying to be set on a copy of a slice from a DataFrame\n",
      "\n",
      "See the caveats in the documentation: https://pandas.pydata.org/pandas-docs/stable/user_guide/indexing.html#returning-a-view-versus-a-copy\n",
      "  This is separate from the ipykernel package so we can avoid doing imports until\n",
      "/usr/local/lib/python3.6/dist-packages/IPython/core/interactiveshell.py:2882: SettingWithCopyWarning: \n",
      "A value is trying to be set on a copy of a slice from a DataFrame\n",
      "\n",
      "See the caveats in the documentation: https://pandas.pydata.org/pandas-docs/stable/user_guide/indexing.html#returning-a-view-versus-a-copy\n",
      "  exec(code_obj, self.user_global_ns, self.user_ns)\n"
     ]
    }
   ],
   "source": [
    "import re\n",
    "for i in range(len(df_nosun['역명'])):\n",
    "    df_nosun['역명'][i] = re.findall('[가-힣]+', df_nosun['역명'][i])[0]"
   ]
  },
  {
   "cell_type": "code",
   "execution_count": null,
   "metadata": {
    "colab": {
     "base_uri": "https://localhost:8080/",
     "height": 34
    },
    "executionInfo": {
     "elapsed": 1522,
     "status": "ok",
     "timestamp": 1600790058496,
     "user": {
      "displayName": "김지예 Jiye Kim",
      "photoUrl": "https://lh3.googleusercontent.com/a-/AOh14GjpRuhx4HRs2qscpHbB3cKFAmxjXdV8jWI9U9Bg=s64",
      "userId": "04362465202552994151"
     },
     "user_tz": -540
    },
    "id": "azwc4Tsun3am",
    "outputId": "485b2b94-f307-451e-fd94-b82968d7df74"
   },
   "outputs": [
    {
     "data": {
      "text/plain": [
       "223"
      ]
     },
     "execution_count": 51,
     "metadata": {
      "tags": []
     },
     "output_type": "execute_result"
    }
   ],
   "source": [
    "len(set(df_nosun['역명']))"
   ]
  },
  {
   "cell_type": "code",
   "execution_count": null,
   "metadata": {
    "colab": {
     "base_uri": "https://localhost:8080/",
     "height": 87
    },
    "executionInfo": {
     "elapsed": 848,
     "status": "ok",
     "timestamp": 1600790097507,
     "user": {
      "displayName": "김지예 Jiye Kim",
      "photoUrl": "https://lh3.googleusercontent.com/a-/AOh14GjpRuhx4HRs2qscpHbB3cKFAmxjXdV8jWI9U9Bg=s64",
      "userId": "04362465202552994151"
     },
     "user_tz": -540
    },
    "id": "PwACphU0q2MZ",
    "outputId": "f1a01dfe-debe-4154-ead9-2dd31a9f38da"
   },
   "outputs": [
    {
     "data": {
      "text/plain": [
       "역명      0\n",
       "X     158\n",
       "Y     158\n",
       "dtype: int64"
      ]
     },
     "execution_count": 52,
     "metadata": {
      "tags": []
     },
     "output_type": "execute_result"
    }
   ],
   "source": [
    "nosundo = pd.read_excel('/content/drive/My Drive/모공전/빅콘/지하철_좌표_최종.xlsx')\n",
    "nosundo.isna().sum()"
   ]
  },
  {
   "cell_type": "code",
   "execution_count": null,
   "metadata": {
    "id": "PN_4bO7Jy3Rj"
   },
   "outputs": [],
   "source": [
    "nosundo.dropna(inplace=True)"
   ]
  },
  {
   "cell_type": "code",
   "execution_count": null,
   "metadata": {
    "id": "T0DYI9R5zLVy"
   },
   "outputs": [],
   "source": [
    "nosundo.reset_index(drop=True, inplace=True)"
   ]
  },
  {
   "cell_type": "code",
   "execution_count": null,
   "metadata": {
    "id": "eRpW3pYXWPED"
   },
   "outputs": [],
   "source": [
    "nosundo = nosundo.sort_values(by = '역명', ascending=True)"
   ]
  },
  {
   "cell_type": "code",
   "execution_count": null,
   "metadata": {
    "id": "6_lY3bemVtl4"
   },
   "outputs": [],
   "source": [
    "df_nosun = pd.merge(df_nosun, nosundo, how = 'outer', on = '역명')"
   ]
  },
  {
   "cell_type": "code",
   "execution_count": null,
   "metadata": {
    "id": "urYfXeAZWxc6"
   },
   "outputs": [],
   "source": [
    "df_nosun = df_nosun[['역명', 'X', 'Y', '하차', 'date', '시간']]"
   ]
  },
  {
   "cell_type": "code",
   "execution_count": null,
   "metadata": {
    "colab": {
     "base_uri": "https://localhost:8080/",
     "height": 140
    },
    "executionInfo": {
     "elapsed": 471,
     "status": "ok",
     "timestamp": 1600790154508,
     "user": {
      "displayName": "김지예 Jiye Kim",
      "photoUrl": "https://lh3.googleusercontent.com/a-/AOh14GjpRuhx4HRs2qscpHbB3cKFAmxjXdV8jWI9U9Bg=s64",
      "userId": "04362465202552994151"
     },
     "user_tz": -540
    },
    "id": "rs8yiojSXXEy",
    "outputId": "6d43e37a-3e71-4e8e-e47f-3e021b6f8d98"
   },
   "outputs": [
    {
     "data": {
      "text/plain": [
       "역명          0\n",
       "X       50820\n",
       "Y       50820\n",
       "하차        256\n",
       "date      256\n",
       "시간        256\n",
       "dtype: int64"
      ]
     },
     "execution_count": 58,
     "metadata": {
      "tags": []
     },
     "output_type": "execute_result"
    }
   ],
   "source": [
    "df_nosun.isna().sum()"
   ]
  },
  {
   "cell_type": "code",
   "execution_count": null,
   "metadata": {
    "colab": {
     "base_uri": "https://localhost:8080/",
     "height": 402
    },
    "executionInfo": {
     "elapsed": 1250,
     "status": "ok",
     "timestamp": 1600790186856,
     "user": {
      "displayName": "김지예 Jiye Kim",
      "photoUrl": "https://lh3.googleusercontent.com/a-/AOh14GjpRuhx4HRs2qscpHbB3cKFAmxjXdV8jWI9U9Bg=s64",
      "userId": "04362465202552994151"
     },
     "user_tz": -540
    },
    "id": "MovXelizh70s",
    "outputId": "a1fcdcea-3c3e-4ca3-fe5c-dd98aab0ccec"
   },
   "outputs": [
    {
     "data": {
      "text/html": [
       "<div>\n",
       "<style scoped>\n",
       "    .dataframe tbody tr th:only-of-type {\n",
       "        vertical-align: middle;\n",
       "    }\n",
       "\n",
       "    .dataframe tbody tr th {\n",
       "        vertical-align: top;\n",
       "    }\n",
       "\n",
       "    .dataframe thead th {\n",
       "        text-align: right;\n",
       "    }\n",
       "</style>\n",
       "<table border=\"1\" class=\"dataframe\">\n",
       "  <thead>\n",
       "    <tr style=\"text-align: right;\">\n",
       "      <th></th>\n",
       "      <th>역명</th>\n",
       "      <th>X</th>\n",
       "      <th>Y</th>\n",
       "      <th>하차</th>\n",
       "      <th>date</th>\n",
       "      <th>시간</th>\n",
       "    </tr>\n",
       "  </thead>\n",
       "  <tbody>\n",
       "    <tr>\n",
       "      <th>0</th>\n",
       "      <td>가락시장</td>\n",
       "      <td>3017.0</td>\n",
       "      <td>2503.0</td>\n",
       "      <td>92.0</td>\n",
       "      <td>2020-02-01</td>\n",
       "      <td>5.0</td>\n",
       "    </tr>\n",
       "    <tr>\n",
       "      <th>1</th>\n",
       "      <td>가락시장</td>\n",
       "      <td>3017.0</td>\n",
       "      <td>2503.0</td>\n",
       "      <td>301.0</td>\n",
       "      <td>2020-02-01</td>\n",
       "      <td>6.0</td>\n",
       "    </tr>\n",
       "    <tr>\n",
       "      <th>2</th>\n",
       "      <td>가락시장</td>\n",
       "      <td>3017.0</td>\n",
       "      <td>2503.0</td>\n",
       "      <td>328.0</td>\n",
       "      <td>2020-02-01</td>\n",
       "      <td>7.0</td>\n",
       "    </tr>\n",
       "    <tr>\n",
       "      <th>3</th>\n",
       "      <td>가락시장</td>\n",
       "      <td>3017.0</td>\n",
       "      <td>2503.0</td>\n",
       "      <td>535.0</td>\n",
       "      <td>2020-02-01</td>\n",
       "      <td>8.0</td>\n",
       "    </tr>\n",
       "    <tr>\n",
       "      <th>4</th>\n",
       "      <td>가락시장</td>\n",
       "      <td>3017.0</td>\n",
       "      <td>2503.0</td>\n",
       "      <td>635.0</td>\n",
       "      <td>2020-02-01</td>\n",
       "      <td>9.0</td>\n",
       "    </tr>\n",
       "    <tr>\n",
       "      <th>...</th>\n",
       "      <td>...</td>\n",
       "      <td>...</td>\n",
       "      <td>...</td>\n",
       "      <td>...</td>\n",
       "      <td>...</td>\n",
       "      <td>...</td>\n",
       "    </tr>\n",
       "    <tr>\n",
       "      <th>544751</th>\n",
       "      <td>화전</td>\n",
       "      <td>1020.0</td>\n",
       "      <td>1287.0</td>\n",
       "      <td>NaN</td>\n",
       "      <td>NaT</td>\n",
       "      <td>NaN</td>\n",
       "    </tr>\n",
       "    <tr>\n",
       "      <th>544752</th>\n",
       "      <td>화정</td>\n",
       "      <td>1221.0</td>\n",
       "      <td>908.0</td>\n",
       "      <td>NaN</td>\n",
       "      <td>NaT</td>\n",
       "      <td>NaN</td>\n",
       "    </tr>\n",
       "    <tr>\n",
       "      <th>544753</th>\n",
       "      <td>회기</td>\n",
       "      <td>2472.0</td>\n",
       "      <td>1503.0</td>\n",
       "      <td>NaN</td>\n",
       "      <td>NaT</td>\n",
       "      <td>NaN</td>\n",
       "    </tr>\n",
       "    <tr>\n",
       "      <th>544754</th>\n",
       "      <td>회룡</td>\n",
       "      <td>2265.0</td>\n",
       "      <td>225.0</td>\n",
       "      <td>NaN</td>\n",
       "      <td>NaT</td>\n",
       "      <td>NaN</td>\n",
       "    </tr>\n",
       "    <tr>\n",
       "      <th>544755</th>\n",
       "      <td>흑석</td>\n",
       "      <td>1723.0</td>\n",
       "      <td>2350.0</td>\n",
       "      <td>NaN</td>\n",
       "      <td>NaT</td>\n",
       "      <td>NaN</td>\n",
       "    </tr>\n",
       "  </tbody>\n",
       "</table>\n",
       "<p>544756 rows × 6 columns</p>\n",
       "</div>"
      ],
      "text/plain": [
       "          역명       X       Y     하차       date   시간\n",
       "0       가락시장  3017.0  2503.0   92.0 2020-02-01  5.0\n",
       "1       가락시장  3017.0  2503.0  301.0 2020-02-01  6.0\n",
       "2       가락시장  3017.0  2503.0  328.0 2020-02-01  7.0\n",
       "3       가락시장  3017.0  2503.0  535.0 2020-02-01  8.0\n",
       "4       가락시장  3017.0  2503.0  635.0 2020-02-01  9.0\n",
       "...      ...     ...     ...    ...        ...  ...\n",
       "544751    화전  1020.0  1287.0    NaN        NaT  NaN\n",
       "544752    화정  1221.0   908.0    NaN        NaT  NaN\n",
       "544753    회기  2472.0  1503.0    NaN        NaT  NaN\n",
       "544754    회룡  2265.0   225.0    NaN        NaT  NaN\n",
       "544755    흑석  1723.0  2350.0    NaN        NaT  NaN\n",
       "\n",
       "[544756 rows x 6 columns]"
      ]
     },
     "execution_count": 59,
     "metadata": {
      "tags": []
     },
     "output_type": "execute_result"
    }
   ],
   "source": [
    "df_nosun"
   ]
  },
  {
   "cell_type": "code",
   "execution_count": null,
   "metadata": {
    "colab": {
     "base_uri": "https://localhost:8080/",
     "height": 122
    },
    "executionInfo": {
     "elapsed": 997,
     "status": "ok",
     "timestamp": 1600790229018,
     "user": {
      "displayName": "김지예 Jiye Kim",
      "photoUrl": "https://lh3.googleusercontent.com/a-/AOh14GjpRuhx4HRs2qscpHbB3cKFAmxjXdV8jWI9U9Bg=s64",
      "userId": "04362465202552994151"
     },
     "user_tz": -540
    },
    "id": "P8eyTG9-XfkJ",
    "outputId": "30c48efa-ee8d-4a54-be21-ed54e1c46615"
   },
   "outputs": [
    {
     "data": {
      "text/plain": [
       "Int64Index([544500, 544501, 544502, 544503, 544504, 544505, 544506, 544507,\n",
       "            544508, 544509,\n",
       "            ...\n",
       "            544746, 544747, 544748, 544749, 544750, 544751, 544752, 544753,\n",
       "            544754, 544755],\n",
       "           dtype='int64', length=256)"
      ]
     },
     "execution_count": 61,
     "metadata": {
      "tags": []
     },
     "output_type": "execute_result"
    }
   ],
   "source": [
    "df_nosun[df_nosun['하차'].isna()].index"
   ]
  },
  {
   "cell_type": "code",
   "execution_count": null,
   "metadata": {
    "id": "3gIswtTPXxP7"
   },
   "outputs": [],
   "source": [
    "df_nosun.drop(df_nosun[df_nosun['하차'].isna()].index, inplace=True)"
   ]
  },
  {
   "cell_type": "code",
   "execution_count": null,
   "metadata": {
    "id": "ZVohapLQX-5m"
   },
   "outputs": [],
   "source": [
    "df_nosun.reset_index(drop=True, inplace=True)"
   ]
  },
  {
   "cell_type": "code",
   "execution_count": null,
   "metadata": {
    "colab": {
     "base_uri": "https://localhost:8080/",
     "height": 402
    },
    "executionInfo": {
     "elapsed": 466,
     "status": "ok",
     "timestamp": 1600790240839,
     "user": {
      "displayName": "김지예 Jiye Kim",
      "photoUrl": "https://lh3.googleusercontent.com/a-/AOh14GjpRuhx4HRs2qscpHbB3cKFAmxjXdV8jWI9U9Bg=s64",
      "userId": "04362465202552994151"
     },
     "user_tz": -540
    },
    "id": "0EpsQn1ZYIYu",
    "outputId": "b664a944-0656-4053-d85f-33891c194d5a"
   },
   "outputs": [
    {
     "data": {
      "text/html": [
       "<div>\n",
       "<style scoped>\n",
       "    .dataframe tbody tr th:only-of-type {\n",
       "        vertical-align: middle;\n",
       "    }\n",
       "\n",
       "    .dataframe tbody tr th {\n",
       "        vertical-align: top;\n",
       "    }\n",
       "\n",
       "    .dataframe thead th {\n",
       "        text-align: right;\n",
       "    }\n",
       "</style>\n",
       "<table border=\"1\" class=\"dataframe\">\n",
       "  <thead>\n",
       "    <tr style=\"text-align: right;\">\n",
       "      <th></th>\n",
       "      <th>역명</th>\n",
       "      <th>X</th>\n",
       "      <th>Y</th>\n",
       "      <th>하차</th>\n",
       "      <th>date</th>\n",
       "      <th>시간</th>\n",
       "    </tr>\n",
       "  </thead>\n",
       "  <tbody>\n",
       "    <tr>\n",
       "      <th>542080</th>\n",
       "      <td>효창공원앞</td>\n",
       "      <td>1722.0</td>\n",
       "      <td>2012.0</td>\n",
       "      <td>24.0</td>\n",
       "      <td>2020-02-01</td>\n",
       "      <td>5.0</td>\n",
       "    </tr>\n",
       "    <tr>\n",
       "      <th>542081</th>\n",
       "      <td>효창공원앞</td>\n",
       "      <td>1722.0</td>\n",
       "      <td>2012.0</td>\n",
       "      <td>108.0</td>\n",
       "      <td>2020-02-01</td>\n",
       "      <td>6.0</td>\n",
       "    </tr>\n",
       "    <tr>\n",
       "      <th>542082</th>\n",
       "      <td>효창공원앞</td>\n",
       "      <td>1722.0</td>\n",
       "      <td>2012.0</td>\n",
       "      <td>109.0</td>\n",
       "      <td>2020-02-01</td>\n",
       "      <td>7.0</td>\n",
       "    </tr>\n",
       "    <tr>\n",
       "      <th>542083</th>\n",
       "      <td>효창공원앞</td>\n",
       "      <td>1722.0</td>\n",
       "      <td>2012.0</td>\n",
       "      <td>157.0</td>\n",
       "      <td>2020-02-01</td>\n",
       "      <td>8.0</td>\n",
       "    </tr>\n",
       "    <tr>\n",
       "      <th>542084</th>\n",
       "      <td>효창공원앞</td>\n",
       "      <td>1722.0</td>\n",
       "      <td>2012.0</td>\n",
       "      <td>238.0</td>\n",
       "      <td>2020-02-01</td>\n",
       "      <td>9.0</td>\n",
       "    </tr>\n",
       "    <tr>\n",
       "      <th>...</th>\n",
       "      <td>...</td>\n",
       "      <td>...</td>\n",
       "      <td>...</td>\n",
       "      <td>...</td>\n",
       "      <td>...</td>\n",
       "      <td>...</td>\n",
       "    </tr>\n",
       "    <tr>\n",
       "      <th>544495</th>\n",
       "      <td>효창공원앞</td>\n",
       "      <td>1722.0</td>\n",
       "      <td>2012.0</td>\n",
       "      <td>163.0</td>\n",
       "      <td>2020-05-31</td>\n",
       "      <td>20.0</td>\n",
       "    </tr>\n",
       "    <tr>\n",
       "      <th>544496</th>\n",
       "      <td>효창공원앞</td>\n",
       "      <td>1722.0</td>\n",
       "      <td>2012.0</td>\n",
       "      <td>155.0</td>\n",
       "      <td>2020-05-31</td>\n",
       "      <td>21.0</td>\n",
       "    </tr>\n",
       "    <tr>\n",
       "      <th>544497</th>\n",
       "      <td>효창공원앞</td>\n",
       "      <td>1722.0</td>\n",
       "      <td>2012.0</td>\n",
       "      <td>140.0</td>\n",
       "      <td>2020-05-31</td>\n",
       "      <td>22.0</td>\n",
       "    </tr>\n",
       "    <tr>\n",
       "      <th>544498</th>\n",
       "      <td>효창공원앞</td>\n",
       "      <td>1722.0</td>\n",
       "      <td>2012.0</td>\n",
       "      <td>88.0</td>\n",
       "      <td>2020-05-31</td>\n",
       "      <td>23.0</td>\n",
       "    </tr>\n",
       "    <tr>\n",
       "      <th>544499</th>\n",
       "      <td>효창공원앞</td>\n",
       "      <td>1722.0</td>\n",
       "      <td>2012.0</td>\n",
       "      <td>6.0</td>\n",
       "      <td>2020-05-31</td>\n",
       "      <td>24.0</td>\n",
       "    </tr>\n",
       "  </tbody>\n",
       "</table>\n",
       "<p>2420 rows × 6 columns</p>\n",
       "</div>"
      ],
      "text/plain": [
       "           역명       X       Y     하차       date    시간\n",
       "542080  효창공원앞  1722.0  2012.0   24.0 2020-02-01   5.0\n",
       "542081  효창공원앞  1722.0  2012.0  108.0 2020-02-01   6.0\n",
       "542082  효창공원앞  1722.0  2012.0  109.0 2020-02-01   7.0\n",
       "542083  효창공원앞  1722.0  2012.0  157.0 2020-02-01   8.0\n",
       "542084  효창공원앞  1722.0  2012.0  238.0 2020-02-01   9.0\n",
       "...       ...     ...     ...    ...        ...   ...\n",
       "544495  효창공원앞  1722.0  2012.0  163.0 2020-05-31  20.0\n",
       "544496  효창공원앞  1722.0  2012.0  155.0 2020-05-31  21.0\n",
       "544497  효창공원앞  1722.0  2012.0  140.0 2020-05-31  22.0\n",
       "544498  효창공원앞  1722.0  2012.0   88.0 2020-05-31  23.0\n",
       "544499  효창공원앞  1722.0  2012.0    6.0 2020-05-31  24.0\n",
       "\n",
       "[2420 rows x 6 columns]"
      ]
     },
     "execution_count": 64,
     "metadata": {
      "tags": []
     },
     "output_type": "execute_result"
    }
   ],
   "source": [
    "df_nosun[df_nosun['역명']=='효창공원앞']"
   ]
  },
  {
   "cell_type": "code",
   "execution_count": null,
   "metadata": {
    "colab": {
     "base_uri": "https://localhost:8080/",
     "height": 351
    },
    "executionInfo": {
     "elapsed": 1487,
     "status": "ok",
     "timestamp": 1600790342820,
     "user": {
      "displayName": "김지예 Jiye Kim",
      "photoUrl": "https://lh3.googleusercontent.com/a-/AOh14GjpRuhx4HRs2qscpHbB3cKFAmxjXdV8jWI9U9Bg=s64",
      "userId": "04362465202552994151"
     },
     "user_tz": -540
    },
    "id": "MXGaKZVZYPlE",
    "outputId": "7e40337c-60e5-4a85-e7ed-5770bca188d6"
   },
   "outputs": [
    {
     "data": {
      "text/plain": [
       "{'강남',\n",
       " '강동구청',\n",
       " '강변',\n",
       " '개롱',\n",
       " '고려대',\n",
       " '광명사거리',\n",
       " '광흥창',\n",
       " '구로디지털단지',\n",
       " '구산',\n",
       " '구의',\n",
       " '길음',\n",
       " '낙성대',\n",
       " '남구로',\n",
       " '남태령',\n",
       " '녹사평',\n",
       " '서울',\n",
       " '을지로',\n",
       " '이수',\n",
       " '종로'}"
      ]
     },
     "execution_count": 71,
     "metadata": {
      "tags": []
     },
     "output_type": "execute_result"
    }
   ],
   "source": [
    "set(df_nosun[df_nosun['X'].isna()]['역명'])"
   ]
  },
  {
   "cell_type": "code",
   "execution_count": null,
   "metadata": {
    "id": "GvZg2DWrlz4E"
   },
   "outputs": [],
   "source": [
    "# 위 목록 직접 채워줌\n",
    "df_nosun.loc[df_nosun['역명']=='서울', 'X'] = 1810    \n",
    "df_nosun.loc[df_nosun['역명']=='서울', 'Y'] = 1859"
   ]
  },
  {
   "cell_type": "code",
   "execution_count": null,
   "metadata": {
    "id": "IjEDe8ckkR6M"
   },
   "outputs": [],
   "source": [
    "# 을지로, 이수, 종로 제거\n",
    "df_nosun.drop(df_nosun[df_nosun['역명']=='을지로'].index, inplace=True)\n",
    "df_nosun.drop(df_nosun[df_nosun['역명']=='이수'].index, inplace=True)\n",
    "df_nosun.drop(df_nosun[df_nosun['역명']=='종로'].index, inplace=True)"
   ]
  },
  {
   "cell_type": "code",
   "execution_count": null,
   "metadata": {
    "id": "6JrCSnzYp_Zn"
   },
   "outputs": [],
   "source": [
    "df_nosun.reset_index(drop=True, inplace=True)"
   ]
  },
  {
   "cell_type": "code",
   "execution_count": null,
   "metadata": {
    "colab": {
     "base_uri": "https://localhost:8080/",
     "height": 140
    },
    "executionInfo": {
     "elapsed": 880,
     "status": "ok",
     "timestamp": 1600792335324,
     "user": {
      "displayName": "김지예 Jiye Kim",
      "photoUrl": "https://lh3.googleusercontent.com/a-/AOh14GjpRuhx4HRs2qscpHbB3cKFAmxjXdV8jWI9U9Bg=s64",
      "userId": "04362465202552994151"
     },
     "user_tz": -540
    },
    "id": "-a3mylACiULc",
    "outputId": "28b0ca79-7474-4e3d-9851-84cb16935e4d"
   },
   "outputs": [
    {
     "data": {
      "text/plain": [
       "역명      0\n",
       "X       0\n",
       "Y       0\n",
       "하차      0\n",
       "date    0\n",
       "시간      0\n",
       "dtype: int64"
      ]
     },
     "execution_count": 166,
     "metadata": {
      "tags": []
     },
     "output_type": "execute_result"
    }
   ],
   "source": [
    "df_nosun.isna().sum()"
   ]
  },
  {
   "cell_type": "code",
   "execution_count": null,
   "metadata": {
    "colab": {
     "base_uri": "https://localhost:8080/",
     "height": 402
    },
    "executionInfo": {
     "elapsed": 866,
     "status": "ok",
     "timestamp": 1600792429182,
     "user": {
      "displayName": "김지예 Jiye Kim",
      "photoUrl": "https://lh3.googleusercontent.com/a-/AOh14GjpRuhx4HRs2qscpHbB3cKFAmxjXdV8jWI9U9Bg=s64",
      "userId": "04362465202552994151"
     },
     "user_tz": -540
    },
    "id": "CvrI3i1cqFpx",
    "outputId": "917acc16-31a0-4d46-ae2c-3f2f98138e54"
   },
   "outputs": [
    {
     "data": {
      "text/html": [
       "<div>\n",
       "<style scoped>\n",
       "    .dataframe tbody tr th:only-of-type {\n",
       "        vertical-align: middle;\n",
       "    }\n",
       "\n",
       "    .dataframe tbody tr th {\n",
       "        vertical-align: top;\n",
       "    }\n",
       "\n",
       "    .dataframe thead th {\n",
       "        text-align: right;\n",
       "    }\n",
       "</style>\n",
       "<table border=\"1\" class=\"dataframe\">\n",
       "  <thead>\n",
       "    <tr style=\"text-align: right;\">\n",
       "      <th></th>\n",
       "      <th>역명</th>\n",
       "      <th>X</th>\n",
       "      <th>Y</th>\n",
       "      <th>하차</th>\n",
       "      <th>date</th>\n",
       "      <th>시간</th>\n",
       "    </tr>\n",
       "  </thead>\n",
       "  <tbody>\n",
       "    <tr>\n",
       "      <th>0</th>\n",
       "      <td>가락시장</td>\n",
       "      <td>3017.0</td>\n",
       "      <td>2503.0</td>\n",
       "      <td>92.0</td>\n",
       "      <td>2020-02-01</td>\n",
       "      <td>5.0</td>\n",
       "    </tr>\n",
       "    <tr>\n",
       "      <th>1</th>\n",
       "      <td>가락시장</td>\n",
       "      <td>3017.0</td>\n",
       "      <td>2503.0</td>\n",
       "      <td>301.0</td>\n",
       "      <td>2020-02-01</td>\n",
       "      <td>6.0</td>\n",
       "    </tr>\n",
       "    <tr>\n",
       "      <th>2</th>\n",
       "      <td>가락시장</td>\n",
       "      <td>3017.0</td>\n",
       "      <td>2503.0</td>\n",
       "      <td>328.0</td>\n",
       "      <td>2020-02-01</td>\n",
       "      <td>7.0</td>\n",
       "    </tr>\n",
       "    <tr>\n",
       "      <th>3</th>\n",
       "      <td>가락시장</td>\n",
       "      <td>3017.0</td>\n",
       "      <td>2503.0</td>\n",
       "      <td>535.0</td>\n",
       "      <td>2020-02-01</td>\n",
       "      <td>8.0</td>\n",
       "    </tr>\n",
       "    <tr>\n",
       "      <th>4</th>\n",
       "      <td>가락시장</td>\n",
       "      <td>3017.0</td>\n",
       "      <td>2503.0</td>\n",
       "      <td>635.0</td>\n",
       "      <td>2020-02-01</td>\n",
       "      <td>9.0</td>\n",
       "    </tr>\n",
       "    <tr>\n",
       "      <th>...</th>\n",
       "      <td>...</td>\n",
       "      <td>...</td>\n",
       "      <td>...</td>\n",
       "      <td>...</td>\n",
       "      <td>...</td>\n",
       "      <td>...</td>\n",
       "    </tr>\n",
       "    <tr>\n",
       "      <th>532395</th>\n",
       "      <td>효창공원앞</td>\n",
       "      <td>1722.0</td>\n",
       "      <td>2012.0</td>\n",
       "      <td>163.0</td>\n",
       "      <td>2020-05-31</td>\n",
       "      <td>20.0</td>\n",
       "    </tr>\n",
       "    <tr>\n",
       "      <th>532396</th>\n",
       "      <td>효창공원앞</td>\n",
       "      <td>1722.0</td>\n",
       "      <td>2012.0</td>\n",
       "      <td>155.0</td>\n",
       "      <td>2020-05-31</td>\n",
       "      <td>21.0</td>\n",
       "    </tr>\n",
       "    <tr>\n",
       "      <th>532397</th>\n",
       "      <td>효창공원앞</td>\n",
       "      <td>1722.0</td>\n",
       "      <td>2012.0</td>\n",
       "      <td>140.0</td>\n",
       "      <td>2020-05-31</td>\n",
       "      <td>22.0</td>\n",
       "    </tr>\n",
       "    <tr>\n",
       "      <th>532398</th>\n",
       "      <td>효창공원앞</td>\n",
       "      <td>1722.0</td>\n",
       "      <td>2012.0</td>\n",
       "      <td>88.0</td>\n",
       "      <td>2020-05-31</td>\n",
       "      <td>23.0</td>\n",
       "    </tr>\n",
       "    <tr>\n",
       "      <th>532399</th>\n",
       "      <td>효창공원앞</td>\n",
       "      <td>1722.0</td>\n",
       "      <td>2012.0</td>\n",
       "      <td>6.0</td>\n",
       "      <td>2020-05-31</td>\n",
       "      <td>24.0</td>\n",
       "    </tr>\n",
       "  </tbody>\n",
       "</table>\n",
       "<p>532400 rows × 6 columns</p>\n",
       "</div>"
      ],
      "text/plain": [
       "           역명       X       Y     하차       date    시간\n",
       "0        가락시장  3017.0  2503.0   92.0 2020-02-01   5.0\n",
       "1        가락시장  3017.0  2503.0  301.0 2020-02-01   6.0\n",
       "2        가락시장  3017.0  2503.0  328.0 2020-02-01   7.0\n",
       "3        가락시장  3017.0  2503.0  535.0 2020-02-01   8.0\n",
       "4        가락시장  3017.0  2503.0  635.0 2020-02-01   9.0\n",
       "...       ...     ...     ...    ...        ...   ...\n",
       "532395  효창공원앞  1722.0  2012.0  163.0 2020-05-31  20.0\n",
       "532396  효창공원앞  1722.0  2012.0  155.0 2020-05-31  21.0\n",
       "532397  효창공원앞  1722.0  2012.0  140.0 2020-05-31  22.0\n",
       "532398  효창공원앞  1722.0  2012.0   88.0 2020-05-31  23.0\n",
       "532399  효창공원앞  1722.0  2012.0    6.0 2020-05-31  24.0\n",
       "\n",
       "[532400 rows x 6 columns]"
      ]
     },
     "execution_count": 171,
     "metadata": {
      "tags": []
     },
     "output_type": "execute_result"
    }
   ],
   "source": [
    "# df_nosun.to_pickle('df_nosun.pickle')\n",
    "# pd.read_pickle('df_nosun.pickle')"
   ]
  },
  {
   "cell_type": "markdown",
   "metadata": {
    "id": "xt0aj4bUc4LF"
   },
   "source": [
    "# 로직"
   ]
  },
  {
   "cell_type": "code",
   "execution_count": null,
   "metadata": {
    "id": "SRQwGiwef-6G"
   },
   "outputs": [],
   "source": [
    "# 0  : 날짜 / 시간대 / 카테고리 입력\n",
    "# 1-1: 지하철 역 선택\n",
    "# 1-2: 이용자가 원하는 장소 선택하면 특정 반경내 data검색\n",
    "# EX : 강남역, 14시 선택 시 리스트업"
   ]
  },
  {
   "cell_type": "code",
   "execution_count": null,
   "metadata": {
    "id": "oxHzfaendU2I"
   },
   "outputs": [],
   "source": [
    "# df_nosun.to_pickle('df_nosun_fin.pickle')\n",
    "df_nosun = pd.read_pickle('/content/drive/My Drive/모공전/빅콘/지하철 역 시각화/df_nosun_fin.pickle')"
   ]
  },
  {
   "cell_type": "code",
   "execution_count": null,
   "metadata": {
    "colab": {
     "base_uri": "https://localhost:8080/",
     "height": 420
    },
    "executionInfo": {
     "elapsed": 699,
     "status": "ok",
     "timestamp": 1600926857301,
     "user": {
      "displayName": "김지예 Jiye Kim",
      "photoUrl": "https://lh3.googleusercontent.com/a-/AOh14GjpRuhx4HRs2qscpHbB3cKFAmxjXdV8jWI9U9Bg=s64",
      "userId": "04362465202552994151"
     },
     "user_tz": -540
    },
    "id": "UivfqeDoh5mw",
    "outputId": "c5494798-09c0-4fe2-89a2-7ee9dd7fccea"
   },
   "outputs": [
    {
     "name": "stderr",
     "output_type": "stream",
     "text": [
      "/usr/local/lib/python3.6/dist-packages/matplotlib/backends/backend_agg.py:214: RuntimeWarning: Glyph 54616 missing from current font.\n",
      "  font.set_text(s, 0.0, flags=flags)\n",
      "/usr/local/lib/python3.6/dist-packages/matplotlib/backends/backend_agg.py:214: RuntimeWarning: Glyph 52264 missing from current font.\n",
      "  font.set_text(s, 0.0, flags=flags)\n",
      "/usr/local/lib/python3.6/dist-packages/matplotlib/backends/backend_agg.py:183: RuntimeWarning: Glyph 54616 missing from current font.\n",
      "  font.set_text(s, 0, flags=flags)\n",
      "/usr/local/lib/python3.6/dist-packages/matplotlib/backends/backend_agg.py:183: RuntimeWarning: Glyph 52264 missing from current font.\n",
      "  font.set_text(s, 0, flags=flags)\n"
     ]
    },
    {
     "data": {
      "image/png": "[encoded data removed]",
      "text/plain": [
       "<Figure size 432x288 with 1 Axes>"
      ]
     },
     "metadata": {
      "needs_background": "light",
      "tags": []
     },
     "output_type": "display_data"
    }
   ],
   "source": [
    "sns.distplot(df_nosun['하차'], bins = 30)\n",
    "# plt.xticks([0, 10000])\n",
    "plt.show()"
   ]
  },
  {
   "cell_type": "code",
   "execution_count": null,
   "metadata": {
    "colab": {
     "base_uri": "https://localhost:8080/",
     "height": 284
    },
    "executionInfo": {
     "elapsed": 619,
     "status": "ok",
     "timestamp": 1600842135771,
     "user": {
      "displayName": "김지예 Jiye Kim",
      "photoUrl": "https://lh3.googleusercontent.com/a-/AOh14GjpRuhx4HRs2qscpHbB3cKFAmxjXdV8jWI9U9Bg=s64",
      "userId": "04362465202552994151"
     },
     "user_tz": -540
    },
    "id": "MhDnrEYNnwqS",
    "outputId": "0a325ebd-723d-4460-f54a-8ac507101e5e"
   },
   "outputs": [
    {
     "data": {
      "text/html": [
       "<div>\n",
       "<style scoped>\n",
       "    .dataframe tbody tr th:only-of-type {\n",
       "        vertical-align: middle;\n",
       "    }\n",
       "\n",
       "    .dataframe tbody tr th {\n",
       "        vertical-align: top;\n",
       "    }\n",
       "\n",
       "    .dataframe thead th {\n",
       "        text-align: right;\n",
       "    }\n",
       "</style>\n",
       "<table border=\"1\" class=\"dataframe\">\n",
       "  <thead>\n",
       "    <tr style=\"text-align: right;\">\n",
       "      <th></th>\n",
       "      <th>X</th>\n",
       "      <th>Y</th>\n",
       "      <th>하차</th>\n",
       "      <th>시간</th>\n",
       "    </tr>\n",
       "  </thead>\n",
       "  <tbody>\n",
       "    <tr>\n",
       "      <th>count</th>\n",
       "      <td>532400.000000</td>\n",
       "      <td>532400.000000</td>\n",
       "      <td>532400.000000</td>\n",
       "      <td>532400.000000</td>\n",
       "    </tr>\n",
       "    <tr>\n",
       "      <th>mean</th>\n",
       "      <td>2049.277273</td>\n",
       "      <td>1934.286364</td>\n",
       "      <td>722.220054</td>\n",
       "      <td>14.500000</td>\n",
       "    </tr>\n",
       "    <tr>\n",
       "      <th>std</th>\n",
       "      <td>693.978396</td>\n",
       "      <td>479.684849</td>\n",
       "      <td>1103.892366</td>\n",
       "      <td>5.766287</td>\n",
       "    </tr>\n",
       "    <tr>\n",
       "      <th>min</th>\n",
       "      <td>450.000000</td>\n",
       "      <td>480.000000</td>\n",
       "      <td>0.000000</td>\n",
       "      <td>5.000000</td>\n",
       "    </tr>\n",
       "    <tr>\n",
       "      <th>25%</th>\n",
       "      <td>1518.750000</td>\n",
       "      <td>1671.250000</td>\n",
       "      <td>193.000000</td>\n",
       "      <td>9.750000</td>\n",
       "    </tr>\n",
       "    <tr>\n",
       "      <th>50%</th>\n",
       "      <td>2142.500000</td>\n",
       "      <td>1937.000000</td>\n",
       "      <td>398.000000</td>\n",
       "      <td>14.500000</td>\n",
       "    </tr>\n",
       "    <tr>\n",
       "      <th>75%</th>\n",
       "      <td>2586.500000</td>\n",
       "      <td>2313.500000</td>\n",
       "      <td>816.000000</td>\n",
       "      <td>19.250000</td>\n",
       "    </tr>\n",
       "    <tr>\n",
       "      <th>max</th>\n",
       "      <td>3393.000000</td>\n",
       "      <td>2726.000000</td>\n",
       "      <td>21102.000000</td>\n",
       "      <td>24.000000</td>\n",
       "    </tr>\n",
       "  </tbody>\n",
       "</table>\n",
       "</div>"
      ],
      "text/plain": [
       "                   X              Y             하차             시간\n",
       "count  532400.000000  532400.000000  532400.000000  532400.000000\n",
       "mean     2049.277273    1934.286364     722.220054      14.500000\n",
       "std       693.978396     479.684849    1103.892366       5.766287\n",
       "min       450.000000     480.000000       0.000000       5.000000\n",
       "25%      1518.750000    1671.250000     193.000000       9.750000\n",
       "50%      2142.500000    1937.000000     398.000000      14.500000\n",
       "75%      2586.500000    2313.500000     816.000000      19.250000\n",
       "max      3393.000000    2726.000000   21102.000000      24.000000"
      ]
     },
     "execution_count": 21,
     "metadata": {
      "tags": []
     },
     "output_type": "execute_result"
    }
   ],
   "source": [
    "df_nosun.describe()"
   ]
  },
  {
   "cell_type": "code",
   "execution_count": null,
   "metadata": {
    "id": "Sfq-tRrSuzvI"
   },
   "outputs": [],
   "source": [
    "def Graph(station):\n",
    "  plt.figure(figsize=(15, 7))\n",
    "  plt.plot(df_nosun[df_nosun['역명'] == station]['date'], df_nosun[df_nosun['역명'] == station]['하차'])\n",
    "  plt.title('{} 하차'.format(station))"
   ]
  },
  {
   "cell_type": "code",
   "execution_count": null,
   "metadata": {
    "colab": {
     "base_uri": "https://localhost:8080/",
     "height": 866
    },
    "executionInfo": {
     "elapsed": 1084,
     "status": "ok",
     "timestamp": 1600844592265,
     "user": {
      "displayName": "김지예 Jiye Kim",
      "photoUrl": "https://lh3.googleusercontent.com/a-/AOh14GjpRuhx4HRs2qscpHbB3cKFAmxjXdV8jWI9U9Bg=s64",
      "userId": "04362465202552994151"
     },
     "user_tz": -540
    },
    "id": "vX_srJ42wMal",
    "outputId": "2505c316-4b53-48dd-ec46-f16e13b1745e"
   },
   "outputs": [
    {
     "name": "stderr",
     "output_type": "stream",
     "text": [
      "/usr/local/lib/python3.6/dist-packages/matplotlib/backends/backend_agg.py:214: RuntimeWarning: Glyph 54861 missing from current font.\n",
      "  font.set_text(s, 0.0, flags=flags)\n",
      "/usr/local/lib/python3.6/dist-packages/matplotlib/backends/backend_agg.py:214: RuntimeWarning: Glyph 45824 missing from current font.\n",
      "  font.set_text(s, 0.0, flags=flags)\n",
      "/usr/local/lib/python3.6/dist-packages/matplotlib/backends/backend_agg.py:214: RuntimeWarning: Glyph 51077 missing from current font.\n",
      "  font.set_text(s, 0.0, flags=flags)\n",
      "/usr/local/lib/python3.6/dist-packages/matplotlib/backends/backend_agg.py:214: RuntimeWarning: Glyph 44396 missing from current font.\n",
      "  font.set_text(s, 0.0, flags=flags)\n",
      "/usr/local/lib/python3.6/dist-packages/matplotlib/backends/backend_agg.py:214: RuntimeWarning: Glyph 54616 missing from current font.\n",
      "  font.set_text(s, 0.0, flags=flags)\n",
      "/usr/local/lib/python3.6/dist-packages/matplotlib/backends/backend_agg.py:214: RuntimeWarning: Glyph 52264 missing from current font.\n",
      "  font.set_text(s, 0.0, flags=flags)\n",
      "/usr/local/lib/python3.6/dist-packages/matplotlib/backends/backend_agg.py:183: RuntimeWarning: Glyph 54861 missing from current font.\n",
      "  font.set_text(s, 0, flags=flags)\n",
      "/usr/local/lib/python3.6/dist-packages/matplotlib/backends/backend_agg.py:183: RuntimeWarning: Glyph 45824 missing from current font.\n",
      "  font.set_text(s, 0, flags=flags)\n",
      "/usr/local/lib/python3.6/dist-packages/matplotlib/backends/backend_agg.py:183: RuntimeWarning: Glyph 51077 missing from current font.\n",
      "  font.set_text(s, 0, flags=flags)\n",
      "/usr/local/lib/python3.6/dist-packages/matplotlib/backends/backend_agg.py:183: RuntimeWarning: Glyph 44396 missing from current font.\n",
      "  font.set_text(s, 0, flags=flags)\n",
      "/usr/local/lib/python3.6/dist-packages/matplotlib/backends/backend_agg.py:183: RuntimeWarning: Glyph 54616 missing from current font.\n",
      "  font.set_text(s, 0, flags=flags)\n",
      "/usr/local/lib/python3.6/dist-packages/matplotlib/backends/backend_agg.py:183: RuntimeWarning: Glyph 52264 missing from current font.\n",
      "  font.set_text(s, 0, flags=flags)\n"
     ]
    },
    {
     "data": {
      "image/png": "[encoded data removed]",
      "text/plain": [
       "<Figure size 1080x504 with 1 Axes>"
      ]
     },
     "metadata": {
      "needs_background": "light",
      "tags": []
     },
     "output_type": "display_data"
    }
   ],
   "source": [
    "Graph('홍대입구')"
   ]
  },
  {
   "cell_type": "code",
   "execution_count": null,
   "metadata": {
    "id": "UMJmt7Kliyp9"
   },
   "outputs": [],
   "source": [
    "# 밖으로 나간 역 수정\n",
    "# df_nosun.loc[df_nosun['역명']=='길동', 'X'] = 3189    \n",
    "# df_nosun.loc[df_nosun['역명']=='길동', 'Y'] = 2037\n",
    "# df_nosun.loc[df_nosun['역명']=='강동', 'X'] = 3123    \n",
    "# df_nosun.loc[df_nosun['역명']=='미아', 'Y'] = 1118\n",
    "# df_nosun.loc[df_nosun['역명']=='합정', 'X'] = 1341\n",
    "# df_nosun.loc[df_nosun['역명']=='김포공항', 'Y'] = 1770\n",
    "# df_nosun.loc[df_nosun['역명']=='이태원', 'X'] = 1995"
   ]
  },
  {
   "cell_type": "markdown",
   "metadata": {
    "id": "74XdNy3qrtju"
   },
   "source": [
    "- 4단계 : 파랑(25% 미만) / 초록(25%이상 50%미만) \n",
    "/ 노랑(50%이상 75%이하) / 빨강(75%이상)"
   ]
  },
  {
   "cell_type": "code",
   "execution_count": null,
   "metadata": {
    "id": "vbw7JEoVvhVv"
   },
   "outputs": [],
   "source": [
    "# mean 이상시 yellow\n",
    "image = cv.imread('/content/drive/My Drive/모공전/빅콘/지하철 역 시각화/지하철노선도이미지.jpg',cv2.IMREAD_UNCHANGED)\n",
    "\n",
    "grey_color = (64,64,64)\n",
    "red_color= (0,0,255)\n",
    "yellow_color = (0, 153, 255)\n",
    "green_color = (0, 255, 0)\n",
    "blue_color = (255, 0, 0)\n",
    "station_ = list(set(df_nosun['역명']))\n",
    "station_.sort()\n",
    "\n",
    "def sigakhwa(date, time):\n",
    "    global image\n",
    "    for station in tqdm(station_): \n",
    "      # RED\n",
    "        if df_nosun[(df_nosun['date'] == date)&(df_nosun['시간'] == time)&(df_nosun['역명'] == station)]['하차'].values[0] >= df_nosun[df_nosun['역명'] == station].describe().loc['75%']['하차']:\n",
    "            loc_X = int(df_nosun[df_nosun['역명'] == station][['X', 'Y']].values[0][0])\n",
    "            loc_Y = int(df_nosun[df_nosun['역명'] == station][['X', 'Y']].values[0][1])\n",
    "            image = cv.line(image,(loc_X, loc_Y), (loc_X, loc_Y), grey_color,25)\n",
    "            image = cv.line(image,(loc_X, loc_Y), (loc_X, loc_Y), red_color,20)\n",
    "      \n",
    "     # YELLOW\n",
    "        elif df_nosun[(df_nosun['date'] == date)&(df_nosun['시간'] == time)&(df_nosun['역명'] == station)]['하차'].values[0] >= df_nosun[df_nosun['역명'] == station].describe().loc['50%']['하차']:\n",
    "            loc_X = int(df_nosun[df_nosun['역명'] == station][['X', 'Y']].values[0][0])\n",
    "            loc_Y = int(df_nosun[df_nosun['역명'] == station][['X', 'Y']].values[0][1])\n",
    "            image = cv.line(image,(loc_X, loc_Y), (loc_X, loc_Y), grey_color,25)\n",
    "            image = cv.line(image,(loc_X, loc_Y), (loc_X, loc_Y), yellow_color,20)\n",
    "      \n",
    "    # GREEN\n",
    "        elif df_nosun[(df_nosun['date'] == date)&(df_nosun['시간'] == time)&(df_nosun['역명'] == station)]['하차'].values[0] >= df_nosun[df_nosun['역명'] == station].describe().loc['25%']['하차']:\n",
    "            loc_X = int(df_nosun[df_nosun['역명'] == station][['X', 'Y']].values[0][0])\n",
    "            loc_Y = int(df_nosun[df_nosun['역명'] == station][['X', 'Y']].values[0][1])\n",
    "            image = cv.line(image,(loc_X, loc_Y), (loc_X, loc_Y), grey_color,25)\n",
    "            image = cv.line(image,(loc_X, loc_Y), (loc_X, loc_Y), green_color,20)\n",
    "       \n",
    "    # BLUE\n",
    "        else:\n",
    "            loc_X = int(df_nosun[df_nosun['역명'] == station][['X', 'Y']].values[0][0])\n",
    "            loc_Y = int(df_nosun[df_nosun['역명'] == station][['X', 'Y']].values[0][1])\n",
    "            image = cv.line(image,(loc_X, loc_Y), (loc_X, loc_Y), grey_color,25)\n",
    "            image = cv.line(image,(loc_X, loc_Y), (loc_X, loc_Y), blue_color,20)\n",
    "      \n",
    "    return cv2_imshow(image)"
   ]
  },
  {
   "cell_type": "code",
   "execution_count": null,
   "metadata": {
    "colab": {
     "base_uri": "https://localhost:8080/",
     "height": 1000,
     "output_embedded_package_id": "1BCFJGf98CzkNXpmkVd9NlVjlVBDW9hqI"
    },
    "executionInfo": {
     "elapsed": 41265,
     "status": "ok",
     "timestamp": 1600929221538,
     "user": {
      "displayName": "김지예 Jiye Kim",
      "photoUrl": "https://lh3.googleusercontent.com/a-/AOh14GjpRuhx4HRs2qscpHbB3cKFAmxjXdV8jWI9U9Bg=s64",
      "userId": "04362465202552994151"
     },
     "user_tz": -540
    },
    "id": "was8auIS1DYE",
    "outputId": "74d30699-32ad-4d56-c2e5-053188051a50"
   },
   "outputs": [
    {
     "data": {
      "text/plain": [
       "Output hidden; open in https://colab.research.google.com to view."
      ]
     },
     "metadata": {},
     "output_type": "display_data"
    }
   ],
   "source": [
    "date = input('날짜 (예:2020-02-01) : ')\n",
    "time = float(input('시간 (예:7) : '))\n",
    "sigakhwa(pd.to_datetime(date), time)"
   ]
  }
 ],
 "metadata": {
  "accelerator": "GPU",
  "colab": {
   "collapsed_sections": [
    "7kceSsUB37Qj",
    "4LRiiiERcw1T"
   ],
   "name": "지하철_시각화.ipynb",
   "provenance": []
  },
  "kernelspec": {
   "display_name": "Python 3",
   "language": "python",
   "name": "python3"
  },
  "language_info": {
   "codemirror_mode": {
    "name": "ipython",
    "version": 3
   },
   "file_extension": ".py",
   "mimetype": "text/x-python",
   "name": "python",
   "nbconvert_exporter": "python",
   "pygments_lexer": "ipython3",
   "version": "3.6.10"
  }
 },
 "nbformat": 4,
 "nbformat_minor": 1
}

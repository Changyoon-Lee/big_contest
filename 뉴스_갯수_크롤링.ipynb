{
  "nbformat": 4,
  "nbformat_minor": 0,
  "metadata": {
    "colab": {
      "name": "뉴스 갯수 크롤링.ipynb",
      "provenance": [],
      "toc_visible": true,
      "authorship_tag": "ABX9TyNuDRFcOKXqmWvJZNEbGPKF"
    },
    "kernelspec": {
      "name": "python3",
      "display_name": "Python 3"
    },
    "widgets": {
      "application/vnd.jupyter.widget-state+json": {
        "22b6b7ef910f489e88764ff977f26821": {
          "model_module": "@jupyter-widgets/controls",
          "model_name": "HBoxModel",
          "state": {
            "_view_name": "HBoxView",
            "_dom_classes": [],
            "_model_name": "HBoxModel",
            "_view_module": "@jupyter-widgets/controls",
            "_model_module_version": "1.5.0",
            "_view_count": null,
            "_view_module_version": "1.5.0",
            "box_style": "",
            "layout": "IPY_MODEL_6f819c782e0d4fe88b7b7bdfd8c37592",
            "_model_module": "@jupyter-widgets/controls",
            "children": [
              "IPY_MODEL_7bd01b881ac74862b5ad959d00ad2cbb",
              "IPY_MODEL_cb02a88638634c439a7128753d1bd91b"
            ]
          }
        },
        "6f819c782e0d4fe88b7b7bdfd8c37592": {
          "model_module": "@jupyter-widgets/base",
          "model_name": "LayoutModel",
          "state": {
            "_view_name": "LayoutView",
            "grid_template_rows": null,
            "right": null,
            "justify_content": null,
            "_view_module": "@jupyter-widgets/base",
            "overflow": null,
            "_model_module_version": "1.2.0",
            "_view_count": null,
            "flex_flow": null,
            "width": null,
            "min_width": null,
            "border": null,
            "align_items": null,
            "bottom": null,
            "_model_module": "@jupyter-widgets/base",
            "top": null,
            "grid_column": null,
            "overflow_y": null,
            "overflow_x": null,
            "grid_auto_flow": null,
            "grid_area": null,
            "grid_template_columns": null,
            "flex": null,
            "_model_name": "LayoutModel",
            "justify_items": null,
            "grid_row": null,
            "max_height": null,
            "align_content": null,
            "visibility": null,
            "align_self": null,
            "height": null,
            "min_height": null,
            "padding": null,
            "grid_auto_rows": null,
            "grid_gap": null,
            "max_width": null,
            "order": null,
            "_view_module_version": "1.2.0",
            "grid_template_areas": null,
            "object_position": null,
            "object_fit": null,
            "grid_auto_columns": null,
            "margin": null,
            "display": null,
            "left": null
          }
        },
        "7bd01b881ac74862b5ad959d00ad2cbb": {
          "model_module": "@jupyter-widgets/controls",
          "model_name": "FloatProgressModel",
          "state": {
            "_view_name": "ProgressView",
            "style": "IPY_MODEL_ce23fdd5d587449e8607a8c2cfc05497",
            "_dom_classes": [],
            "description": "100%",
            "_model_name": "FloatProgressModel",
            "bar_style": "success",
            "max": 69,
            "_view_module": "@jupyter-widgets/controls",
            "_model_module_version": "1.5.0",
            "value": 69,
            "_view_count": null,
            "_view_module_version": "1.5.0",
            "orientation": "horizontal",
            "min": 0,
            "description_tooltip": null,
            "_model_module": "@jupyter-widgets/controls",
            "layout": "IPY_MODEL_c5e05bf9c1c74e6a96ab4bd7564b3007"
          }
        },
        "cb02a88638634c439a7128753d1bd91b": {
          "model_module": "@jupyter-widgets/controls",
          "model_name": "HTMLModel",
          "state": {
            "_view_name": "HTMLView",
            "style": "IPY_MODEL_edd346d2d3e343d180de908a130fd630",
            "_dom_classes": [],
            "description": "",
            "_model_name": "HTMLModel",
            "placeholder": "​",
            "_view_module": "@jupyter-widgets/controls",
            "_model_module_version": "1.5.0",
            "value": " 69/69 [00:54&lt;00:00,  1.27it/s]",
            "_view_count": null,
            "_view_module_version": "1.5.0",
            "description_tooltip": null,
            "_model_module": "@jupyter-widgets/controls",
            "layout": "IPY_MODEL_895407631ef041d8b56cda8e8d4f9792"
          }
        },
        "ce23fdd5d587449e8607a8c2cfc05497": {
          "model_module": "@jupyter-widgets/controls",
          "model_name": "ProgressStyleModel",
          "state": {
            "_view_name": "StyleView",
            "_model_name": "ProgressStyleModel",
            "description_width": "initial",
            "_view_module": "@jupyter-widgets/base",
            "_model_module_version": "1.5.0",
            "_view_count": null,
            "_view_module_version": "1.2.0",
            "bar_color": null,
            "_model_module": "@jupyter-widgets/controls"
          }
        },
        "c5e05bf9c1c74e6a96ab4bd7564b3007": {
          "model_module": "@jupyter-widgets/base",
          "model_name": "LayoutModel",
          "state": {
            "_view_name": "LayoutView",
            "grid_template_rows": null,
            "right": null,
            "justify_content": null,
            "_view_module": "@jupyter-widgets/base",
            "overflow": null,
            "_model_module_version": "1.2.0",
            "_view_count": null,
            "flex_flow": null,
            "width": null,
            "min_width": null,
            "border": null,
            "align_items": null,
            "bottom": null,
            "_model_module": "@jupyter-widgets/base",
            "top": null,
            "grid_column": null,
            "overflow_y": null,
            "overflow_x": null,
            "grid_auto_flow": null,
            "grid_area": null,
            "grid_template_columns": null,
            "flex": null,
            "_model_name": "LayoutModel",
            "justify_items": null,
            "grid_row": null,
            "max_height": null,
            "align_content": null,
            "visibility": null,
            "align_self": null,
            "height": null,
            "min_height": null,
            "padding": null,
            "grid_auto_rows": null,
            "grid_gap": null,
            "max_width": null,
            "order": null,
            "_view_module_version": "1.2.0",
            "grid_template_areas": null,
            "object_position": null,
            "object_fit": null,
            "grid_auto_columns": null,
            "margin": null,
            "display": null,
            "left": null
          }
        },
        "edd346d2d3e343d180de908a130fd630": {
          "model_module": "@jupyter-widgets/controls",
          "model_name": "DescriptionStyleModel",
          "state": {
            "_view_name": "StyleView",
            "_model_name": "DescriptionStyleModel",
            "description_width": "",
            "_view_module": "@jupyter-widgets/base",
            "_model_module_version": "1.5.0",
            "_view_count": null,
            "_view_module_version": "1.2.0",
            "_model_module": "@jupyter-widgets/controls"
          }
        },
        "895407631ef041d8b56cda8e8d4f9792": {
          "model_module": "@jupyter-widgets/base",
          "model_name": "LayoutModel",
          "state": {
            "_view_name": "LayoutView",
            "grid_template_rows": null,
            "right": null,
            "justify_content": null,
            "_view_module": "@jupyter-widgets/base",
            "overflow": null,
            "_model_module_version": "1.2.0",
            "_view_count": null,
            "flex_flow": null,
            "width": null,
            "min_width": null,
            "border": null,
            "align_items": null,
            "bottom": null,
            "_model_module": "@jupyter-widgets/base",
            "top": null,
            "grid_column": null,
            "overflow_y": null,
            "overflow_x": null,
            "grid_auto_flow": null,
            "grid_area": null,
            "grid_template_columns": null,
            "flex": null,
            "_model_name": "LayoutModel",
            "justify_items": null,
            "grid_row": null,
            "max_height": null,
            "align_content": null,
            "visibility": null,
            "align_self": null,
            "height": null,
            "min_height": null,
            "padding": null,
            "grid_auto_rows": null,
            "grid_gap": null,
            "max_width": null,
            "order": null,
            "_view_module_version": "1.2.0",
            "grid_template_areas": null,
            "object_position": null,
            "object_fit": null,
            "grid_auto_columns": null,
            "margin": null,
            "display": null,
            "left": null
          }
        },
        "5dca04ab77b24292bef49ca896f26b68": {
          "model_module": "@jupyter-widgets/controls",
          "model_name": "HBoxModel",
          "state": {
            "_view_name": "HBoxView",
            "_dom_classes": [],
            "_model_name": "HBoxModel",
            "_view_module": "@jupyter-widgets/controls",
            "_model_module_version": "1.5.0",
            "_view_count": null,
            "_view_module_version": "1.5.0",
            "box_style": "",
            "layout": "IPY_MODEL_0cf999a4f9114a14adeba30b148996bd",
            "_model_module": "@jupyter-widgets/controls",
            "children": [
              "IPY_MODEL_d4a28c28a9814b80b5fd56d29aac8773",
              "IPY_MODEL_367e97b14e5f49258a2bf30be8822b6f"
            ]
          }
        },
        "0cf999a4f9114a14adeba30b148996bd": {
          "model_module": "@jupyter-widgets/base",
          "model_name": "LayoutModel",
          "state": {
            "_view_name": "LayoutView",
            "grid_template_rows": null,
            "right": null,
            "justify_content": null,
            "_view_module": "@jupyter-widgets/base",
            "overflow": null,
            "_model_module_version": "1.2.0",
            "_view_count": null,
            "flex_flow": null,
            "width": null,
            "min_width": null,
            "border": null,
            "align_items": null,
            "bottom": null,
            "_model_module": "@jupyter-widgets/base",
            "top": null,
            "grid_column": null,
            "overflow_y": null,
            "overflow_x": null,
            "grid_auto_flow": null,
            "grid_area": null,
            "grid_template_columns": null,
            "flex": null,
            "_model_name": "LayoutModel",
            "justify_items": null,
            "grid_row": null,
            "max_height": null,
            "align_content": null,
            "visibility": null,
            "align_self": null,
            "height": null,
            "min_height": null,
            "padding": null,
            "grid_auto_rows": null,
            "grid_gap": null,
            "max_width": null,
            "order": null,
            "_view_module_version": "1.2.0",
            "grid_template_areas": null,
            "object_position": null,
            "object_fit": null,
            "grid_auto_columns": null,
            "margin": null,
            "display": null,
            "left": null
          }
        },
        "d4a28c28a9814b80b5fd56d29aac8773": {
          "model_module": "@jupyter-widgets/controls",
          "model_name": "FloatProgressModel",
          "state": {
            "_view_name": "ProgressView",
            "style": "IPY_MODEL_2cd4a8a27d3649ebb258b04b08ec8139",
            "_dom_classes": [],
            "description": "100%",
            "_model_name": "FloatProgressModel",
            "bar_style": "success",
            "max": 69,
            "_view_module": "@jupyter-widgets/controls",
            "_model_module_version": "1.5.0",
            "value": 69,
            "_view_count": null,
            "_view_module_version": "1.5.0",
            "orientation": "horizontal",
            "min": 0,
            "description_tooltip": null,
            "_model_module": "@jupyter-widgets/controls",
            "layout": "IPY_MODEL_8bfddc1dca9e42f2873518e3b1cee8c7"
          }
        },
        "367e97b14e5f49258a2bf30be8822b6f": {
          "model_module": "@jupyter-widgets/controls",
          "model_name": "HTMLModel",
          "state": {
            "_view_name": "HTMLView",
            "style": "IPY_MODEL_4100b646cca14135a85304d11ac0b27d",
            "_dom_classes": [],
            "description": "",
            "_model_name": "HTMLModel",
            "placeholder": "​",
            "_view_module": "@jupyter-widgets/controls",
            "_model_module_version": "1.5.0",
            "value": " 69/69 [00:49&lt;00:00,  1.38it/s]",
            "_view_count": null,
            "_view_module_version": "1.5.0",
            "description_tooltip": null,
            "_model_module": "@jupyter-widgets/controls",
            "layout": "IPY_MODEL_2854c7aac0004adca26de932c0b394e1"
          }
        },
        "2cd4a8a27d3649ebb258b04b08ec8139": {
          "model_module": "@jupyter-widgets/controls",
          "model_name": "ProgressStyleModel",
          "state": {
            "_view_name": "StyleView",
            "_model_name": "ProgressStyleModel",
            "description_width": "initial",
            "_view_module": "@jupyter-widgets/base",
            "_model_module_version": "1.5.0",
            "_view_count": null,
            "_view_module_version": "1.2.0",
            "bar_color": null,
            "_model_module": "@jupyter-widgets/controls"
          }
        },
        "8bfddc1dca9e42f2873518e3b1cee8c7": {
          "model_module": "@jupyter-widgets/base",
          "model_name": "LayoutModel",
          "state": {
            "_view_name": "LayoutView",
            "grid_template_rows": null,
            "right": null,
            "justify_content": null,
            "_view_module": "@jupyter-widgets/base",
            "overflow": null,
            "_model_module_version": "1.2.0",
            "_view_count": null,
            "flex_flow": null,
            "width": null,
            "min_width": null,
            "border": null,
            "align_items": null,
            "bottom": null,
            "_model_module": "@jupyter-widgets/base",
            "top": null,
            "grid_column": null,
            "overflow_y": null,
            "overflow_x": null,
            "grid_auto_flow": null,
            "grid_area": null,
            "grid_template_columns": null,
            "flex": null,
            "_model_name": "LayoutModel",
            "justify_items": null,
            "grid_row": null,
            "max_height": null,
            "align_content": null,
            "visibility": null,
            "align_self": null,
            "height": null,
            "min_height": null,
            "padding": null,
            "grid_auto_rows": null,
            "grid_gap": null,
            "max_width": null,
            "order": null,
            "_view_module_version": "1.2.0",
            "grid_template_areas": null,
            "object_position": null,
            "object_fit": null,
            "grid_auto_columns": null,
            "margin": null,
            "display": null,
            "left": null
          }
        },
        "4100b646cca14135a85304d11ac0b27d": {
          "model_module": "@jupyter-widgets/controls",
          "model_name": "DescriptionStyleModel",
          "state": {
            "_view_name": "StyleView",
            "_model_name": "DescriptionStyleModel",
            "description_width": "",
            "_view_module": "@jupyter-widgets/base",
            "_model_module_version": "1.5.0",
            "_view_count": null,
            "_view_module_version": "1.2.0",
            "_model_module": "@jupyter-widgets/controls"
          }
        },
        "2854c7aac0004adca26de932c0b394e1": {
          "model_module": "@jupyter-widgets/base",
          "model_name": "LayoutModel",
          "state": {
            "_view_name": "LayoutView",
            "grid_template_rows": null,
            "right": null,
            "justify_content": null,
            "_view_module": "@jupyter-widgets/base",
            "overflow": null,
            "_model_module_version": "1.2.0",
            "_view_count": null,
            "flex_flow": null,
            "width": null,
            "min_width": null,
            "border": null,
            "align_items": null,
            "bottom": null,
            "_model_module": "@jupyter-widgets/base",
            "top": null,
            "grid_column": null,
            "overflow_y": null,
            "overflow_x": null,
            "grid_auto_flow": null,
            "grid_area": null,
            "grid_template_columns": null,
            "flex": null,
            "_model_name": "LayoutModel",
            "justify_items": null,
            "grid_row": null,
            "max_height": null,
            "align_content": null,
            "visibility": null,
            "align_self": null,
            "height": null,
            "min_height": null,
            "padding": null,
            "grid_auto_rows": null,
            "grid_gap": null,
            "max_width": null,
            "order": null,
            "_view_module_version": "1.2.0",
            "grid_template_areas": null,
            "object_position": null,
            "object_fit": null,
            "grid_auto_columns": null,
            "margin": null,
            "display": null,
            "left": null
          }
        }
      }
    }
  },
  "cells": [
    {
      "cell_type": "code",
      "metadata": {
        "id": "jDe0aoM6lv5a",
        "colab_type": "code",
        "colab": {}
      },
      "source": [
        "from bs4 import BeautifulSoup\n",
        "import pandas as pd\n",
        "from tqdm.notebook import tqdm\n",
        "import requests\n",
        "import re"
      ],
      "execution_count": 26,
      "outputs": []
    },
    {
      "cell_type": "markdown",
      "metadata": {
        "id": "kqAWz7semRkd",
        "colab_type": "text"
      },
      "source": [
        "#특정 동 검색 시 네이버 뉴스기사 '제목' 동별 갯수 딕셔너리(기간-19년 2-5월, 20년 2-5월)\n",
        "\n"
      ]
    },
    {
      "cell_type": "code",
      "metadata": {
        "id": "I9O9J5aNoqyn",
        "colab_type": "code",
        "colab": {}
      },
      "source": [
        "#SKT 데이터 기준 유동인구 데이터가 존재하는 동 리스트\n",
        "dongs=['소공동', '회현동', '명동', '필동', '장충동', '광희동', '을지로동', '신당동', '다산동', '약수동', '청구동', '신당5동', '동화동', '황학동', '중림동', '월계1동', '월계2동', '월계3동', '공릉1동', '공릉2동', '하계1동', '하계2동', '중계본동', '중계1동', '중계4동', '중계2.3동', '상계1동', '상계2동', '상계3.4동', '상계5동', '상계6.7동', '상계8동', '상계9동', '상계10동', '동인동', '삼덕동', '성내1동', '성내2동', '성내3동', '대신동', '남산1동', '남산2동', '남산3동', '남산4동', '대봉1동', '대봉2동', '범어1동', '범어2동', '범어3동', '범어4동', '만촌1동', '만촌2동', '만촌3동', '수성1가동', '수성2.3가동', '수성4가동', '황금1동', '황금2동', '중동', '상동', '파동', '두산동', '지산1동', '지산2동', '범물1동', '범물2동', '고산1동', '고산2동', '고산3동']"
      ],
      "execution_count": 27,
      "outputs": []
    },
    {
      "cell_type": "code",
      "metadata": {
        "id": "MOsKjHU0mEhl",
        "colab_type": "code",
        "colab": {
          "base_uri": "https://localhost:8080/",
          "height": 66,
          "referenced_widgets": [
            "22b6b7ef910f489e88764ff977f26821",
            "6f819c782e0d4fe88b7b7bdfd8c37592",
            "7bd01b881ac74862b5ad959d00ad2cbb",
            "cb02a88638634c439a7128753d1bd91b",
            "ce23fdd5d587449e8607a8c2cfc05497",
            "c5e05bf9c1c74e6a96ab4bd7564b3007",
            "edd346d2d3e343d180de908a130fd630",
            "895407631ef041d8b56cda8e8d4f9792"
          ]
        },
        "outputId": "6ed7741f-0cb7-41b7-beb4-6e76d53c591a"
      },
      "source": [
        "#2019년 딕셔너리\n",
        "dong_dic_2019 = {}\n",
        "for dong in tqdm(dongs):\n",
        "\n",
        "  url = 'https://search.naver.com/search.naver'\n",
        "  query = {\n",
        "      \n",
        "      'where' : 'news',\n",
        "      'query': '{}'.format(dong),\n",
        "      'sm' : 'tab_opt',\n",
        "      # 'sort' : '0',\n",
        "      # 'photo' : '0',\n",
        "      'field' : '1',\n",
        "      # 'reporter_article' : '',\n",
        "      'pd' : '3',\n",
        "      'ds' : '2019.02.01',\n",
        "      'de' : '2019.05.31',\n",
        "      # 'docid' : '',\n",
        "      'nso' : 'so%3Ar%2Cp%3Afrom20190201to20190531%2Ca%3At',\n",
        "      # 'mynews' : '0',\n",
        "      # 'refresh_start' : '0',\n",
        "      # 'related' : '0'\n",
        "  }\n",
        "\n",
        "  resp = requests.get(url, query)\n",
        "  soup = BeautifulSoup(resp.content, 'lxml')\n",
        "\n",
        "  number_tag = soup.select('div.section_head div span')\n",
        "  number = re.findall('\\/ (.+?)건', str(number_tag))\n",
        "  if len(number):\n",
        "    number = int(re.sub(',', '', number[0]))\n",
        "  else:\n",
        "    number = 0\n",
        "  \n",
        "  dong_dic_2019[dong] = number"
      ],
      "execution_count": 93,
      "outputs": [
        {
          "output_type": "display_data",
          "data": {
            "application/vnd.jupyter.widget-view+json": {
              "model_id": "22b6b7ef910f489e88764ff977f26821",
              "version_minor": 0,
              "version_major": 2
            },
            "text/plain": [
              "HBox(children=(FloatProgress(value=0.0, max=69.0), HTML(value='')))"
            ]
          },
          "metadata": {
            "tags": []
          }
        },
        {
          "output_type": "stream",
          "text": [
            "\n"
          ],
          "name": "stdout"
        }
      ]
    },
    {
      "cell_type": "code",
      "metadata": {
        "id": "cYJ_DSnQtKmk",
        "colab_type": "code",
        "colab": {
          "base_uri": "https://localhost:8080/",
          "height": 1000
        },
        "outputId": "742a1563-81d7-4584-b5c3-383376c24343"
      },
      "source": [
        "dong_dic_2019"
      ],
      "execution_count": 88,
      "outputs": [
        {
          "output_type": "execute_result",
          "data": {
            "text/plain": [
              "{'고산1동': 10,\n",
              " '고산2동': 10,\n",
              " '고산3동': 4,\n",
              " '공릉1동': 1,\n",
              " '공릉2동': 8,\n",
              " '광희동': 2,\n",
              " '남산1동': 1,\n",
              " '남산2동': 0,\n",
              " '남산3동': 0,\n",
              " '남산4동': 1,\n",
              " '다산동': 49,\n",
              " '대봉1동': 0,\n",
              " '대봉2동': 0,\n",
              " '대신동': 37,\n",
              " '동인동': 6,\n",
              " '동화동': 3,\n",
              " '두산동': 10,\n",
              " '만촌1동': 12,\n",
              " '만촌2동': 0,\n",
              " '만촌3동': 5,\n",
              " '명동': 1079,\n",
              " '범물1동': 9,\n",
              " '범물2동': 1,\n",
              " '범어1동': 7,\n",
              " '범어2동': 8,\n",
              " '범어3동': 10,\n",
              " '범어4동': 9,\n",
              " '삼덕동': 3,\n",
              " '상계10동': 3,\n",
              " '상계1동': 2,\n",
              " '상계2동': 0,\n",
              " '상계3.4동': 3,\n",
              " '상계5동': 1,\n",
              " '상계6.7동': 0,\n",
              " '상계8동': 1,\n",
              " '상계9동': 0,\n",
              " '상동': 178,\n",
              " '성내1동': 1,\n",
              " '성내2동': 0,\n",
              " '성내3동': 0,\n",
              " '소공동': 19,\n",
              " '수성1가동': 3,\n",
              " '수성2.3가동': 0,\n",
              " '수성4가동': 10,\n",
              " '신당5동': 1,\n",
              " '신당동': 23,\n",
              " '약수동': 0,\n",
              " '월계1동': 5,\n",
              " '월계2동': 0,\n",
              " '월계3동': 0,\n",
              " '을지로동': 0,\n",
              " '장충동': 10,\n",
              " '중계1동': 1,\n",
              " '중계2.3동': 3,\n",
              " '중계4동': 2,\n",
              " '중계본동': 10,\n",
              " '중동': 2450,\n",
              " '중림동': 3,\n",
              " '지산1동': 5,\n",
              " '지산2동': 8,\n",
              " '청구동': 0,\n",
              " '파동': 252,\n",
              " '필동': 69,\n",
              " '하계1동': 1,\n",
              " '하계2동': 0,\n",
              " '황금1동': 10,\n",
              " '황금2동': 10,\n",
              " '황학동': 26,\n",
              " '회현동': 19}"
            ]
          },
          "metadata": {
            "tags": []
          },
          "execution_count": 88
        }
      ]
    },
    {
      "cell_type": "code",
      "metadata": {
        "id": "aLH0U1CO1TX6",
        "colab_type": "code",
        "colab": {
          "base_uri": "https://localhost:8080/",
          "height": 391
        },
        "outputId": "056be738-e6e2-4e64-9881-cd67212e972e"
      },
      "source": [
        "dong_df_2019 = pd.DataFrame(dong_dic_2019, index=['기사 갯수']).T\n",
        "dong_df_2019.to_csv('dong_df_2019.csv')\n",
        "dong_df_2019"
      ],
      "execution_count": 92,
      "outputs": [
        {
          "output_type": "execute_result",
          "data": {
            "text/html": [
              "<div>\n",
              "<style scoped>\n",
              "    .dataframe tbody tr th:only-of-type {\n",
              "        vertical-align: middle;\n",
              "    }\n",
              "\n",
              "    .dataframe tbody tr th {\n",
              "        vertical-align: top;\n",
              "    }\n",
              "\n",
              "    .dataframe thead th {\n",
              "        text-align: right;\n",
              "    }\n",
              "</style>\n",
              "<table border=\"1\" class=\"dataframe\">\n",
              "  <thead>\n",
              "    <tr style=\"text-align: right;\">\n",
              "      <th></th>\n",
              "      <th>기사 갯수</th>\n",
              "    </tr>\n",
              "  </thead>\n",
              "  <tbody>\n",
              "    <tr>\n",
              "      <th>소공동</th>\n",
              "      <td>19</td>\n",
              "    </tr>\n",
              "    <tr>\n",
              "      <th>회현동</th>\n",
              "      <td>19</td>\n",
              "    </tr>\n",
              "    <tr>\n",
              "      <th>명동</th>\n",
              "      <td>1079</td>\n",
              "    </tr>\n",
              "    <tr>\n",
              "      <th>필동</th>\n",
              "      <td>69</td>\n",
              "    </tr>\n",
              "    <tr>\n",
              "      <th>장충동</th>\n",
              "      <td>10</td>\n",
              "    </tr>\n",
              "    <tr>\n",
              "      <th>...</th>\n",
              "      <td>...</td>\n",
              "    </tr>\n",
              "    <tr>\n",
              "      <th>범물1동</th>\n",
              "      <td>9</td>\n",
              "    </tr>\n",
              "    <tr>\n",
              "      <th>범물2동</th>\n",
              "      <td>1</td>\n",
              "    </tr>\n",
              "    <tr>\n",
              "      <th>고산1동</th>\n",
              "      <td>10</td>\n",
              "    </tr>\n",
              "    <tr>\n",
              "      <th>고산2동</th>\n",
              "      <td>10</td>\n",
              "    </tr>\n",
              "    <tr>\n",
              "      <th>고산3동</th>\n",
              "      <td>4</td>\n",
              "    </tr>\n",
              "  </tbody>\n",
              "</table>\n",
              "<p>69 rows × 1 columns</p>\n",
              "</div>"
            ],
            "text/plain": [
              "      기사 갯수\n",
              "소공동      19\n",
              "회현동      19\n",
              "명동     1079\n",
              "필동       69\n",
              "장충동      10\n",
              "...     ...\n",
              "범물1동      9\n",
              "범물2동      1\n",
              "고산1동     10\n",
              "고산2동     10\n",
              "고산3동      4\n",
              "\n",
              "[69 rows x 1 columns]"
            ]
          },
          "metadata": {
            "tags": []
          },
          "execution_count": 92
        }
      ]
    },
    {
      "cell_type": "code",
      "metadata": {
        "id": "z_wZWrzXo9ft",
        "colab_type": "code",
        "colab": {
          "base_uri": "https://localhost:8080/",
          "height": 66,
          "referenced_widgets": [
            "5dca04ab77b24292bef49ca896f26b68",
            "0cf999a4f9114a14adeba30b148996bd",
            "d4a28c28a9814b80b5fd56d29aac8773",
            "367e97b14e5f49258a2bf30be8822b6f",
            "2cd4a8a27d3649ebb258b04b08ec8139",
            "8bfddc1dca9e42f2873518e3b1cee8c7",
            "4100b646cca14135a85304d11ac0b27d",
            "2854c7aac0004adca26de932c0b394e1"
          ]
        },
        "outputId": "73288cf9-c9da-445c-d3a5-fc9e37ebb98d"
      },
      "source": [
        "#2020년 동 딕셔너리\n",
        "dong_dic_2020 = {}\n",
        "for dong in tqdm(dongs):\n",
        "\n",
        "  url = 'https://search.naver.com/search.naver'\n",
        "  query = {\n",
        "      \n",
        "      'where' : 'news',\n",
        "      'query': '{}'.format(dong),\n",
        "      'sm' : 'tab_opt',\n",
        "      # 'sort' : '0',\n",
        "      # 'photo' : '0',\n",
        "      'field' : '1',\n",
        "      # 'reporter_article' : '',\n",
        "      'pd' : '3',\n",
        "      'ds' : '2020.02.01',\n",
        "      'de' : '2020.05.31',\n",
        "      # 'docid' : '',\n",
        "      'nso' : 'so%3Ar%2Cp%3Afrom20200201to20200531%2Ca%3At',\n",
        "      # 'mynews' : '0',\n",
        "      # 'refresh_start' : '0',\n",
        "      # 'related' : '0'\n",
        "  }\n",
        "  resp = requests.get(url, query)\n",
        "  soup = BeautifulSoup(resp.content, 'lxml')\n",
        "\n",
        "  number_tag = soup.select('div.section_head div span')\n",
        "  number = re.findall('\\/ (.+?)건', str(number_tag))\n",
        "  if len(number):\n",
        "    number = int(re.sub(',', '', number[0]))\n",
        "  else:\n",
        "    number = 0\n",
        "  \n",
        "  dong_dic_2020[dong] = number"
      ],
      "execution_count": 94,
      "outputs": [
        {
          "output_type": "display_data",
          "data": {
            "application/vnd.jupyter.widget-view+json": {
              "model_id": "5dca04ab77b24292bef49ca896f26b68",
              "version_minor": 0,
              "version_major": 2
            },
            "text/plain": [
              "HBox(children=(FloatProgress(value=0.0, max=69.0), HTML(value='')))"
            ]
          },
          "metadata": {
            "tags": []
          }
        },
        {
          "output_type": "stream",
          "text": [
            "\n"
          ],
          "name": "stdout"
        }
      ]
    },
    {
      "cell_type": "code",
      "metadata": {
        "id": "N0OUXFRwo_KL",
        "colab_type": "code",
        "colab": {
          "base_uri": "https://localhost:8080/",
          "height": 1000
        },
        "outputId": "61291cd1-d52c-4a79-c450-cc800555803b"
      },
      "source": [
        "dong_dic_2020"
      ],
      "execution_count": 79,
      "outputs": [
        {
          "output_type": "execute_result",
          "data": {
            "text/plain": [
              "{'고산1동': '10',\n",
              " '고산2동': '10',\n",
              " '고산3동': '10',\n",
              " '공릉1동': 0,\n",
              " '공릉2동': '8',\n",
              " '광희동': '1',\n",
              " '남산1동': 0,\n",
              " '남산2동': '9',\n",
              " '남산3동': '5',\n",
              " '남산4동': 0,\n",
              " '다산동': '34',\n",
              " '대봉1동': '4',\n",
              " '대봉2동': 0,\n",
              " '대신동': '18',\n",
              " '동인동': '29',\n",
              " '동화동': 0,\n",
              " '두산동': '8',\n",
              " '만촌1동': '10',\n",
              " '만촌2동': 0,\n",
              " '만촌3동': '2',\n",
              " '명동': '2190',\n",
              " '범물1동': '10',\n",
              " '범물2동': '3',\n",
              " '범어1동': '9',\n",
              " '범어2동': '8',\n",
              " '범어3동': '4',\n",
              " '범어4동': '10',\n",
              " '삼덕동': '3',\n",
              " '상계10동': 0,\n",
              " '상계1동': '5',\n",
              " '상계2동': '6',\n",
              " '상계3.4동': 0,\n",
              " '상계5동': 0,\n",
              " '상계6.7동': 0,\n",
              " '상계8동': 0,\n",
              " '상계9동': '6',\n",
              " '상동': '214',\n",
              " '성내1동': '9',\n",
              " '성내2동': '4',\n",
              " '성내3동': 0,\n",
              " '소공동': '17',\n",
              " '수성1가동': 0,\n",
              " '수성2.3가동': 0,\n",
              " '수성4가동': '2',\n",
              " '신당5동': '8',\n",
              " '신당동': '30',\n",
              " '약수동': '10',\n",
              " '월계1동': '5',\n",
              " '월계2동': '5',\n",
              " '월계3동': '1',\n",
              " '을지로동': 0,\n",
              " '장충동': '16',\n",
              " '중계1동': '1',\n",
              " '중계2.3동': '8',\n",
              " '중계4동': '2',\n",
              " '중계본동': '9',\n",
              " '중동': '1960',\n",
              " '중림동': '10',\n",
              " '지산1동': '14',\n",
              " '지산2동': '15',\n",
              " '청구동': '2',\n",
              " '파동': '359',\n",
              " '필동': '79',\n",
              " '하계1동': '4',\n",
              " '하계2동': '10',\n",
              " '황금1동': '5',\n",
              " '황금2동': '1',\n",
              " '황학동': '13',\n",
              " '회현동': '10'}"
            ]
          },
          "metadata": {
            "tags": []
          },
          "execution_count": 79
        }
      ]
    },
    {
      "cell_type": "code",
      "metadata": {
        "id": "zNSjNXdvtQBq",
        "colab_type": "code",
        "colab": {
          "base_uri": "https://localhost:8080/",
          "height": 391
        },
        "outputId": "7badfa3e-aa5a-4c06-cec7-892160547a9d"
      },
      "source": [
        "dong_df_2020 = pd.DataFrame(dong_dic_2020, index=['기사 갯수']).T\n",
        "dong_df_2020.to_csv('dong_df_2020.csv')\n",
        "dong_df_2020"
      ],
      "execution_count": 91,
      "outputs": [
        {
          "output_type": "execute_result",
          "data": {
            "text/html": [
              "<div>\n",
              "<style scoped>\n",
              "    .dataframe tbody tr th:only-of-type {\n",
              "        vertical-align: middle;\n",
              "    }\n",
              "\n",
              "    .dataframe tbody tr th {\n",
              "        vertical-align: top;\n",
              "    }\n",
              "\n",
              "    .dataframe thead th {\n",
              "        text-align: right;\n",
              "    }\n",
              "</style>\n",
              "<table border=\"1\" class=\"dataframe\">\n",
              "  <thead>\n",
              "    <tr style=\"text-align: right;\">\n",
              "      <th></th>\n",
              "      <th>기사 갯수</th>\n",
              "    </tr>\n",
              "  </thead>\n",
              "  <tbody>\n",
              "    <tr>\n",
              "      <th>소공동</th>\n",
              "      <td>17</td>\n",
              "    </tr>\n",
              "    <tr>\n",
              "      <th>회현동</th>\n",
              "      <td>10</td>\n",
              "    </tr>\n",
              "    <tr>\n",
              "      <th>명동</th>\n",
              "      <td>2190</td>\n",
              "    </tr>\n",
              "    <tr>\n",
              "      <th>필동</th>\n",
              "      <td>79</td>\n",
              "    </tr>\n",
              "    <tr>\n",
              "      <th>장충동</th>\n",
              "      <td>16</td>\n",
              "    </tr>\n",
              "    <tr>\n",
              "      <th>...</th>\n",
              "      <td>...</td>\n",
              "    </tr>\n",
              "    <tr>\n",
              "      <th>범물1동</th>\n",
              "      <td>10</td>\n",
              "    </tr>\n",
              "    <tr>\n",
              "      <th>범물2동</th>\n",
              "      <td>3</td>\n",
              "    </tr>\n",
              "    <tr>\n",
              "      <th>고산1동</th>\n",
              "      <td>10</td>\n",
              "    </tr>\n",
              "    <tr>\n",
              "      <th>고산2동</th>\n",
              "      <td>10</td>\n",
              "    </tr>\n",
              "    <tr>\n",
              "      <th>고산3동</th>\n",
              "      <td>10</td>\n",
              "    </tr>\n",
              "  </tbody>\n",
              "</table>\n",
              "<p>69 rows × 1 columns</p>\n",
              "</div>"
            ],
            "text/plain": [
              "      기사 갯수\n",
              "소공동      17\n",
              "회현동      10\n",
              "명동     2190\n",
              "필동       79\n",
              "장충동      16\n",
              "...     ...\n",
              "범물1동     10\n",
              "범물2동      3\n",
              "고산1동     10\n",
              "고산2동     10\n",
              "고산3동     10\n",
              "\n",
              "[69 rows x 1 columns]"
            ]
          },
          "metadata": {
            "tags": []
          },
          "execution_count": 91
        }
      ]
    },
    {
      "cell_type": "code",
      "metadata": {
        "id": "o_J9SmHl2TAM",
        "colab_type": "code",
        "colab": {}
      },
      "source": [
        ""
      ],
      "execution_count": null,
      "outputs": []
    }
  ]
}
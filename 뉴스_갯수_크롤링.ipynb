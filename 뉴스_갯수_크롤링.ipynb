{
  "nbformat": 4,
  "nbformat_minor": 0,
  "metadata": {
    "colab": {
      "name": "뉴스 갯수 크롤링.ipynb",
      "provenance": [],
      "toc_visible": true,
      "authorship_tag": "ABX9TyMDKLSgwZrA60Xb1A7cuMgv",
      "include_colab_link": true
    },
    "kernelspec": {
      "name": "python3",
      "display_name": "Python 3"
    },
    "widgets": {
      "application/vnd.jupyter.widget-state+json": {
        "3d37230dcc4d4dcf9984c3ff61c063f8": {
          "model_module": "@jupyter-widgets/controls",
          "model_name": "HBoxModel",
          "state": {
            "_view_name": "HBoxView",
            "_dom_classes": [],
            "_model_name": "HBoxModel",
            "_view_module": "@jupyter-widgets/controls",
            "_model_module_version": "1.5.0",
            "_view_count": null,
            "_view_module_version": "1.5.0",
            "box_style": "",
            "layout": "IPY_MODEL_96c598d60307408cbf5853b9cc272c29",
            "_model_module": "@jupyter-widgets/controls",
            "children": [
              "IPY_MODEL_4542cfe60c534acc8380192a27f2743c",
              "IPY_MODEL_c156ae731bed4390b432c2bc6349eb5e"
            ]
          }
        },
        "96c598d60307408cbf5853b9cc272c29": {
          "model_module": "@jupyter-widgets/base",
          "model_name": "LayoutModel",
          "state": {
            "_view_name": "LayoutView",
            "grid_template_rows": null,
            "right": null,
            "justify_content": null,
            "_view_module": "@jupyter-widgets/base",
            "overflow": null,
            "_model_module_version": "1.2.0",
            "_view_count": null,
            "flex_flow": null,
            "width": null,
            "min_width": null,
            "border": null,
            "align_items": null,
            "bottom": null,
            "_model_module": "@jupyter-widgets/base",
            "top": null,
            "grid_column": null,
            "overflow_y": null,
            "overflow_x": null,
            "grid_auto_flow": null,
            "grid_area": null,
            "grid_template_columns": null,
            "flex": null,
            "_model_name": "LayoutModel",
            "justify_items": null,
            "grid_row": null,
            "max_height": null,
            "align_content": null,
            "visibility": null,
            "align_self": null,
            "height": null,
            "min_height": null,
            "padding": null,
            "grid_auto_rows": null,
            "grid_gap": null,
            "max_width": null,
            "order": null,
            "_view_module_version": "1.2.0",
            "grid_template_areas": null,
            "object_position": null,
            "object_fit": null,
            "grid_auto_columns": null,
            "margin": null,
            "display": null,
            "left": null
          }
        },
        "4542cfe60c534acc8380192a27f2743c": {
          "model_module": "@jupyter-widgets/controls",
          "model_name": "FloatProgressModel",
          "state": {
            "_view_name": "ProgressView",
            "style": "IPY_MODEL_fd3f923fd8af42cf8b6d716e96416bfb",
            "_dom_classes": [],
            "description": "100%",
            "_model_name": "FloatProgressModel",
            "bar_style": "success",
            "max": 69,
            "_view_module": "@jupyter-widgets/controls",
            "_model_module_version": "1.5.0",
            "value": 69,
            "_view_count": null,
            "_view_module_version": "1.5.0",
            "orientation": "horizontal",
            "min": 0,
            "description_tooltip": null,
            "_model_module": "@jupyter-widgets/controls",
            "layout": "IPY_MODEL_54cfc75ec1304eec8d845451040fbf6a"
          }
        },
        "c156ae731bed4390b432c2bc6349eb5e": {
          "model_module": "@jupyter-widgets/controls",
          "model_name": "HTMLModel",
          "state": {
            "_view_name": "HTMLView",
            "style": "IPY_MODEL_9df0eb9474fb43a1acf1471bf597151c",
            "_dom_classes": [],
            "description": "",
            "_model_name": "HTMLModel",
            "placeholder": "​",
            "_view_module": "@jupyter-widgets/controls",
            "_model_module_version": "1.5.0",
            "value": " 69/69 [00:56&lt;00:00,  1.22it/s]",
            "_view_count": null,
            "_view_module_version": "1.5.0",
            "description_tooltip": null,
            "_model_module": "@jupyter-widgets/controls",
            "layout": "IPY_MODEL_70940c313c9f4af3a796c38080b06070"
          }
        },
        "fd3f923fd8af42cf8b6d716e96416bfb": {
          "model_module": "@jupyter-widgets/controls",
          "model_name": "ProgressStyleModel",
          "state": {
            "_view_name": "StyleView",
            "_model_name": "ProgressStyleModel",
            "description_width": "initial",
            "_view_module": "@jupyter-widgets/base",
            "_model_module_version": "1.5.0",
            "_view_count": null,
            "_view_module_version": "1.2.0",
            "bar_color": null,
            "_model_module": "@jupyter-widgets/controls"
          }
        },
        "54cfc75ec1304eec8d845451040fbf6a": {
          "model_module": "@jupyter-widgets/base",
          "model_name": "LayoutModel",
          "state": {
            "_view_name": "LayoutView",
            "grid_template_rows": null,
            "right": null,
            "justify_content": null,
            "_view_module": "@jupyter-widgets/base",
            "overflow": null,
            "_model_module_version": "1.2.0",
            "_view_count": null,
            "flex_flow": null,
            "width": null,
            "min_width": null,
            "border": null,
            "align_items": null,
            "bottom": null,
            "_model_module": "@jupyter-widgets/base",
            "top": null,
            "grid_column": null,
            "overflow_y": null,
            "overflow_x": null,
            "grid_auto_flow": null,
            "grid_area": null,
            "grid_template_columns": null,
            "flex": null,
            "_model_name": "LayoutModel",
            "justify_items": null,
            "grid_row": null,
            "max_height": null,
            "align_content": null,
            "visibility": null,
            "align_self": null,
            "height": null,
            "min_height": null,
            "padding": null,
            "grid_auto_rows": null,
            "grid_gap": null,
            "max_width": null,
            "order": null,
            "_view_module_version": "1.2.0",
            "grid_template_areas": null,
            "object_position": null,
            "object_fit": null,
            "grid_auto_columns": null,
            "margin": null,
            "display": null,
            "left": null
          }
        },
        "9df0eb9474fb43a1acf1471bf597151c": {
          "model_module": "@jupyter-widgets/controls",
          "model_name": "DescriptionStyleModel",
          "state": {
            "_view_name": "StyleView",
            "_model_name": "DescriptionStyleModel",
            "description_width": "",
            "_view_module": "@jupyter-widgets/base",
            "_model_module_version": "1.5.0",
            "_view_count": null,
            "_view_module_version": "1.2.0",
            "_model_module": "@jupyter-widgets/controls"
          }
        },
        "70940c313c9f4af3a796c38080b06070": {
          "model_module": "@jupyter-widgets/base",
          "model_name": "LayoutModel",
          "state": {
            "_view_name": "LayoutView",
            "grid_template_rows": null,
            "right": null,
            "justify_content": null,
            "_view_module": "@jupyter-widgets/base",
            "overflow": null,
            "_model_module_version": "1.2.0",
            "_view_count": null,
            "flex_flow": null,
            "width": null,
            "min_width": null,
            "border": null,
            "align_items": null,
            "bottom": null,
            "_model_module": "@jupyter-widgets/base",
            "top": null,
            "grid_column": null,
            "overflow_y": null,
            "overflow_x": null,
            "grid_auto_flow": null,
            "grid_area": null,
            "grid_template_columns": null,
            "flex": null,
            "_model_name": "LayoutModel",
            "justify_items": null,
            "grid_row": null,
            "max_height": null,
            "align_content": null,
            "visibility": null,
            "align_self": null,
            "height": null,
            "min_height": null,
            "padding": null,
            "grid_auto_rows": null,
            "grid_gap": null,
            "max_width": null,
            "order": null,
            "_view_module_version": "1.2.0",
            "grid_template_areas": null,
            "object_position": null,
            "object_fit": null,
            "grid_auto_columns": null,
            "margin": null,
            "display": null,
            "left": null
          }
        },
        "8e0656e860964b56bf3023c700f91914": {
          "model_module": "@jupyter-widgets/controls",
          "model_name": "HBoxModel",
          "state": {
            "_view_name": "HBoxView",
            "_dom_classes": [],
            "_model_name": "HBoxModel",
            "_view_module": "@jupyter-widgets/controls",
            "_model_module_version": "1.5.0",
            "_view_count": null,
            "_view_module_version": "1.5.0",
            "box_style": "",
            "layout": "IPY_MODEL_369b52c4fad6406dbb5e76d531c422f8",
            "_model_module": "@jupyter-widgets/controls",
            "children": [
              "IPY_MODEL_3decafaedbd9422195d200aaade8fcea",
              "IPY_MODEL_be614dbcef894523ab2b8ee9c10e0a35"
            ]
          }
        },
        "369b52c4fad6406dbb5e76d531c422f8": {
          "model_module": "@jupyter-widgets/base",
          "model_name": "LayoutModel",
          "state": {
            "_view_name": "LayoutView",
            "grid_template_rows": null,
            "right": null,
            "justify_content": null,
            "_view_module": "@jupyter-widgets/base",
            "overflow": null,
            "_model_module_version": "1.2.0",
            "_view_count": null,
            "flex_flow": null,
            "width": null,
            "min_width": null,
            "border": null,
            "align_items": null,
            "bottom": null,
            "_model_module": "@jupyter-widgets/base",
            "top": null,
            "grid_column": null,
            "overflow_y": null,
            "overflow_x": null,
            "grid_auto_flow": null,
            "grid_area": null,
            "grid_template_columns": null,
            "flex": null,
            "_model_name": "LayoutModel",
            "justify_items": null,
            "grid_row": null,
            "max_height": null,
            "align_content": null,
            "visibility": null,
            "align_self": null,
            "height": null,
            "min_height": null,
            "padding": null,
            "grid_auto_rows": null,
            "grid_gap": null,
            "max_width": null,
            "order": null,
            "_view_module_version": "1.2.0",
            "grid_template_areas": null,
            "object_position": null,
            "object_fit": null,
            "grid_auto_columns": null,
            "margin": null,
            "display": null,
            "left": null
          }
        },
        "3decafaedbd9422195d200aaade8fcea": {
          "model_module": "@jupyter-widgets/controls",
          "model_name": "FloatProgressModel",
          "state": {
            "_view_name": "ProgressView",
            "style": "IPY_MODEL_592066e7678740438292921a7da1ee8e",
            "_dom_classes": [],
            "description": "100%",
            "_model_name": "FloatProgressModel",
            "bar_style": "success",
            "max": 69,
            "_view_module": "@jupyter-widgets/controls",
            "_model_module_version": "1.5.0",
            "value": 69,
            "_view_count": null,
            "_view_module_version": "1.5.0",
            "orientation": "horizontal",
            "min": 0,
            "description_tooltip": null,
            "_model_module": "@jupyter-widgets/controls",
            "layout": "IPY_MODEL_8ae2f1fe195b489487eb9547f2676d77"
          }
        },
        "be614dbcef894523ab2b8ee9c10e0a35": {
          "model_module": "@jupyter-widgets/controls",
          "model_name": "HTMLModel",
          "state": {
            "_view_name": "HTMLView",
            "style": "IPY_MODEL_92bebd8cce074c7a94876b56417dd1e5",
            "_dom_classes": [],
            "description": "",
            "_model_name": "HTMLModel",
            "placeholder": "​",
            "_view_module": "@jupyter-widgets/controls",
            "_model_module_version": "1.5.0",
            "value": " 69/69 [00:49&lt;00:00,  1.38it/s]",
            "_view_count": null,
            "_view_module_version": "1.5.0",
            "description_tooltip": null,
            "_model_module": "@jupyter-widgets/controls",
            "layout": "IPY_MODEL_5d2862175f8e4c9681152130f403aee5"
          }
        },
        "592066e7678740438292921a7da1ee8e": {
          "model_module": "@jupyter-widgets/controls",
          "model_name": "ProgressStyleModel",
          "state": {
            "_view_name": "StyleView",
            "_model_name": "ProgressStyleModel",
            "description_width": "initial",
            "_view_module": "@jupyter-widgets/base",
            "_model_module_version": "1.5.0",
            "_view_count": null,
            "_view_module_version": "1.2.0",
            "bar_color": null,
            "_model_module": "@jupyter-widgets/controls"
          }
        },
        "8ae2f1fe195b489487eb9547f2676d77": {
          "model_module": "@jupyter-widgets/base",
          "model_name": "LayoutModel",
          "state": {
            "_view_name": "LayoutView",
            "grid_template_rows": null,
            "right": null,
            "justify_content": null,
            "_view_module": "@jupyter-widgets/base",
            "overflow": null,
            "_model_module_version": "1.2.0",
            "_view_count": null,
            "flex_flow": null,
            "width": null,
            "min_width": null,
            "border": null,
            "align_items": null,
            "bottom": null,
            "_model_module": "@jupyter-widgets/base",
            "top": null,
            "grid_column": null,
            "overflow_y": null,
            "overflow_x": null,
            "grid_auto_flow": null,
            "grid_area": null,
            "grid_template_columns": null,
            "flex": null,
            "_model_name": "LayoutModel",
            "justify_items": null,
            "grid_row": null,
            "max_height": null,
            "align_content": null,
            "visibility": null,
            "align_self": null,
            "height": null,
            "min_height": null,
            "padding": null,
            "grid_auto_rows": null,
            "grid_gap": null,
            "max_width": null,
            "order": null,
            "_view_module_version": "1.2.0",
            "grid_template_areas": null,
            "object_position": null,
            "object_fit": null,
            "grid_auto_columns": null,
            "margin": null,
            "display": null,
            "left": null
          }
        },
        "92bebd8cce074c7a94876b56417dd1e5": {
          "model_module": "@jupyter-widgets/controls",
          "model_name": "DescriptionStyleModel",
          "state": {
            "_view_name": "StyleView",
            "_model_name": "DescriptionStyleModel",
            "description_width": "",
            "_view_module": "@jupyter-widgets/base",
            "_model_module_version": "1.5.0",
            "_view_count": null,
            "_view_module_version": "1.2.0",
            "_model_module": "@jupyter-widgets/controls"
          }
        },
        "5d2862175f8e4c9681152130f403aee5": {
          "model_module": "@jupyter-widgets/base",
          "model_name": "LayoutModel",
          "state": {
            "_view_name": "LayoutView",
            "grid_template_rows": null,
            "right": null,
            "justify_content": null,
            "_view_module": "@jupyter-widgets/base",
            "overflow": null,
            "_model_module_version": "1.2.0",
            "_view_count": null,
            "flex_flow": null,
            "width": null,
            "min_width": null,
            "border": null,
            "align_items": null,
            "bottom": null,
            "_model_module": "@jupyter-widgets/base",
            "top": null,
            "grid_column": null,
            "overflow_y": null,
            "overflow_x": null,
            "grid_auto_flow": null,
            "grid_area": null,
            "grid_template_columns": null,
            "flex": null,
            "_model_name": "LayoutModel",
            "justify_items": null,
            "grid_row": null,
            "max_height": null,
            "align_content": null,
            "visibility": null,
            "align_self": null,
            "height": null,
            "min_height": null,
            "padding": null,
            "grid_auto_rows": null,
            "grid_gap": null,
            "max_width": null,
            "order": null,
            "_view_module_version": "1.2.0",
            "grid_template_areas": null,
            "object_position": null,
            "object_fit": null,
            "grid_auto_columns": null,
            "margin": null,
            "display": null,
            "left": null
          }
        }
      }
    }
  },
  "cells": [
    {
      "cell_type": "markdown",
      "metadata": {
        "id": "view-in-github",
        "colab_type": "text"
      },
      "source": [
        "<a href=\"https://colab.research.google.com/github/Changyoon-Lee/big_contest/blob/master/%EB%89%B4%EC%8A%A4_%EA%B0%AF%EC%88%98_%ED%81%AC%EB%A1%A4%EB%A7%81.ipynb\" target=\"_parent\"><img src=\"https://colab.research.google.com/assets/colab-badge.svg\" alt=\"Open In Colab\"/></a>"
      ]
    },
    {
      "cell_type": "code",
      "metadata": {
        "id": "jDe0aoM6lv5a",
        "colab_type": "code",
        "colab": {}
      },
      "source": [
        "from bs4 import BeautifulSoup\n",
        "import pandas as pd\n",
        "from tqdm.notebook import tqdm\n",
        "import requests\n",
        "import re"
      ],
      "execution_count": null,
      "outputs": []
    },
    {
      "cell_type": "markdown",
      "metadata": {
        "id": "kqAWz7semRkd",
        "colab_type": "text"
      },
      "source": [
        "#특정 동 검색 시 네이버 뉴스기사 '제목' 동별 갯수 딕셔너리(기간-19년 2-5월, 20년 2-5월)\n",
        "\n"
      ]
    },
    {
      "cell_type": "code",
      "metadata": {
        "id": "I9O9J5aNoqyn",
        "colab_type": "code",
        "colab": {}
      },
      "source": [
        "#SKT 데이터 기준 유동인구 데이터가 존재하는 동 리스트\n",
        "dongs=['소공동', '회현동', '명동', '필동', '장충동', '광희동', '을지로동', '신당동', '다산동', '약수동', '청구동', '신당5동', '동화동', '황학동', '중림동', '월계1동', '월계2동', '월계3동', '공릉1동', '공릉2동', '하계1동', '하계2동', '중계본동', '중계1동', '중계4동', '중계2.3동', '상계1동', '상계2동', '상계3.4동', '상계5동', '상계6.7동', '상계8동', '상계9동', '상계10동', '동인동', '삼덕동', '성내1동', '성내2동', '성내3동', '대신동', '남산1동', '남산2동', '남산3동', '남산4동', '대봉1동', '대봉2동', '범어1동', '범어2동', '범어3동', '범어4동', '만촌1동', '만촌2동', '만촌3동', '수성1가동', '수성2.3가동', '수성4가동', '황금1동', '황금2동', '대구 중동', '상동', '대구 파동', '두산동', '지산1동', '지산2동', '범물1동', '범물2동', '고산1동', '고산2동', '고산3동']"
      ],
      "execution_count": null,
      "outputs": []
    },
    {
      "cell_type": "code",
      "metadata": {
        "id": "MOsKjHU0mEhl",
        "colab_type": "code",
        "colab": {
          "base_uri": "https://localhost:8080/",
          "height": 66,
          "referenced_widgets": [
            "3d37230dcc4d4dcf9984c3ff61c063f8",
            "96c598d60307408cbf5853b9cc272c29",
            "4542cfe60c534acc8380192a27f2743c",
            "c156ae731bed4390b432c2bc6349eb5e",
            "fd3f923fd8af42cf8b6d716e96416bfb",
            "54cfc75ec1304eec8d845451040fbf6a",
            "9df0eb9474fb43a1acf1471bf597151c",
            "70940c313c9f4af3a796c38080b06070"
          ]
        },
        "outputId": "c063130e-a69f-495e-889b-60b0027d7048"
      },
      "source": [
        "#2019년 딕셔너리\n",
        "dong_dic_2019 = {}\n",
        "for dong in tqdm(dongs):\n",
        "\n",
        "  url = 'https://search.naver.com/search.naver'\n",
        "  query = {\n",
        "      \n",
        "      'where' : 'news',\n",
        "      'query': '{}'.format(dong),\n",
        "      'sm' : 'tab_opt',\n",
        "      # 'sort' : '0',\n",
        "      # 'photo' : '0',\n",
        "      'field' : '1',\n",
        "      # 'reporter_article' : '',\n",
        "      'pd' : '3',\n",
        "      'ds' : '2019.02.01',\n",
        "      'de' : '2019.05.31',\n",
        "      # 'docid' : '',\n",
        "      'nso' : 'so%3Ar%2Cp%3Afrom20190201to20190531%2Ca%3At',\n",
        "      # 'mynews' : '0',\n",
        "      # 'refresh_start' : '0',\n",
        "      # 'related' : '0'\n",
        "  }\n",
        "\n",
        "  resp = requests.get(url, query)\n",
        "  soup = BeautifulSoup(resp.content, 'lxml')\n",
        "\n",
        "  number_tag = soup.select('div.section_head div span')\n",
        "  number = re.findall('\\/ (.+?)건', str(number_tag))\n",
        "  if len(number):\n",
        "    number = int(re.sub(',', '', number[0]))\n",
        "  else:\n",
        "    number = 0\n",
        "  \n",
        "  dong_dic_2019[dong] = number"
      ],
      "execution_count": null,
      "outputs": [
        {
          "output_type": "display_data",
          "data": {
            "application/vnd.jupyter.widget-view+json": {
              "model_id": "3d37230dcc4d4dcf9984c3ff61c063f8",
              "version_minor": 0,
              "version_major": 2
            },
            "text/plain": [
              "HBox(children=(FloatProgress(value=0.0, max=69.0), HTML(value='')))"
            ]
          },
          "metadata": {
            "tags": []
          }
        },
        {
          "output_type": "stream",
          "text": [
            "\n"
          ],
          "name": "stdout"
        }
      ]
    },
    {
      "cell_type": "code",
      "metadata": {
        "id": "cYJ_DSnQtKmk",
        "colab_type": "code",
        "colab": {
          "base_uri": "https://localhost:8080/",
          "height": 1000
        },
        "outputId": "f28f138b-23f0-4bf7-9676-2c0fbb531bfa"
      },
      "source": [
        "dong_dic_2019"
      ],
      "execution_count": null,
      "outputs": [
        {
          "output_type": "execute_result",
          "data": {
            "text/plain": [
              "{'고산1동': 10,\n",
              " '고산2동': 10,\n",
              " '고산3동': 4,\n",
              " '공릉1동': 1,\n",
              " '공릉2동': 8,\n",
              " '광희동': 2,\n",
              " '남산1동': 1,\n",
              " '남산2동': 0,\n",
              " '남산3동': 0,\n",
              " '남산4동': 1,\n",
              " '다산동': 49,\n",
              " '대구 중동': 10,\n",
              " '대구 파동': 7,\n",
              " '대봉1동': 0,\n",
              " '대봉2동': 0,\n",
              " '대신동': 37,\n",
              " '동인동': 6,\n",
              " '동화동': 3,\n",
              " '두산동': 10,\n",
              " '만촌1동': 12,\n",
              " '만촌2동': 0,\n",
              " '만촌3동': 5,\n",
              " '명동': 1079,\n",
              " '범물1동': 9,\n",
              " '범물2동': 1,\n",
              " '범어1동': 7,\n",
              " '범어2동': 8,\n",
              " '범어3동': 10,\n",
              " '범어4동': 9,\n",
              " '삼덕동': 3,\n",
              " '상계10동': 3,\n",
              " '상계1동': 2,\n",
              " '상계2동': 0,\n",
              " '상계3.4동': 3,\n",
              " '상계5동': 1,\n",
              " '상계6.7동': 0,\n",
              " '상계8동': 1,\n",
              " '상계9동': 0,\n",
              " '상동': 178,\n",
              " '성내1동': 1,\n",
              " '성내2동': 0,\n",
              " '성내3동': 0,\n",
              " '소공동': 19,\n",
              " '수성1가동': 3,\n",
              " '수성2.3가동': 0,\n",
              " '수성4가동': 10,\n",
              " '신당5동': 1,\n",
              " '신당동': 23,\n",
              " '약수동': 0,\n",
              " '월계1동': 5,\n",
              " '월계2동': 0,\n",
              " '월계3동': 0,\n",
              " '을지로동': 0,\n",
              " '장충동': 10,\n",
              " '중계1동': 1,\n",
              " '중계2.3동': 3,\n",
              " '중계4동': 2,\n",
              " '중계본동': 10,\n",
              " '중림동': 3,\n",
              " '지산1동': 5,\n",
              " '지산2동': 8,\n",
              " '청구동': 0,\n",
              " '필동': 69,\n",
              " '하계1동': 1,\n",
              " '하계2동': 0,\n",
              " '황금1동': 10,\n",
              " '황금2동': 10,\n",
              " '황학동': 26,\n",
              " '회현동': 19}"
            ]
          },
          "metadata": {
            "tags": []
          },
          "execution_count": 98
        }
      ]
    },
    {
      "cell_type": "code",
      "metadata": {
        "id": "aLH0U1CO1TX6",
        "colab_type": "code",
        "colab": {
          "base_uri": "https://localhost:8080/",
          "height": 391
        },
        "outputId": "c25c3527-1cb8-4570-991e-7f70ab40a5a1"
      },
      "source": [
        "dong_df_2019 = pd.DataFrame(dong_dic_2019, index=['기사 갯수']).T\n",
        "dong_df_2019.to_csv('dong_df_2019.csv')\n",
        "dong_df_2019"
      ],
      "execution_count": null,
      "outputs": [
        {
          "output_type": "execute_result",
          "data": {
            "text/html": [
              "<div>\n",
              "<style scoped>\n",
              "    .dataframe tbody tr th:only-of-type {\n",
              "        vertical-align: middle;\n",
              "    }\n",
              "\n",
              "    .dataframe tbody tr th {\n",
              "        vertical-align: top;\n",
              "    }\n",
              "\n",
              "    .dataframe thead th {\n",
              "        text-align: right;\n",
              "    }\n",
              "</style>\n",
              "<table border=\"1\" class=\"dataframe\">\n",
              "  <thead>\n",
              "    <tr style=\"text-align: right;\">\n",
              "      <th></th>\n",
              "      <th>기사 갯수</th>\n",
              "    </tr>\n",
              "  </thead>\n",
              "  <tbody>\n",
              "    <tr>\n",
              "      <th>소공동</th>\n",
              "      <td>19</td>\n",
              "    </tr>\n",
              "    <tr>\n",
              "      <th>회현동</th>\n",
              "      <td>19</td>\n",
              "    </tr>\n",
              "    <tr>\n",
              "      <th>명동</th>\n",
              "      <td>1079</td>\n",
              "    </tr>\n",
              "    <tr>\n",
              "      <th>필동</th>\n",
              "      <td>69</td>\n",
              "    </tr>\n",
              "    <tr>\n",
              "      <th>장충동</th>\n",
              "      <td>10</td>\n",
              "    </tr>\n",
              "    <tr>\n",
              "      <th>...</th>\n",
              "      <td>...</td>\n",
              "    </tr>\n",
              "    <tr>\n",
              "      <th>범물1동</th>\n",
              "      <td>9</td>\n",
              "    </tr>\n",
              "    <tr>\n",
              "      <th>범물2동</th>\n",
              "      <td>1</td>\n",
              "    </tr>\n",
              "    <tr>\n",
              "      <th>고산1동</th>\n",
              "      <td>10</td>\n",
              "    </tr>\n",
              "    <tr>\n",
              "      <th>고산2동</th>\n",
              "      <td>10</td>\n",
              "    </tr>\n",
              "    <tr>\n",
              "      <th>고산3동</th>\n",
              "      <td>4</td>\n",
              "    </tr>\n",
              "  </tbody>\n",
              "</table>\n",
              "<p>69 rows × 1 columns</p>\n",
              "</div>"
            ],
            "text/plain": [
              "      기사 갯수\n",
              "소공동      19\n",
              "회현동      19\n",
              "명동     1079\n",
              "필동       69\n",
              "장충동      10\n",
              "...     ...\n",
              "범물1동      9\n",
              "범물2동      1\n",
              "고산1동     10\n",
              "고산2동     10\n",
              "고산3동      4\n",
              "\n",
              "[69 rows x 1 columns]"
            ]
          },
          "metadata": {
            "tags": []
          },
          "execution_count": 99
        }
      ]
    },
    {
      "cell_type": "code",
      "metadata": {
        "id": "z_wZWrzXo9ft",
        "colab_type": "code",
        "colab": {
          "base_uri": "https://localhost:8080/",
          "height": 66,
          "referenced_widgets": [
            "8e0656e860964b56bf3023c700f91914",
            "369b52c4fad6406dbb5e76d531c422f8",
            "3decafaedbd9422195d200aaade8fcea",
            "be614dbcef894523ab2b8ee9c10e0a35",
            "592066e7678740438292921a7da1ee8e",
            "8ae2f1fe195b489487eb9547f2676d77",
            "92bebd8cce074c7a94876b56417dd1e5",
            "5d2862175f8e4c9681152130f403aee5"
          ]
        },
        "outputId": "37efc690-12eb-4259-ebba-8a3da3ad3f6b"
      },
      "source": [
        "#2020년 동 딕셔너리\n",
        "dong_dic_2020 = {}\n",
        "for dong in tqdm(dongs):\n",
        "\n",
        "  url = 'https://search.naver.com/search.naver'\n",
        "  query = {\n",
        "      \n",
        "      'where' : 'news',\n",
        "      'query': '{}'.format(dong),\n",
        "      'sm' : 'tab_opt',\n",
        "      # 'sort' : '0',\n",
        "      # 'photo' : '0',\n",
        "      'field' : '1',\n",
        "      # 'reporter_article' : '',\n",
        "      'pd' : '3',\n",
        "      'ds' : '2020.02.01',\n",
        "      'de' : '2020.05.31',\n",
        "      # 'docid' : '',\n",
        "      'nso' : 'so%3Ar%2Cp%3Afrom20200201to20200531%2Ca%3At',\n",
        "      # 'mynews' : '0',\n",
        "      # 'refresh_start' : '0',\n",
        "      # 'related' : '0'\n",
        "  }\n",
        "  resp = requests.get(url, query)\n",
        "  soup = BeautifulSoup(resp.content, 'lxml')\n",
        "\n",
        "  number_tag = soup.select('div.section_head div span')\n",
        "  number = re.findall('\\/ (.+?)건', str(number_tag))\n",
        "  if len(number):\n",
        "    number = int(re.sub(',', '', number[0]))\n",
        "  else:\n",
        "    number = 0\n",
        "  \n",
        "  dong_dic_2020[dong] = number"
      ],
      "execution_count": null,
      "outputs": [
        {
          "output_type": "display_data",
          "data": {
            "application/vnd.jupyter.widget-view+json": {
              "model_id": "8e0656e860964b56bf3023c700f91914",
              "version_minor": 0,
              "version_major": 2
            },
            "text/plain": [
              "HBox(children=(FloatProgress(value=0.0, max=69.0), HTML(value='')))"
            ]
          },
          "metadata": {
            "tags": []
          }
        },
        {
          "output_type": "stream",
          "text": [
            "\n"
          ],
          "name": "stdout"
        }
      ]
    },
    {
      "cell_type": "code",
      "metadata": {
        "id": "N0OUXFRwo_KL",
        "colab_type": "code",
        "colab": {
          "base_uri": "https://localhost:8080/",
          "height": 1000
        },
        "outputId": "0247bddf-57fc-426b-9688-a3646633d915"
      },
      "source": [
        "dong_dic_2020"
      ],
      "execution_count": null,
      "outputs": [
        {
          "output_type": "execute_result",
          "data": {
            "text/plain": [
              "{'고산1동': 10,\n",
              " '고산2동': 10,\n",
              " '고산3동': 10,\n",
              " '공릉1동': 0,\n",
              " '공릉2동': 8,\n",
              " '광희동': 1,\n",
              " '남산1동': 0,\n",
              " '남산2동': 9,\n",
              " '남산3동': 5,\n",
              " '남산4동': 0,\n",
              " '다산동': 34,\n",
              " '대구 중동': 10,\n",
              " '대구 파동': 10,\n",
              " '대봉1동': 4,\n",
              " '대봉2동': 0,\n",
              " '대신동': 18,\n",
              " '동인동': 29,\n",
              " '동화동': 0,\n",
              " '두산동': 8,\n",
              " '만촌1동': 10,\n",
              " '만촌2동': 0,\n",
              " '만촌3동': 2,\n",
              " '명동': 2190,\n",
              " '범물1동': 10,\n",
              " '범물2동': 3,\n",
              " '범어1동': 9,\n",
              " '범어2동': 8,\n",
              " '범어3동': 4,\n",
              " '범어4동': 10,\n",
              " '삼덕동': 3,\n",
              " '상계10동': 0,\n",
              " '상계1동': 5,\n",
              " '상계2동': 6,\n",
              " '상계3.4동': 0,\n",
              " '상계5동': 0,\n",
              " '상계6.7동': 0,\n",
              " '상계8동': 0,\n",
              " '상계9동': 6,\n",
              " '상동': 214,\n",
              " '성내1동': 9,\n",
              " '성내2동': 4,\n",
              " '성내3동': 0,\n",
              " '소공동': 17,\n",
              " '수성1가동': 0,\n",
              " '수성2.3가동': 0,\n",
              " '수성4가동': 2,\n",
              " '신당5동': 8,\n",
              " '신당동': 30,\n",
              " '약수동': 10,\n",
              " '월계1동': 5,\n",
              " '월계2동': 5,\n",
              " '월계3동': 1,\n",
              " '을지로동': 0,\n",
              " '장충동': 16,\n",
              " '중계1동': 1,\n",
              " '중계2.3동': 8,\n",
              " '중계4동': 2,\n",
              " '중계본동': 9,\n",
              " '중림동': 10,\n",
              " '지산1동': 14,\n",
              " '지산2동': 15,\n",
              " '청구동': 2,\n",
              " '필동': 79,\n",
              " '하계1동': 4,\n",
              " '하계2동': 10,\n",
              " '황금1동': 5,\n",
              " '황금2동': 1,\n",
              " '황학동': 13,\n",
              " '회현동': 10}"
            ]
          },
          "metadata": {
            "tags": []
          },
          "execution_count": 101
        }
      ]
    },
    {
      "cell_type": "code",
      "metadata": {
        "id": "zNSjNXdvtQBq",
        "colab_type": "code",
        "colab": {
          "base_uri": "https://localhost:8080/",
          "height": 391
        },
        "outputId": "6157b5b2-c92f-4126-97bd-e26522df64b7"
      },
      "source": [
        "dong_df_2020 = pd.DataFrame(dong_dic_2020, index=['기사 갯수']).T\n",
        "dong_df_2020.to_csv('dong_df_2020.csv')\n",
        "dong_df_2020"
      ],
      "execution_count": null,
      "outputs": [
        {
          "output_type": "execute_result",
          "data": {
            "text/html": [
              "<div>\n",
              "<style scoped>\n",
              "    .dataframe tbody tr th:only-of-type {\n",
              "        vertical-align: middle;\n",
              "    }\n",
              "\n",
              "    .dataframe tbody tr th {\n",
              "        vertical-align: top;\n",
              "    }\n",
              "\n",
              "    .dataframe thead th {\n",
              "        text-align: right;\n",
              "    }\n",
              "</style>\n",
              "<table border=\"1\" class=\"dataframe\">\n",
              "  <thead>\n",
              "    <tr style=\"text-align: right;\">\n",
              "      <th></th>\n",
              "      <th>기사 갯수</th>\n",
              "    </tr>\n",
              "  </thead>\n",
              "  <tbody>\n",
              "    <tr>\n",
              "      <th>소공동</th>\n",
              "      <td>17</td>\n",
              "    </tr>\n",
              "    <tr>\n",
              "      <th>회현동</th>\n",
              "      <td>10</td>\n",
              "    </tr>\n",
              "    <tr>\n",
              "      <th>명동</th>\n",
              "      <td>2190</td>\n",
              "    </tr>\n",
              "    <tr>\n",
              "      <th>필동</th>\n",
              "      <td>79</td>\n",
              "    </tr>\n",
              "    <tr>\n",
              "      <th>장충동</th>\n",
              "      <td>16</td>\n",
              "    </tr>\n",
              "    <tr>\n",
              "      <th>...</th>\n",
              "      <td>...</td>\n",
              "    </tr>\n",
              "    <tr>\n",
              "      <th>범물1동</th>\n",
              "      <td>10</td>\n",
              "    </tr>\n",
              "    <tr>\n",
              "      <th>범물2동</th>\n",
              "      <td>3</td>\n",
              "    </tr>\n",
              "    <tr>\n",
              "      <th>고산1동</th>\n",
              "      <td>10</td>\n",
              "    </tr>\n",
              "    <tr>\n",
              "      <th>고산2동</th>\n",
              "      <td>10</td>\n",
              "    </tr>\n",
              "    <tr>\n",
              "      <th>고산3동</th>\n",
              "      <td>10</td>\n",
              "    </tr>\n",
              "  </tbody>\n",
              "</table>\n",
              "<p>69 rows × 1 columns</p>\n",
              "</div>"
            ],
            "text/plain": [
              "      기사 갯수\n",
              "소공동      17\n",
              "회현동      10\n",
              "명동     2190\n",
              "필동       79\n",
              "장충동      16\n",
              "...     ...\n",
              "범물1동     10\n",
              "범물2동      3\n",
              "고산1동     10\n",
              "고산2동     10\n",
              "고산3동     10\n",
              "\n",
              "[69 rows x 1 columns]"
            ]
          },
          "metadata": {
            "tags": []
          },
          "execution_count": 102
        }
      ]
    },
    {
      "cell_type": "code",
      "metadata": {
        "id": "o_J9SmHl2TAM",
        "colab_type": "code",
        "colab": {}
      },
      "source": [
        ""
      ],
      "execution_count": null,
      "outputs": []
    }
  ]
}
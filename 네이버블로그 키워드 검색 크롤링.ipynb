{
 "cells": [
  {
   "cell_type": "code",
   "execution_count": 2,
   "metadata": {},
   "outputs": [
    {
     "name": "stdout",
     "output_type": "stream",
     "text": [
      "('64bit', 'WindowsPE')\n"
     ]
    }
   ],
   "source": [
    "import platform\n",
    "print(platform.architecture())"
   ]
  },
  {
   "cell_type": "code",
   "execution_count": 2,
   "metadata": {},
   "outputs": [
    {
     "name": "stdout",
     "output_type": "stream",
     "text": [
      "Requirement already satisfied: selenium in c:\\users\\jejec\\anaconda3\\envs\\mulcam\\lib\\site-packages (3.141.0)\n",
      "Requirement already satisfied: urllib3 in c:\\users\\jejec\\anaconda3\\envs\\mulcam\\lib\\site-packages (from selenium) (1.25.8)\n"
     ]
    },
    {
     "name": "stderr",
     "output_type": "stream",
     "text": [
      "WARNING: You are using pip version 20.2.1; however, version 20.2.2 is available.\n",
      "You should consider upgrading via the 'c:\\users\\jejec\\anaconda3\\envs\\mulcam\\python.exe -m pip install --upgrade pip' command.\n"
     ]
    }
   ],
   "source": [
    "!pip install selenium"
   ]
  },
  {
   "cell_type": "code",
   "execution_count": 2,
   "metadata": {},
   "outputs": [],
   "source": [
    "import pandas as pd\n",
    "subway = pd.read_csv('서울 지하철역 좌표.csv')\n",
    "subway_list = list((set(subway['역명'])))"
   ]
  },
  {
   "cell_type": "code",
   "execution_count": 1,
   "metadata": {},
   "outputs": [],
   "source": [
    "import sys\n",
    "import os\n",
    "import pandas as pd\n",
    "import numpy as np\n",
    "\n",
    "from bs4 import BeautifulSoup\n",
    "from selenium import webdriver\n",
    "import time\n",
    "import tqdm\n",
    "from tqdm.notebook import tqdm\n",
    "\n",
    "import requests\n",
    "import re"
   ]
  },
  {
   "cell_type": "code",
   "execution_count": 3,
   "metadata": {},
   "outputs": [
    {
     "data": {
      "text/plain": [
       "244"
      ]
     },
     "execution_count": 3,
     "metadata": {},
     "output_type": "execute_result"
    }
   ],
   "source": [
    "len(subway_list)"
   ]
  },
  {
   "cell_type": "code",
   "execution_count": 4,
   "metadata": {},
   "outputs": [
    {
     "data": {
      "text/plain": [
       "'충무로'"
      ]
     },
     "execution_count": 4,
     "metadata": {},
     "output_type": "execute_result"
    }
   ],
   "source": [
    "subway_list[0]"
   ]
  },
  {
   "cell_type": "code",
   "execution_count": 23,
   "metadata": {},
   "outputs": [],
   "source": [
    "# query_txt = '\"{} 코로나\"'.format(subway_list[0])\n",
    "# start_date = '2020-02-01'\n",
    "# end_date = '2020-05-31'"
   ]
  },
  {
   "cell_type": "code",
   "execution_count": 5,
   "metadata": {},
   "outputs": [],
   "source": [
    "have_list = ['가락시장','강남','강동구청','거여','공덕','광명사거리','구로디지털단지','구산','구파발','금호','남성','내방','노원','논현','당산','대청','대치','도봉산','독립문','독바위','동대문','뚝섬유원지','마곡','마포','마포구청','망원','매봉','먹골','면목','명동','명일','몽촌토성(평화의문)','문래','문정','미아사거리','방배','방이','보라매','보문','복정','부천시청','사당','산성','삼각지','상계','상도','상동','상수','상왕십리','서울','서울역','서초','선릉','성수','송정','송파','수락산','수진','시청','신도림','신림','신풍','신흥','아현','안국','암사','압구정','약수','양평','여의나루','역삼','역촌','연신내','영등포구청','용마산','우장산','월드컵경기장(성산)','을지로3가','용암','이대','이수','일원','잠실새내','잠원','장지','종합운동장','중계','중곡','천왕','철산','청구','충무로','하계','학동','한강진','한양대','합정','혜화','홍대입구','홍제','화곡']"
   ]
  },
  {
   "cell_type": "code",
   "execution_count": 16,
   "metadata": {},
   "outputs": [
    {
     "data": {
      "text/plain": [
       "7"
      ]
     },
     "execution_count": 16,
     "metadata": {},
     "output_type": "execute_result"
    }
   ],
   "source": [
    "a_sub_b = [x for x in subway_list if x not in have_list]\n",
    "# a_sub_b.index('마천')\n",
    "len(a_sub_b)\n",
    "a_sub_b.index('이태원')"
   ]
  },
  {
   "cell_type": "code",
   "execution_count": 18,
   "metadata": {},
   "outputs": [
    {
     "data": {
      "text/plain": [
       "['당고개',\n",
       " '종로5가',\n",
       " '군자(능동)',\n",
       " '신길',\n",
       " '서울대입구(관악구청)',\n",
       " '신답',\n",
       " '왕십리(성동구청)',\n",
       " '이태원',\n",
       " '남구로',\n",
       " '대림(구로구청)',\n",
       " '광나루(장신대)',\n",
       " '을지로입구',\n",
       " '쌍문',\n",
       " '남한산성입구(성남법원?검찰청)',\n",
       " '영등포시장',\n",
       " '강남구청',\n",
       " '신용산',\n",
       " '한성대입구(삼선교)',\n",
       " '부평구청',\n",
       " '단대오거리',\n",
       " '양천구청',\n",
       " '답십리',\n",
       " '무악재',\n",
       " '숙대입구(갈월)',\n",
       " '장한평',\n",
       " '어린이대공원(세종대)',\n",
       " '지축',\n",
       " '광흥창(서강)',\n",
       " '봉천',\n",
       " '장암',\n",
       " '종로3가(탑골공원)',\n",
       " '길동',\n",
       " '회현(남대문시장)',\n",
       " '개롱',\n",
       " '상봉(시외버스터미널)',\n",
       " '부천종합운동장',\n",
       " '신사',\n",
       " '이촌(국립중앙박물관)',\n",
       " '마장',\n",
       " '둔촌동',\n",
       " '상일동',\n",
       " '버티고개',\n",
       " '청량리(서울시립대입구)',\n",
       " '온수(성공회대입구)',\n",
       " '김포공항',\n",
       " '신정네거리',\n",
       " '옥수',\n",
       " '개화산',\n",
       " '석촌',\n",
       " '경찰병원',\n",
       " '청담',\n",
       " '교대(법원·검찰청)',\n",
       " '석계',\n",
       " '천호(풍납토성)',\n",
       " '중화',\n",
       " '신금호',\n",
       " '장승배기',\n",
       " '굽은다리(강동구민회관앞)',\n",
       " '애오개',\n",
       " '디지털미디어시티',\n",
       " '녹번',\n",
       " '불광',\n",
       " '까치울',\n",
       " '목동',\n",
       " '강동',\n",
       " '상월곡(한국과학기술연구원)',\n",
       " '뚝섬',\n",
       " '남태령',\n",
       " '제기동',\n",
       " '방화',\n",
       " '숭실대입구(살피재)',\n",
       " '총신대입구(이수)',\n",
       " '강변(동서울터미널)',\n",
       " '굴포천',\n",
       " '서대문',\n",
       " '응암',\n",
       " '도림천',\n",
       " '잠실(송파구청)',\n",
       " '수서',\n",
       " '아차산(어린이대공원후문)',\n",
       " '건대입구',\n",
       " '경복궁(정부서울청사)',\n",
       " '여의도',\n",
       " '도곡',\n",
       " '동대입구',\n",
       " '양재(서초구청)',\n",
       " '신대방삼거리',\n",
       " '사가정',\n",
       " '낙성대',\n",
       " '남부터미널(예술의전당)',\n",
       " '삼성(무역센터)',\n",
       " '용두(동대문구청)',\n",
       " '춘의',\n",
       " '을지로4가',\n",
       " '수유(강북구청)',\n",
       " '새절(신사)',\n",
       " '봉화산(서울의료원)',\n",
       " '신당',\n",
       " '성신여대입구(돈암)',\n",
       " '동묘앞',\n",
       " '창동',\n",
       " '행당',\n",
       " '삼산체육관',\n",
       " '공릉(서울과학기술대)',\n",
       " '발산',\n",
       " '충정로(경기대입구)',\n",
       " '돌곶이',\n",
       " '미아(서울사이버대학)',\n",
       " '길음',\n",
       " '용답',\n",
       " '가산디지털단지',\n",
       " '고속터미널',\n",
       " '오목교(목동운동장앞)',\n",
       " '대흥(서강대앞)',\n",
       " '안암(고대병원앞)',\n",
       " '반포',\n",
       " '구의(광진구청)',\n",
       " '올림픽공원(한국체대)',\n",
       " '오금',\n",
       " '고려대(종암)',\n",
       " '증산(명지대앞)',\n",
       " '효창공원앞',\n",
       " '마천',\n",
       " '마들',\n",
       " '학여울',\n",
       " '신촌',\n",
       " '동대문역사문화공원',\n",
       " '까치산',\n",
       " '태릉입구',\n",
       " '신정(은행정)',\n",
       " '녹사평(용산구청)',\n",
       " '창신',\n",
       " '동작(현충원)',\n",
       " '고덕',\n",
       " '잠실나루',\n",
       " '광화문(세종문화회관)',\n",
       " '월곡(동덕여대)',\n",
       " '신대방',\n",
       " '신중동',\n",
       " '화랑대(서울여대입구)',\n",
       " '신설동',\n",
       " '종로3가',\n",
       " '종각',\n",
       " '모란']"
      ]
     },
     "execution_count": 18,
     "metadata": {},
     "output_type": "execute_result"
    }
   ],
   "source": [
    "a_sub_b"
   ]
  },
  {
   "cell_type": "code",
   "execution_count": 22,
   "metadata": {},
   "outputs": [
    {
     "data": {
      "application/vnd.jupyter.widget-view+json": {
       "model_id": "11fc30fd5bc34425933d20ba84e46f5f",
       "version_major": 2,
       "version_minor": 0
      },
      "text/plain": [
       "HBox(children=(FloatProgress(value=0.0, max=1.0), HTML(value='')))"
      ]
     },
     "metadata": {},
     "output_type": "display_data"
    },
    {
     "name": "stdout",
     "output_type": "stream",
     "text": [
      "\n",
      "url갯수:  1\n",
      "url갯수:  1\n",
      "e\n",
      "e\n",
      "e\n"
     ]
    },
    {
     "data": {
      "application/vnd.jupyter.widget-view+json": {
       "model_id": "a176dc723d3f4b1eb413a7459d8daf45",
       "version_major": 2,
       "version_minor": 0
      },
      "text/plain": [
       "HBox(children=(FloatProgress(value=0.0, max=1.0), HTML(value='')))"
      ]
     },
     "metadata": {},
     "output_type": "display_data"
    },
    {
     "name": "stdout",
     "output_type": "stream",
     "text": [
      "\n",
      "url갯수:  10\n",
      "url갯수:  10\n",
      "e\n",
      "e\n",
      "e\n"
     ]
    },
    {
     "data": {
      "application/vnd.jupyter.widget-view+json": {
       "model_id": "c7e43e963b5e409191d65f7ecf33cb4d",
       "version_major": 2,
       "version_minor": 0
      },
      "text/plain": [
       "HBox(children=(FloatProgress(value=0.0, max=1.0), HTML(value='')))"
      ]
     },
     "metadata": {},
     "output_type": "display_data"
    },
    {
     "name": "stdout",
     "output_type": "stream",
     "text": [
      "\n",
      "url갯수:  2\n",
      "url갯수:  2\n",
      "e\n",
      "e\n",
      "e\n"
     ]
    },
    {
     "data": {
      "application/vnd.jupyter.widget-view+json": {
       "model_id": "d19d1e31cc814559b99851b864a61a3c",
       "version_major": 2,
       "version_minor": 0
      },
      "text/plain": [
       "HBox(children=(FloatProgress(value=0.0, max=4.0), HTML(value='')))"
      ]
     },
     "metadata": {},
     "output_type": "display_data"
    },
    {
     "name": "stdout",
     "output_type": "stream",
     "text": [
      "\n",
      "url갯수:  35\n",
      "url갯수:  35\n",
      "e\n",
      "e\n"
     ]
    },
    {
     "data": {
      "application/vnd.jupyter.widget-view+json": {
       "model_id": "863ec2b8b6b34d5e9afdfd066d37d12c",
       "version_major": 2,
       "version_minor": 0
      },
      "text/plain": [
       "HBox(children=(FloatProgress(value=0.0, max=2.0), HTML(value='')))"
      ]
     },
     "metadata": {},
     "output_type": "display_data"
    },
    {
     "name": "stdout",
     "output_type": "stream",
     "text": [
      "\n",
      "url갯수:  14\n",
      "url갯수:  14\n",
      "e\n"
     ]
    },
    {
     "data": {
      "application/vnd.jupyter.widget-view+json": {
       "model_id": "73ffbe863f9741eabcd72e2ba5d35eeb",
       "version_major": 2,
       "version_minor": 0
      },
      "text/plain": [
       "HBox(children=(FloatProgress(value=0.0, max=3.0), HTML(value='')))"
      ]
     },
     "metadata": {},
     "output_type": "display_data"
    },
    {
     "name": "stdout",
     "output_type": "stream",
     "text": [
      "\n",
      "url갯수:  30\n",
      "url갯수:  30\n"
     ]
    },
    {
     "data": {
      "application/vnd.jupyter.widget-view+json": {
       "model_id": "e7bf55f5f7f640fe880df437c8db6f85",
       "version_major": 2,
       "version_minor": 0
      },
      "text/plain": [
       "HBox(children=(FloatProgress(value=0.0, max=1.0), HTML(value='')))"
      ]
     },
     "metadata": {},
     "output_type": "display_data"
    },
    {
     "name": "stdout",
     "output_type": "stream",
     "text": [
      "\n",
      "url갯수:  4\n",
      "url갯수:  4\n",
      "e\n",
      "e\n"
     ]
    },
    {
     "data": {
      "application/vnd.jupyter.widget-view+json": {
       "model_id": "56b1473913f247e3ad8a3c445ac55bbe",
       "version_major": 2,
       "version_minor": 0
      },
      "text/plain": [
       "HBox(children=(FloatProgress(value=0.0, max=1.0), HTML(value='')))"
      ]
     },
     "metadata": {},
     "output_type": "display_data"
    },
    {
     "name": "stdout",
     "output_type": "stream",
     "text": [
      "\n",
      "url갯수:  5\n",
      "url갯수:  5\n",
      "e\n",
      "e\n",
      "e\n"
     ]
    },
    {
     "data": {
      "application/vnd.jupyter.widget-view+json": {
       "model_id": "8f05849764734b6f90b7604eb3519f7d",
       "version_major": 2,
       "version_minor": 0
      },
      "text/plain": [
       "HBox(children=(FloatProgress(value=0.0, max=1.0), HTML(value='')))"
      ]
     },
     "metadata": {},
     "output_type": "display_data"
    },
    {
     "name": "stdout",
     "output_type": "stream",
     "text": [
      "\n",
      "url갯수:  3\n",
      "url갯수:  3\n",
      "e\n",
      "e\n"
     ]
    },
    {
     "data": {
      "application/vnd.jupyter.widget-view+json": {
       "model_id": "e5de65c711a24a7b8395390c34cf9b09",
       "version_major": 2,
       "version_minor": 0
      },
      "text/plain": [
       "HBox(children=(FloatProgress(value=0.0, max=1.0), HTML(value='')))"
      ]
     },
     "metadata": {},
     "output_type": "display_data"
    },
    {
     "name": "stdout",
     "output_type": "stream",
     "text": [
      "\n",
      "url갯수:  4\n",
      "url갯수:  4\n",
      "e\n",
      "e\n",
      "e\n",
      "e\n"
     ]
    },
    {
     "data": {
      "application/vnd.jupyter.widget-view+json": {
       "model_id": "f13f957340164d068931c1ec143bc155",
       "version_major": 2,
       "version_minor": 0
      },
      "text/plain": [
       "HBox(children=(FloatProgress(value=0.0, max=2.0), HTML(value='')))"
      ]
     },
     "metadata": {},
     "output_type": "display_data"
    },
    {
     "name": "stdout",
     "output_type": "stream",
     "text": [
      "\n",
      "url갯수:  20\n",
      "url갯수:  20\n",
      "e\n"
     ]
    },
    {
     "data": {
      "application/vnd.jupyter.widget-view+json": {
       "model_id": "c947f9390ed74e0ea26241a81e36c022",
       "version_major": 2,
       "version_minor": 0
      },
      "text/plain": [
       "HBox(children=(FloatProgress(value=0.0, max=1.0), HTML(value='')))"
      ]
     },
     "metadata": {},
     "output_type": "display_data"
    },
    {
     "name": "stdout",
     "output_type": "stream",
     "text": [
      "\n",
      "url갯수:  1\n",
      "url갯수:  1\n"
     ]
    },
    {
     "data": {
      "application/vnd.jupyter.widget-view+json": {
       "model_id": "9db65efa2f4d4742afdc6e7533b69eb3",
       "version_major": 2,
       "version_minor": 0
      },
      "text/plain": [
       "HBox(children=(FloatProgress(value=0.0, max=1.0), HTML(value='')))"
      ]
     },
     "metadata": {},
     "output_type": "display_data"
    },
    {
     "name": "stdout",
     "output_type": "stream",
     "text": [
      "\n",
      "url갯수:  1\n",
      "url갯수:  1\n"
     ]
    },
    {
     "data": {
      "application/vnd.jupyter.widget-view+json": {
       "model_id": "995b3ea60b824c6badb9d105c042d42d",
       "version_major": 2,
       "version_minor": 0
      },
      "text/plain": [
       "HBox(children=(FloatProgress(value=0.0, max=1.0), HTML(value='')))"
      ]
     },
     "metadata": {},
     "output_type": "display_data"
    },
    {
     "name": "stdout",
     "output_type": "stream",
     "text": [
      "\n",
      "url갯수:  4\n",
      "url갯수:  4\n",
      "e\n",
      "e\n",
      "e\n"
     ]
    },
    {
     "data": {
      "application/vnd.jupyter.widget-view+json": {
       "model_id": "ecdc751ad5f647cc8609ff4775fa49a2",
       "version_major": 2,
       "version_minor": 0
      },
      "text/plain": [
       "HBox(children=(FloatProgress(value=0.0, max=5.0), HTML(value='')))"
      ]
     },
     "metadata": {},
     "output_type": "display_data"
    },
    {
     "name": "stdout",
     "output_type": "stream",
     "text": [
      "\n",
      "url갯수:  49\n",
      "url갯수:  49\n",
      "e\n",
      "e\n"
     ]
    },
    {
     "data": {
      "application/vnd.jupyter.widget-view+json": {
       "model_id": "bea72a18fa9744e2a12bf5998553673d",
       "version_major": 2,
       "version_minor": 0
      },
      "text/plain": [
       "HBox(children=(FloatProgress(value=0.0, max=1.0), HTML(value='')))"
      ]
     },
     "metadata": {},
     "output_type": "display_data"
    },
    {
     "name": "stdout",
     "output_type": "stream",
     "text": [
      "\n",
      "url갯수:  1\n",
      "url갯수:  1\n",
      "e\n",
      "e\n"
     ]
    },
    {
     "data": {
      "application/vnd.jupyter.widget-view+json": {
       "model_id": "d385a10edb7347ac9fcd4beee7bebed9",
       "version_major": 2,
       "version_minor": 0
      },
      "text/plain": [
       "HBox(children=(FloatProgress(value=0.0, max=3.0), HTML(value='')))"
      ]
     },
     "metadata": {},
     "output_type": "display_data"
    },
    {
     "name": "stdout",
     "output_type": "stream",
     "text": [
      "\n",
      "url갯수:  21\n",
      "url갯수:  21\n",
      "e\n"
     ]
    },
    {
     "data": {
      "application/vnd.jupyter.widget-view+json": {
       "model_id": "20d2485001a245189dc8d1cfe9a09a9c",
       "version_major": 2,
       "version_minor": 0
      },
      "text/plain": [
       "HBox(children=(FloatProgress(value=0.0, max=1.0), HTML(value='')))"
      ]
     },
     "metadata": {},
     "output_type": "display_data"
    },
    {
     "name": "stdout",
     "output_type": "stream",
     "text": [
      "\n",
      "url갯수:  1\n",
      "url갯수:  1\n",
      "e\n",
      "e\n",
      "e\n"
     ]
    },
    {
     "data": {
      "application/vnd.jupyter.widget-view+json": {
       "model_id": "981e00146a5f4271a6794d83833e708b",
       "version_major": 2,
       "version_minor": 0
      },
      "text/plain": [
       "HBox(children=(FloatProgress(value=0.0, max=1.0), HTML(value='')))"
      ]
     },
     "metadata": {},
     "output_type": "display_data"
    },
    {
     "name": "stdout",
     "output_type": "stream",
     "text": [
      "\n",
      "url갯수:  1\n",
      "url갯수:  1\n",
      "e\n",
      "e\n",
      "e\n",
      "e\n",
      "e\n",
      "e\n"
     ]
    },
    {
     "data": {
      "application/vnd.jupyter.widget-view+json": {
       "model_id": "5385a900c8544741807a45d5a541dfcd",
       "version_major": 2,
       "version_minor": 0
      },
      "text/plain": [
       "HBox(children=(FloatProgress(value=0.0, max=6.0), HTML(value='')))"
      ]
     },
     "metadata": {},
     "output_type": "display_data"
    },
    {
     "name": "stdout",
     "output_type": "stream",
     "text": [
      "\n",
      "url갯수:  60\n",
      "url갯수:  60\n"
     ]
    },
    {
     "data": {
      "application/vnd.jupyter.widget-view+json": {
       "model_id": "0478fa444f774cfb805024ddc87da126",
       "version_major": 2,
       "version_minor": 0
      },
      "text/plain": [
       "HBox(children=(FloatProgress(value=0.0, max=1.0), HTML(value='')))"
      ]
     },
     "metadata": {},
     "output_type": "display_data"
    },
    {
     "name": "stdout",
     "output_type": "stream",
     "text": [
      "\n",
      "url갯수:  8\n",
      "url갯수:  8\n",
      "e\n"
     ]
    },
    {
     "data": {
      "application/vnd.jupyter.widget-view+json": {
       "model_id": "6bce010a34694f868f51c8fa28579fdf",
       "version_major": 2,
       "version_minor": 0
      },
      "text/plain": [
       "HBox(children=(FloatProgress(value=0.0, max=1.0), HTML(value='')))"
      ]
     },
     "metadata": {},
     "output_type": "display_data"
    },
    {
     "name": "stdout",
     "output_type": "stream",
     "text": [
      "\n",
      "url갯수:  1\n",
      "url갯수:  1\n",
      "e\n"
     ]
    },
    {
     "data": {
      "application/vnd.jupyter.widget-view+json": {
       "model_id": "349b435819954775be7db2f0b4904593",
       "version_major": 2,
       "version_minor": 0
      },
      "text/plain": [
       "HBox(children=(FloatProgress(value=0.0, max=1.0), HTML(value='')))"
      ]
     },
     "metadata": {},
     "output_type": "display_data"
    },
    {
     "name": "stdout",
     "output_type": "stream",
     "text": [
      "\n",
      "url갯수:  1\n",
      "url갯수:  1\n"
     ]
    },
    {
     "data": {
      "application/vnd.jupyter.widget-view+json": {
       "model_id": "b6cb4e235e394d08ac7ad6b20188c5bf",
       "version_major": 2,
       "version_minor": 0
      },
      "text/plain": [
       "HBox(children=(FloatProgress(value=0.0, max=1.0), HTML(value='')))"
      ]
     },
     "metadata": {},
     "output_type": "display_data"
    },
    {
     "name": "stdout",
     "output_type": "stream",
     "text": [
      "\n",
      "url갯수:  2\n",
      "url갯수:  2\n",
      "e\n",
      "e\n",
      "e\n",
      "e\n"
     ]
    },
    {
     "data": {
      "application/vnd.jupyter.widget-view+json": {
       "model_id": "b2802a8c5efa413a9fbb69768f63fd14",
       "version_major": 2,
       "version_minor": 0
      },
      "text/plain": [
       "HBox(children=(FloatProgress(value=0.0, max=3.0), HTML(value='')))"
      ]
     },
     "metadata": {},
     "output_type": "display_data"
    },
    {
     "name": "stdout",
     "output_type": "stream",
     "text": [
      "\n",
      "url갯수:  30\n",
      "url갯수:  30\n"
     ]
    },
    {
     "data": {
      "application/vnd.jupyter.widget-view+json": {
       "model_id": "a7fcf5bb929f4a15b1cd0b43f3261d74",
       "version_major": 2,
       "version_minor": 0
      },
      "text/plain": [
       "HBox(children=(FloatProgress(value=0.0, max=1.0), HTML(value='')))"
      ]
     },
     "metadata": {},
     "output_type": "display_data"
    },
    {
     "name": "stdout",
     "output_type": "stream",
     "text": [
      "\n",
      "url갯수:  2\n",
      "url갯수:  2\n"
     ]
    },
    {
     "data": {
      "application/vnd.jupyter.widget-view+json": {
       "model_id": "c8c6943a885c42f7bef737f84ee6c4d0",
       "version_major": 2,
       "version_minor": 0
      },
      "text/plain": [
       "HBox(children=(FloatProgress(value=0.0, max=1.0), HTML(value='')))"
      ]
     },
     "metadata": {},
     "output_type": "display_data"
    },
    {
     "name": "stdout",
     "output_type": "stream",
     "text": [
      "\n",
      "url갯수:  2\n",
      "url갯수:  2\n",
      "e\n"
     ]
    },
    {
     "data": {
      "application/vnd.jupyter.widget-view+json": {
       "model_id": "19c9f15af9664b7992f57b8e2ca9a032",
       "version_major": 2,
       "version_minor": 0
      },
      "text/plain": [
       "HBox(children=(FloatProgress(value=0.0, max=1.0), HTML(value='')))"
      ]
     },
     "metadata": {},
     "output_type": "display_data"
    },
    {
     "name": "stdout",
     "output_type": "stream",
     "text": [
      "\n",
      "url갯수:  3\n",
      "url갯수:  3\n",
      "e\n"
     ]
    },
    {
     "data": {
      "application/vnd.jupyter.widget-view+json": {
       "model_id": "18f5242f2c5e4e3e883fdac91f5bd916",
       "version_major": 2,
       "version_minor": 0
      },
      "text/plain": [
       "HBox(children=(FloatProgress(value=0.0, max=1.0), HTML(value='')))"
      ]
     },
     "metadata": {},
     "output_type": "display_data"
    },
    {
     "name": "stdout",
     "output_type": "stream",
     "text": [
      "\n",
      "url갯수:  2\n",
      "url갯수:  2\n",
      "e\n"
     ]
    },
    {
     "data": {
      "application/vnd.jupyter.widget-view+json": {
       "model_id": "31cdd5ae8265494d99077ba058cf6dfc",
       "version_major": 2,
       "version_minor": 0
      },
      "text/plain": [
       "HBox(children=(FloatProgress(value=0.0, max=7.0), HTML(value='')))"
      ]
     },
     "metadata": {},
     "output_type": "display_data"
    },
    {
     "name": "stdout",
     "output_type": "stream",
     "text": [
      "\n",
      "url갯수:  64\n",
      "url갯수:  64\n"
     ]
    },
    {
     "data": {
      "application/vnd.jupyter.widget-view+json": {
       "model_id": "4f8fd51746534f369d106623d65a489e",
       "version_major": 2,
       "version_minor": 0
      },
      "text/plain": [
       "HBox(children=(FloatProgress(value=0.0, max=1.0), HTML(value='')))"
      ]
     },
     "metadata": {},
     "output_type": "display_data"
    },
    {
     "name": "stdout",
     "output_type": "stream",
     "text": [
      "\n",
      "url갯수:  1\n",
      "url갯수:  1\n"
     ]
    },
    {
     "data": {
      "application/vnd.jupyter.widget-view+json": {
       "model_id": "fc1f06bbe0d848b1b5b04b17086da640",
       "version_major": 2,
       "version_minor": 0
      },
      "text/plain": [
       "HBox(children=(FloatProgress(value=0.0, max=45.0), HTML(value='')))"
      ]
     },
     "metadata": {},
     "output_type": "display_data"
    },
    {
     "name": "stdout",
     "output_type": "stream",
     "text": [
      "\n",
      "url갯수:  443\n",
      "url갯수:  443\n",
      "e\n"
     ]
    },
    {
     "data": {
      "application/vnd.jupyter.widget-view+json": {
       "model_id": "b688031d3e4c485d8cdd3eb563b2e484",
       "version_major": 2,
       "version_minor": 0
      },
      "text/plain": [
       "HBox(children=(FloatProgress(value=0.0, max=1.0), HTML(value='')))"
      ]
     },
     "metadata": {},
     "output_type": "display_data"
    },
    {
     "name": "stdout",
     "output_type": "stream",
     "text": [
      "\n",
      "url갯수:  3\n",
      "url갯수:  3\n",
      "e\n"
     ]
    },
    {
     "data": {
      "application/vnd.jupyter.widget-view+json": {
       "model_id": "19f5cd135e6b468ba2ca98f2b81e5aef",
       "version_major": 2,
       "version_minor": 0
      },
      "text/plain": [
       "HBox(children=(FloatProgress(value=0.0, max=1.0), HTML(value='')))"
      ]
     },
     "metadata": {},
     "output_type": "display_data"
    },
    {
     "name": "stdout",
     "output_type": "stream",
     "text": [
      "\n",
      "url갯수:  10\n",
      "url갯수:  10\n"
     ]
    },
    {
     "data": {
      "application/vnd.jupyter.widget-view+json": {
       "model_id": "a085d494afae4640968e26a32e186722",
       "version_major": 2,
       "version_minor": 0
      },
      "text/plain": [
       "HBox(children=(FloatProgress(value=0.0, max=1.0), HTML(value='')))"
      ]
     },
     "metadata": {},
     "output_type": "display_data"
    },
    {
     "name": "stdout",
     "output_type": "stream",
     "text": [
      "\n",
      "url갯수:  10\n",
      "url갯수:  10\n",
      "e\n",
      "e\n",
      "e\n"
     ]
    },
    {
     "data": {
      "application/vnd.jupyter.widget-view+json": {
       "model_id": "77c254872a944007a9e769f0747e2089",
       "version_major": 2,
       "version_minor": 0
      },
      "text/plain": [
       "HBox(children=(FloatProgress(value=0.0, max=1.0), HTML(value='')))"
      ]
     },
     "metadata": {},
     "output_type": "display_data"
    },
    {
     "name": "stdout",
     "output_type": "stream",
     "text": [
      "\n",
      "url갯수:  1\n",
      "url갯수:  1\n",
      "e\n",
      "e\n",
      "e\n"
     ]
    },
    {
     "data": {
      "application/vnd.jupyter.widget-view+json": {
       "model_id": "a6c124b234bc4416bd62c4b8a2154a72",
       "version_major": 2,
       "version_minor": 0
      },
      "text/plain": [
       "HBox(children=(FloatProgress(value=0.0, max=1.0), HTML(value='')))"
      ]
     },
     "metadata": {},
     "output_type": "display_data"
    },
    {
     "name": "stdout",
     "output_type": "stream",
     "text": [
      "\n",
      "url갯수:  7\n",
      "url갯수:  7\n",
      "e\n",
      "e\n"
     ]
    },
    {
     "data": {
      "application/vnd.jupyter.widget-view+json": {
       "model_id": "e92f2379fd5547eeb49f997b9482415e",
       "version_major": 2,
       "version_minor": 0
      },
      "text/plain": [
       "HBox(children=(FloatProgress(value=0.0, max=1.0), HTML(value='')))"
      ]
     },
     "metadata": {},
     "output_type": "display_data"
    },
    {
     "name": "stdout",
     "output_type": "stream",
     "text": [
      "\n",
      "url갯수:  3\n",
      "url갯수:  3\n",
      "e\n",
      "e\n",
      "e\n"
     ]
    },
    {
     "data": {
      "application/vnd.jupyter.widget-view+json": {
       "model_id": "b6e887d2f1634b6d9c580cfc48531586",
       "version_major": 2,
       "version_minor": 0
      },
      "text/plain": [
       "HBox(children=(FloatProgress(value=0.0, max=1.0), HTML(value='')))"
      ]
     },
     "metadata": {},
     "output_type": "display_data"
    },
    {
     "name": "stdout",
     "output_type": "stream",
     "text": [
      "\n",
      "url갯수:  1\n",
      "url갯수:  1\n",
      "e\n",
      "e\n",
      "e\n",
      "e\n",
      "e\n"
     ]
    },
    {
     "data": {
      "application/vnd.jupyter.widget-view+json": {
       "model_id": "420ec8ba376c454fac338c472b7a4603",
       "version_major": 2,
       "version_minor": 0
      },
      "text/plain": [
       "HBox(children=(FloatProgress(value=0.0, max=1.0), HTML(value='')))"
      ]
     },
     "metadata": {},
     "output_type": "display_data"
    },
    {
     "name": "stdout",
     "output_type": "stream",
     "text": [
      "\n",
      "url갯수:  4\n",
      "url갯수:  4\n"
     ]
    },
    {
     "data": {
      "application/vnd.jupyter.widget-view+json": {
       "model_id": "d6765136efe5473ab4be792d77ae4c7f",
       "version_major": 2,
       "version_minor": 0
      },
      "text/plain": [
       "HBox(children=(FloatProgress(value=0.0, max=1.0), HTML(value='')))"
      ]
     },
     "metadata": {},
     "output_type": "display_data"
    },
    {
     "name": "stdout",
     "output_type": "stream",
     "text": [
      "\n",
      "url갯수:  3\n",
      "url갯수:  3\n",
      "e\n",
      "e\n",
      "e\n"
     ]
    },
    {
     "data": {
      "application/vnd.jupyter.widget-view+json": {
       "model_id": "fa7d69ce9c4b494986f351f7763103e5",
       "version_major": 2,
       "version_minor": 0
      },
      "text/plain": [
       "HBox(children=(FloatProgress(value=0.0, max=2.0), HTML(value='')))"
      ]
     },
     "metadata": {},
     "output_type": "display_data"
    },
    {
     "name": "stdout",
     "output_type": "stream",
     "text": [
      "\n",
      "url갯수:  11\n",
      "url갯수:  11\n",
      "e\n",
      "e\n"
     ]
    },
    {
     "data": {
      "application/vnd.jupyter.widget-view+json": {
       "model_id": "e6c65f22737a4081be589414104807b9",
       "version_major": 2,
       "version_minor": 0
      },
      "text/plain": [
       "HBox(children=(FloatProgress(value=0.0, max=1.0), HTML(value='')))"
      ]
     },
     "metadata": {},
     "output_type": "display_data"
    },
    {
     "name": "stdout",
     "output_type": "stream",
     "text": [
      "\n",
      "url갯수:  1\n",
      "url갯수:  1\n",
      "e\n",
      "e\n",
      "e\n",
      "e\n",
      "e\n",
      "e\n"
     ]
    },
    {
     "data": {
      "application/vnd.jupyter.widget-view+json": {
       "model_id": "9db0d172cb574a958679fb35038f666c",
       "version_major": 2,
       "version_minor": 0
      },
      "text/plain": [
       "HBox(children=(FloatProgress(value=0.0, max=3.0), HTML(value='')))"
      ]
     },
     "metadata": {},
     "output_type": "display_data"
    },
    {
     "name": "stdout",
     "output_type": "stream",
     "text": [
      "\n",
      "url갯수:  26\n",
      "url갯수:  26\n",
      "e\n",
      "e\n",
      "e\n",
      "e\n",
      "e\n",
      "e\n",
      "e\n",
      "e\n"
     ]
    },
    {
     "data": {
      "application/vnd.jupyter.widget-view+json": {
       "model_id": "603e832a926b4168a009b9e7cf146f20",
       "version_major": 2,
       "version_minor": 0
      },
      "text/plain": [
       "HBox(children=(FloatProgress(value=0.0, max=1.0), HTML(value='')))"
      ]
     },
     "metadata": {},
     "output_type": "display_data"
    },
    {
     "name": "stdout",
     "output_type": "stream",
     "text": [
      "\n",
      "url갯수:  1\n",
      "url갯수:  1\n",
      "e\n",
      "e\n"
     ]
    },
    {
     "data": {
      "application/vnd.jupyter.widget-view+json": {
       "model_id": "da35631ef94042d7b12dd63bbb97e5d4",
       "version_major": 2,
       "version_minor": 0
      },
      "text/plain": [
       "HBox(children=(FloatProgress(value=0.0, max=1.0), HTML(value='')))"
      ]
     },
     "metadata": {},
     "output_type": "display_data"
    },
    {
     "name": "stdout",
     "output_type": "stream",
     "text": [
      "\n",
      "url갯수:  3\n",
      "url갯수:  3\n"
     ]
    },
    {
     "data": {
      "application/vnd.jupyter.widget-view+json": {
       "model_id": "f85f3bb5a028413c8afdf5f6b90c4d61",
       "version_major": 2,
       "version_minor": 0
      },
      "text/plain": [
       "HBox(children=(FloatProgress(value=0.0, max=1.0), HTML(value='')))"
      ]
     },
     "metadata": {},
     "output_type": "display_data"
    },
    {
     "name": "stdout",
     "output_type": "stream",
     "text": [
      "\n",
      "url갯수:  5\n",
      "url갯수:  5\n",
      "e\n"
     ]
    },
    {
     "data": {
      "application/vnd.jupyter.widget-view+json": {
       "model_id": "cdee4a813523433cb2e5b6d9db0ddd2e",
       "version_major": 2,
       "version_minor": 0
      },
      "text/plain": [
       "HBox(children=(FloatProgress(value=0.0, max=1.0), HTML(value='')))"
      ]
     },
     "metadata": {},
     "output_type": "display_data"
    },
    {
     "name": "stdout",
     "output_type": "stream",
     "text": [
      "\n",
      "url갯수:  2\n",
      "url갯수:  2\n",
      "e\n"
     ]
    },
    {
     "data": {
      "application/vnd.jupyter.widget-view+json": {
       "model_id": "f7b2a69241af4fa283850781752ba2bf",
       "version_major": 2,
       "version_minor": 0
      },
      "text/plain": [
       "HBox(children=(FloatProgress(value=0.0, max=7.0), HTML(value='')))"
      ]
     },
     "metadata": {},
     "output_type": "display_data"
    },
    {
     "name": "stdout",
     "output_type": "stream",
     "text": [
      "\n",
      "url갯수:  63\n",
      "url갯수:  63\n"
     ]
    },
    {
     "data": {
      "application/vnd.jupyter.widget-view+json": {
       "model_id": "c745bcb5677e418dac96e3f05aebcda6",
       "version_major": 2,
       "version_minor": 0
      },
      "text/plain": [
       "HBox(children=(FloatProgress(value=0.0, max=1.0), HTML(value='')))"
      ]
     },
     "metadata": {},
     "output_type": "display_data"
    },
    {
     "name": "stdout",
     "output_type": "stream",
     "text": [
      "\n",
      "url갯수:  5\n",
      "url갯수:  5\n"
     ]
    }
   ],
   "source": [
    "for i in range(3, len(a_sub_b)):\n",
    "        query_txt = '\"{} 코로나\"'.format(a_sub_b[i])\n",
    "        start_date = '2020-02-01'\n",
    "        end_date = '2020-05-31'\n",
    "\n",
    "        path = r\"C:\\Users\\jejec\\chromedriver_win32\\chromedriver.exe\"\n",
    "\n",
    "        driver = webdriver.Chrome(path)\n",
    "        driver.get('http://www.naver.com')\n",
    "        time.sleep(2)\n",
    "\n",
    "        #Step 2. 네이버 검색창에 \"검색어\" 검색\n",
    "        element = driver.find_element_by_id(\"query\")\n",
    "        element.send_keys(query_txt)\n",
    "        element.submit()\n",
    "\n",
    "        #Step 3. \"블로그\" 카테고리 선택\n",
    "        driver.find_element_by_link_text(\"블로그\").click( )\n",
    "\n",
    "        #Step 4. 오른쪽의 검색 옵션 버튼 클릭\n",
    "        driver.find_element_by_id(\"_search_option_btn\").click( )\n",
    "\n",
    "        #Step 5. 정렬 : \"관련도순\" \n",
    "        # 개발자 도구에서 정렬 버튼의 id 가 보이지 않습니다.\n",
    "        # 이럴 경우 쉽게 사용할 수 있는 방법이 바로 xpath 를 이용하는 방법입니다.\n",
    "        # xpath는 개발자 도구에서 해당 메뉴 부분을 마우스 오른쪽 버튼을 누르고 \n",
    "        # copy -> copy xpath 를 선택하면 됩니다\n",
    "        driver.find_element_by_xpath(\"\"\"//*[@id=\"snb\"]/div/ul/li[1]/a\"\"\").click( )  # 정렬 버튼의 xpath 클릭\n",
    "        driver.find_element_by_xpath(\"\"\"//*[@id=\"snb\"]/div/ul/li[1]/div/ul/li[1]/a\"\"\").click( ) # 관련도순 xpath\n",
    "\n",
    "        #Step 6. 날짜 입력\n",
    "        driver.find_element_by_xpath(\"\"\"//*[@id=\"snb\"]/div/ul/li[2]/a\"\"\").click()\n",
    "        time.sleep(2)\n",
    "\n",
    "        # 이 부분이 아주 중요합니다.\n",
    "        # 날짜 부분에 날짜를 입력할 때 입력 속도가 너무 빠를 경우 날짜가 입력이 되다가 \n",
    "        # 오타가 나오는 경우가 많습니다.\n",
    "        # 그래서 날짜를 입력할 때 for 반복문을 사용해서 1 글자씩 입력하도록 코딩했습니다.\n",
    "        # 시작 날짜 입력하기\n",
    "        s_date = driver.find_element_by_xpath(\"\"\"//*[@id=\"blog_input_period_begin\"]\"\"\")     \n",
    "        driver.find_element_by_xpath(\"\"\"//*[@id=\"blog_input_period_begin\"]\"\"\").click()\n",
    "        s_date.clear( )  # 날짜 입력 부분에 기존에 입력되어 있던 날짜를 제거합니다. \n",
    "        time.sleep(2)\n",
    "        \n",
    "        # 아래 코드가 날짜를 for 반복문으로 1 글자씩 입력하는 부분입니다.\n",
    "        for c in start_date:\n",
    "            s_date.send_keys(c)\n",
    "            time.sleep(0.1)\n",
    "\n",
    "        # 종료 날짜 입력하기\n",
    "        e_date = driver.find_element_by_xpath(\"\"\"//*[@id=\"blog_input_period_end\"]\"\"\")\n",
    "        driver.find_element_by_xpath(\"\"\"//*[@id=\"blog_input_period_end\"]\"\"\").click()\n",
    "        e_date.clear()\n",
    "        time.sleep(1)\n",
    "\n",
    "        for c in end_date:\n",
    "            e_date.send_keys(c)\n",
    "            time.sleep(0.1)\n",
    "\n",
    "        # Step7. 날짜 입력 \"적용하기\" 버튼을 클릭 합니다.  \n",
    "        driver.find_element_by_class_name(\"tx\").click()\n",
    "        time.sleep(3)\n",
    "\n",
    "        # # Step 8. 상세 검색버튼을 클릭 후 제외할 단어들을 설정합니다.\n",
    "        # ele2 = driver.find_element_by_id(\"inpop3\")\n",
    "        # ele2.send_keys(query_txt2)\n",
    "        # ele2.send_keys(',')\n",
    "        # ele2.send_keys(query_txt3)\n",
    "        # driver.find_element_by_css_selector(\".btn_ft.ty_green._search\").click( )\n",
    "\n",
    "        try:\n",
    "            # 날짜변경시 중간도 변경 필수!\n",
    "            url = \"https://search.naver.com/search.naver?date_from={0}&date_to={1}&dup_remove=1&nso=p%3Afrom20200201to20200531&query={2}&sm=tab_pge&srchby=all&st=sim&where=post&start=1\".format(start_date,end_date,query_txt)\n",
    "            resp = requests.get(url)\n",
    "            soup = BeautifulSoup(resp.content, 'lxml')\n",
    "            span_tag = soup.select('div.section_head span.title_num')\n",
    "            post_num = int(re.findall('[0-9]+', span_tag[0].text)[2])\n",
    "\n",
    "            url_list = []\n",
    "            title_list = []\n",
    "\n",
    "            # 몇개의 페이지를 크롤링할지 선택\n",
    "            total_page = my_round(post_num/10 + 0.4)\n",
    "            for p in tqdm(range(0, total_page)):\n",
    "                p = p*10 + 1\n",
    "                url = \"https://search.naver.com/search.naver?date_from={0}&date_to={1}&dup_remove=1&nso=p%3Afrom20200201to20200531&query={2}&sm=tab_pge&srchby=all&st=sim&where=post&start={3}\".format(start_date,end_date,query_txt,p)\n",
    "\n",
    "                driver.get(url)\n",
    "                time.sleep(0.5)\n",
    "\n",
    "                # URL 크롤링 시작\n",
    "                titles = \"a.sh_blog_title._sp_each_url._sp_each_title\"\n",
    "                article_raw = driver.find_elements_by_css_selector(titles)\n",
    "\n",
    "                # url 크롤링 시작    \n",
    "                for article in article_raw:\n",
    "                    url = article.get_attribute('href')   \n",
    "                    url_list.append(url)\n",
    "\n",
    "                # 제목 크롤링 시작    \n",
    "                for article in article_raw:\n",
    "                    title = article.get_attribute('title')   \n",
    "                    title_list.append(title)\n",
    "\n",
    "            print('url갯수: ', len(url_list))\n",
    "            print('url갯수: ', len(title_list))\n",
    "\n",
    "            df = pd.DataFrame({'url':url_list, 'title':title_list})\n",
    "\n",
    "            # 저장하기\n",
    "            df.to_excel(\"{}_url.xlsx\".format(a_sub_b[i]), index=False)\n",
    "        except:\n",
    "            driver.close()\n",
    "            time.sleep(0.5)\n",
    "            print('e')"
   ]
  },
  {
   "cell_type": "code",
   "execution_count": 69,
   "metadata": {},
   "outputs": [
    {
     "data": {
      "text/plain": [
       "65"
      ]
     },
     "execution_count": 69,
     "metadata": {},
     "output_type": "execute_result"
    }
   ],
   "source": [
    "# import requests\n",
    "# import re\n",
    "# from bs4 import BeautifulSoup\n",
    "# # 날짜변경시 중간도 변경 필수!\n",
    "# url = \"https://search.naver.com/search.naver?date_from={0}&date_to={1}&dup_remove=1&nso=p%3Afrom20200201to20200531&query={2}&sm=tab_pge&srchby=all&st=sim&where=post&start=1\".format(start_date,end_date,query_txt)\n",
    "# resp = requests.get(url)\n",
    "# soup = BeautifulSoup(resp.content, 'lxml')\n",
    "# span_tag = soup.select('div.section_head span.title_num')\n",
    "# post_num = int(re.findall('[0-9]+', span_tag[0].text)[2])\n",
    "# post_num"
   ]
  },
  {
   "cell_type": "code",
   "execution_count": 21,
   "metadata": {},
   "outputs": [],
   "source": [
    "# 홀짝 모두 반올림 되도록 하는 함수\n",
    "from decimal import Decimal, ROUND_HALF_UP, ROUND_HALF_EVEN\n",
    "def my_round(in_number, ndigits=0, rounding_rule=1):\n",
    "    \"\"\"rounding_rule==1: ROUND_HALF_UP, Round to nearest, ties away from zero\n",
    "       rounding_rule==2: ROUND_HALF_EVEN, Round to nearest, ties to even \"\"\"\n",
    "    # make float expression\n",
    "    if ndigits > 0:\n",
    "        expression = '0.' + '0'*ndigits\n",
    "        number = in_number\n",
    "    else: # 0 or negative\n",
    "        expression = '0'\n",
    "        number = in_number / (10**(-ndigits))\n",
    "    \n",
    "    # round by rounding rule\n",
    "    if rounding_rule == 2:\n",
    "        round_number = Decimal(number).quantize(Decimal(expression), rounding=ROUND_HALF_EVEN)\n",
    "    else:\n",
    "        round_number = Decimal(number).quantize(Decimal(expression), rounding=ROUND_HALF_UP)\n",
    "    \n",
    "    # return number\n",
    "    if ndigits > 0:\n",
    "        return float(round_number)\n",
    "    else: # 0 or negative\n",
    "        return int(round_number * (10**(-ndigits)))"
   ]
  },
  {
   "cell_type": "code",
   "execution_count": 67,
   "metadata": {},
   "outputs": [
    {
     "data": {
      "text/plain": [
       "int"
      ]
     },
     "execution_count": 67,
     "metadata": {},
     "output_type": "execute_result"
    }
   ],
   "source": [
    "# import decimal\n",
    "# type(my_round(89/10 + 0.4))"
   ]
  },
  {
   "cell_type": "code",
   "execution_count": 79,
   "metadata": {},
   "outputs": [
    {
     "data": {
      "application/vnd.jupyter.widget-view+json": {
       "model_id": "d7def7cc18c34810b1e5eb56975c32b6",
       "version_major": 2,
       "version_minor": 0
      },
      "text/plain": [
       "HBox(children=(FloatProgress(value=0.0, max=7.0), HTML(value='')))"
      ]
     },
     "metadata": {},
     "output_type": "display_data"
    },
    {
     "name": "stdout",
     "output_type": "stream",
     "text": [
      "\n",
      "url갯수:  65\n",
      "url갯수:  65\n"
     ]
    }
   ],
   "source": [
    "# url_list = []\n",
    "# title_list = []\n",
    "\n",
    "# # 몇개의 페이지를 크롤링할지 선택\n",
    "# total_page = my_round(post_num/10 + 0.4)\n",
    "# for i in tqdm(range(0, total_page)):\n",
    "#     i = i*10 + 1\n",
    "#     url = \"https://search.naver.com/search.naver?date_from={0}&date_to={1}&dup_remove=1&nso=p%3Afrom20200201to20200531&query={2}&sm=tab_pge&srchby=all&st=sim&where=post&start={3}\".format(start_date,end_date,query_txt,i)\n",
    "    \n",
    "#     driver.get(url)\n",
    "#     time.sleep(0.5)\n",
    "    \n",
    "#     # URL 크롤링 시작\n",
    "#     titles = \"a.sh_blog_title._sp_each_url._sp_each_title\"\n",
    "#     article_raw = driver.find_elements_by_css_selector(titles)\n",
    "\n",
    "#     # url 크롤링 시작    \n",
    "#     for article in article_raw:\n",
    "#         url = article.get_attribute('href')   \n",
    "#         url_list.append(url)\n",
    "    \n",
    "#     # 제목 크롤링 시작    \n",
    "#     for article in article_raw:\n",
    "#         title = article.get_attribute('title')   \n",
    "#         title_list.append(title)\n",
    "    \n",
    "# print('url갯수: ', len(url_list))\n",
    "# print('url갯수: ', len(title_list))\n",
    "\n",
    "# df = pd.DataFrame({'url':url_list, 'title':title_list})\n",
    "\n",
    "# # 저장하기\n",
    "# df.to_excel(\"blog_url.xlsx\", index=False)"
   ]
  },
  {
   "cell_type": "code",
   "execution_count": 4,
   "metadata": {},
   "outputs": [
    {
     "data": {
      "text/plain": [
       "150"
      ]
     },
     "execution_count": 4,
     "metadata": {},
     "output_type": "execute_result"
    }
   ],
   "source": [
    "url_list = ['가락시장','가산디지털단지','강남','강남구청','강동','강동구청','개화산','거여','건대입구','고속터미널','공덕','광명사거리','구로디지털단지','구산','구파발','금호','길동','김포공항','낙성대','남부터미널(예술의전당)','남성','내방','노원','논현','답십리','당산','대청','대치','도곡','도림천','도봉산','독립문','독바위','동대문','동대입구','둔촌동','뚝섬','뚝섬유원지','마곡','마장','마포','마포구청','망원','매봉','먹골','면목','명동','명일','모란','목동','몽촌토성(평화의문)','문래','문정','미아사거리','반포','발산','방배','방이','방화','보라매','보문','복정','봉천','부천시청','부평구청','사당','산성','삼각지','상계','상도','상동','상수','상왕십리','상일동','서대문','서울','서울역','서초','석계','선릉','성수','송정','송파','수락산','수서','수진','시청','신길','신당','신대방','신대방삼거리','신도림','신림','신사','신설동','신중동','신촌','신풍','신흥','아현','안국','암사','압구정','약수','양천구청','양평','여의나루','여의도','역삼','역촌','연신내','영등포구청','오금','용마산','우장산','월드컵경기장(성산)','을지로3가','을지로4가','을지로입구','응암','이대','이수','이태원','일원','잠실나루','잠실새내','잠원','장승배기','장지','장한평','제기동','종각','종합운동장','중계','중곡','창동','천왕','철산','청구','청담','충무로','하계','학동','한강진','한양대','합정','혜화','홍대입구','홍제','화곡']\n",
    "len(url_list)"
   ]
  },
  {
   "cell_type": "code",
   "execution_count": 5,
   "metadata": {
    "scrolled": true
   },
   "outputs": [
    {
     "data": {
      "text/html": [
       "<div>\n",
       "<style scoped>\n",
       "    .dataframe tbody tr th:only-of-type {\n",
       "        vertical-align: middle;\n",
       "    }\n",
       "\n",
       "    .dataframe tbody tr th {\n",
       "        vertical-align: top;\n",
       "    }\n",
       "\n",
       "    .dataframe thead th {\n",
       "        text-align: right;\n",
       "    }\n",
       "</style>\n",
       "<table border=\"1\" class=\"dataframe\">\n",
       "  <thead>\n",
       "    <tr style=\"text-align: right;\">\n",
       "      <th></th>\n",
       "      <th>url</th>\n",
       "      <th>title</th>\n",
       "    </tr>\n",
       "  </thead>\n",
       "  <tbody>\n",
       "    <tr>\n",
       "      <th>0</th>\n",
       "      <td>https://blog.naver.com/spoany43?Redirect=Log&amp;l...</td>\n",
       "      <td>[응암헬스]응암오거리점스포애니 코로나바이러스 3월무이자로 해결!</td>\n",
       "    </tr>\n",
       "    <tr>\n",
       "      <th>1</th>\n",
       "      <td>https://blog.naver.com/spoany43?Redirect=Log&amp;l...</td>\n",
       "      <td>NaN</td>\n",
       "    </tr>\n",
       "  </tbody>\n",
       "</table>\n",
       "</div>"
      ],
      "text/plain": [
       "                                                 url  \\\n",
       "0  https://blog.naver.com/spoany43?Redirect=Log&l...   \n",
       "1  https://blog.naver.com/spoany43?Redirect=Log&l...   \n",
       "\n",
       "                                 title  \n",
       "0  [응암헬스]응암오거리점스포애니 코로나바이러스 3월무이자로 해결!  \n",
       "1                                  NaN  "
      ]
     },
     "execution_count": 5,
     "metadata": {},
     "output_type": "execute_result"
    }
   ],
   "source": [
    "pd.read_excel(\"응암_url.xlsx\")"
   ]
  },
  {
   "cell_type": "code",
   "execution_count": 69,
   "metadata": {
    "scrolled": true
   },
   "outputs": [
    {
     "data": {
      "application/vnd.jupyter.widget-view+json": {
       "model_id": "428fab42e6174e45af4c3e091675b645",
       "version_major": 2,
       "version_minor": 0
      },
      "text/plain": [
       "HBox(children=(FloatProgress(value=0.0, max=16.0), HTML(value='')))"
      ]
     },
     "metadata": {},
     "output_type": "display_data"
    },
    {
     "name": "stderr",
     "output_type": "stream",
     "text": [
      "C:\\Users\\jejec\\anaconda3\\envs\\mulcam\\lib\\site-packages\\ipykernel_launcher.py:24: DeprecationWarning: use driver.switch_to.frame instead\n"
     ]
    },
    {
     "name": "stdout",
     "output_type": "stream",
     "text": [
      "\n",
      "수집한 글 갯수:  11\n"
     ]
    },
    {
     "data": {
      "application/vnd.jupyter.widget-view+json": {
       "model_id": "2803d995b2d64631b6e33507033f85ff",
       "version_major": 2,
       "version_minor": 0
      },
      "text/plain": [
       "HBox(children=(FloatProgress(value=0.0, max=4.0), HTML(value='')))"
      ]
     },
     "metadata": {},
     "output_type": "display_data"
    },
    {
     "name": "stdout",
     "output_type": "stream",
     "text": [
      "\n",
      "수집한 글 갯수:  4\n"
     ]
    },
    {
     "data": {
      "application/vnd.jupyter.widget-view+json": {
       "model_id": "5c08f0a179874707ae8a6e29a49c29f7",
       "version_major": 2,
       "version_minor": 0
      },
      "text/plain": [
       "HBox(children=(FloatProgress(value=0.0, max=230.0), HTML(value='')))"
      ]
     },
     "metadata": {},
     "output_type": "display_data"
    },
    {
     "name": "stdout",
     "output_type": "stream",
     "text": [
      "\n",
      "수집한 글 갯수:  174\n"
     ]
    },
    {
     "data": {
      "application/vnd.jupyter.widget-view+json": {
       "model_id": "24ea575abebb426db184fc246a02f99d",
       "version_major": 2,
       "version_minor": 0
      },
      "text/plain": [
       "HBox(children=(FloatProgress(value=0.0, max=35.0), HTML(value='')))"
      ]
     },
     "metadata": {},
     "output_type": "display_data"
    },
    {
     "name": "stdout",
     "output_type": "stream",
     "text": [
      "\n",
      "수집한 글 갯수:  23\n"
     ]
    },
    {
     "data": {
      "application/vnd.jupyter.widget-view+json": {
       "model_id": "2706800966754448a24c461ad5ede481",
       "version_major": 2,
       "version_minor": 0
      },
      "text/plain": [
       "HBox(children=(FloatProgress(value=0.0, max=8.0), HTML(value='')))"
      ]
     },
     "metadata": {},
     "output_type": "display_data"
    },
    {
     "name": "stdout",
     "output_type": "stream",
     "text": [
      "\n",
      "수집한 글 갯수:  4\n"
     ]
    },
    {
     "data": {
      "application/vnd.jupyter.widget-view+json": {
       "model_id": "df472b632e97412bad450cea28c60465",
       "version_major": 2,
       "version_minor": 0
      },
      "text/plain": [
       "HBox(children=(FloatProgress(value=0.0, max=21.0), HTML(value='')))"
      ]
     },
     "metadata": {},
     "output_type": "display_data"
    },
    {
     "name": "stdout",
     "output_type": "stream",
     "text": [
      "\n",
      "수집한 글 갯수:  20\n"
     ]
    },
    {
     "data": {
      "application/vnd.jupyter.widget-view+json": {
       "model_id": "be8293edfebf4799a978584e7837954b",
       "version_major": 2,
       "version_minor": 0
      },
      "text/plain": [
       "HBox(children=(FloatProgress(value=0.0, max=1.0), HTML(value='')))"
      ]
     },
     "metadata": {},
     "output_type": "display_data"
    },
    {
     "name": "stdout",
     "output_type": "stream",
     "text": [
      "\n",
      "수집한 글 갯수:  0\n"
     ]
    },
    {
     "data": {
      "application/vnd.jupyter.widget-view+json": {
       "model_id": "1b26f1b198734abeab47cd24a21b8a13",
       "version_major": 2,
       "version_minor": 0
      },
      "text/plain": [
       "HBox(children=(FloatProgress(value=0.0, max=18.0), HTML(value='')))"
      ]
     },
     "metadata": {},
     "output_type": "display_data"
    },
    {
     "name": "stdout",
     "output_type": "stream",
     "text": [
      "\n",
      "수집한 글 갯수:  11\n"
     ]
    },
    {
     "data": {
      "application/vnd.jupyter.widget-view+json": {
       "model_id": "d174f22d36b448fdab4ee0d1aede490e",
       "version_major": 2,
       "version_minor": 0
      },
      "text/plain": [
       "HBox(children=(FloatProgress(value=0.0, max=2.0), HTML(value='')))"
      ]
     },
     "metadata": {},
     "output_type": "display_data"
    },
    {
     "name": "stdout",
     "output_type": "stream",
     "text": [
      "\n",
      "수집한 글 갯수:  2\n"
     ]
    },
    {
     "data": {
      "application/vnd.jupyter.widget-view+json": {
       "model_id": "294df369ea964bf99d05b5684f2a21d5",
       "version_major": 2,
       "version_minor": 0
      },
      "text/plain": [
       "HBox(children=(FloatProgress(value=0.0, max=3.0), HTML(value='')))"
      ]
     },
     "metadata": {},
     "output_type": "display_data"
    },
    {
     "name": "stdout",
     "output_type": "stream",
     "text": [
      "\n",
      "수집한 글 갯수:  3\n"
     ]
    },
    {
     "data": {
      "application/vnd.jupyter.widget-view+json": {
       "model_id": "a2ca8d9d6ad8497397038bef5140a0f7",
       "version_major": 2,
       "version_minor": 0
      },
      "text/plain": [
       "HBox(children=(FloatProgress(value=0.0, max=8.0), HTML(value='')))"
      ]
     },
     "metadata": {},
     "output_type": "display_data"
    },
    {
     "name": "stdout",
     "output_type": "stream",
     "text": [
      "\n",
      "수집한 글 갯수:  4\n"
     ]
    },
    {
     "data": {
      "application/vnd.jupyter.widget-view+json": {
       "model_id": "1182db2fc76c49e8a9bba99162ee4de4",
       "version_major": 2,
       "version_minor": 0
      },
      "text/plain": [
       "HBox(children=(FloatProgress(value=0.0, max=1.0), HTML(value='')))"
      ]
     },
     "metadata": {},
     "output_type": "display_data"
    },
    {
     "name": "stdout",
     "output_type": "stream",
     "text": [
      "\n",
      "수집한 글 갯수:  1\n"
     ]
    },
    {
     "data": {
      "application/vnd.jupyter.widget-view+json": {
       "model_id": "a2d20821a18e4c0abe9621fd92069fe5",
       "version_major": 2,
       "version_minor": 0
      },
      "text/plain": [
       "HBox(children=(FloatProgress(value=0.0, max=4.0), HTML(value='')))"
      ]
     },
     "metadata": {},
     "output_type": "display_data"
    },
    {
     "name": "stdout",
     "output_type": "stream",
     "text": [
      "\n",
      "수집한 글 갯수:  3\n"
     ]
    },
    {
     "data": {
      "application/vnd.jupyter.widget-view+json": {
       "model_id": "cdbeeae2d553416d8b3b0011c8ef86c3",
       "version_major": 2,
       "version_minor": 0
      },
      "text/plain": [
       "HBox(children=(FloatProgress(value=0.0, max=1.0), HTML(value='')))"
      ]
     },
     "metadata": {},
     "output_type": "display_data"
    },
    {
     "name": "stdout",
     "output_type": "stream",
     "text": [
      "\n",
      "수집한 글 갯수:  1\n"
     ]
    },
    {
     "data": {
      "application/vnd.jupyter.widget-view+json": {
       "model_id": "e57e2b3061ee45b0b9ab4b247a435e1f",
       "version_major": 2,
       "version_minor": 0
      },
      "text/plain": [
       "HBox(children=(FloatProgress(value=0.0, max=1.0), HTML(value='')))"
      ]
     },
     "metadata": {},
     "output_type": "display_data"
    },
    {
     "name": "stdout",
     "output_type": "stream",
     "text": [
      "\n",
      "수집한 글 갯수:  1\n"
     ]
    },
    {
     "data": {
      "application/vnd.jupyter.widget-view+json": {
       "model_id": "5205c54baacc41628a2e5e9c325ad1c8",
       "version_major": 2,
       "version_minor": 0
      },
      "text/plain": [
       "HBox(children=(FloatProgress(value=0.0, max=3.0), HTML(value='')))"
      ]
     },
     "metadata": {},
     "output_type": "display_data"
    },
    {
     "name": "stdout",
     "output_type": "stream",
     "text": [
      "\n",
      "수집한 글 갯수:  3\n"
     ]
    },
    {
     "data": {
      "application/vnd.jupyter.widget-view+json": {
       "model_id": "74bd6d3cea1644748e0f7f65ecc57365",
       "version_major": 2,
       "version_minor": 0
      },
      "text/plain": [
       "HBox(children=(FloatProgress(value=0.0, max=4.0), HTML(value='')))"
      ]
     },
     "metadata": {},
     "output_type": "display_data"
    },
    {
     "name": "stdout",
     "output_type": "stream",
     "text": [
      "\n",
      "수집한 글 갯수:  3\n"
     ]
    },
    {
     "data": {
      "application/vnd.jupyter.widget-view+json": {
       "model_id": "513d3ce56bda45a4a2b2d6943cab97b5",
       "version_major": 2,
       "version_minor": 0
      },
      "text/plain": [
       "HBox(children=(FloatProgress(value=0.0, max=49.0), HTML(value='')))"
      ]
     },
     "metadata": {},
     "output_type": "display_data"
    },
    {
     "name": "stdout",
     "output_type": "stream",
     "text": [
      "\n",
      "수집한 글 갯수:  43\n"
     ]
    },
    {
     "data": {
      "application/vnd.jupyter.widget-view+json": {
       "model_id": "7870632d9674452fbef193fa405e4160",
       "version_major": 2,
       "version_minor": 0
      },
      "text/plain": [
       "HBox(children=(FloatProgress(value=0.0, max=10.0), HTML(value='')))"
      ]
     },
     "metadata": {},
     "output_type": "display_data"
    },
    {
     "name": "stdout",
     "output_type": "stream",
     "text": [
      "\n",
      "수집한 글 갯수:  10\n"
     ]
    },
    {
     "data": {
      "application/vnd.jupyter.widget-view+json": {
       "model_id": "7fce2ec316ea484a80a6bf4a9b081eff",
       "version_major": 2,
       "version_minor": 0
      },
      "text/plain": [
       "HBox(children=(FloatProgress(value=0.0, max=10.0), HTML(value='')))"
      ]
     },
     "metadata": {},
     "output_type": "display_data"
    },
    {
     "name": "stdout",
     "output_type": "stream",
     "text": [
      "\n",
      "수집한 글 갯수:  6\n"
     ]
    },
    {
     "name": "stderr",
     "output_type": "stream",
     "text": [
      "C:\\Users\\jejec\\anaconda3\\envs\\mulcam\\lib\\site-packages\\xlsxwriter\\worksheet.py:937: UserWarning: Ignoring URL 'https://www.instagram.com/d.margarita_tea.art/%20설%20연휴쯔음%20다녀왔던%20티룸%20디마르가리따.%20집에만%20있기%20좀이%20쑤셔서%20툴루즈로트렉전을%20구경하러%20남부터미널까지%20나온김에%20식사하러%20들른%20디마르가리따.%20디마르가리따는%20티룸으로%20유명하지만%20그만큼%20맛난%20티푸드로도%20유명한%20가게이다.%20몇%20년%20전에%20친한%20언니와%20애프터눈티를%20먹으러%20왔던%20것이%20처음이었고,%20그%20뒤로도%20예술의%20전당%20올%20일이%20있으면%20시간내서라도%20방문하는%20가게.%20그렇지만%20내가%20시간이%20되어도,%20영업시간이%20맞지%20않는%20경우가%20많아서(주말에만%20한시적%20운영하는%20것으로%20알고%20있다.)%20열%20번도%20채%20못%20들렀던%20것%20같다.%20\n",
      "나와%20동행은%20간단히%20요기가%20될%20만한%20음식을%20시켰는데,%20키슈와%20라자냐%20세트에다가%20에이드%20추가%20주문.%20덕분에%20티푸드에%20곁들여%20나오는%20러시아%20홍차는%20무한대로%20내가%20마실%20수%20있었다.%20제법%20큰%20티팟에%20서빙되어%20나왔지만%20나는%20물%20먹는%20하마니까%20%5e%5e%20두어번%20리필해서%20먹었던%20걸로%20기억한다.%20%20음식이%20준비되기%20전에%20빠르게%20준비된%20러시아%20홍차.%20\n",
      "잘%20손질된%20레몬%20조각과%20함께%20준비된다.%20\n",
      "그냥%20먹어도%20떫은맛%20하나%20없이%20깔끔한%20홍차이지만,%20조금%20색다르게%20마시고%20싶을%20때면%20레몬을%20한%20조각%20너어서%20열심히%20쉐킷쉐킷%20저어주면%20색도%20예쁘고,%20좀%20더%20향긋하고%20상큼함이%20배가된%20차를%20마실%20수%20있다.%20%20앞에%20앉으신%20분은%20요즘%20인기%20짱이라는%20%3c나%20혼자만%20레벨업%3e이라는%20웹툰%20&%20소설%20삼매경에%20빠져서%20혼자%20차%20마시면서%20로트렉전에서%20좋았던%20그림도%20다시%20검색해보고,%20차에다%20레몬도%20넣어서%20미친듯이%20젓기도%20하고,%20디마르가리따의%20인테리어를%20구경하기도%20하면서%20놀았다.%20올%20때마다%20신기한게%20여긴%20구석구석%20앉을%20자리가%20많은데다가,%20서빙을%20해주시는%20시스템인데%20어떻게%20자리를%20찾아서%20착착%20서빙해주시는지%20신기하다.%201~2층%20공간이%20꽤%20넓고%20아기자기하게%20꾸며져%20있는데%20넘어지지도%20않고,%20샥샥샥%20왔다갔다%20하면서%20빠르게%20차를%20내어주시고,%20손님이%20나간%20자리를%20정리하기도%20한다.%20이날%20재미나게%20구경한%20로트렉의%20그림만큼이나%20흥미로웠던걸%20말하라면%20디마르가리따%20티룸%20서버들의%20탁월한%20서빙실력일%20것이다.%20%20간단히%20요깃거리라고%20하기에는%20상당히%20푸짐하게%20준비되었던%20티푸드들.%20베이컨이%20들어있는%20키슈와%20라구소스가%20넉넉히%20쓰인%20라자냐.%20키슈%20맛있는%20집%20찾기%20힘든데,%20여기%20티룸%20말고%20키슈%20맛집해도%20될%20듯%20ㅋㅋㅋㅋ%20키슈먹을%20때%20곁들여%20먹으라고%20내어주신%20감자랑%20당근피클도%20아주%20맛있었다.%20당근피클%20담기%20원데이클래스가%20있다면%20연차%20내서라도%20듣고%20싶은맛.%20어떻게%20이렇게%20상큼하게%20만들%20수가%20있지?%20키슈와%20감자만%20있었으면%20고소하고%20기름진%20맛에%20입은%20즐거웠겠지만%20쉽게%20물렸을%20수도%20있을텐데%20당근%20피클이%20아주%20감초같은%20역할을%20톡톡히%20수행했다.%20같이%20곁들인%20차는%20두%20말%20할%20것%20없고.%20내꺼%20먹다가,%20앞에%20계신분%20접시도%20탐내면서%20이것저것%20맛있게%20먹었던%20단촐한(?)%20저녁.%20내가%20생각했던%20것%20이상으로%20푸짐하고%20넉넉했던%20식사.%20%20주변에%20아기자기한%20소품이%20많은%20것에%20대비하면%20테이블은%20좀%20더%20심플한%20느낌인데,%20그래도%20깔맞춤%20한듯이%20티팟과%20디쉬와%20티컵이%20잘%20어울리던%20상이었다.%20집근처에%20있으면%20매일%20갈텐데...ㅠ.ㅠ%20동행인꼐서%20드신%20라자냐.%20안에%20켜켜히%20쌓인%20라자냐%20면과%20치즈가%20꽤나%20배부르셨는지%20이날은%20집에%20돌아와서도%20간식을%20따로%20찾지%20않으며%20뒹굴뒹굴%20거렸던걸로%20기억한다.%20다%20좋은%20식사였지만%20하나%20아쉬운%20점을%20꼽으라면,%20이%20날따라%20매섭게%20짖던%20강아지.%20조용한%20공간에서%20계속해서%20왈왈왈왈%20자기%20주장을%20하는%20개님%20덕분에%20마지막은%20조금%20아쉬웠지만,%20음식과%20차%20모두%20훌륭한%20곳이었다.%20몇%20가지%20특정%20음식을%20주문하면%20차가%20무한대로%20딸려%20나오는%20것도%20좋고,%20정성가득%20맛있는%20음식도%20아주%20좋다.%20봄이%20되면%20또%20찾아가야겠다.%20아,%20이미%20봄인가?%20-.-%20그럼%20여름%20전에%20가는걸로...\n",
      "+%20귀여웠던%20가게%20벽면의%20그림%20+입구에서만%20간단히%20찍은%20로트렉전의%20모습\n",
      "물랑루즈와%20로트렉만%20피상적으로%20알고%20있었는데%20전시를%20접하니%20조금은%20로트렉의%20철학을%20엿본듯한%20느낌이었다.%20널리%20알려진%20그림부터%20사소한%20스케치까지%20치밀하게%20아카이빙한%20로트렉의%20그림들.%20여기저기%20순회하다가%20이제사%20한국에%20왔다던데%20덕분에%20기분전환%20제대로%20했었다.%20+요즘%20전시엔%20다양한%20기술이%20접목되어%20더욱%20볼거리가%20풍성한%20느낌이다.%20영상의%20살고있는%20지금%20이%20세대를%20관통하는%20방법이지%20않을지.%20+포토월을%20지나면%20좀%20더%20진지한%20내용이%20담겨있긴%20하지만%20역시%20앞%20부분에는%20많은것(포토스팟%20포함)을%20기대하고%20온%20관람객을%20위한%20각종%20장치가%20마련되어%20있다.%20꽤나%20많은%20사람들이%20씬나게%20추억을%20남기고%20있었음.%20코로나가%20창궐하기%20전이어서%20더%20밝았던%20분위기였다고%20기억한다.' with link or location/anchor > 2079 characters since it exceeds Excel's limit for URLS\n",
      "  (force_unicode(url), max_url))\n"
     ]
    },
    {
     "data": {
      "application/vnd.jupyter.widget-view+json": {
       "model_id": "fd38fdf71df544858a21d0d41310d2ea",
       "version_major": 2,
       "version_minor": 0
      },
      "text/plain": [
       "HBox(children=(FloatProgress(value=0.0, max=620.0), HTML(value='')))"
      ]
     },
     "metadata": {},
     "output_type": "display_data"
    },
    {
     "name": "stdout",
     "output_type": "stream",
     "text": [
      "\n",
      "수집한 글 갯수:  259\n"
     ]
    },
    {
     "name": "stderr",
     "output_type": "stream",
     "text": [
      "C:\\Users\\jejec\\anaconda3\\envs\\mulcam\\lib\\site-packages\\xlsxwriter\\worksheet.py:937: UserWarning: Ignoring URL 'http://naver.me/Igt8MYjB%20http://naver.me/GI7cIREQ%20http://naver.me/xy28H0wk%20http://naver.me/FFwbjHoi%20http://naver.me/5AeMu07j%20http://naver.me/FPaM8QGL%20http://naver.me/5cZtN6Gr%20http://naver.me/GUGKW8RT%20http://naver.me/FHZboDvN%20정%20총리,%20코로나19%20중앙재난안전대책본부%20회의\n",
      "%22이동통신,%20CCTV,%20신용카드%20등%20흔적%20남아%20있어%22\n",
      "%22자발적%20신고하라..기다릴%20시간%20별로%20없다%22\n",
      "%22양성%20확진때%20개인정보%20삭제,%20동선만%20최소%20공개%22\n",
      "%22클럽%20등%20출입자%20명부%20상당수%20허위%22%20대책%20마련%20지시\n",
      "http://naver.me/5w5KrSvQ%20서울%20도봉구에%20사는%2010대%20남성,코로나19%20확진\n",
      "이태원%20클럽%20확진자가%20갔던%20코인%20노래방에서%20감염\n",
      "확진%20판정%20받기%20전/%20독서실,pc방도%20방문해\n",
      "서울의%20한%20고등학교%203학년%20이태원%20클럽%20갔다%20자진신고\n",
      "클럽을%20다녀온%20뒤%20학교에%20두%20차례%20나와%20실기수업\n",
      "현재%20검사%20결과%20음성%20판정을%20받고%20격리%20중\n",
      "http://naver.me/G19LX7Ff%20이태원%20클럽%20방문%20인천학원강사의%20수강생·과외%20중학생·학부모%20등%20집단%20감염\n",
      "확진%20강사,%20‘무직’%20거짓말도…고발될%20듯\n",
      "인천시·교육청%20긴급%20방역대책%20발표%20예정\n",
      "이태원%20클럽을%20방문해%20코로나19%20확진%20판정을%20받은%20\n",
      "인천의%20한%20학원강사와%20접촉한%20수강생%20등%208명%20감염\n",
      "미추홀구의%20한%20보습학원%20학원강사의%20%20수업%20들은%20\n",
      "수강생%204명%20확진%20,모두%20고등학생\n",
      "과외수업을%20받은%20중학생%201명,중학생의%20어머니도%20확진,%20\n",
      "동료%20학원강사%201명도%20확진\n",
      "접촉자%208명이%20집단감염\n",
      "검체%20검사%20과정에서%20무직이라고%20밝혔지만\n",
      "확진%20뒤%20역학조사%20과정에서%20학원강사로%20드러나\n",
      "인천시는%20ㄱ씨를%20수사기관에%20고발할%20것\n",
      "http://naver.me/xIJuwQMq%20이태원%20클럽%20다녀온%20부산139번%20확진자%20아버지와%201살%20조카%20감염\n",
      "경남서도%20클럽발%20확진자%20발생\n",
      "이태원%20클럽을%20다녀온%20뒤%20확진%20판정을%20받은%20\n",
      "139번%20확진자의%20가족인%2060대%20부친과%201세인%20조카%20확진%20\n",
      "이태원%20클럽%20확진자%20관련%20접촉자도%20크게%20늘어\n",
      "부산지역%20접촉자는%20모두%20271명이며,%20\n",
      "클럽일대%20이용자는%20236명과%20확진자%20접촉자%2035명\n",
      "139번%20확진자는%20이태원을%20방문한%20후%203일%20부산으로%20돌아와%20\n",
      "해운대구와%20북구%20등지의%20식당%20커피숍에%20들렀던%20것으로%20전해져\n",
      "경남에서도%20이태원%20클럽%20관련%20코로나19%20첫%20확진자%20발생\n",
      "이태원%20지역%20방문자를%20대상으로%20한%20전수%20검사에서%20\n",
      "거제에%20사는%2020대%20남성이%20코로나19%20양성%20판정\n",
      "해당%20남성은%20이태원%20클럽을%20다녀온%20\n",
      "부산%20139번%20확진자와%20접촉한%20것으로%20확인\n",
      "http://naver.me/GZMk93SW%20공주대%20신입생%20지난%208일%20서울%20방문때%20감염\n",
      "서울%20강남,작심스터티카페에서%203시간%20과외받아\n",
      "과외했던%20강사가%20이태원%20클럽%20확진자%20판정\n",
      "http://naver.me/xMxicSvK%20이태원%20방문자들%20익명검사에%20대거%20선별진료소%20찾아\n",
      "검사건수%20대비%20확진자수%20적지만%20안심할%20단계%20아냐\n",
      "대구%20신규%20확진자%202명%20또…이태원%20클럽%20관계%20없어\n",
      "http://naver.me/5Efcp5Wc%20대부분%20마스크%20착용했지만…일부%20안%20쓴%20사람도\n",
      "오늘부터%20마스크%20안%20쓰면%20서울%20지하철%20이용%20제한\n",
      "승차%20정원%20대비%20탑승객%20수인%20'혼잡도'가%20기준\n",
      "승객이%20정원의%20150%25%20넘을%20땐%20마스크%20필수%20착용\n",
      "탑승객이%20정원보다%2050%25%20이상%20많아%20열차%20안에서%20이동%20자체가%20어려운%20\n",
      "'혼잡'%20단계에선%20마스크를%20쓰지%20않은%20승객은%20탑승%20불가\n",
      "미처%20마스크를%20챙기지%20못한%20경우%20\n",
      "개찰구에서부터%20진입%20자체가%20불가능\n",
      "이때는%20역사%20안%20자판기나%20편의점%20등에서%20\n",
      "시중%20가격으로%20마스크%20구입%20가능\n",
      "특히%20혼잡도가%20170%25%20이상이면%20\n",
      "안내요원이%20탑승%20통제,%20아예%20열차가%20서지%20않고%20무정차%20통과도%20가능\n",
      "승객들이%20혼잡도를%20미리%20알%20수%20있도록%20어제부터%20\n",
      "‘사전예보제'%20실시\n",
      "매일%20오후%206시,%20다음날%20혼잡도%20정보는%20\n",
      "서울교통공사%20홈페이지,SNS%20등을%20통해%20확인가능\n",
      "http://naver.me/FaVnteFj%20IMF%20위환위기%20이후%20최대폭↓…코로나로%202개월째%20역성장\n",
      "숙박음식점업·교육서비스업%20직격탄…2014년%20이래%20최대↓\n",
      "60대%20제외%20전연령%20감소…40대%2054개월째%20연속%20내리막길\n",
      "청년층%20취업자%2026만2000명%20감소…2009년%201월%20이후%20최대\n",
      "전체%20고용률%2059.4%25…2010년%204월%20이후%20동월%20기준%20최저치\n",
      "임시근로자%2058만7000명%20줄어…1990년%20이후%20최대폭%20감소\n",
      "비경제활동인구%2083만1000명↑…2000년%206월%20이후%20최대\n",
      "http://naver.me/xLvO4BMq%20러시아%20크렘린궁%20대변인,%20총리·장관들%20확진\n",
      "기자%20200명도%20감염,%205명은%20사망\n",
      "http://naver.me/FGp0w5pY%20정부,%20日에%20이달%20말까지%20'수출규제%20조치'%20해결%20방안%20요구\n",
      "이전%20양국%20간%20갈등%20국면과%20달리%20코로나19%20변수로%20등장%20\n",
      "%22경제적%20실익%20챙겨야…규제%20이어갈%20명분·실효성%20없어%22\n",
      "http://naver.me/5LftQa9j%20다우%201.89%25%20하락\n",
      "WTI%206.8%25↑%20배럴당%2025.78%20달러\n",
      "뉴욕증시에서%20주요%20지수\n",
      "미국과%20중국의%20갈등%20고조와%20\n",
      "섣부른%20봉쇄%20조치%20완화%20부작용%20우려%20등으로%202%25%20안팎%20하락\n",
      "트럼프,미국의%20백신%20개발에%20대한%20\n",
      "중국의%20해킹%20시도%20마음에%20들지%20않는다고%20거듭%20비난\n",
      "백악관이%20연방정부%20퇴직연금펀드가\n",
      "중국%20주식에%20투자하지%20못하도록%20하는조치에%20돌입했다는%20소식도%20나와\n",
      "2차%20발병%20우려에도%20무게가%20실린%20분위기\n",
      "앤서니%20파우치%20,국립보건원%20산하%20국립알레르기·전염병%20연구소(NIAID)%20소장은%20\n",
      "조급하게%20경제활동을%20재개한다면%20\n",
      "발병%20사례의%20급상승을%20보게%20될%20수도%20있다고%20지적\n",
      "국제유가%20강세%20보여\n",
      "원유(WTI)는%20배럴당%206.8%25%20급등한%2025.78달러\n",
      "주요%20산유국들의%20감산%20움직임에%20주목\n",
      "사우디아라비아와%20러시아를%20비롯한%20주요%20산유국%20그룹%20'OPEC+'는\n",
      "5~6월%20하루%20970만%20배럴을%20감산하는%20합의를%20연장하기를%20원하고%20있어\n",
      "6월%20이후에도%20하루%20970만%20배럴의%20감산%20규모가%20유지될%20수%20있다는%20의미\n",
      "국제금값은%201,700달러를%20되찾아\n",
      "6월%20인도분%20금은%200.5%25상승한%201.706.80달러' with link or location/anchor > 2079 characters since it exceeds Excel's limit for URLS\n",
      "  (force_unicode(url), max_url))\n",
      "C:\\Users\\jejec\\anaconda3\\envs\\mulcam\\lib\\site-packages\\xlsxwriter\\worksheet.py:937: UserWarning: Ignoring URL 'https://www.msn.com/ko-kr/news/national/단독-내가-나경원-딸-연수-요청-받은-사람…청탁-메일-전문-공개/ar-BB108ygu?ocid=spartandhp%20https://www.msn.com/ko-kr/news/world/日부흥상-한국-겨냥-후쿠시마-식재료-그-나라보다-깨끗/ar-BB1080SC?ocid=spartandhp%20https://www.msn.com/ko-kr/news/national/이슈and탐사-주-41시간-400만원-개가-웃을-듯-ㅋㅋ/ar-BB107EWT?ocid=spartandhp%20https://www.msn.com/ko-kr/news/national/산케이-아베-코로나19-대응-문재인-정부에-배워라/ar-BB106gox?ocid=spartandhp%20https://www.msn.com/ko-kr/entertainment/movies/부재의-기억-감독-“먼저-탈출하는-선장-해외-관객들도-분노plus욕”-종합/ar-BB107cAw?ocid=spartandhp%20https://www.msn.com/ko-kr/news/living/추위에-롱패딩-입었다면-빙판길-더-주의해야/ar-BB106jRL?ocid=spartandhp%20https://www.msn.com/ko-kr/news/living/sns-이용률-감소-디지털-디톡스의-시작/ar-BB106wpG?ocid=spartandhp%20https://www.msn.com/ko-kr/news/living/이은하-쿠싱증후군-살찌는-病…-비만과-차이점은/ar-BB106n0T?ocid=spartandhp%20https://www.msn.com/ko-kr/news/living/구안와사-초기엔-침보다-약물투여-먼저-해야/ar-BB106fqU?ocid=spartandhp%20https://www.msn.com/ko-kr/news/living/1분-qanda-편도결석이-너무-자주-생겨요/ar-BB106iUH?ocid=spartandhp%20https://www.msn.com/ko-kr/news/national/전염성-강한-코로나19-사스보다-수용체-친화도-10여배/ar-BB106jOc?ocid=spartandhp%20https://www.msn.com/ko-kr/news/national/中연구팀-코로나19-남성-생식능력에-부정적-영향/ar-BB1075f6?ocid=spartandhp%20https://www.msn.com/ko-kr/news/national/and-건강-고약한-침묵의-살인자…-젊은층-돌연-실신-땐-의심을/ar-BB105IFT?ocid=spartandhp%20https://www.msn.com/ko-kr/news/world/코로나19가-벗긴-g2국가의-민낯…뿌리째-흔들리는-중국몽/ar-BB107KlP?ocid=spartandhp%20https://www.msn.com/ko-kr/news/living/새벽-3시에-눈을-떴다…-불면증일까/ar-BB108tBO?ocid=spartandhp%20https://www.msn.com/ko-kr/news/national/단독-배트맨처럼-쏜다-한국형-날아가는-포승줄-개발/ar-BB107Po7?ocid=spartandhp%20https://www.msn.com/ko-kr/news/national/日크루즈선-귀국자-7명-김포공항-도착…건강-이상-없어/ar-BB108tIL?ocid=spartandhp%20https://www.msn.com/ko-kr/news/national/우리-기술로-만든-해양·환경관측-위성-천리안-2b호-발사-성공-종합/ar-BB108tyQ?ocid=spartandhp%20https://www.msn.com/ko-kr/news/other/무소유의-은둔자-법정-스님의-당부-“고립되지-말라”/ar-BB108rl3?ocid=spartandhp%20https://www.msn.com/ko-kr/news/living/코로나19-예방-위해-술-피해야-하는-까닭/ar-BB108tfS?ocid=spartandhp%20https://www.msn.com/ko-kr/news/living/리빙포인트-옷에-묻은-파운데이션-지우려면/ar-BB1083F7?ocid=spartandhp%20https://www.msn.com/ko-kr/news/national/ai가-분석한-김정은…김일성·김정일과-다르다/ar-BB107ZC4?ocid=spartandhp%20https://www.msn.com/ko-kr/money/topstories/27일부터-자동차-두달-넘게-방치하면-강제-견인한다/ar-BB106pO8?ocid=spartandhp%20https://www.msn.com/ko-kr/news/living/조부모가-키운-아이-비만-위험-↑-연구/ar-BB108hjL?ocid=spartandhp%20https://www.msn.com/ko-kr/news/techandscience/내년-드론-실명제-시행…2kg넘으면-신고해야/ar-BB106gfY?ocid=spartandhp%20https://www.msn.com/ko-kr/news/national/북한서-특이동향…美-정찰기-조인트스타즈-한반도-전개/ar-BB108n5W?ocid=spartandhp%20https://www.msn.com/ko-kr/news/living/엉뚱한-곳에서-코로나-확산-점화/ar-BB108jlh?ocid=spartandhp%20https://www.msn.com/ko-kr/news/national/러-20일부터-중국인-입국-금지…환승객은-제외-종합/ar-BB108ueh?ocid=spartandhp%20https://www.msn.com/ko-kr/news/national/이란-삼성-임직원-입국·스마트폰-등록-금지할-수도-경고/ar-BB108jgR?ocid=spartandhp%20https://www.msn.com/ko-kr/news/living/남과-눈-못-마주치는-것도-병/ar-BB108mS1?ocid=spartandhp%20https://www.msn.com/ko-kr/news/national/내-직업은-농부…멕시코-마약왕-구스만-4년전-입감-영상-공개/ar-BB108xhD?ocid=spartandhp%20https://www.msn.com/ko-kr/news/world/“코로나19-쇼크-일본-아베-총리관저까지-급습”/ar-BB107396?ocid=spartandhp%20https://www.msn.com/ko-kr/news/living/살리는-자세-죽이는-자세-매일-무심코-했던-양반다리-자세의-실체/ar-BB106NJN?ocid=spartandhp%20https://www.msn.com/ko-kr/news/living/그는-알고-있었다-기생충이-오스카-휩쓸-것을/ar-BB1085LI?ocid=spartandhp%20https://www.msn.com/ko-kr/news/world/英-2인자-사퇴-배경엔-궁중암투-있었네/ar-BB107K2Y?ocid=spartandhp%20https://www.msn.com/ko-kr/news/national/별도-콜도-뜨지-않는-밤-불은-라면-삼키는-대리운전기사/ar-BB108dYN?ocid=spartandhp%20https://www.msn.com/ko-kr/news/living/1분-qanda-갱년기-유방통-이것도-병일까요/ar-BB106wTr?ocid=spartandhp%20https://www.msn.com/ko-kr/news/techandscience/中-고속도로-진풍경-날아오는-드론에-qr코드-스캔/ar-BB1061J6?ocid=spartandhp%20https://www.msn.com/ko-kr/news/national/생활비-마련하려고-주차차량-턴-30대-구속/ar-BB108n0i?ocid=spartandhp%20https://www.msn.com/ko-kr/entertainment/movies/봉준호-타여초-감독에-오스카-트로피-안겼다-“당신이-받았어야”/ar-BB107a6v?ocid=spartandhp%20https://www.msn.com/ko-kr/news/living/나는-왼눈잡이-오른눈잡이-주시안-확인법/ar-BB106O4V?ocid=spartandhp%20https://www.msn.com/ko-kr/news/national/폼페이의-보석-고대로마-건축물-지진-피해-40년만에-재개방/ar-BB1085YP?ocid=spartandhp%20https://www.msn.com/ko-kr/news/living/작은-충격에도-피멍…-노인성-자반증-원인은/ar-BB106mJy?ocid=spartandhp%20https://www.msn.com/ko-kr/news/world/코로나19에-중국-닭들이-슬피우는-까닭은/ar-BB106Ud9?ocid=spartandhp%20https://www.msn.com/ko-kr/news/living/이상아-거식증-고백다이어트-하면서-섭식장애-피하려면/ar-BB106qaK?ocid=spartandhp%20https://www.msn.com/ko-kr/money/topstories/단독-휴면계좌-부활-본인-인증-우리은행만-없었다/ar-BB1082vr?ocid=spartandhp%20https://www.msn.com/ko-kr/news/national/이란-cia에-협력-혐의-이란인-8명-징역형/ar-BB1089pH?ocid=spartandhp%20https://www.msn.com/ko-kr/news/living/박시은-검사결과-산전검사-반드시-필요한-이유는/ar-BB106svG?ocid=spartandhp%20https://www.msn.com/ko-kr/news/techandscience/천리안2b호-춘분·추분만-잘-넘기면-된다고-하는-이유/ar-BB108qU1?ocid=spartandhp%20https://www.msn.com/ko-kr/news/living/오늘-일을-내일로-미루지-않는-법-5/ar-BB106eZY?ocid=spartandhp%20https://www.msn.com/ko-kr/news/living/해피투게더4-아무튼-한-달-당신에게-필요한-습관-성형은/ar-BB1065wM?ocid=spartandhp%20https://www.msn.com/ko-kr/news/national/동거-비혼여성이-매춘부라고-막말-러시아-성직자-뭇매/ar-BB106NxF?ocid=spartandhp%20https://www.msn.com/ko-kr/money/topstories/로봇식당①-lg-무인레스토랑-키운다…별점도-로봇에게/ar-BB108qSK?ocid=spartandhp%20https://www.msn.com/ko-kr/money/topstories/경영난-두산重-45세-이상-1000명-대규모-명예퇴직-실시/ar-BB107zJ7?ocid=spartandhp%20https://www.msn.com/ko-kr/news/world/가장-은밀한-코로나19-매개체는-돈/ar-BB106jFV?ocid=spartandhp%20https://www.msn.com/ko-kr/money/topstories/이주열-총재-업무추진비는-연-5천300만원…4년전의-절반/ar-BB10807s?ocid=spartandhp%20https://www.msn.com/ko-kr/news/world/“한국인과-일본인-사이에-나온-아기는-일본인”…日대학-설문-물의/ar-BB106CCZ?ocid=spartandhp%20https://www.msn.com/ko-kr/money/topstories/코로나19-세계경제-강타…韓-중간재-생산-역량-강화-필요/ar-BB108jtd?ocid=spartandhp%20https://www.msn.com/ko-kr/news/living/잠-깨야-하는데-카페인-피하고-싶다면/ar-BB107Pof?ocid=spartandhp%20https://www.msn.com/ko-kr/news/national/아까-응급환자가-감염자였다면…코로나19에-무방비-의료진-공포/ar-BB108ffG?ocid=spartandhp%20https://www.msn.com/ko-kr/news/national/다스는-누구-것-두-번째-사법판단…이명박-항소심-오늘-선고/ar-BB108aan?ocid=spartandhp%20https://www.msn.com/ko-kr/news/national/중국-여행-뒤-숨진-30대-남성-코로나19-음성-판정/ar-BB1070sc?ocid=spartandhp%20https://www.msn.com/ko-kr/news/national/코로나19-신규환자-15명-급증-총-46명…첫-미성년자-감염-종합/ar-BB108FWL?ocid=spartanntp%20' with link or location/anchor > 2079 characters since it exceeds Excel's limit for URLS\n",
      "  (force_unicode(url), max_url))\n"
     ]
    },
    {
     "data": {
      "application/vnd.jupyter.widget-view+json": {
       "model_id": "3461735fa3164a21bb2ef8cbc622908f",
       "version_major": 2,
       "version_minor": 0
      },
      "text/plain": [
       "HBox(children=(FloatProgress(value=0.0, max=5.0), HTML(value='')))"
      ]
     },
     "metadata": {},
     "output_type": "display_data"
    },
    {
     "name": "stdout",
     "output_type": "stream",
     "text": [
      "\n",
      "수집한 글 갯수:  3\n"
     ]
    },
    {
     "data": {
      "application/vnd.jupyter.widget-view+json": {
       "model_id": "9f35e5934fe2478c894fe1f91350988c",
       "version_major": 2,
       "version_minor": 0
      },
      "text/plain": [
       "HBox(children=(FloatProgress(value=0.0, max=59.0), HTML(value='')))"
      ]
     },
     "metadata": {},
     "output_type": "display_data"
    },
    {
     "name": "stdout",
     "output_type": "stream",
     "text": [
      "\n",
      "수집한 글 갯수:  43\n"
     ]
    },
    {
     "data": {
      "application/vnd.jupyter.widget-view+json": {
       "model_id": "d965fbd9af3b41e3bf33e2ce754261db",
       "version_major": 2,
       "version_minor": 0
      },
      "text/plain": [
       "HBox(children=(FloatProgress(value=0.0, max=5.0), HTML(value='')))"
      ]
     },
     "metadata": {},
     "output_type": "display_data"
    },
    {
     "name": "stdout",
     "output_type": "stream",
     "text": [
      "\n",
      "수집한 글 갯수:  4\n"
     ]
    },
    {
     "data": {
      "application/vnd.jupyter.widget-view+json": {
       "model_id": "db8d521b70484452aac48154401526c5",
       "version_major": 2,
       "version_minor": 0
      },
      "text/plain": [
       "HBox(children=(FloatProgress(value=0.0, max=4.0), HTML(value='')))"
      ]
     },
     "metadata": {},
     "output_type": "display_data"
    },
    {
     "name": "stdout",
     "output_type": "stream",
     "text": [
      "\n",
      "수집한 글 갯수:  3\n"
     ]
    },
    {
     "data": {
      "application/vnd.jupyter.widget-view+json": {
       "model_id": "c99b7348e68a45279134237090767160",
       "version_major": 2,
       "version_minor": 0
      },
      "text/plain": [
       "HBox(children=(FloatProgress(value=0.0, max=7.0), HTML(value='')))"
      ]
     },
     "metadata": {},
     "output_type": "display_data"
    },
    {
     "name": "stdout",
     "output_type": "stream",
     "text": [
      "\n",
      "수집한 글 갯수:  6\n"
     ]
    },
    {
     "data": {
      "application/vnd.jupyter.widget-view+json": {
       "model_id": "43340b35295043c4aae18fa200ca0ca1",
       "version_major": 2,
       "version_minor": 0
      },
      "text/plain": [
       "HBox(children=(FloatProgress(value=0.0, max=1.0), HTML(value='')))"
      ]
     },
     "metadata": {},
     "output_type": "display_data"
    },
    {
     "name": "stdout",
     "output_type": "stream",
     "text": [
      "\n",
      "수집한 글 갯수:  1\n"
     ]
    },
    {
     "data": {
      "application/vnd.jupyter.widget-view+json": {
       "model_id": "076e4fb200224d6bbcf55a9dd927ba0b",
       "version_major": 2,
       "version_minor": 0
      },
      "text/plain": [
       "HBox(children=(FloatProgress(value=0.0, max=7.0), HTML(value='')))"
      ]
     },
     "metadata": {},
     "output_type": "display_data"
    },
    {
     "name": "stdout",
     "output_type": "stream",
     "text": [
      "\n",
      "수집한 글 갯수:  6\n"
     ]
    },
    {
     "data": {
      "application/vnd.jupyter.widget-view+json": {
       "model_id": "b650bc7c58384b6faefc9d6f46fa6965",
       "version_major": 2,
       "version_minor": 0
      },
      "text/plain": [
       "HBox(children=(FloatProgress(value=0.0, max=1.0), HTML(value='')))"
      ]
     },
     "metadata": {},
     "output_type": "display_data"
    },
    {
     "name": "stdout",
     "output_type": "stream",
     "text": [
      "\n",
      "수집한 글 갯수:  1\n"
     ]
    },
    {
     "data": {
      "application/vnd.jupyter.widget-view+json": {
       "model_id": "ed91803c6bb545fdb1b5b3d4f6719ace",
       "version_major": 2,
       "version_minor": 0
      },
      "text/plain": [
       "HBox(children=(FloatProgress(value=0.0, max=2.0), HTML(value='')))"
      ]
     },
     "metadata": {},
     "output_type": "display_data"
    },
    {
     "name": "stdout",
     "output_type": "stream",
     "text": [
      "\n",
      "수집한 글 갯수:  2\n"
     ]
    },
    {
     "data": {
      "application/vnd.jupyter.widget-view+json": {
       "model_id": "23afa021f76d4d97a91c84a211828940",
       "version_major": 2,
       "version_minor": 0
      },
      "text/plain": [
       "HBox(children=(FloatProgress(value=0.0, max=6.0), HTML(value='')))"
      ]
     },
     "metadata": {},
     "output_type": "display_data"
    },
    {
     "name": "stdout",
     "output_type": "stream",
     "text": [
      "\n",
      "수집한 글 갯수:  5\n"
     ]
    },
    {
     "data": {
      "application/vnd.jupyter.widget-view+json": {
       "model_id": "b817008126a5484f87e6c0a0125327f5",
       "version_major": 2,
       "version_minor": 0
      },
      "text/plain": [
       "HBox(children=(FloatProgress(value=0.0, max=3.0), HTML(value='')))"
      ]
     },
     "metadata": {},
     "output_type": "display_data"
    },
    {
     "name": "stdout",
     "output_type": "stream",
     "text": [
      "\n",
      "수집한 글 갯수:  2\n"
     ]
    },
    {
     "data": {
      "application/vnd.jupyter.widget-view+json": {
       "model_id": "a2cf63cbc5b9467f8ed513be7e7d4058",
       "version_major": 2,
       "version_minor": 0
      },
      "text/plain": [
       "HBox(children=(FloatProgress(value=0.0, max=2.0), HTML(value='')))"
      ]
     },
     "metadata": {},
     "output_type": "display_data"
    },
    {
     "name": "stdout",
     "output_type": "stream",
     "text": [
      "\n",
      "수집한 글 갯수:  2\n"
     ]
    },
    {
     "data": {
      "application/vnd.jupyter.widget-view+json": {
       "model_id": "1b3b8c37e37546c6ace7889830bfd90e",
       "version_major": 2,
       "version_minor": 0
      },
      "text/plain": [
       "HBox(children=(FloatProgress(value=0.0, max=42.0), HTML(value='')))"
      ]
     },
     "metadata": {},
     "output_type": "display_data"
    },
    {
     "name": "stdout",
     "output_type": "stream",
     "text": [
      "\n",
      "수집한 글 갯수:  35\n"
     ]
    },
    {
     "data": {
      "application/vnd.jupyter.widget-view+json": {
       "model_id": "db98bdb25e0447e4acdcfaf56292c3c8",
       "version_major": 2,
       "version_minor": 0
      },
      "text/plain": [
       "HBox(children=(FloatProgress(value=0.0, max=443.0), HTML(value='')))"
      ]
     },
     "metadata": {},
     "output_type": "display_data"
    },
    {
     "name": "stdout",
     "output_type": "stream",
     "text": [
      "\n",
      "수집한 글 갯수:  358\n"
     ]
    },
    {
     "data": {
      "application/vnd.jupyter.widget-view+json": {
       "model_id": "1d692bbb3268457ea3362d480b8c37f1",
       "version_major": 2,
       "version_minor": 0
      },
      "text/plain": [
       "HBox(children=(FloatProgress(value=0.0, max=1.0), HTML(value='')))"
      ]
     },
     "metadata": {},
     "output_type": "display_data"
    },
    {
     "name": "stdout",
     "output_type": "stream",
     "text": [
      "\n",
      "수집한 글 갯수:  1\n"
     ]
    },
    {
     "data": {
      "application/vnd.jupyter.widget-view+json": {
       "model_id": "aed1b1eedaf74a24b7de441d0f8723d7",
       "version_major": 2,
       "version_minor": 0
      },
      "text/plain": [
       "HBox(children=(FloatProgress(value=0.0, max=1.0), HTML(value='')))"
      ]
     },
     "metadata": {},
     "output_type": "display_data"
    },
    {
     "name": "stdout",
     "output_type": "stream",
     "text": [
      "\n",
      "수집한 글 갯수:  1\n"
     ]
    },
    {
     "data": {
      "application/vnd.jupyter.widget-view+json": {
       "model_id": "1afbc62a181c4bf8aa9d68c4770f2bb2",
       "version_major": 2,
       "version_minor": 0
      },
      "text/plain": [
       "HBox(children=(FloatProgress(value=0.0, max=6.0), HTML(value='')))"
      ]
     },
     "metadata": {},
     "output_type": "display_data"
    },
    {
     "name": "stdout",
     "output_type": "stream",
     "text": [
      "\n",
      "수집한 글 갯수:  4\n"
     ]
    },
    {
     "data": {
      "application/vnd.jupyter.widget-view+json": {
       "model_id": "fd373c4b9db64961a201630519c89f5a",
       "version_major": 2,
       "version_minor": 0
      },
      "text/plain": [
       "HBox(children=(FloatProgress(value=0.0, max=16.0), HTML(value='')))"
      ]
     },
     "metadata": {},
     "output_type": "display_data"
    },
    {
     "name": "stdout",
     "output_type": "stream",
     "text": [
      "\n",
      "수집한 글 갯수:  10\n"
     ]
    },
    {
     "data": {
      "application/vnd.jupyter.widget-view+json": {
       "model_id": "daccd153239e4590a0f4aa99a230a66c",
       "version_major": 2,
       "version_minor": 0
      },
      "text/plain": [
       "HBox(children=(FloatProgress(value=0.0, max=1.0), HTML(value='')))"
      ]
     },
     "metadata": {},
     "output_type": "display_data"
    },
    {
     "name": "stdout",
     "output_type": "stream",
     "text": [
      "\n",
      "수집한 글 갯수:  0\n"
     ]
    },
    {
     "data": {
      "application/vnd.jupyter.widget-view+json": {
       "model_id": "6e2122e3f78541a4bc269adc7dac3257",
       "version_major": 2,
       "version_minor": 0
      },
      "text/plain": [
       "HBox(children=(FloatProgress(value=0.0, max=28.0), HTML(value='')))"
      ]
     },
     "metadata": {},
     "output_type": "display_data"
    },
    {
     "name": "stdout",
     "output_type": "stream",
     "text": [
      "\n",
      "수집한 글 갯수:  19\n"
     ]
    },
    {
     "data": {
      "application/vnd.jupyter.widget-view+json": {
       "model_id": "026cd72c6216413e97a1c4dbf78a1246",
       "version_major": 2,
       "version_minor": 0
      },
      "text/plain": [
       "HBox(children=(FloatProgress(value=0.0, max=41.0), HTML(value='')))"
      ]
     },
     "metadata": {},
     "output_type": "display_data"
    },
    {
     "name": "stdout",
     "output_type": "stream",
     "text": [
      "\n",
      "수집한 글 갯수:  28\n"
     ]
    },
    {
     "data": {
      "application/vnd.jupyter.widget-view+json": {
       "model_id": "2463035c1a2c4458b41b4a76aed7ece2",
       "version_major": 2,
       "version_minor": 0
      },
      "text/plain": [
       "HBox(children=(FloatProgress(value=0.0, max=5.0), HTML(value='')))"
      ]
     },
     "metadata": {},
     "output_type": "display_data"
    },
    {
     "name": "stdout",
     "output_type": "stream",
     "text": [
      "\n",
      "수집한 글 갯수:  4\n"
     ]
    },
    {
     "data": {
      "application/vnd.jupyter.widget-view+json": {
       "model_id": "36b800a751ba4782aa14260064b240e2",
       "version_major": 2,
       "version_minor": 0
      },
      "text/plain": [
       "HBox(children=(FloatProgress(value=0.0, max=1.0), HTML(value='')))"
      ]
     },
     "metadata": {},
     "output_type": "display_data"
    },
    {
     "name": "stdout",
     "output_type": "stream",
     "text": [
      "\n",
      "수집한 글 갯수:  1\n"
     ]
    },
    {
     "data": {
      "application/vnd.jupyter.widget-view+json": {
       "model_id": "d068aff9c237444eb40c4fe98a8c9303",
       "version_major": 2,
       "version_minor": 0
      },
      "text/plain": [
       "HBox(children=(FloatProgress(value=0.0, max=1.0), HTML(value='')))"
      ]
     },
     "metadata": {},
     "output_type": "display_data"
    },
    {
     "name": "stdout",
     "output_type": "stream",
     "text": [
      "\n",
      "수집한 글 갯수:  1\n"
     ]
    },
    {
     "data": {
      "application/vnd.jupyter.widget-view+json": {
       "model_id": "f5359637045a421597d335201f2ea765",
       "version_major": 2,
       "version_minor": 0
      },
      "text/plain": [
       "HBox(children=(FloatProgress(value=0.0, max=1.0), HTML(value='')))"
      ]
     },
     "metadata": {},
     "output_type": "display_data"
    },
    {
     "name": "stdout",
     "output_type": "stream",
     "text": [
      "\n",
      "수집한 글 갯수:  1\n"
     ]
    },
    {
     "data": {
      "application/vnd.jupyter.widget-view+json": {
       "model_id": "8c384a1cd8184dccbadb4db5a6890dab",
       "version_major": 2,
       "version_minor": 0
      },
      "text/plain": [
       "HBox(children=(FloatProgress(value=0.0, max=66.0), HTML(value='')))"
      ]
     },
     "metadata": {},
     "output_type": "display_data"
    },
    {
     "name": "stdout",
     "output_type": "stream",
     "text": [
      "\n",
      "수집한 글 갯수:  48\n"
     ]
    },
    {
     "data": {
      "application/vnd.jupyter.widget-view+json": {
       "model_id": "b52e21f93762469782b7e9b306abb4e2",
       "version_major": 2,
       "version_minor": 0
      },
      "text/plain": [
       "HBox(children=(FloatProgress(value=0.0, max=4.0), HTML(value='')))"
      ]
     },
     "metadata": {},
     "output_type": "display_data"
    },
    {
     "name": "stdout",
     "output_type": "stream",
     "text": [
      "\n",
      "수집한 글 갯수:  3\n"
     ]
    },
    {
     "data": {
      "application/vnd.jupyter.widget-view+json": {
       "model_id": "35c6a97f823840bab40f44e790d4a03b",
       "version_major": 2,
       "version_minor": 0
      },
      "text/plain": [
       "HBox(children=(FloatProgress(value=0.0, max=5.0), HTML(value='')))"
      ]
     },
     "metadata": {},
     "output_type": "display_data"
    },
    {
     "name": "stdout",
     "output_type": "stream",
     "text": [
      "\n",
      "수집한 글 갯수:  5\n"
     ]
    },
    {
     "data": {
      "application/vnd.jupyter.widget-view+json": {
       "model_id": "e038fc23f93a496a98be62c4d9567642",
       "version_major": 2,
       "version_minor": 0
      },
      "text/plain": [
       "HBox(children=(FloatProgress(value=0.0, max=60.0), HTML(value='')))"
      ]
     },
     "metadata": {},
     "output_type": "display_data"
    },
    {
     "name": "stdout",
     "output_type": "stream",
     "text": [
      "\n",
      "수집한 글 갯수:  42\n"
     ]
    },
    {
     "data": {
      "application/vnd.jupyter.widget-view+json": {
       "model_id": "cdc98888adf14918ade623a2e3d46ced",
       "version_major": 2,
       "version_minor": 0
      },
      "text/plain": [
       "HBox(children=(FloatProgress(value=0.0, max=62.0), HTML(value='')))"
      ]
     },
     "metadata": {},
     "output_type": "display_data"
    },
    {
     "name": "stdout",
     "output_type": "stream",
     "text": [
      "\n",
      "수집한 글 갯수:  50\n"
     ]
    },
    {
     "data": {
      "application/vnd.jupyter.widget-view+json": {
       "model_id": "960af623e4b84dfeb64e0566148e4ea0",
       "version_major": 2,
       "version_minor": 0
      },
      "text/plain": [
       "HBox(children=(FloatProgress(value=0.0, max=6.0), HTML(value='')))"
      ]
     },
     "metadata": {},
     "output_type": "display_data"
    },
    {
     "name": "stdout",
     "output_type": "stream",
     "text": [
      "\n",
      "수집한 글 갯수:  4\n"
     ]
    },
    {
     "data": {
      "application/vnd.jupyter.widget-view+json": {
       "model_id": "58c6589a54d34cdfb514396ba72554b1",
       "version_major": 2,
       "version_minor": 0
      },
      "text/plain": [
       "HBox(children=(FloatProgress(value=0.0, max=5.0), HTML(value='')))"
      ]
     },
     "metadata": {},
     "output_type": "display_data"
    },
    {
     "name": "stdout",
     "output_type": "stream",
     "text": [
      "\n",
      "수집한 글 갯수:  5\n"
     ]
    },
    {
     "data": {
      "application/vnd.jupyter.widget-view+json": {
       "model_id": "d0a1d9e2129c44469a40adb31cee5294",
       "version_major": 2,
       "version_minor": 0
      },
      "text/plain": [
       "HBox(children=(FloatProgress(value=0.0, max=4.0), HTML(value='')))"
      ]
     },
     "metadata": {},
     "output_type": "display_data"
    },
    {
     "name": "stdout",
     "output_type": "stream",
     "text": [
      "\n",
      "수집한 글 갯수:  3\n"
     ]
    },
    {
     "data": {
      "application/vnd.jupyter.widget-view+json": {
       "model_id": "52b65e3754bc472cada6206466580a53",
       "version_major": 2,
       "version_minor": 0
      },
      "text/plain": [
       "HBox(children=(FloatProgress(value=0.0, max=11.0), HTML(value='')))"
      ]
     },
     "metadata": {},
     "output_type": "display_data"
    },
    {
     "name": "stdout",
     "output_type": "stream",
     "text": [
      "\n",
      "수집한 글 갯수:  8\n"
     ]
    },
    {
     "data": {
      "application/vnd.jupyter.widget-view+json": {
       "model_id": "3eae341341974dd6babae6d3110b458a",
       "version_major": 2,
       "version_minor": 0
      },
      "text/plain": [
       "HBox(children=(FloatProgress(value=0.0, max=1.0), HTML(value='')))"
      ]
     },
     "metadata": {},
     "output_type": "display_data"
    },
    {
     "name": "stdout",
     "output_type": "stream",
     "text": [
      "\n",
      "수집한 글 갯수:  1\n"
     ]
    },
    {
     "data": {
      "application/vnd.jupyter.widget-view+json": {
       "model_id": "2590123e371848b79c409b884a38c8a8",
       "version_major": 2,
       "version_minor": 0
      },
      "text/plain": [
       "HBox(children=(FloatProgress(value=0.0, max=5.0), HTML(value='')))"
      ]
     },
     "metadata": {},
     "output_type": "display_data"
    },
    {
     "name": "stdout",
     "output_type": "stream",
     "text": [
      "\n",
      "수집한 글 갯수:  5\n"
     ]
    },
    {
     "data": {
      "application/vnd.jupyter.widget-view+json": {
       "model_id": "4962211cb35c487691fc20c0f094f926",
       "version_major": 2,
       "version_minor": 0
      },
      "text/plain": [
       "HBox(children=(FloatProgress(value=0.0, max=16.0), HTML(value='')))"
      ]
     },
     "metadata": {},
     "output_type": "display_data"
    },
    {
     "name": "stdout",
     "output_type": "stream",
     "text": [
      "\n",
      "수집한 글 갯수:  13\n"
     ]
    },
    {
     "data": {
      "application/vnd.jupyter.widget-view+json": {
       "model_id": "5381d9d43fa34779a8a0efbbb3857bed",
       "version_major": 2,
       "version_minor": 0
      },
      "text/plain": [
       "HBox(children=(FloatProgress(value=0.0, max=2.0), HTML(value='')))"
      ]
     },
     "metadata": {},
     "output_type": "display_data"
    },
    {
     "name": "stdout",
     "output_type": "stream",
     "text": [
      "\n",
      "수집한 글 갯수:  1\n"
     ]
    },
    {
     "data": {
      "application/vnd.jupyter.widget-view+json": {
       "model_id": "2725224a4c624860b414d7fda1765645",
       "version_major": 2,
       "version_minor": 0
      },
      "text/plain": [
       "HBox(children=(FloatProgress(value=0.0, max=6.0), HTML(value='')))"
      ]
     },
     "metadata": {},
     "output_type": "display_data"
    },
    {
     "name": "stdout",
     "output_type": "stream",
     "text": [
      "\n",
      "수집한 글 갯수:  3\n"
     ]
    },
    {
     "data": {
      "application/vnd.jupyter.widget-view+json": {
       "model_id": "f072ddc853d44ebbb92c2aaa6491f316",
       "version_major": 2,
       "version_minor": 0
      },
      "text/plain": [
       "HBox(children=(FloatProgress(value=0.0, max=4.0), HTML(value='')))"
      ]
     },
     "metadata": {},
     "output_type": "display_data"
    },
    {
     "name": "stdout",
     "output_type": "stream",
     "text": [
      "\n",
      "수집한 글 갯수:  4\n"
     ]
    },
    {
     "data": {
      "application/vnd.jupyter.widget-view+json": {
       "model_id": "057b658b95fc4e5f9ef1788141a171fa",
       "version_major": 2,
       "version_minor": 0
      },
      "text/plain": [
       "HBox(children=(FloatProgress(value=0.0, max=3.0), HTML(value='')))"
      ]
     },
     "metadata": {},
     "output_type": "display_data"
    },
    {
     "name": "stdout",
     "output_type": "stream",
     "text": [
      "\n",
      "수집한 글 갯수:  3\n"
     ]
    },
    {
     "data": {
      "application/vnd.jupyter.widget-view+json": {
       "model_id": "0488b343ccfc4c43b3ab2c4e1a386210",
       "version_major": 2,
       "version_minor": 0
      },
      "text/plain": [
       "HBox(children=(FloatProgress(value=0.0, max=3.0), HTML(value='')))"
      ]
     },
     "metadata": {},
     "output_type": "display_data"
    },
    {
     "name": "stdout",
     "output_type": "stream",
     "text": [
      "\n",
      "수집한 글 갯수:  3\n"
     ]
    },
    {
     "data": {
      "application/vnd.jupyter.widget-view+json": {
       "model_id": "d4835b2d28304d4ea9ae14a42e4c5df6",
       "version_major": 2,
       "version_minor": 0
      },
      "text/plain": [
       "HBox(children=(FloatProgress(value=0.0, max=10.0), HTML(value='')))"
      ]
     },
     "metadata": {},
     "output_type": "display_data"
    },
    {
     "name": "stdout",
     "output_type": "stream",
     "text": [
      "\n",
      "수집한 글 갯수:  8\n"
     ]
    },
    {
     "data": {
      "application/vnd.jupyter.widget-view+json": {
       "model_id": "7b756a670d9d4e5ca6b78b84db97865e",
       "version_major": 2,
       "version_minor": 0
      },
      "text/plain": [
       "HBox(children=(FloatProgress(value=0.0, max=14.0), HTML(value='')))"
      ]
     },
     "metadata": {},
     "output_type": "display_data"
    },
    {
     "name": "stdout",
     "output_type": "stream",
     "text": [
      "\n",
      "수집한 글 갯수:  12\n"
     ]
    },
    {
     "data": {
      "application/vnd.jupyter.widget-view+json": {
       "model_id": "4c582e01184b489cb5f1375289e2da62",
       "version_major": 2,
       "version_minor": 0
      },
      "text/plain": [
       "HBox(children=(FloatProgress(value=0.0, max=14.0), HTML(value='')))"
      ]
     },
     "metadata": {},
     "output_type": "display_data"
    },
    {
     "name": "stdout",
     "output_type": "stream",
     "text": [
      "\n",
      "수집한 글 갯수:  9\n"
     ]
    },
    {
     "data": {
      "application/vnd.jupyter.widget-view+json": {
       "model_id": "5a227fdec19a467b91918db63df2cc1e",
       "version_major": 2,
       "version_minor": 0
      },
      "text/plain": [
       "HBox(children=(FloatProgress(value=0.0, max=11.0), HTML(value='')))"
      ]
     },
     "metadata": {},
     "output_type": "display_data"
    },
    {
     "name": "stdout",
     "output_type": "stream",
     "text": [
      "\n",
      "수집한 글 갯수:  8\n"
     ]
    },
    {
     "data": {
      "application/vnd.jupyter.widget-view+json": {
       "model_id": "103c46a0f51f4f7da6569d3a75265320",
       "version_major": 2,
       "version_minor": 0
      },
      "text/plain": [
       "HBox(children=(FloatProgress(value=0.0, max=1.0), HTML(value='')))"
      ]
     },
     "metadata": {},
     "output_type": "display_data"
    },
    {
     "name": "stdout",
     "output_type": "stream",
     "text": [
      "\n",
      "수집한 글 갯수:  1\n"
     ]
    },
    {
     "data": {
      "application/vnd.jupyter.widget-view+json": {
       "model_id": "5bdc1395c80b458e9949c27f9d888f27",
       "version_major": 2,
       "version_minor": 0
      },
      "text/plain": [
       "HBox(children=(FloatProgress(value=0.0, max=2.0), HTML(value='')))"
      ]
     },
     "metadata": {},
     "output_type": "display_data"
    },
    {
     "name": "stdout",
     "output_type": "stream",
     "text": [
      "\n",
      "수집한 글 갯수:  2\n"
     ]
    },
    {
     "data": {
      "application/vnd.jupyter.widget-view+json": {
       "model_id": "58bc0682748b403c8262154a24b266b1",
       "version_major": 2,
       "version_minor": 0
      },
      "text/plain": [
       "HBox(children=(FloatProgress(value=0.0, max=17.0), HTML(value='')))"
      ]
     },
     "metadata": {},
     "output_type": "display_data"
    },
    {
     "name": "stdout",
     "output_type": "stream",
     "text": [
      "\n",
      "수집한 글 갯수:  10\n"
     ]
    },
    {
     "data": {
      "application/vnd.jupyter.widget-view+json": {
       "model_id": "050d966940db4c3080b2f498c0ee8dc9",
       "version_major": 2,
       "version_minor": 0
      },
      "text/plain": [
       "HBox(children=(FloatProgress(value=0.0, max=9.0), HTML(value='')))"
      ]
     },
     "metadata": {},
     "output_type": "display_data"
    },
    {
     "name": "stdout",
     "output_type": "stream",
     "text": [
      "\n",
      "수집한 글 갯수:  8\n"
     ]
    },
    {
     "data": {
      "application/vnd.jupyter.widget-view+json": {
       "model_id": "a2c9e8c4c4f14adf8cccef5bea007856",
       "version_major": 2,
       "version_minor": 0
      },
      "text/plain": [
       "HBox(children=(FloatProgress(value=0.0, max=6.0), HTML(value='')))"
      ]
     },
     "metadata": {},
     "output_type": "display_data"
    },
    {
     "name": "stdout",
     "output_type": "stream",
     "text": [
      "\n",
      "수집한 글 갯수:  6\n"
     ]
    },
    {
     "data": {
      "application/vnd.jupyter.widget-view+json": {
       "model_id": "e4dd112bb30744788994f0aacdf46906",
       "version_major": 2,
       "version_minor": 0
      },
      "text/plain": [
       "HBox(children=(FloatProgress(value=0.0, max=1.0), HTML(value='')))"
      ]
     },
     "metadata": {},
     "output_type": "display_data"
    },
    {
     "name": "stdout",
     "output_type": "stream",
     "text": [
      "\n",
      "수집한 글 갯수:  1\n"
     ]
    },
    {
     "data": {
      "application/vnd.jupyter.widget-view+json": {
       "model_id": "520497bd111c45cc98adf06ac376c76b",
       "version_major": 2,
       "version_minor": 0
      },
      "text/plain": [
       "HBox(children=(FloatProgress(value=0.0, max=4.0), HTML(value='')))"
      ]
     },
     "metadata": {},
     "output_type": "display_data"
    },
    {
     "name": "stdout",
     "output_type": "stream",
     "text": [
      "\n",
      "수집한 글 갯수:  4\n"
     ]
    },
    {
     "data": {
      "application/vnd.jupyter.widget-view+json": {
       "model_id": "c1a3e007ea3b4d28853d34d9302c83b0",
       "version_major": 2,
       "version_minor": 0
      },
      "text/plain": [
       "HBox(children=(FloatProgress(value=0.0, max=30.0), HTML(value='')))"
      ]
     },
     "metadata": {},
     "output_type": "display_data"
    },
    {
     "name": "stdout",
     "output_type": "stream",
     "text": [
      "\n",
      "수집한 글 갯수:  20\n"
     ]
    },
    {
     "data": {
      "application/vnd.jupyter.widget-view+json": {
       "model_id": "f09fb09e37e245428df9a5655b3e3e35",
       "version_major": 2,
       "version_minor": 0
      },
      "text/plain": [
       "HBox(children=(FloatProgress(value=0.0, max=10.0), HTML(value='')))"
      ]
     },
     "metadata": {},
     "output_type": "display_data"
    },
    {
     "name": "stdout",
     "output_type": "stream",
     "text": [
      "\n",
      "수집한 글 갯수:  9\n"
     ]
    },
    {
     "data": {
      "application/vnd.jupyter.widget-view+json": {
       "model_id": "3014dd0e03f14b1aabada1e6c5e18c89",
       "version_major": 2,
       "version_minor": 0
      },
      "text/plain": [
       "HBox(children=(FloatProgress(value=0.0, max=40.0), HTML(value='')))"
      ]
     },
     "metadata": {},
     "output_type": "display_data"
    },
    {
     "name": "stdout",
     "output_type": "stream",
     "text": [
      "\n",
      "수집한 글 갯수:  37\n"
     ]
    },
    {
     "data": {
      "application/vnd.jupyter.widget-view+json": {
       "model_id": "b63bc20f08264ed7b877a95b31737e39",
       "version_major": 2,
       "version_minor": 0
      },
      "text/plain": [
       "HBox(children=(FloatProgress(value=0.0, max=42.0), HTML(value='')))"
      ]
     },
     "metadata": {},
     "output_type": "display_data"
    },
    {
     "name": "stdout",
     "output_type": "stream",
     "text": [
      "\n",
      "수집한 글 갯수:  25\n"
     ]
    },
    {
     "data": {
      "application/vnd.jupyter.widget-view+json": {
       "model_id": "a60a764fe737471ab0ebb762dbbaf75c",
       "version_major": 2,
       "version_minor": 0
      },
      "text/plain": [
       "HBox(children=(FloatProgress(value=0.0, max=1.0), HTML(value='')))"
      ]
     },
     "metadata": {},
     "output_type": "display_data"
    },
    {
     "name": "stdout",
     "output_type": "stream",
     "text": [
      "\n",
      "수집한 글 갯수:  1\n"
     ]
    },
    {
     "data": {
      "application/vnd.jupyter.widget-view+json": {
       "model_id": "476acf3be7eb4318b0cc6f57a7901f04",
       "version_major": 2,
       "version_minor": 0
      },
      "text/plain": [
       "HBox(children=(FloatProgress(value=0.0, max=6.0), HTML(value='')))"
      ]
     },
     "metadata": {},
     "output_type": "display_data"
    },
    {
     "name": "stdout",
     "output_type": "stream",
     "text": [
      "\n",
      "수집한 글 갯수:  5\n"
     ]
    },
    {
     "data": {
      "application/vnd.jupyter.widget-view+json": {
       "model_id": "3c1c563c4fa74ce1b35071999d7a1d26",
       "version_major": 2,
       "version_minor": 0
      },
      "text/plain": [
       "HBox(children=(FloatProgress(value=0.0, max=17.0), HTML(value='')))"
      ]
     },
     "metadata": {},
     "output_type": "display_data"
    },
    {
     "name": "stdout",
     "output_type": "stream",
     "text": [
      "\n",
      "수집한 글 갯수:  14\n"
     ]
    },
    {
     "data": {
      "application/vnd.jupyter.widget-view+json": {
       "model_id": "4a3e4be1b23240b3a7cb78ef00bad5af",
       "version_major": 2,
       "version_minor": 0
      },
      "text/plain": [
       "HBox(children=(FloatProgress(value=0.0, max=5.0), HTML(value='')))"
      ]
     },
     "metadata": {},
     "output_type": "display_data"
    },
    {
     "name": "stdout",
     "output_type": "stream",
     "text": [
      "\n",
      "수집한 글 갯수:  4\n"
     ]
    },
    {
     "data": {
      "application/vnd.jupyter.widget-view+json": {
       "model_id": "68ed412910264d49b34adce111a999a7",
       "version_major": 2,
       "version_minor": 0
      },
      "text/plain": [
       "HBox(children=(FloatProgress(value=0.0, max=29.0), HTML(value='')))"
      ]
     },
     "metadata": {},
     "output_type": "display_data"
    },
    {
     "name": "stdout",
     "output_type": "stream",
     "text": [
      "\n",
      "수집한 글 갯수:  21\n"
     ]
    },
    {
     "data": {
      "application/vnd.jupyter.widget-view+json": {
       "model_id": "d77626153fec4ad4a3d035446847e362",
       "version_major": 2,
       "version_minor": 0
      },
      "text/plain": [
       "HBox(children=(FloatProgress(value=0.0, max=2.0), HTML(value='')))"
      ]
     },
     "metadata": {},
     "output_type": "display_data"
    },
    {
     "name": "stdout",
     "output_type": "stream",
     "text": [
      "\n",
      "수집한 글 갯수:  1\n"
     ]
    },
    {
     "data": {
      "application/vnd.jupyter.widget-view+json": {
       "model_id": "341a5839a5894e099a28f56ed63c98b2",
       "version_major": 2,
       "version_minor": 0
      },
      "text/plain": [
       "HBox(children=(FloatProgress(value=0.0, max=3.0), HTML(value='')))"
      ]
     },
     "metadata": {},
     "output_type": "display_data"
    },
    {
     "name": "stdout",
     "output_type": "stream",
     "text": [
      "\n",
      "수집한 글 갯수:  0\n"
     ]
    },
    {
     "data": {
      "application/vnd.jupyter.widget-view+json": {
       "model_id": "4d0a9b31208a4a60bc03c2b97e23b085",
       "version_major": 2,
       "version_minor": 0
      },
      "text/plain": [
       "HBox(children=(FloatProgress(value=0.0, max=1.0), HTML(value='')))"
      ]
     },
     "metadata": {},
     "output_type": "display_data"
    },
    {
     "name": "stdout",
     "output_type": "stream",
     "text": [
      "\n",
      "수집한 글 갯수:  0\n"
     ]
    },
    {
     "data": {
      "application/vnd.jupyter.widget-view+json": {
       "model_id": "77644eda52c841f69aa780efeebcb1e5",
       "version_major": 2,
       "version_minor": 0
      },
      "text/plain": [
       "HBox(children=(FloatProgress(value=0.0, max=820.0), HTML(value='')))"
      ]
     },
     "metadata": {},
     "output_type": "display_data"
    },
    {
     "name": "stdout",
     "output_type": "stream",
     "text": [
      "\n",
      "수집한 글 갯수:  534\n"
     ]
    },
    {
     "data": {
      "application/vnd.jupyter.widget-view+json": {
       "model_id": "4352f54d197c4663b4457f0f7d23cacb",
       "version_major": 2,
       "version_minor": 0
      },
      "text/plain": [
       "HBox(children=(FloatProgress(value=0.0, max=1.0), HTML(value='')))"
      ]
     },
     "metadata": {},
     "output_type": "display_data"
    },
    {
     "name": "stdout",
     "output_type": "stream",
     "text": [
      "\n",
      "수집한 글 갯수:  1\n"
     ]
    },
    {
     "data": {
      "application/vnd.jupyter.widget-view+json": {
       "model_id": "fc37ff14cc02426d97af194bd618d7f3",
       "version_major": 2,
       "version_minor": 0
      },
      "text/plain": [
       "HBox(children=(FloatProgress(value=0.0, max=7.0), HTML(value='')))"
      ]
     },
     "metadata": {},
     "output_type": "display_data"
    },
    {
     "name": "stdout",
     "output_type": "stream",
     "text": [
      "\n",
      "수집한 글 갯수:  4\n"
     ]
    },
    {
     "data": {
      "application/vnd.jupyter.widget-view+json": {
       "model_id": "146a23e0b3244b45aa67dbff4bfa7a61",
       "version_major": 2,
       "version_minor": 0
      },
      "text/plain": [
       "HBox(children=(FloatProgress(value=0.0, max=3.0), HTML(value='')))"
      ]
     },
     "metadata": {},
     "output_type": "display_data"
    },
    {
     "name": "stdout",
     "output_type": "stream",
     "text": [
      "\n",
      "수집한 글 갯수:  3\n"
     ]
    },
    {
     "data": {
      "application/vnd.jupyter.widget-view+json": {
       "model_id": "61b93ce5b9e144eeaa3673b13954fb13",
       "version_major": 2,
       "version_minor": 0
      },
      "text/plain": [
       "HBox(children=(FloatProgress(value=0.0, max=3.0), HTML(value='')))"
      ]
     },
     "metadata": {},
     "output_type": "display_data"
    },
    {
     "name": "stdout",
     "output_type": "stream",
     "text": [
      "\n",
      "수집한 글 갯수:  3\n"
     ]
    },
    {
     "data": {
      "application/vnd.jupyter.widget-view+json": {
       "model_id": "c92e7aeb47d24a739184a155ada6288e",
       "version_major": 2,
       "version_minor": 0
      },
      "text/plain": [
       "HBox(children=(FloatProgress(value=0.0, max=36.0), HTML(value='')))"
      ]
     },
     "metadata": {},
     "output_type": "display_data"
    },
    {
     "name": "stdout",
     "output_type": "stream",
     "text": [
      "\n",
      "수집한 글 갯수:  18\n"
     ]
    },
    {
     "data": {
      "application/vnd.jupyter.widget-view+json": {
       "model_id": "ac5f92c2530b4a659dd8ddf6a8a3ef84",
       "version_major": 2,
       "version_minor": 0
      },
      "text/plain": [
       "HBox(children=(FloatProgress(value=0.0, max=12.0), HTML(value='')))"
      ]
     },
     "metadata": {},
     "output_type": "display_data"
    },
    {
     "name": "stdout",
     "output_type": "stream",
     "text": [
      "\n",
      "수집한 글 갯수:  11\n"
     ]
    },
    {
     "data": {
      "application/vnd.jupyter.widget-view+json": {
       "model_id": "3a4e223e65e140278e0fbadf4ddd27c5",
       "version_major": 2,
       "version_minor": 0
      },
      "text/plain": [
       "HBox(children=(FloatProgress(value=0.0, max=20.0), HTML(value='')))"
      ]
     },
     "metadata": {},
     "output_type": "display_data"
    },
    {
     "name": "stdout",
     "output_type": "stream",
     "text": [
      "\n",
      "수집한 글 갯수:  4\n"
     ]
    },
    {
     "data": {
      "application/vnd.jupyter.widget-view+json": {
       "model_id": "f450d9aa02e34105b4909fd4cbf270b5",
       "version_major": 2,
       "version_minor": 0
      },
      "text/plain": [
       "HBox(children=(FloatProgress(value=0.0, max=2.0), HTML(value='')))"
      ]
     },
     "metadata": {},
     "output_type": "display_data"
    },
    {
     "name": "stdout",
     "output_type": "stream",
     "text": [
      "\n",
      "수집한 글 갯수:  1\n"
     ]
    },
    {
     "data": {
      "application/vnd.jupyter.widget-view+json": {
       "model_id": "e08b1ccec0d9420bb49326ef08090a9c",
       "version_major": 2,
       "version_minor": 0
      },
      "text/plain": [
       "HBox(children=(FloatProgress(value=0.0, max=5.0), HTML(value='')))"
      ]
     },
     "metadata": {},
     "output_type": "display_data"
    },
    {
     "name": "stdout",
     "output_type": "stream",
     "text": [
      "\n",
      "수집한 글 갯수:  2\n"
     ]
    },
    {
     "data": {
      "application/vnd.jupyter.widget-view+json": {
       "model_id": "0b87d06fe9e045e3825b3d4b0c7cf9c1",
       "version_major": 2,
       "version_minor": 0
      },
      "text/plain": [
       "HBox(children=(FloatProgress(value=0.0, max=26.0), HTML(value='')))"
      ]
     },
     "metadata": {},
     "output_type": "display_data"
    },
    {
     "name": "stdout",
     "output_type": "stream",
     "text": [
      "\n",
      "수집한 글 갯수:  25\n"
     ]
    },
    {
     "data": {
      "application/vnd.jupyter.widget-view+json": {
       "model_id": "a03b415668ca4d2abd5abaa39ce2f8f1",
       "version_major": 2,
       "version_minor": 0
      },
      "text/plain": [
       "HBox(children=(FloatProgress(value=0.0, max=2.0), HTML(value='')))"
      ]
     },
     "metadata": {},
     "output_type": "display_data"
    },
    {
     "name": "stdout",
     "output_type": "stream",
     "text": [
      "\n",
      "수집한 글 갯수:  1\n"
     ]
    },
    {
     "data": {
      "application/vnd.jupyter.widget-view+json": {
       "model_id": "f911802335d84d1b814920f892dd9d57",
       "version_major": 2,
       "version_minor": 0
      },
      "text/plain": [
       "HBox(children=(FloatProgress(value=0.0, max=7.0), HTML(value='')))"
      ]
     },
     "metadata": {},
     "output_type": "display_data"
    },
    {
     "name": "stdout",
     "output_type": "stream",
     "text": [
      "\n",
      "수집한 글 갯수:  4\n"
     ]
    },
    {
     "data": {
      "application/vnd.jupyter.widget-view+json": {
       "model_id": "ba6fa7b52ecd41c8b4bccfe026c9b1db",
       "version_major": 2,
       "version_minor": 0
      },
      "text/plain": [
       "HBox(children=(FloatProgress(value=0.0, max=1.0), HTML(value='')))"
      ]
     },
     "metadata": {},
     "output_type": "display_data"
    },
    {
     "name": "stdout",
     "output_type": "stream",
     "text": [
      "\n",
      "수집한 글 갯수:  1\n"
     ]
    },
    {
     "data": {
      "application/vnd.jupyter.widget-view+json": {
       "model_id": "60d29830285f4ad7afb1f7047702dfed",
       "version_major": 2,
       "version_minor": 0
      },
      "text/plain": [
       "HBox(children=(FloatProgress(value=0.0, max=2.0), HTML(value='')))"
      ]
     },
     "metadata": {},
     "output_type": "display_data"
    },
    {
     "name": "stdout",
     "output_type": "stream",
     "text": [
      "\n",
      "수집한 글 갯수:  1\n"
     ]
    },
    {
     "data": {
      "application/vnd.jupyter.widget-view+json": {
       "model_id": "59226f3cdc30491ab737752ef8a8bcad",
       "version_major": 2,
       "version_minor": 0
      },
      "text/plain": [
       "HBox(children=(FloatProgress(value=0.0, max=3.0), HTML(value='')))"
      ]
     },
     "metadata": {},
     "output_type": "display_data"
    },
    {
     "name": "stdout",
     "output_type": "stream",
     "text": [
      "\n",
      "수집한 글 갯수:  2\n"
     ]
    },
    {
     "data": {
      "application/vnd.jupyter.widget-view+json": {
       "model_id": "73ac965249a0478aaf84e3e93982b050",
       "version_major": 2,
       "version_minor": 0
      },
      "text/plain": [
       "HBox(children=(FloatProgress(value=0.0, max=22.0), HTML(value='')))"
      ]
     },
     "metadata": {},
     "output_type": "display_data"
    },
    {
     "name": "stdout",
     "output_type": "stream",
     "text": [
      "\n",
      "수집한 글 갯수:  18\n"
     ]
    },
    {
     "data": {
      "application/vnd.jupyter.widget-view+json": {
       "model_id": "c422f328ef1344c68ad2e84dc1f77052",
       "version_major": 2,
       "version_minor": 0
      },
      "text/plain": [
       "HBox(children=(FloatProgress(value=0.0, max=7.0), HTML(value='')))"
      ]
     },
     "metadata": {},
     "output_type": "display_data"
    },
    {
     "name": "stdout",
     "output_type": "stream",
     "text": [
      "\n",
      "수집한 글 갯수:  7\n"
     ]
    },
    {
     "data": {
      "application/vnd.jupyter.widget-view+json": {
       "model_id": "4f79fb58c20b4c899b0f5183430b977f",
       "version_major": 2,
       "version_minor": 0
      },
      "text/plain": [
       "HBox(children=(FloatProgress(value=0.0, max=30.0), HTML(value='')))"
      ]
     },
     "metadata": {},
     "output_type": "display_data"
    },
    {
     "name": "stdout",
     "output_type": "stream",
     "text": [
      "\n",
      "수집한 글 갯수:  21\n"
     ]
    },
    {
     "data": {
      "application/vnd.jupyter.widget-view+json": {
       "model_id": "30e879ae43894555bb7b646257596607",
       "version_major": 2,
       "version_minor": 0
      },
      "text/plain": [
       "HBox(children=(FloatProgress(value=0.0, max=108.0), HTML(value='')))"
      ]
     },
     "metadata": {},
     "output_type": "display_data"
    },
    {
     "name": "stdout",
     "output_type": "stream",
     "text": [
      "\n",
      "수집한 글 갯수:  75\n"
     ]
    },
    {
     "data": {
      "application/vnd.jupyter.widget-view+json": {
       "model_id": "a247d02ca03c412dac3960201fdef049",
       "version_major": 2,
       "version_minor": 0
      },
      "text/plain": [
       "HBox(children=(FloatProgress(value=0.0, max=2.0), HTML(value='')))"
      ]
     },
     "metadata": {},
     "output_type": "display_data"
    },
    {
     "name": "stdout",
     "output_type": "stream",
     "text": [
      "\n",
      "수집한 글 갯수:  2\n"
     ]
    },
    {
     "data": {
      "application/vnd.jupyter.widget-view+json": {
       "model_id": "211a7f12ee7d4002bdc4f71e6fcb4c58",
       "version_major": 2,
       "version_minor": 0
      },
      "text/plain": [
       "HBox(children=(FloatProgress(value=0.0, max=64.0), HTML(value='')))"
      ]
     },
     "metadata": {},
     "output_type": "display_data"
    },
    {
     "name": "stdout",
     "output_type": "stream",
     "text": [
      "\n",
      "수집한 글 갯수:  53\n"
     ]
    },
    {
     "data": {
      "application/vnd.jupyter.widget-view+json": {
       "model_id": "4348f41320f24136b7af615c9a1d450a",
       "version_major": 2,
       "version_minor": 0
      },
      "text/plain": [
       "HBox(children=(FloatProgress(value=0.0, max=8.0), HTML(value='')))"
      ]
     },
     "metadata": {},
     "output_type": "display_data"
    },
    {
     "name": "stdout",
     "output_type": "stream",
     "text": [
      "\n",
      "수집한 글 갯수:  6\n"
     ]
    },
    {
     "data": {
      "application/vnd.jupyter.widget-view+json": {
       "model_id": "e007f8f8fe3d4aa9b58d6fbe2655e912",
       "version_major": 2,
       "version_minor": 0
      },
      "text/plain": [
       "HBox(children=(FloatProgress(value=0.0, max=1.0), HTML(value='')))"
      ]
     },
     "metadata": {},
     "output_type": "display_data"
    },
    {
     "name": "stdout",
     "output_type": "stream",
     "text": [
      "\n",
      "수집한 글 갯수:  1\n"
     ]
    },
    {
     "data": {
      "application/vnd.jupyter.widget-view+json": {
       "model_id": "567a3d31b36e48e0bf5f625368a67484",
       "version_major": 2,
       "version_minor": 0
      },
      "text/plain": [
       "HBox(children=(FloatProgress(value=0.0, max=20.0), HTML(value='')))"
      ]
     },
     "metadata": {},
     "output_type": "display_data"
    },
    {
     "name": "stdout",
     "output_type": "stream",
     "text": [
      "\n",
      "수집한 글 갯수:  18\n"
     ]
    },
    {
     "data": {
      "application/vnd.jupyter.widget-view+json": {
       "model_id": "7bee79b28a4a4166af48c81a13893fdd",
       "version_major": 2,
       "version_minor": 0
      },
      "text/plain": [
       "HBox(children=(FloatProgress(value=0.0, max=38.0), HTML(value='')))"
      ]
     },
     "metadata": {},
     "output_type": "display_data"
    },
    {
     "name": "stdout",
     "output_type": "stream",
     "text": [
      "\n",
      "수집한 글 갯수:  32\n"
     ]
    },
    {
     "data": {
      "application/vnd.jupyter.widget-view+json": {
       "model_id": "4e9200bcaabe4dab99f2561c81e44f31",
       "version_major": 2,
       "version_minor": 0
      },
      "text/plain": [
       "HBox(children=(FloatProgress(value=0.0, max=1.0), HTML(value='')))"
      ]
     },
     "metadata": {},
     "output_type": "display_data"
    },
    {
     "name": "stdout",
     "output_type": "stream",
     "text": [
      "\n",
      "수집한 글 갯수:  1\n"
     ]
    },
    {
     "data": {
      "application/vnd.jupyter.widget-view+json": {
       "model_id": "6d8a5e5a1c824911801a9aa09b65acc6",
       "version_major": 2,
       "version_minor": 0
      },
      "text/plain": [
       "HBox(children=(FloatProgress(value=0.0, max=3.0), HTML(value='')))"
      ]
     },
     "metadata": {},
     "output_type": "display_data"
    },
    {
     "name": "stdout",
     "output_type": "stream",
     "text": [
      "\n",
      "수집한 글 갯수:  2\n"
     ]
    },
    {
     "data": {
      "application/vnd.jupyter.widget-view+json": {
       "model_id": "84ad564d312240d9b3b276b901c143f7",
       "version_major": 2,
       "version_minor": 0
      },
      "text/plain": [
       "HBox(children=(FloatProgress(value=0.0, max=1.0), HTML(value='')))"
      ]
     },
     "metadata": {},
     "output_type": "display_data"
    },
    {
     "name": "stdout",
     "output_type": "stream",
     "text": [
      "\n",
      "수집한 글 갯수:  1\n"
     ]
    },
    {
     "data": {
      "application/vnd.jupyter.widget-view+json": {
       "model_id": "6b93f757f3404b09b2e1be36678e4887",
       "version_major": 2,
       "version_minor": 0
      },
      "text/plain": [
       "HBox(children=(FloatProgress(value=0.0, max=110.0), HTML(value='')))"
      ]
     },
     "metadata": {},
     "output_type": "display_data"
    },
    {
     "name": "stdout",
     "output_type": "stream",
     "text": [
      "\n",
      "수집한 글 갯수:  86\n"
     ]
    },
    {
     "name": "stderr",
     "output_type": "stream",
     "text": [
      "C:\\Users\\jejec\\anaconda3\\envs\\mulcam\\lib\\site-packages\\xlsxwriter\\worksheet.py:937: UserWarning: Ignoring URL 'https://v.kakao.com/v/20200315210236752%20오늘%20읽은%20뉴스기사%20중\n",
      "공감이%20가는%20기사거리\n",
      "'밀폐된%20실내보다%20야외로'\n",
      "연일%20늘어나는%20코로나확진자에\n",
      "불안감이%20커지면서%20어디든\n",
      "방문하기가%20조금%20꺼려진다\n",
      "자발적이긴%20하지만\n",
      "어쩔수없는%20집돌이,집순이%20상태이다보니\n",
      "밖으로%20나가는%20것에%20더%20목마르게%20되는것%20같다\n",
      "평소라면\n",
      "남편%20머리정리겸%20벌써%20두번은%20더\n",
      "방문했을%20뉴코아백화점도%20패스\n",
      "(요즘%20다니는%20곳은%20아이디헤어강서점)\n",
      "유동인구가%20많다보니%20\n",
      "집앞의%201인%20미용실을%20갈까%20고민중이나\n",
      "어정쩡하게%20길어버리니%20더%20고민중ㅋㅋㅋㅋ\n",
      "며칠전\n",
      "산에%20다녀온%20것이%20그나마\n",
      "기분전환에%20도움이%20되었던%20것%20같아서\n",
      "오늘은%20용왕산으로%20!!%20외출전%20옷을%20어찌입힐지\n",
      "너무%20고민되는%20초보엄마..%20나는%20\n",
      "추위는%20많이타고%20더위에%20강해서%20\n",
      "늘%20아이옷%20입히는게%20어렵다\n",
      "너무%20덥게%20입혀도%20차게%20입혀도%20\n",
      "안되는%20어려운%20세계...\n",
      "내복+얇은실내복+기모츄리닝\n",
      "입혀서%20나가면서\n",
      "남편이랑%20너무%20더운거아니냐고%20걱정\n",
      "결과적으론%20찬바람이%20꽤%20불어서%20\n",
      "잘했다는%20결론ㅋㅋㅋㅋ%20대근육운동이%20필요하다고\n",
      "생각이%20들어서%20자주%20걷게하고\n",
      "운동시키려하는데%20요즘%20꾀가%20늘어서\n",
      "조금%20걷다가%20안아달라고%20하는%20쁘니\n",
      "(+%20발달에%20있어서%20인지만큼%20중요한게%20대근육/소근육%20발달이라고%20한다.%20)%20주말인지라\n",
      "사람들이%20꽤%20모여있었는데도\n",
      "평소%20주말보다는%20적긴했다\n",
      "보통은%20인조잔디장에\n",
      "축구나%20족구,%20풋살,%20야구,%20배드민턴%20등\n",
      "각종%20운동하는%20사람들은%20\n",
      "다%20모여있는%20느낌인데(+달리기)\n",
      "오늘은%20소수정예%20느낌😀\n",
      "운동하는%20이들을%20빼고는\n",
      "모두%20마스크😷😷\n",
      "미세먼지%20나쁨일때도%20\n",
      "다들%20맨얼굴이었는데%20웃픈현실이다%20정말%20잔디밭에서%20\n",
      "뛰어놀게%20하고싶었는데\n",
      "자꾸%20다른%20사람들%20\n",
      "축구공에%20관심을%20가져서\n",
      "잔디밭을%20뒤로하고%20용왕정에%20가기로했다\n",
      "(깜빡잊고%20공을%20안챙겨온%20바보엄빠)%20잔디밭%20옆에는\n",
      "게이트볼장과%20놀이터가%20있다\n",
      "그%20옆엔%20원래%20쓰러져가는%20간이화장실이%20있었다\n",
      "오늘보니%20새화장실이%20생겼다!!!%20너무좋아~~\n",
      "가끔%20조카들과%20놀러오면\n",
      "화장실무섭다고%20가기싫어했는데\n",
      "다행이다ㅎㅎㅎㅎ%20며칠전에는\n",
      "개나리를%20보고%20\n",
      "오늘은%20진달래ㅎㅎ%20매년%20양천구%20해맞이%20명소인%20'용왕정'\n",
      "사람이%20정말%20많이%20모인다%20우수조망명소로\n",
      "%22월드컵경기장-북한산-성산대교-인왕산%22\n",
      "를%20조망할%20수%20있는%20용왕정\n",
      "개인적으로\n",
      "밤에%20불켜진%20성산대교를%20정말%20좋아한다\n",
      "내눈에%20너무%20예쁘다ㅋㅋㅋ%20오늘%20베스트포토!!\n",
      "무보정사진인데(보정도%20할%20줄%20모름)\n",
      "용왕정%20단청색이며%20하늘이며\n",
      "정말%20베스트로%20찍혔다\n",
      "(내눈에만%20그런가ㅋㅋㅋㅋ)\n",
      "미세먼지%20'좋음'단계였던%20정오무렵\n",
      "예쁜%20경치를%20마무리로\n",
      "아래로%20내려가서%20미리사온%20김밥을\n",
      "먹기로하고%20하산ㅎㅎ%20내려가는%20길에%20만난%20청딱다구리\n",
      "태어나서%20처음보는건데\n",
      "같이%20내려가시던%20아주머니가%20알려주심ㅎㅎ\n",
      "딱다구리암컷이라고하셨지만\n",
      "검색해보니%20청딱다구리%20수컷이었다\n",
      "내%20카메라소리에%20날아가버렸는데\n",
      "펼쳐진%20날개가%20노란빛으로%20진짜%20예뻤다%20달거리약수터%20위에있는%20정자에서\n",
      "김밥과%20주먹밥을%20먹으려했는데\n",
      "갑자기%20불어오는%20찬바람😬😬\n",
      "고민하다가%20후퇴하기로\n",
      "바로%20아래%20큰언니집이%20있어서\n",
      "거기서%20밥먹기로%20ㅎㅎ\n",
      "근데%20언니네는%20친정가서%20빈집이었다ㅋㅋㅋ\n",
      "먹을거%20챙겨가라는%20언니말에\n",
      "식빵한줄%20챙겨서%20집으로%20돌아왔다\n",
      "5년전(벌써!!)\n",
      "언니가%20우리동네로%20이사온다고해서\n",
      "질색팔색했는데\n",
      "(시터급으로%20육아도와주느라%20지침)\n",
      "이점도%20많았다(그만큼%20단점도%20많음%5e%5e)\n",
      "어쨋거나\n",
      "봄이오고있구나%20싶은%20날들이다\n",
      "꽃이%20피고%20하늘이%20맑다(곧%20황사인가...)\n",
      "마스크없이%20산책하는%20날이%20어서오길🙏' with link or location/anchor > 2079 characters since it exceeds Excel's limit for URLS\n",
      "  (force_unicode(url), max_url))\n"
     ]
    },
    {
     "data": {
      "application/vnd.jupyter.widget-view+json": {
       "model_id": "65bb98031eaa4c088a75d53ea80e5fa6",
       "version_major": 2,
       "version_minor": 0
      },
      "text/plain": [
       "HBox(children=(FloatProgress(value=0.0, max=1.0), HTML(value='')))"
      ]
     },
     "metadata": {},
     "output_type": "display_data"
    },
    {
     "name": "stdout",
     "output_type": "stream",
     "text": [
      "\n",
      "수집한 글 갯수:  1\n"
     ]
    },
    {
     "data": {
      "application/vnd.jupyter.widget-view+json": {
       "model_id": "0040e52aedb8499988cb8711cca406df",
       "version_major": 2,
       "version_minor": 0
      },
      "text/plain": [
       "HBox(children=(FloatProgress(value=0.0, max=1.0), HTML(value='')))"
      ]
     },
     "metadata": {},
     "output_type": "display_data"
    },
    {
     "name": "stdout",
     "output_type": "stream",
     "text": [
      "\n",
      "수집한 글 갯수:  1\n"
     ]
    },
    {
     "data": {
      "application/vnd.jupyter.widget-view+json": {
       "model_id": "04df842e30f4433490a6f2b837f674c0",
       "version_major": 2,
       "version_minor": 0
      },
      "text/plain": [
       "HBox(children=(FloatProgress(value=0.0, max=2.0), HTML(value='')))"
      ]
     },
     "metadata": {},
     "output_type": "display_data"
    },
    {
     "name": "stdout",
     "output_type": "stream",
     "text": [
      "\n",
      "수집한 글 갯수:  2\n"
     ]
    },
    {
     "data": {
      "application/vnd.jupyter.widget-view+json": {
       "model_id": "8ab56d5a5c564a30878ab8abcaffe6c5",
       "version_major": 2,
       "version_minor": 0
      },
      "text/plain": [
       "HBox(children=(FloatProgress(value=0.0, max=2.0), HTML(value='')))"
      ]
     },
     "metadata": {},
     "output_type": "display_data"
    },
    {
     "name": "stdout",
     "output_type": "stream",
     "text": [
      "\n",
      "수집한 글 갯수:  2\n"
     ]
    },
    {
     "data": {
      "application/vnd.jupyter.widget-view+json": {
       "model_id": "50b32b50dd7944ba8a33b954f0d9503c",
       "version_major": 2,
       "version_minor": 0
      },
      "text/plain": [
       "HBox(children=(FloatProgress(value=0.0, max=1.0), HTML(value='')))"
      ]
     },
     "metadata": {},
     "output_type": "display_data"
    },
    {
     "name": "stdout",
     "output_type": "stream",
     "text": [
      "\n",
      "수집한 글 갯수:  0\n"
     ]
    },
    {
     "data": {
      "application/vnd.jupyter.widget-view+json": {
       "model_id": "ef490baebb804b8ba8fc31ef595a9cff",
       "version_major": 2,
       "version_minor": 0
      },
      "text/plain": [
       "HBox(children=(FloatProgress(value=0.0, max=12.0), HTML(value='')))"
      ]
     },
     "metadata": {},
     "output_type": "display_data"
    },
    {
     "name": "stdout",
     "output_type": "stream",
     "text": [
      "\n",
      "수집한 글 갯수:  8\n"
     ]
    },
    {
     "data": {
      "application/vnd.jupyter.widget-view+json": {
       "model_id": "eb0f95b27bd2443795c79a8b0d5381c3",
       "version_major": 2,
       "version_minor": 0
      },
      "text/plain": [
       "HBox(children=(FloatProgress(value=0.0, max=10.0), HTML(value='')))"
      ]
     },
     "metadata": {},
     "output_type": "display_data"
    },
    {
     "name": "stdout",
     "output_type": "stream",
     "text": [
      "\n",
      "수집한 글 갯수:  10\n"
     ]
    },
    {
     "data": {
      "application/vnd.jupyter.widget-view+json": {
       "model_id": "0a11788bc6a7490899bf5cfc129b8192",
       "version_major": 2,
       "version_minor": 0
      },
      "text/plain": [
       "HBox(children=(FloatProgress(value=0.0, max=32.0), HTML(value='')))"
      ]
     },
     "metadata": {},
     "output_type": "display_data"
    },
    {
     "name": "stdout",
     "output_type": "stream",
     "text": [
      "\n",
      "수집한 글 갯수:  15\n"
     ]
    },
    {
     "data": {
      "application/vnd.jupyter.widget-view+json": {
       "model_id": "231d907c5de043b2a83a6193d1afd093",
       "version_major": 2,
       "version_minor": 0
      },
      "text/plain": [
       "HBox(children=(FloatProgress(value=0.0, max=1.0), HTML(value='')))"
      ]
     },
     "metadata": {},
     "output_type": "display_data"
    },
    {
     "name": "stdout",
     "output_type": "stream",
     "text": [
      "\n",
      "수집한 글 갯수:  1\n"
     ]
    },
    {
     "data": {
      "application/vnd.jupyter.widget-view+json": {
       "model_id": "9696d957c05446349ef885c465e67085",
       "version_major": 2,
       "version_minor": 0
      },
      "text/plain": [
       "HBox(children=(FloatProgress(value=0.0, max=6.0), HTML(value='')))"
      ]
     },
     "metadata": {},
     "output_type": "display_data"
    },
    {
     "name": "stdout",
     "output_type": "stream",
     "text": [
      "\n",
      "수집한 글 갯수:  5\n"
     ]
    },
    {
     "data": {
      "application/vnd.jupyter.widget-view+json": {
       "model_id": "58d31a84dc504dfe978e39ee4ad67d2e",
       "version_major": 2,
       "version_minor": 0
      },
      "text/plain": [
       "HBox(children=(FloatProgress(value=0.0, max=1.0), HTML(value='')))"
      ]
     },
     "metadata": {},
     "output_type": "display_data"
    },
    {
     "name": "stdout",
     "output_type": "stream",
     "text": [
      "\n",
      "수집한 글 갯수:  1\n"
     ]
    },
    {
     "data": {
      "application/vnd.jupyter.widget-view+json": {
       "model_id": "aa498646e363425a95753ad7ec4f4aaa",
       "version_major": 2,
       "version_minor": 0
      },
      "text/plain": [
       "HBox(children=(FloatProgress(value=0.0, max=1.0), HTML(value='')))"
      ]
     },
     "metadata": {},
     "output_type": "display_data"
    },
    {
     "name": "stdout",
     "output_type": "stream",
     "text": [
      "\n",
      "수집한 글 갯수:  0\n"
     ]
    },
    {
     "data": {
      "application/vnd.jupyter.widget-view+json": {
       "model_id": "2be9f675f9e5466ea79c6f74667dd3a7",
       "version_major": 2,
       "version_minor": 0
      },
      "text/plain": [
       "HBox(children=(FloatProgress(value=0.0, max=3.0), HTML(value='')))"
      ]
     },
     "metadata": {},
     "output_type": "display_data"
    },
    {
     "name": "stdout",
     "output_type": "stream",
     "text": [
      "\n",
      "수집한 글 갯수:  2\n"
     ]
    },
    {
     "data": {
      "application/vnd.jupyter.widget-view+json": {
       "model_id": "4b820e30adaf416ba942d21bfbed6fb7",
       "version_major": 2,
       "version_minor": 0
      },
      "text/plain": [
       "HBox(children=(FloatProgress(value=0.0, max=5.0), HTML(value='')))"
      ]
     },
     "metadata": {},
     "output_type": "display_data"
    },
    {
     "name": "stdout",
     "output_type": "stream",
     "text": [
      "\n",
      "수집한 글 갯수:  0\n"
     ]
    },
    {
     "data": {
      "application/vnd.jupyter.widget-view+json": {
       "model_id": "0f04bd87eac744bb905b1fa774f37ad7",
       "version_major": 2,
       "version_minor": 0
      },
      "text/plain": [
       "HBox(children=(FloatProgress(value=0.0, max=1.0), HTML(value='')))"
      ]
     },
     "metadata": {},
     "output_type": "display_data"
    },
    {
     "name": "stdout",
     "output_type": "stream",
     "text": [
      "\n",
      "수집한 글 갯수:  1\n"
     ]
    },
    {
     "data": {
      "application/vnd.jupyter.widget-view+json": {
       "model_id": "c5b790d31fe24d9db095968cd365cbe7",
       "version_major": 2,
       "version_minor": 0
      },
      "text/plain": [
       "HBox(children=(FloatProgress(value=0.0, max=63.0), HTML(value='')))"
      ]
     },
     "metadata": {},
     "output_type": "display_data"
    },
    {
     "name": "stdout",
     "output_type": "stream",
     "text": [
      "\n",
      "수집한 글 갯수:  63\n"
     ]
    },
    {
     "data": {
      "application/vnd.jupyter.widget-view+json": {
       "model_id": "d562ab7481d4409b9a0e39b3251ea6ea",
       "version_major": 2,
       "version_minor": 0
      },
      "text/plain": [
       "HBox(children=(FloatProgress(value=0.0, max=13.0), HTML(value='')))"
      ]
     },
     "metadata": {},
     "output_type": "display_data"
    },
    {
     "name": "stdout",
     "output_type": "stream",
     "text": [
      "\n",
      "수집한 글 갯수:  10\n"
     ]
    },
    {
     "data": {
      "application/vnd.jupyter.widget-view+json": {
       "model_id": "62efc8def0ab4cb5936f37a4627096f5",
       "version_major": 2,
       "version_minor": 0
      },
      "text/plain": [
       "HBox(children=(FloatProgress(value=0.0, max=45.0), HTML(value='')))"
      ]
     },
     "metadata": {},
     "output_type": "display_data"
    },
    {
     "name": "stdout",
     "output_type": "stream",
     "text": [
      "\n",
      "수집한 글 갯수:  27\n"
     ]
    },
    {
     "data": {
      "application/vnd.jupyter.widget-view+json": {
       "model_id": "70d84244b40f442f90bebc981fe5811b",
       "version_major": 2,
       "version_minor": 0
      },
      "text/plain": [
       "HBox(children=(FloatProgress(value=0.0, max=1.0), HTML(value='')))"
      ]
     },
     "metadata": {},
     "output_type": "display_data"
    },
    {
     "name": "stdout",
     "output_type": "stream",
     "text": [
      "\n",
      "수집한 글 갯수:  1\n"
     ]
    },
    {
     "data": {
      "application/vnd.jupyter.widget-view+json": {
       "model_id": "430d6f4df9454f4f811f84ac99ba2016",
       "version_major": 2,
       "version_minor": 0
      },
      "text/plain": [
       "HBox(children=(FloatProgress(value=0.0, max=3.0), HTML(value='')))"
      ]
     },
     "metadata": {},
     "output_type": "display_data"
    },
    {
     "name": "stdout",
     "output_type": "stream",
     "text": [
      "\n",
      "수집한 글 갯수:  2\n"
     ]
    },
    {
     "data": {
      "application/vnd.jupyter.widget-view+json": {
       "model_id": "a00078a1e61240228cbe61a5c2057044",
       "version_major": 2,
       "version_minor": 0
      },
      "text/plain": [
       "HBox(children=(FloatProgress(value=0.0, max=4.0), HTML(value='')))"
      ]
     },
     "metadata": {},
     "output_type": "display_data"
    },
    {
     "name": "stdout",
     "output_type": "stream",
     "text": [
      "\n",
      "수집한 글 갯수:  3\n"
     ]
    },
    {
     "data": {
      "application/vnd.jupyter.widget-view+json": {
       "model_id": "e1053c54737b4f3a84638975e7341b30",
       "version_major": 2,
       "version_minor": 0
      },
      "text/plain": [
       "HBox(children=(FloatProgress(value=0.0, max=19.0), HTML(value='')))"
      ]
     },
     "metadata": {},
     "output_type": "display_data"
    },
    {
     "name": "stdout",
     "output_type": "stream",
     "text": [
      "\n",
      "수집한 글 갯수:  16\n"
     ]
    },
    {
     "data": {
      "application/vnd.jupyter.widget-view+json": {
       "model_id": "52ebd2dd18fe4b9386ea63535caf7aee",
       "version_major": 2,
       "version_minor": 0
      },
      "text/plain": [
       "HBox(children=(FloatProgress(value=0.0, max=61.0), HTML(value='')))"
      ]
     },
     "metadata": {},
     "output_type": "display_data"
    },
    {
     "name": "stdout",
     "output_type": "stream",
     "text": [
      "\n",
      "수집한 글 갯수:  43\n"
     ]
    },
    {
     "data": {
      "application/vnd.jupyter.widget-view+json": {
       "model_id": "10a06239dd4e407db16fbbbbc61fbfe2",
       "version_major": 2,
       "version_minor": 0
      },
      "text/plain": [
       "HBox(children=(FloatProgress(value=0.0, max=21.0), HTML(value='')))"
      ]
     },
     "metadata": {},
     "output_type": "display_data"
    },
    {
     "name": "stdout",
     "output_type": "stream",
     "text": [
      "\n",
      "수집한 글 갯수:  18\n"
     ]
    },
    {
     "data": {
      "application/vnd.jupyter.widget-view+json": {
       "model_id": "3bb0b750820b4c91b29470391509a0a2",
       "version_major": 2,
       "version_minor": 0
      },
      "text/plain": [
       "HBox(children=(FloatProgress(value=0.0, max=2.0), HTML(value='')))"
      ]
     },
     "metadata": {},
     "output_type": "display_data"
    },
    {
     "name": "stdout",
     "output_type": "stream",
     "text": [
      "\n",
      "수집한 글 갯수:  1\n"
     ]
    },
    {
     "data": {
      "application/vnd.jupyter.widget-view+json": {
       "model_id": "d69bf150c35a4b398933d4e4c6526c6e",
       "version_major": 2,
       "version_minor": 0
      },
      "text/plain": [
       "HBox(children=(FloatProgress(value=0.0, max=1.0), HTML(value='')))"
      ]
     },
     "metadata": {},
     "output_type": "display_data"
    },
    {
     "name": "stdout",
     "output_type": "stream",
     "text": [
      "\n",
      "수집한 글 갯수:  0\n"
     ]
    },
    {
     "data": {
      "application/vnd.jupyter.widget-view+json": {
       "model_id": "25d90eaa9c3442f799ae7cd1161ac4b5",
       "version_major": 2,
       "version_minor": 0
      },
      "text/plain": [
       "HBox(children=(FloatProgress(value=0.0, max=3.0), HTML(value='')))"
      ]
     },
     "metadata": {},
     "output_type": "display_data"
    },
    {
     "name": "stdout",
     "output_type": "stream",
     "text": [
      "\n",
      "수집한 글 갯수:  2\n"
     ]
    },
    {
     "data": {
      "application/vnd.jupyter.widget-view+json": {
       "model_id": "42d954319a5249c8b60176cf0d9c06e5",
       "version_major": 2,
       "version_minor": 0
      },
      "text/plain": [
       "HBox(children=(FloatProgress(value=0.0, max=1.0), HTML(value='')))"
      ]
     },
     "metadata": {},
     "output_type": "display_data"
    },
    {
     "name": "stdout",
     "output_type": "stream",
     "text": [
      "\n",
      "수집한 글 갯수:  0\n"
     ]
    },
    {
     "data": {
      "application/vnd.jupyter.widget-view+json": {
       "model_id": "76e042b81c2b456da37990095ad2b632",
       "version_major": 2,
       "version_minor": 0
      },
      "text/plain": [
       "HBox(children=(FloatProgress(value=0.0, max=7.0), HTML(value='')))"
      ]
     },
     "metadata": {},
     "output_type": "display_data"
    },
    {
     "name": "stdout",
     "output_type": "stream",
     "text": [
      "\n",
      "수집한 글 갯수:  5\n"
     ]
    },
    {
     "data": {
      "application/vnd.jupyter.widget-view+json": {
       "model_id": "12db7e72017546058d12c358cca14083",
       "version_major": 2,
       "version_minor": 0
      },
      "text/plain": [
       "HBox(children=(FloatProgress(value=0.0, max=16.0), HTML(value='')))"
      ]
     },
     "metadata": {},
     "output_type": "display_data"
    },
    {
     "name": "stdout",
     "output_type": "stream",
     "text": [
      "\n",
      "수집한 글 갯수:  15\n"
     ]
    },
    {
     "data": {
      "application/vnd.jupyter.widget-view+json": {
       "model_id": "668040545a0143ac87324142ba206ad3",
       "version_major": 2,
       "version_minor": 0
      },
      "text/plain": [
       "HBox(children=(FloatProgress(value=0.0, max=6.0), HTML(value='')))"
      ]
     },
     "metadata": {},
     "output_type": "display_data"
    },
    {
     "name": "stdout",
     "output_type": "stream",
     "text": [
      "\n",
      "수집한 글 갯수:  4\n"
     ]
    },
    {
     "data": {
      "application/vnd.jupyter.widget-view+json": {
       "model_id": "f0933297185b445f921b09c6aa5973c4",
       "version_major": 2,
       "version_minor": 0
      },
      "text/plain": [
       "HBox(children=(FloatProgress(value=0.0, max=5.0), HTML(value='')))"
      ]
     },
     "metadata": {},
     "output_type": "display_data"
    },
    {
     "name": "stdout",
     "output_type": "stream",
     "text": [
      "\n",
      "수집한 글 갯수:  5\n"
     ]
    },
    {
     "data": {
      "application/vnd.jupyter.widget-view+json": {
       "model_id": "f0dfee127eb74e5698f9f7879a9a25d9",
       "version_major": 2,
       "version_minor": 0
      },
      "text/plain": [
       "HBox(children=(FloatProgress(value=0.0, max=1.0), HTML(value='')))"
      ]
     },
     "metadata": {},
     "output_type": "display_data"
    },
    {
     "name": "stdout",
     "output_type": "stream",
     "text": [
      "\n",
      "수집한 글 갯수:  1\n"
     ]
    },
    {
     "data": {
      "application/vnd.jupyter.widget-view+json": {
       "model_id": "884a80c1df654bd8a7d65dfe2bcef4e1",
       "version_major": 2,
       "version_minor": 0
      },
      "text/plain": [
       "HBox(children=(FloatProgress(value=0.0, max=2.0), HTML(value='')))"
      ]
     },
     "metadata": {},
     "output_type": "display_data"
    },
    {
     "name": "stdout",
     "output_type": "stream",
     "text": [
      "\n",
      "수집한 글 갯수:  1\n"
     ]
    }
   ],
   "source": [
    "# 게시글 가져오기\n",
    "import sys\n",
    "import os\n",
    "import pandas as pd\n",
    "import numpy as np\n",
    "    \n",
    "for i in range(len(url_list)):\n",
    "    url_load = pd.read_excel(\"{}_url.xlsx\".format(url_list[i]))\n",
    "               \n",
    "    dict = {}  # 전체 크롤링 데이터를 담을 그릇\n",
    "\n",
    "    # 수집할 글 갯수\n",
    "    number = len(url_load)\n",
    "    for j in tqdm(range(0, number)): \n",
    "        # 글 띄우기\n",
    "        url = url_load['url'][j]\n",
    "        driver = webdriver.Chrome(r\"C:\\Users\\jejec\\chromedriver_win32\\chromedriver.exe\")\n",
    "        driver.get(url)   # 글 띄우기\n",
    "\n",
    "        # 크롤링\n",
    "\n",
    "        try : \n",
    "            # iframe 접근\n",
    "            driver.switch_to_frame('mainFrame')\n",
    "\n",
    "            target_info = {}\n",
    "\n",
    "            # 제목 크롤링 시작\n",
    "            overlays = \".se-fs-.se-ff-\"                                 \n",
    "            tit = driver.find_element_by_css_selector(overlays)         # title\n",
    "            title = tit.text\n",
    "            title\n",
    "\n",
    "            # 글쓴이 크롤링 시작\n",
    "            overlays = \".nick\"                                 \n",
    "            nick = driver.find_element_by_css_selector(overlays)         # nick\n",
    "            nickname = nick.text\n",
    "\n",
    "            # 날짜 크롤링\n",
    "            overlays = \".se_publishDate.pcol2\"                                 \n",
    "            date = driver.find_element_by_css_selector(overlays)         # date\n",
    "            datetime = date.text\n",
    "            # 내용 크롤링\n",
    "            overlays = \".se-component.se-text.se-l-default\"                                 \n",
    "            contents = driver.find_elements_by_css_selector(overlays)         # date\n",
    "\n",
    "            content_list = []\n",
    "            for content in contents:\n",
    "                content_list.append(content.text)\n",
    "\n",
    "            content_str = ' '.join(content_list)\n",
    "\n",
    "            # 글 하나는 target_info라는 딕셔너리에 담기게 되고,\n",
    "            target_info['title'] = title\n",
    "            target_info['nickname'] = nickname\n",
    "            target_info['datetime'] = datetime\n",
    "            target_info['content'] = content_str\n",
    "\n",
    "            # 각각의 글은 dict라는 딕셔너리에 담기게 됩니다.\n",
    "            dict[j] = target_info\n",
    "            time.sleep(1)\n",
    "\n",
    "            # 글 하나 크롤링 후 크롬 창 닫기\n",
    "            driver.close()       \n",
    "\n",
    "            # 에러나면 현재 크롬창 닫고 다음 글(i+1)로 이동\n",
    "        except:\n",
    "            driver.close()\n",
    "            time.sleep(1)\n",
    "            continue\n",
    "\n",
    "            # 중간,중간에 파일로 저장하기\n",
    "#         if j == 30 or 50 or 80:\n",
    "#             # 판다스로 만들기\n",
    "#             import pandas as pd\n",
    "#             result_df = pd.DataFrame.from_dict(dict, 'index')\n",
    "\n",
    "#             # 저장하기\n",
    "#             result_df.to_excel(\"blog_content_{}.xlsx\".format(url_list[j]), index=False)\n",
    "#             time.sleep(3)\n",
    "\n",
    "    print('수집한 글 갯수: ', len(dict))\n",
    "#     print(dict)\n",
    "\n",
    "    # 판다스로 만들기\n",
    "    import pandas as pd\n",
    "    result_df = pd.DataFrame.from_dict(dict, 'index')\n",
    "\n",
    "    # 저장하기\n",
    "    result_df.to_excel(\"blog_content_{}.xlsx\".format(url_list[i]), index = False)    "
   ]
  },
  {
   "cell_type": "code",
   "execution_count": 87,
   "metadata": {
    "scrolled": true
   },
   "outputs": [
    {
     "data": {
      "application/vnd.jupyter.widget-view+json": {
       "model_id": "42fee99f20ec450394bde7d67fda2d55",
       "version_major": 2,
       "version_minor": 0
      },
      "text/plain": [
       "HBox(children=(FloatProgress(value=0.0, max=65.0), HTML(value='')))"
      ]
     },
     "metadata": {},
     "output_type": "display_data"
    },
    {
     "name": "stderr",
     "output_type": "stream",
     "text": [
      "C:\\Users\\jejec\\anaconda3\\envs\\mulcam\\lib\\site-packages\\ipykernel_launcher.py:15: DeprecationWarning: use driver.switch_to.frame instead\n",
      "  from ipykernel import kernelapp as app\n"
     ]
    },
    {
     "name": "stdout",
     "output_type": "stream",
     "text": [
      "\n",
      "수집한 글 갯수:  48\n",
      "{2: {'title': '[명동] 코로나19 프리존 명동 준오헤어 1호점에서 히피펌하기', 'nickname': '찌파기\\n(geunji22)', 'datetime': '2020. 3. 10. 18:44', 'content': '  최근 코로나로 인해 머리하기를 미루다가 ..\\n더 이상 미룰수가 없어서 지난주에 미용실에 다녀왔습니다!  T : 02-756-3141\\n 이한 디자이너를 만나러 준오헤어 명동 1호점에 다녀왔습니다!\\n4호선 명동역 6번 출구로 나와서 두골목 올라가서 좌측으로 꺾으면 준오헤어 명동1호점을 쉽게 찾을 수 있어요.\\n저는 지난 번에 한 번 방문했던 곳이라 어렵지 않게 길을 찾을 수 있었어요.\\n준오헤어 명동1호점은 올해 25주년을 맞이하는 역사를 가지고 있다고 해요! 준오헤어는 코로나19 프리존을 만들고 있었어요.\\n입구엔 알코올젤이 구비되어 있어 손소독을 권장하고, 들어갈 땐 체온을 체크합니다! 코로나19 예방을 위해 전직원이 마스크를 착용함은 물론이고, 매장을 수시로 살균 소독 한다고 합니다. 카운터에서 예약확인을 하고\\n디자이너를 기다리는 동안 음료를 준비해주셨어요.    머리길이가 꽤 자라서 히피펌을 하면 원하는 머리가 나올것 같았는데\\n머리끝이 좀 상했다고 잘라야 한다고 하셨어요.. 이한쌤과 충분한 상담을 하고 나서..\\n머리끝을 좀 자르고 히피펌을 진행하자고 하셨어요! 샴푸와 커트를 하고 전체 머릿결상태를 맞추고 있어요. 머리를 말았어요.\\n히피펌은 머리카락을 조금씩 말아야 된다고 해요.\\n이 때 히피펌이 정말 쉬운게 아니구나 생각했습니다.\\n이한쌤이 한가닥 한가닥 정말 꼼꼼하게 말아주셨어요.  샴푸 후 사진입니다.\\n 제가 바란대로 너무 얇지도 두껍지도 않게 컬이 잘 들어갔네요. 샴푸 후 머리 손질하는 법 까지 친절하고 꼼꼼하게 알려주셨어요! 히피펌 AFTER사진이에요~\\n자유분방하면서도 스타일리쉬한 머리 스타일이 딱 제 마음에 들었어요. 너무 정성스럽게 잘봐주신 이한쌤~\\n다음에도 찾아가야겠어요.\\n이한샘은 화요일휴무니까\\n방문하실분들은 참고해서 준오헤어 예약하시면 될것같아요!  '}, 3: {'title': ':: 명동 가성비 점심 :: 6000원 / 코로나 후에 생긴 메뉴 명동 장금이전집 강추 ::', 'nickname': 'dora', 'datetime': '2020. 5. 19. 22:53', 'content': '오늘 리뷰는 \\n 코로나로 새로생긴 메뉴예요. \\n매장은 이구요. \\n식사후기입니다.  위치는 명동역 10번 출구에서\\n도보로 1분 거리인 \\n 가까운곳에 있구요.  세종호텔끼고 돌면 \\n건물 후면에 자리한 장금이 전집  평소에 외국인 친구들 데리고 \\n꼭 들르던 곳이예요. \\n지금은 코로나..  제일 많이 피해를 본곳이 명동이 아닐까 싶어요.  근처에 직장이 있어서 \\n3일 연속으로 식사하고 후기남깁니다.  사실은 3일간 먹은 후기가 \\n너무 좋아서 남겨요.\\n( 원래도 외국인친구데리고 꼭 가던집이기도하구요. ㅎㅎ\\n홍보해드리고 싶었어요. ) (단골집이라 가게세를 알고 있는데 \\n식자재 인건비 가게세 생각하면 ..ㅠ \\n코로나가 야속하네요.) 메누구성이 달라진건 \\n외국인비율이 많은 비중을 차지했던 만큼  ( 다른 동네는 가성비 좋은 가게가 있을지 몰라도 \\n명동의 가게세가 엄청 비싸데요. ㅠㅠ ) 박리다매 형식이라 \\n많이 찾아가 주시면 더 좋을 것 같아요. !!  일단 식사 후기부터 남겨볼께요. \\n총3번 방문했구요. \\n방문날은 랜덤이였는데 \\n국이나 반찬이 다 달랐어요. \\n심지어 반찬은 6개..   국 1개\\n메인 1개\\n반찬7개 식판에 먹는거라 사내식당 느낌이예요.  전 자주가기도 하고 \\n다른반찬도 워낙 많아서 \\n하나만 먹었는데 \\n취향에 맞게 먹는 계란 좋으네요  코로나때문에 시작했는데 \\n오히려 적자나는거 아닐까요? \\n남을까요? ㅠㅠ  다들 적당히 먹어서 \\n코로나 끝나고도\\n 이 시스템이 유지되도록 하셨으면 좋겠어요. !! 먹는 동안에 반찬이 달라지도 해요. \\n아마 예정방문없이 오거나 \\n인분대비 계속 드시는 분들때문에 \\n예상 인원수 대비(?)\\n 반찬이 모자라서인듯한데...\\n그 틈을 쉬지않고\\n 반찬수는 유지되도록 채워주시네요.   음식간도 너무 좋아요. \\n이미 일본중국 커뮤니티에는 \\n#명동맛집 이예요. ㅎㅎ  특히나 사장님이 일본어 능통 \\n중국어가능이라 친절함으로도 소문나있구요. \\n(외국인 친구한테 들음) 배식형태라 \\n선호하는대로 먹을 수도 있어서 좋아요.  이건 뽕이래요. \\n뽕나물(?) 건강에 좋다고해서 \\n먹어봤어요.  짜잔 !!\\n전 다이어트 중인데도 \\n자꾸 폭식하게 되네요.. ㅎㅎ 고기도 가득 있는 찌개까지 \\n점심식사로 가성비가 너무 좋죠. !!  또 다른 날 세번째 방문입니다.  ㅎㅎ 메인 메뉴는 잡채덮밥이였어요.  가지튀김  딱 새로 바꿀때 들어갔어요. \\n따뜻하게 먹어야하는 음식은 \\n인원수에 맞춰서 그때그때 새로 해주시는 \\n시스템이라  이날도 있는 셀프계란  세번째 방문한 날에는 반찬이 8가지나 있네요.  후식도 준비되어 있네요.  감사히 잘 먹고 있어서 \\n도움이 될까하고 남겨봅니다 지금은 5번정도 방문했어요. \\n아마 계속 하신다면 제 점심은 여기로 픽이네요. ㅎㅎ \\n일단 사진은 3번만 올렸어요. \\n갈때마다 가지수 많은 반찬 넉넉하게 잘나오구요. \\n다음방문을 미리말하면 그 다음날 음식준비하시는디 참고해서 기다릴일 없게 해주신다고해요. \\n식사시간은 11시좀 지나서\\n부터 가능한것 같은데 \\n전 12시지나서 가는데 \\n문제없습니다. \\n1시30분정도에 음식 치우신다고해요. \\n6000원이라니 \\n대박이네요. ㅎㅎ \\n음식은 맛있습니다.  굿굿 블로그 공지에 보시면 여행가서 숙소 할인받는 방법도 포함되어있어요. 국내든 해외든 에어비앤비에 나와있는 숙소 전부 추가로 5.만.원.상당 할인 받는 방법 같이 있으니 참고 해주세요. \\n포스팅해둔거 공유해드리겠습니다.\\nhttps://m.blog.naver.com/yoongu0/221550827570 #명동맛집 #명동점심 #명동한식 #명동식사 #명동직장인점심 #명동식권 #명동6000원 #명동가성비점심 #명동밥집 #명동한식부페 #명동코로나 #명동 #장금이전집 #명동점심할인 #명동코로나할인 #명동재난지원금 #명동맛집탐방 #명동맛집추천'}, 4: {'title': '오늘은 국내여행(?)입니다', 'nickname': '에몽', 'datetime': '2020. 4. 22. 13:13', 'content': '오늘은 국내여행(?)입니다\\n오늘은 서울에서 대표적인 관광지(?) 명동에 왔습니다\\n이곳 명동도 코로나의 한파는 무섭습니다. 사람이 별루없네요. 그렇지만 명동 땅값은 여전히 비쌉니다.. 코로나덕인지 요즘 날씨는 정말 좋습니다.\\n좋은 날씨때문에 다들 여행을 떠나고 싶지만 못가는 \\n마음이 안타깝기 그지없습니다\\n저도 근처에 일이 있어서 명동에 왔는데 \\n대체 몇달만인지 코로나 이후 처음 왔습니다.\\n(직장근처(?)지만 요즘에는 집-회사뿐이 안 하다보니...) 지금시간 오후 6시정도인데 평소면 \\n차가 막힐 시간이지만 생각보다 막히진 않습니다  명동땅값은 전국적으로 비싸기로 유명하죠\\n그중에서 17년째 1위자리를 지키고 있는 명동 네이처리퍼블릭 입니다.\\n1평방미터당 1억9900만원으로 전국에서 가장 비싸다고 합니다. 명동의 입구라 그렇기도 하지만\\n전국 땅값베스트 1위~10위는 다 명동입니다\\n맞은편의 유니클로 건물이 3위로 1평방미터당 1억8600만원입니다. 명동네이처리퍼블릭 너머로 하늘이 파랗습니다~ 성수기에 비해서 너무나도 고즈넉한 명동\\n간간히 외국인들이 보입니다.\\n아침도 아닌데 아침느낌이 나네요 \\n오후 18시기 때문에 코로나 이전이라면 바가지 길거리 음식이 즐비할텐데 오늘은 정말 고즈넉합니다\\n외국인들도 99% 마스크를 쓰고 있어서 되레 안심이 되기도 합니다\\n마스크 안 쓴 사람은 서양인 1팀 정도 거리에 길거리 음식 매대가 사라지니 \\n확실히 쾌적한 느낌은 있네요\\n길 자체가 넓다보니 공원 같기도 하고     명동거리 가운데 나무가 있었나 \\n싶을 정도로 그전에는 보지못했지만\\n상당히 싱그럽네요 .... 명동거리 군데군데 \\n나무가 더 있으면 이쁘겠다 생각이 듭니다.  왼쪽으로 보이는 우리은행 명동지점은\\n전국에서 2번째로 비싼 곳으로 \\n평방미터당 1억9200만원이네요...호...\\n이거 원 길거리를 걷다가 신기해서 사진을 찍었는데 ...\\n할말이 없다보니 .. 땅 값만... 명동은 일제시대에 일본인거주지가 들어서며 \\n개발된 상업지구로 명동(메이지초), 충무로(혼마치) 가\\n그 시대 일본인들의 주요 거주지로 \\n지금까지 성장했다고 합니다.\\n(충무로가 혼마치라... 오사카에 있는 혼마치(本町)가 떠오르기도 합니다.) 명동예술극장은 1936년 10월에 만들어질 당시의 \\n이름은 명치좌(일본어 明治座,메이지자)라고 합니다\\n일본의 극장들도 좌를 붙이죠 가부키좌 이런식으로...\\n(일제시대 조성된 거리다 보니) 일본식 이름으로 시작된\\n건물이나 거리라는게 신기할 따름입니다. 상업지구로 개발되어 100년이 넘는 세월동안 인기를 \\n얻고 있는 명동에 하루빨리 활력이 불길 바랍니다. '}, 5: {'title': '명동 - 코로나바이러스 KF94마스크 구하기 ,마스크5부제 ', 'nickname': '고긍정선생', 'datetime': '2020. 3. 7. 0:00', 'content': '3일전,, 친구가 마스크가 있는곳을 알려줬다,,\\n블로그 가보니,, 명동에는 KF94 마스크가 깔려있다고,,\\n게다가 카드는 3000원 현금가로는 2900원에 살수 있데서\\n퇴근하고 가는중,,\\n정말 사람이 1도 없다,,  명동에 사람이 이렇게 없을수가!! \\n암튼 을지로 입구 롯데백화점 에서 내려서  지하도를 통해 명동으로 진입!!  처음 부터 마스크 품절,, 뭔가 심상치 않다,,  지하도를 빠져나와,, \\n명동 메인길로 나왔는데,, 사람 없다,,\\n코로나바이러스 KF94 마스크 깔렸다더니,,\\n대체 어디 깔린거지? 내가 좋아하는 러쉬는 \\n손을씻고 싶을때 언제든지 들러달란다 ㅋㅋ 손 소독제는 이제 많은듯 하지만,,\\n마스크는 그 어디에도 없다,,  명동에 약국이 이렇게 많은지 몰랐다,, \\nKF94 마스크는 명동에도 없다,, ㅋㅋㅋ\\n사실 사람도 너무 없고,, 사진찍기가 쫌 그래서 그렇지,,\\n롯데백화점 본점에서 명동역까지 약 25분가 두리번 거리며,,\\n올라왔는데,, 한곳도 파는곳을 보지 못했다,,\\n젠장 3일전에 올껄,, 그러다가,, 결국,, 한곳 발견!!\\n그마저도 한 10뭉탱이 있었나??\\n가격은 장당 4000원,,\\n사실 난 새벽에 줄을설 맘도 없고,, \\n직장인 이기에,, 농협이나,, 이런데 몇시간씩 줄을 시간도 없다\\n내가 알기론 우리나라 부직포 및 필터의 90%는 중국에서 가져오는데\\n이제 그마저도,, 못자겨오고,, 가져와도 10배이상 가격이 뛰었다고 한다!! \\n정부에서도 마스크를 5개씩 파느니 마느니 하더니,,\\n결국 마스크 5부제 일주일에 2장만 구매 할수 있다고하니,,\\n마스크대란이 아닐수 없다,, \\n코로나 바이러스가 한동안은 계속일듯하고,, \\n마스크값도 내생각엔,, 점점 오를것같다,, 사실 추운데,, 여기까지 온것도 힘들고,, \\n이렇게 많은 마스크를 한꺼번에  살수는 볼수는 있을까 싶어\\n20개짜리 한묶음을 샀다,,\\n나, 오빠, 엄마, 아빠 뭐 주말 밖에 안나간다고 하면,,\\n5일이면 끝이다,, \\n이렇게 마스크 대란이라니,, \\n내돈으로 마스크를,,\\n저번달에도 한 10만원 쓴것같은데,, \\n이번달도 일딴 8만원 으로 시작해서,,\\n지금 마스크케이스 사고,, 10만원은 거뜬히 사용했다,,  언제쯤 코로나바이러스가 끝날지 모르겠다,, \\n사실 끝나긴 할련지,, \\n명동에서 마스크를 사고 집에 오니깐 ,,\\n마스크 5부제를 한다더라,,\\n 지금 네이버 실검은 마스크알리미고 아마 코로나 바이러스가 끝난다고 해도 불안감에,,\\n나부터도 마스크를 사재기 하지 않을까 싶다,, \\n이제 구하는것도 힘들고 정말,, 돈도 너무 많이들고,,  오늘은 주말이니깐,, 눈뜨자 마자 마스크를 겁나\\n만들어야 겠다!! '}, 6: {'title': '명동코로나 텅빈명동거리 석양지다', 'nickname': '명동삼춘', 'datetime': '2020. 4. 2. 22:01', 'content': '명동코로나 텅빈명동거리 석양지다. 명동은 지금부터 시작이네요. 우리나라 코로나19는 변곡점을 지나, 조금씩 진정되는 기미입니다. 하지만 명동은 갈수록 유동인구도 줄고, 임시폐업하는 업체도 늘고 있습니다. 오늘 오후 하도 답답하여 사무실에서 잠시 나와 명동을 순찰하였습니다. 명동백작, 명동보안관, 명동지킴이 등 많은 호칭을 가졌듯, 명동은 제가 지켜야죠. 거리자체 썰렁함에 머리카락이 쭈삣쭈삣 곤두서는 위기감을 느낍니다. 때마침 석양 찍다. 제 마음처럼 해가 지고 있었네요. 불이 꺼지지 않은 명동인데, 해가 지고 있습니다. 역광으로 한번 찍어 보았네요. 당당하게 태양과 한번 맞서 보고 싶었기 때문입니다. 명동코로나 텅빈명동거리 석양지다 하지만 희망은 있습니다. 명동이 쓰러지면 대한민국이 쓰러집니다. 명동삼춘이 쓰러지면 명동이 쓰러집니다. \\n사진 찍고 있는 제 모습이 길게 그림자로 나타났네요. 지금 보았습니다. 좋은 징조란 생각이 ㅎ 우리 조금만 더 힘을 낼까요. 사랑합니다.'}, 7: {'title': '코로나가 바꾼 명동의 풍경', 'nickname': '유지엄마\\n(yujiuhmma)', 'datetime': '2020. 4. 11. 15:46', 'content': '명동..\\n언제나 사람들로 북적이고\\n한국사람 반\\n외국인 반\\n세상에 있는 모든 사람이 \\n명동에 모인것처럼\\n내 기억 속 명동은 언제나 그런 곳이었다\\n조금 구경하며 지나려해도 인파에 밀려 \\n내 의지와 상관없이 밀려가는\\n곳이 명동이었는데\\nhttp://blog.naver.com/yujiuhmma/221562446514 도저히 믿을수 없는 광경을 오늘 보았다  이게 무슨 일이지?\\n어떻게 명동에 사람이 없을 수 있는걸까?\\n뉴스에서 보던 모습과 내가 직접 본 모습은\\n확실하게 느낌이 다르다\\n뭔가 쿵 ~하고 내려앉으며\\n걱정을 넘어선 공포감(? )이었다\\n코로나19의 존재가 이렇게 무섭구나 ~ 줄을 서서 기다려야 했던 식당이\\n토요일에 셔터를 내리고 작은 면세점은 개업식과 동시에\\n영업을 못했는지\\n차마 개업식 화환을 치우지 못했다\\n매장 대표님은 어떤 마음일지\\n느껴지는것 같다 요즘 명동에서 굉장히 핫 하다고 소문이 났던\\n허니버터샵!\\n뉴스에서도 SNS에서도\\n너무 많이 봤는데\\n영업을 안한다 많은 업장 출입문에는 임대라는 문구가\\n당연한듯 붙어있고 이 식당은 영업을 안한지 얼마나 된걸까?\\n유리창이 뿌옇고\\n전단지가 바닥에 쓰레기처럼 뒹굴고 있었다 테디베어 인형이 입은 산타복장이 더욱\\n쓸쓸해 보이고\\n어느 방향을 봐도\\n다르지 않았다\\n너무나 당연하고 익숙했던\\n일상이 \\n우리 곁을 떠난지 두달이 넘어서고 있다\\n언제 끝이날지\\n내일은 어떤 일이 생길지\\n아무도 모르고 예측할 수도 없다\\n평범한 하루가\\n인생에 가장 큰 선물이었다는걸\\n다시 느끼는 하루이다\\n우리에게 코로나 사태 이전의 시간이 다시올까?\\n의문이다 때문에 지금 내가 할 수 있는것은\\n하루를 소중하게 여기고\\n그런 하루에게 미안하지 않게\\n헛된 시간을 보내지 않는 것이다\\n#명동거리 #서울명동 #가빈쌤SNS교육\\n#유지엄마 #오늘명동 #코로나19\\n#허니버터샵 #임대 #하루 #소중'}, 8: {'title': '\"임대료 550만 원에 하루 매출 6만 원\"... 홍대. 명동 코로나 직격탄 ', 'nickname': '행복한 토지 스토리', 'datetime': '2020. 3. 21. 15:15', 'content': '안녕하세요.\\n#행토스 입니다.\\n주말 잘 보내고 계시나요?\\n 야외 활동하기 좋은 3월인데\\n#코로나19 때문에 외출은커녕\\n외출을 한다고 해도 사람 많은 곳은 꺼려지기도 하고\\n 마스크를 착용 필수가 되어 버렸습니다.\\n다섯 번 나갈 일이 있어도 한두 번 나갈까 말까 하니,\\n언제까지 사람들이 버틸 수 있을지 모르겠네요.\\n코로나19 사태가 잦아들 기미가 보이지가 않네요. 위 사진은 얼마 전 뉴스 1에서\\n서울 홍대 인근 거리가 텅 비어있는 모습인데요.\\n얼마 전만 해도\\n홍대. 명동은 젊음의 거리, 관광객들로 \\n발 디딜 틈이 없을 정도로 붐볐습니다.\\n하지만\\n코로나19로 홍대뿐만 아니라 \\n명동 또한 사람들의 발길이 끊겨 \\n적막감만 도로를 채우고 있습니다.\\n옷 가게와 음식점들이 많은 홍대 거리는\\n오전에 문을 연 곳이 10곳도 되지 않는다고 하네요.\\n음악을 좋아하는 아티스트의 버스킹 공연도\\n전면 금지되면서 더 이상 버스킹 공연도 볼 수 없게 되었어요. 홍대 상인들은 평소에 비해 매출이 90% 이상\\n줄었다고, 또 다른 상인 버스킹이라도 하면 \\n사람들이 북적거리는데\\n버스킹이 금지되면서 사람들을 거의 \\n찾아볼 수가 없다고...\\n저 지인분들 중 자영업 하시는 분들이\\n몇 분 계시는데 \\n돈 10만 원 벌기가 힘들다고 하네요.\\n저희 회사 동료 남편분도 군포에서\\n노래방을 엄청 크게 하시는데\\n월 임대료, 관리비 포함해서 천만 원인데\\n얼마 전 지자체 공무원들이 와서\\n당분간 영업하지 말라고\\n2주라고 들은 거 같은데...\\n정확히는 잘 기억이 안 나네요.\\n만약에 영업을 할 경우에는\\n노래방 들어오는 손님들 이름, 전번, 거주 지역\\n들어온 시간, 나간 시간 등\\n구체적으로 작성해야 한다고\\n또 손님과 거리를 두고 노래방 이용을 해야 하는 등\\n지자체에서 요구하는 규칙 7가지가 있데요.\\n만약에 경우\\n영업 중 코로나 감염자가 발생하면\\n벌금 300만 원에 방역 소독비를 가게 사장이 부담해야 한다고...\\n이건 장사를 하라고 하는 건지 \\n말라는 건지...\\n하소연을 하더라고요.\\n그래서 남편분은 당분간 장사 안 하시고\\n 쿠팡 배달 알바나 해야겠다고 하셨데요.\\n코로나19가 전체적으로\\n 최악에 최악인듯합니다. 숙박업 계도 코로나19 사태로\\n타격이 이만저만이 아니라고 합니다.\\n명동 인근 한 호스텔들의 올해 3월 예약과 작년 3월 \\n예약 현황인데요.\\n딱 봐도 확연하게 차이가 나네요.\\n 외국 관광객들이\\n 많은 찾는 명동 \\n명동 인근 호스텔과 게스트하우스 등\\n숙박업소 대부분이 객실 이용률이 10% 수준에\\n머물러 있고 한 숙박 관계자는\\n총 20개 실  중 현재 3개 실만 이용하고 있다고\\n걱정이 이만저만이 아닙니다.\\n문제는 임대료라고 하는데요.\\n한 달 임대료가 550만 원\\n현재 하루 매출 6만 원에 불과\\n임대료를 제외하고도 경비만 해도 300만 원 \\n수준이라고...\\n전국에 계시는 건물주분들\\n착한 임대료 운동에 동참해 주세요^^;;\\n지금은 대한민국의 경제 위기입니다.\\n우리 모두 이 힘든 시기 함께 이겨냅시다.\\nhttp://naver.me/x84Caag3 #코로나19직격탄홍대 #코로나19직격탄명동\\n#코로나로소비심리급감 #코로나19로자영업자임대료걱정'}, 9: {'title': '서울 명동 코로나19 전으로 빨리 돌아가야 되는데.... 길거리 음식 맛난 거 참 많은데....', 'nickname': '유리복원 정도산업', 'datetime': '2020. 4. 19. 10:44', 'content': '큰 둥이랑 현장 들렸다가 고모와 함게 명동 나들이 한 날입니다.\\n서울 명동 코로나19가 발병하기 이전인지라 사람들이 많이 있습니다.\\n옛 영광이 빨리 찾아와야 할 텐데....... 얼마 전 올렸던 유리복원한 빌딩 2동이 보입니다^^\\n저도 옛 영광이 다시 찾았으면 좋겠습니다~\\n105일씩 공사하는 그런 현장이 많아 저야 할 텐데 말입니다~ 아고 막둥양 입히면 참 이쁠 것 같은 점퍼입니다.\\n막둥양 옷도 한참을 구경하면서 다니는데 뭘 골라야 할지.... 막둥이도 같이 나와서 구경했으면......\\n아고 귀염귀염 다 이뻐 보입니다.\\n울라프도 이쁘고 루돌프도 이쁘고~\\n하지만 막둥이는 아직 뽀로로가 최고입니다.ㅋㅋㅋ 명동 옷 가게도 많고 화장품 가게도 참 많습니다^^\\n그냥 빠르게 지나치며 한 컷 찍어봅니다. 송중기 양말도 보입니다.ㅋㅋㅋ\\n이제 본격적인 먹거리 시작~\\n명도하면 길거리 음식이 절대로 빠질 수 없습니다. 뭘 먹을까 구경을 하는데 쉽게 고르지도 못하고\\n배부르다고 하는데 간식배는 따로 있으니..ㅋㅋㅋㅋ 헐......\\n결국 고른 게 빨간 어묵이란 말인가?\\n맛난 게 얼마나 많은데.ㅋㅋㅋㅋ\\n빨간 어묵 무쟈게 좋아하는 큰둥 이입니다.\\n인천 처가댁 가면 꼭 들리는 떡도날드~ 거기서 한판 걸려있는 어묵 다 먹고 옵니다. 신기하고 맛난 거 참 많은데....... 그냥 이곳저곳 돌아다니는 것 자체가 재밌고 명동 나들이는 처음이었던지라\\n시간 가는 줄 모르고 구경하는 큰둥 이입니다.\\n다음에 엄마랑 또 나오자고 하는 큰 둥이~~ 저도 오랜만에 명동에 나온지라 신기한 길거리 음식들이 많습니다.\\n재미나게 구경하면서 돌아다닙니다^^ 확실히 길거리 음식이라고 옛날처럼 싸고 그저 그런 음식만 있는 시대는 지났습니다.\\n제가 종로에서 포장마차 할 때 명동이 길거리 음식 1번지였는데 와우 여전히 \\n그 명성을 그대로 이어갑니다^^ 버스 시간 체크하고 슬슬 이동합니다. 잼나게 명동 구경 잘하고 돌아왔답니다~'}, 10: {'title': '코로나19 명동현황 텅빈거리 명동코로나 명동중국인없음', 'nickname': 'Kelly\\n(fioraia_kelly)', 'datetime': '2020. 2. 29. 22:12', 'content': '볼일이있어서 완전 무장하고 명동을 다녀왔어요\\n이날 검색했을땐\\n명동에 일하는분 한분이 확진을 받았으나 방역이 완료되었고 다들 긴장하는가운데\\n방역과 소독을 실시하고 있김때문에\\n오히려 더 안전 할 것 같다고 생각했는데요 제가 거주하고있는 일산 파주에서\\n명동이 직장인 두분이 확진판정을...\\n충격이 아닐 수가 없어요.\\nㅠㅜ 이 시국에 위험 무릎쓰고 사람대하는 일 누가.하고싶겠냐만은\\n일이라 어쩔수 없는 우리네.인생이겠죠\\n명동이 어떤지 명동역에서 부터\\n한산..\\n와.. 이렇게 한가한 명동은 거의 새벽시간때나 12시이후에나 볼법한... 명동 밀레오레로 나가는 역출구또한 텅텅 비었구요 명동 네이처리퍼블릭 ~유니클로로ㅠ이어지는 거리또한 비었네요\\n제가 사는 곳은 공장이 많아서 인지 일하는 중국인들이 몇몇 보이긴 하던데\\n명동은 오히려 관광하는 극소수의 일본인을 제외하곤\\n중국인은 1팀정도? 밖에 못봤네요\\n나라 전체가 얼어붙어버린 코로나 19의 영향\\n이번주가 분수령이라니 가급적이면 외출을 자제하는 게 좋겠지만\\n일을 봐야겠다면 개인위생는 좀 더.신경쓰는게 좋을 것 같아요\\n저는 역사나 버스정류장마다 비치된 소독젤이 보이는 족족 손닦고 옷부딪히는곳 등등 소독하는데요 ㅠ\\n옷에는 분명 좋진않겠지만\\n타인을 믿기엔 우리사회 너무 깊숙히 코로나가 침투해 버린 것 같아요\\n내자신은 내가 지켜야죠 .. ㅠ 우울하지만..\\n코로나로부터 안전한 주말되세요  #명동상황 #명동거리 #명동코로나 #명동중국인\\n#명동외국인 #명동확진자 '}, 11: {'title': '을지로입구 바로 앞 우에스토 다녀온 후기', 'nickname': 'STELLA', 'datetime': '2020. 2. 14. 6:30', 'content': '안녕하세요. 오늘은 명동에 있는 우에스토를 다녀온 후기를 가져왔어요.\\n사실 명동은 안가고싶었지만..회사 미팅 장소로 잡혀서 어쩔 수 없이 다녀왔어요 ^^;\\n명동 초입이라 사실 영향은 크지 않겠지만 괜히 찝찝한건 사실 우에스토 메뉴판입니다. 매장은 지하에 있는데\\n1층에 이렇게 메뉴가 있으니 간단히 보세요.\\n일식 메뉴가 주로 많습니다 ^^\\n우에스토에는 런치 메뉴도 있습니다.\\n가격대는 부담이 없네요~ 우에스토 간판이 보이면 이렇게 계단을 타고\\n내려가시면 된답니다 :)\\n저는 12시 약속이라 그쯤에 방문했는데\\n예약도 가능합니다. 사실 을지록쪽은\\n직장이 많다보니 예약하는게 보통일이 아니쥬 ㅠ_ㅠ 내부 분위기에요. 무슨 아트 작품처럼 병이 놓여져있죠?\\n직원분들 모두 마스크 쓰고 일하시니 걱정하지 마세요! 메뉴판입니다. 런치메뉴도 있고 메뉴가 아주 다양해요 ^^\\n덮밥 종류도 있고 샤부샤부 종류도 있어요.\\n신선한 식재료를 사용한다고 해요^^ 전 돈까스 종류를 주문하려고 했어요.\\n메뉴가 참 저렴하죠?\\n그러다가 걍 다들 스끼야끼를 드신다해서 메뉴 급 변경! 기본 셋팅입니다. 메뉴판도 참고하세요\\n우에스토가 메뉴가 은근 많더라구요~\\n있는 메뉴판은 참고하시라고 다 찍어왔어요! 메뉴판이 두가지가 있는데, 하나는 런치용인가봐요!\\n저녁에 가시는 분들도 보세요.\\n확실하진 않은데 직원분들은 일본분들 같더라구요! 여기선 이렇게 혼밥도 가능할 것 같아요!\\n저렇게 앞 보고 먹는 좌석도 있더라구요.\\n완저 우에스토 일본식이죠? 메뉴가 부족할 것 같아. 치킨 가라야케도 주문했습니다.\\n먹는데 너무 촉촉 바삭바삭해서 맛있더라구요.\\n샐러드도 곁들여 먹으니 굿굿 메뉴가 나왔어요. 푸짐하죠?\\n계란 풀어서 찍어드시면 더 맛있어요.\\n국물이 뭔가 해장되는 느낌이에요!\\n완전 점심으로 강추강추 합니다. 뭔가 따뜻하게 보글보글 끓는 음식보니\\n드시고싶지 않나요? 지금 보니 또 먹고싶네요.\\n신종 코로나 사태가 진정되면 여러분도 다녀오세요 ^^  '}, 12: {'title': '5일 오전 홍대 인근 거리가 텅 비어있다.2020.03.05/뉴스1 © 뉴스1 ', 'nickname': '벤틀리', 'datetime': '2020. 3. 20. 13:50', 'content': '신종 코로나바이러스 감염증(코로나19) 사태가 잦아들 기미를 보이지 않자 \\'사회적 거리두기\\'를 실천하는 사람들이 늘면서 서울의 주요 도심상권에도 손님의 발길이 뚝 끊겼다. 명동은 물론 젊은이들로 늘 활기가 넘쳐나는 홍대 주변도 적막감만 텅 빈 도로를 채우고 있다. \\n코로나19 확진자가 5766명까지 증가한 5일 오전, 서울 홍대 앞 거리를 찾았다. 평소 같으면 학교로 향하는 대학생들과 시민, 그리고 관광객들로 붐볐을 거리지만, 이날은 오픈을 준비하고 있는 가게 직원들 외에는 사람을 거의 찾아볼 수 없었다. \\n옷가게와 음식점이 밀집해 있는 홍대 \\'걷고 싶은 거리\\'에는 오전에 문을 연 곳이 10곳도 되지 않았다. 그나마 매장 안은 텅텅 비어 있었다. 매일같이 버스킹이 열리던 공터에는 \\'모든 버스킹 공연을 금지한다\\'는 현수막이 붙어 있었다. \\n이날 만난 홍대 상인들은 입을 모아 매출이 평소에 비해 90% 이상 줄었다고 한탄했다. 옷가게를 운영하고 있는 김기수씨(45)는 \"퍼센트로 따지면 평소의 10% 수준\"이라며 \"주말에는 10%에도 못 미치는 상황\"이라고 한숨을 쉬었다. \\n김씨는 \"원래 버스킹이라도 하면 사람들이 많이 북적거리는데 버스킹도 금지되면서 사람 자체가 없다\"며 \"그나마 초저녁에 사람들 몇명이 보이는 정도고 새벽까지 술 마시는 사람도 거의 없다\"고 설명했다. \\n인근에서 잡화점을 운영하고 있는 허모씨(64·여)도 \"이전에 100을 팔았다고 하면 지금은 10밖에 못팔고 있다\"며 \"임대료와 인건비 다 합치면 마이너스다. 주말이나 평일이나 똑같다\"고 털어놨다. \\n이어 \"명동 다음으로 외국인이 많은 곳이 홍대인데 이젠 돌아다니는 사람도 없다\"며 \"그렇다고 해서 문을 닫을 수도 없다. 환절기라 겨울제품부터 봄제품까지 다 쌓여있는 상황이기 때문\"이라고 덧붙였다.\\n휴대폰케이스 가게를 운영하고 있는 이모씨(29)는 매출이 얼마나 타격이 있냐는 질문에 \"전체 자릿수에서 0이 하나 빠졌다\"며 허탈한 웃음을 짓기도 했다. \\n외국인이 가장 많이 찾는 서울 명동도 타격이 심했다. 특히 숙박업계의 경우 코로나19 확진자가 본격적으로 늘어난 2월 중순부터 급격히 기울어졌다. \\n이날 돌아본 명동 인근의 호스텔과 게스트하우스 등 숙박업소 대부분은 객실 이용률이 10% 수준에 머물러 있었다. 명동 인근에서 호스텔을 운영하고 있는 김해진씨(60)는 \"작년 3월은 (이용률이) 78% 정도 됐다\"며 \"지금은 전체 20개실 중에 3개실만 이용 중이다. 3월이 이대로 간다면 15%에도 못 미치게 될 것\"이라고 우려했다. \\n이전에도 다른 지역에서 게스트하우스를 운영했다는 김씨는 사스와 메르스 사태 때보다 지금이 훨씬 심각한 것 같다고 말했다. 그는 \"2월 20일부터 2월29일 사이에 투숙하고 있던 사람들 대부분이 도망치듯 나갔다\"며 \"신천지 확진자가 늘어나기 시작하면서부터 가버렸다\"고 덧붙였다. \\n문제는 높은 임대료다. 김씨가 한 달에 내야 하는 임대료는 550만원이지만 현재 하루 매출은 6만원에 불과하다. 임대료를 제외하고도 드는 경비만 해도 300만원 수준이다. 지난달에도 임대료를 못 낸 김씨는 청소담당 직원을 지난 1일 내보내야 했다. \\n김씨는 \"다른 나라에서 오는 하늘길도 막히고 있는데, 하늘길이 막혀버리면 명동에서 영업하는 사람들은 타격이 정말 크다\"며 \"정부에서 최대한 빨리 조치를 해서 이달 내로 코로나사태를 마무리해줬으면 하는 바람\"이라고 말했다. \\n인근에 30객실 정도로 운영되는 다른 호스텔을 찾았다. 관리자 오연수씨(30)는 \"작년이랑 비교하면 현재 10분의 1 수준\"이라며 \"평소 95%이상 객실이 차 있지만, 지금은 10%대에 머물고 있다\"고 말했다. \\n오씨는 숙박을 취소한 투숙객과 관련해 \"그냥 많은 정도가 아니다. 꽉 차 있던 객실이 그냥 다 나갔다고 생각하면 된다\"며 \"5월까지도 취소 요청이 계속 들어오고 있다\"고 설명했다. 호텔 방침상 일주일 전까지 취소하는 것은 수수료를 받지 않아, 사태가 길어지면 취소 요청도 더 많아질 것 같다고 덧붙였다.\\n그는 지금 상황과 관련해 \"근본적인 책임은 정부에 있다고 생각한다\"며 \"미연에 방역 조치를 제대로 하지 않았기 때문에 전염병이 들어올 실마리를 제공한 것이다. 숙박업계에서 정부를 고소해줬으면 하는 생각이 들 정도\"라고 비판했다. 뉴스1 류석우,박종홍,정지형 기자 2020.03.05. 15:54'}, 15: {'title': '', 'nickname': '12', 'datetime': '2020. 5. 11. 9:08', 'content': '아시아경제 | 2020.05.07 08:28 [아시아경제 임온유 기자] 대한민국 관광상권 1번지인 서울 명동역 인근의 유동인구가 신종 코로나바이러스감염증(코로나19) 여파로 급감한 것으로 나타났다.\\n7일 상가정보연구소에 따르면 중소벤처기업부 소상공인시장진흥공단 통계를 분석한 결과 지난 3월 명동역 상권(반경 400m)의 하루 평균 유동인구는 7만8958명으로 조사됐다. 이는 전월 9만7832명 대비 19.3% 적은 수치로 코로나19 확산 전인 지난해 12월 12만9862명과 비교하면 39.2% 감소했다.\\n코로나19의 전 세계적인 확산으로 외국인 관광객 유입이 사실상 중단된 결과다. 조현택 상가정보연구소 연구원은 \"코로나19 확산이 안정세에 진입했지만 내수경기 침체가 이어지며 오프라인 상가 경기가 급속하게 떨어지고 있다\"며 \"특히 외국인 관광객이 많이 찾던 명동, 인사동 등과 같은 상권의 얼어붙은 분위기는 계속되고 있다\"고 분석했다.\\n눈에 띄는 것은 명동 상권이 침체한 가운데 약국의 경우 마스크를 구매하기 위한 내외국인들로 붐볐다는 사실이다. 상가정보연구소가 SK텔레콤 빅데이터 서비스 플랫폼인 지오비전 통계를 분석한 결과 지난 1월 명동 상권 내 약국의 추정 매출은 약 4500만원으로 지난해 12월 추정 매출 약 3500만원 대비 1000만원이 증가했다. 마스크 5부제가 시작된 3월 추정 매출은 3982만원으로 1월 대비 감소했지만 현재도 명동 상권 내 약국 밀집 지역에는 많은 수의 내외국인들이 찾고 있다.\\n조 연구원은 \"코로나19 확산이 줄고 있는 추세이고 정부가 내수경기를 활성화시키기 위한 긴급재난지원금 지급도 진행하고 있어 오프라인 매장 분위기는 반등할 여력이 있다\"고 전망했다.\\n임온유 기자 ioy@asiae.co.kr'}, 16: {'title': '[코로나 여파] 주말 명동역', 'nickname': '하트', 'datetime': '2020. 3. 14. 23:38', 'content': '20년 3월 7일 토요일 저녁 10시 명동역 \\n사람 3명.... #코로나명동 #코로나 #코로나지하철 #국내코로나 #주말코로나 #코로나데이트 #코로나서울'}, 17: {'title': \"명동에 위치한 주요 브랜드들의 플래그십 스토어는 '하얀 코끼리'로 전락할 위기에 처했다. 하얀 코끼리는 비용은 많이 잡아먹지만 쓸모가 없는 소유물을 뜻한다.\", 'nickname': 'forestory', 'datetime': '2020. 3. 26. 9:43', 'content': \"명동에 위치한 주요 브랜드들의 플래그십 스토어는 '하얀 코끼리'로 전락할 위기에 처했다. 하얀 코끼리는 비용은 많이 잡아먹지만 쓸모가 없는 소유물을 뜻한다.\\nhttp://www.upinews.kr/newsView/upi202003240118 \"}, 18: {'title': '명동', 'nickname': '바이킹', 'datetime': '2020. 2. 18. 12:54', 'content': '설전에 다녀 왔던 #명동\\n코로나19의 존재 조차 몰랐던 그 때. . . 맛있는 녀석에 나왔던 소프트 아이스크림도 사묵고, 소떡소떡도 먹고~ 꼬치도 먹구, 계란빵도 먹었는데\\n사진이 없네. . .\\n우리 재호 고3 시절을 함께 해준 아몬드. ㅎㅎ  줄서서 먹는다던 그곳.\\n#명동교자 싹싹 다 먹음. ㅎ\\n재호 명동성당서 입학식 한다 그랬었는데\\n코로나 때문에 생략 되었다 함 ㅜㅜ 명동에 가면 늘 주차가 문제였는데\\n#명동공영주차장 알아두니 좋구만~\\n공영주차장에서 사진도 찍고~  #명동공영주차장\\n서울 중구 퇴계로20길 24  코로나가 잠잠해지면 아몬드 사러\\n또 가야지~~'}, 19: {'title': '신종코로나 21번,22번,23번확진자 까지 정리! 23번확진자 주의필요함.마포공덕이마트 및 롯데백화점본점 휴업!', 'nickname': '종합검진팀장', 'datetime': '2020. 2. 7. 0:02', 'content': '   주인장 포도아빠 거봉입니다.\\n21번~23번확진자 내용 포스팅합니다. #21번째확진자\\n 59살 여성\\n#6번째확진자의 가족입니다.\\n그런데 이 #6번째 확진자가 #3번확진자의 \\n접촉자였기 때문에, 21번째 확진자는 \\n#3차감염됐을 가능성이 있습니다. #21번째 확진자동선\\n태국에 갔다 온 16번째 확진자의 오빠인데요.\\n앞서 #16번째 확진자의 딸도 #18번째로 \\n확진 판정을 받은 바 있습니다.\\n21번째 환자 (※ 6번째 환자의 접촉자)\\n○ (1월 29일) 18시 20분경 자차 이용하여 서울시 종로구 소재 교회(명륜교회 예배당(본당), 혜화로3길 6) 방문, 자차 이용하여 20시 20분경 자택 귀가\\n○ (1월 30일) 종일 집에 머무름\\n○ (1월 31일) 6번째 확진자의 접촉자로 확인되어 자가격리 시작\\n○ (2월 1~2일) 종일 집에 머무름\\n○ (2월 3일) 보건소 차량 이용하여 서울시 성북구보건소 방문 후 보건소 차량 이용하여 자택 귀가\\n○ (2월 4일) 종일 집에 머무름\\n○ (2월 5일) 보건소 차량 이용하여 서울시 성북구보건소 이동 후 검사 받고 보건소 차량 이용하여 자택 귀가, 확진 판정 받고 서울대학교병원으로 이송\\n□ #22번째 확진자동선 (※ 16번째 환자의 가족)\\n○ (2월 4일) 16번째 확진자의 접촉자로 확인되어 15시 30분경 자가격리 시작\\n○ (2월 5일) 종일 집에 머무름\\n○ (2월 6일) 자택에 머물다 확진 판정 받고 조선대학교병원으로 이송\\n□ #23번째 확진자동선\\n○ (2월 2일) 12시경 서울시 중구 소재 호텔#프레지던트호텔 에서 퇴실 후 도보로 \\n서울시 중구 소재 백화점#롯데백화점 본점, (12:15~13:19체류) 방문, 지인 차량 이용하여 \\n13시경 서울시 서대문구 숙소로 이동, \\n지인 차량 이용하여 14시 20분경 서울시 마포구 \\n소재 대형마트#이마트 마포공덕점 방문\\n(14:18~16:09 체류), \\n지인 차량 이용하여 서울시 서대문구 숙소로 이동 ○ (2월 3~5일) 종일 숙소에 머무름\\n○ (2월 6일) 숙소에 머물다 국립중앙의료원으로 이송\\n#23번째확진자는 밤사이 추가된\\n 4명 가운데 유일한 중국인으로 \\n56살 여성입니다.\\n#23번째 확진자\\n지난달 23일 관광 목적으로 들어온 다음 \\n받은 검사에서 양성으로 확인돼 \\n국가지정격리병상에 입원중입니다. #23번째 확진자 정보\\n#23번째확진자는 1월23일 국내에 입국후\\n전날(5일) 확진 검사가 이뤄지기 전까지 \\n약2주간 서울 시내를 관광한 것으로 나타났다. 입국후 서울 중구의 한 호텔에서 머물렀고 \\n이후 서대문구 #창천동으로 이동해 체류. 이후 \\n보건당국에 의해 서대문구에서 머물고 있는 \\n것이 확인되면서 확진 검사는 \\n#서대문구 보건소에서 진행했습니다.\\n#23번째확진자 이동경로!\\n2일 낮 12시40분께 #롯데백화점 \\n본점에서 쇼핑\\n#신종코로나 롯데백화점본점\\n#롯데백화본점 코로나\\n이후 오후2시경 \\n#이마트마포공덕점 방문\\n#마포공덕이마트! 서울 명동과 신촌, 홍대 등 서울 내 주요 관광지를\\n 찾았을 가능성도 매우 높아진 상황입니다.\\n#23번째확진자주소\\n#23번째확진자숙소\\n현 정확한 주소지가 나오진않았지만\\n보건소 및 여러관련기관들 함구하네요ㅜㅜ\\n동사무소 어느직원분이 알려주신거라곤\\n#홍대입구역에서 연세대방면 이라고 하네요.\\n신촌역보단 홍대입구역이 가까운듯합니다.\\nhttps://m.blog.naver.com/superman0214/221800196061 https://m.blog.naver.com/superman0214/221802667216  반경안에 #창서초등학교도 있네요.\\n#연희초등학교 까지 2곳이 휴교입니다.\\n파란색 표시지역중에 어딘가에ㅠㅠ\\n한편, 23번째 확진자와 동행한 여행객 8명 중 현재 1명에게서도 신종 코로나바이러스 의심증세가 나타나 격리된 상황입니다...\\n네티즌들은 이 환자에대해 말들이 많지요..ㅜㅜ\\n딸 학교문제때문에 왔다고하지만..\\n온가족 8명이 우한폐렴이 한창일태 \\n국내로 입국을해서 2주간 관광을했다는거죠...\\n많은 이들은 국내 감염병시스템이 중국보다 \\n월등히 좋고 무상이라는거에 포커스를 두고\\n고의 입국아니냐는 말들도 있긴합니다...\\n의료시스템...\\n대한민국만한곳이 세계에 드물죠.\\n선진국에서도 부러워한다눈? \\n의료복지는 세계 으뜸인거 인정합니다.\\n근데 자국민 이외에 다른 국적까지라면..좀..\\nhttps://m.blog.naver.com/superman0214/221798673584 https://m.blog.naver.com/superman0214/221797154999 자세한 경로가 나오는데로 다시 수정하도록\\n하겠습니다... #23번째확진자정보#23번째 확진자정보#23번째확진자#23번째 확진자#신촌코로나#연세대코로나#신종코로나연세대#신종코로나연대#신종코로나신촌#신촌신종코로나#신촌확진자#중국인확진자#연대확진자#서대문구확진자#서대문구 확진자#신종코로나 서대문구#코로나서대문구#서대문신종코로나#홍대코로나#신종코로나홍대#신종코로나명동#명동코로나#명동확진자#홍대확진자#창천동코로나#서대문구 창천동#창천동확진자#게스트하우스확진자#신종코로나창천동#창서초등학교코로나#코로나창서초등학교\\n#창서초등학교#연희초등학교코로나#코로나연희초등학교#롯데백화점본점#신종코로나롯데백화점#코로나롯데백화점#마포공덕이마트#이마트마포공덕점#마포공덕코로나#신종코로나공덕이마트#마포공덕 신종코로나#이마트코로나#코로나이마트#마포코로나#공덕코로나#코로나마포구#코로나공덕#공덕동코로나#중구호텔코로나#신종코로나호텔#코로나프리지던트#프리지던트호텔#중구확진자#중구프리지던트호텔#프리지던트호텔확진자'}, 20: {'title': '남산뷰호텔/롯데호텔 l7명동 호캉스,조식후기', 'nickname': '네잎\\n(lisd1225)', 'datetime': '2020. 3. 10. 8:46', 'content': '남산뷰호텔 / 롯데호텔 l7명동 호캉스,조식후기 코로나19로 외출을 자제 해야 하는데 \\n어쩌다 보니 명동을 다녀오게 되었다. \\n명동에 있는 롯데호텔 l7...\\n코로나 때문에 조심 해야 하는데 이래도 되는거냐 \\n하면서도 남편을 따라 명동으로 호캉스 왔다. 주차장이 협소 하다고 했는데 \\n롯데호텔 l7명동 코로나19 때문에 \\n주차장에 차가 한대도 없었다. \\n이런 상황에 명동을 나와야 하냐고 투덜 거리면서\\n남편을 따라 나오기는 했지만 \\n마음이 편치는 않다. \\n#롯데호텔l7명동 #롯데호텔l7명동조식\\n#롯데호텔호캉스 #명동호캉스 롯데호텔 l7명동... 입구에 도착하면 열체크 부터 한다. \\n2번의 열체크를 마치고 \\n엘베를 타고 3층으로 올라가서 체크인을 했다.  체크인 하고, 룸 카드를 받고 나서\\n손소독제로 손소독 한번 하고 객실로 올라갔다.  여기가 내일 아침 조식을 먹을 곳이군  ... \\n조식 먹으로는 사람들 없을때 일찍 오자 객실에 올라 와서 가장 먼저 한일은 ?\\n집에서 챙겨간  소독제로\\n구석구석 뿌려 주었다 . \\n우리부부가 입고온 옷에도 뿌려주고...\\n하~이게 뭔 난리냐\\n롯데호텔 l7 명동 이곳으로 오면서\\n만난 사람은 1층에서 체온 체크할때 직원분 한분\\n프론트 직원뿐  이정도면 선방 했다..\\n이건뭐 007작전도 아니고 \\n코로나 제발 사라져라... 소독이 잘된건지? 눈에 보이지는 않지만 \\n 뿌리고 나서 개운한 느낌은 든다.  이곳은  남산뷰~~ 이곳은 남산뷰호텔 ㅎㅎ\\n남산이 바로 보인다. \\n건물들이 이쁘지 않으니 남산뷰도 그닥~\\n#남산뷰호텔 #롯데호텔L7명동 남산뷰 호텔로 찾은 곳인데 낮에는 생각보다 뷰가 별로다... \\n그렇다면 남산 야경뷰를 기대해 봐야 겠다.  롯데호텔l7 객실에서 남산뷰를 보면서 \\n눈동자만 살짝 굴리면 \\n다이소뷰가 나온다...ㅎㅎㅎ\\n헉 명동 다이소는 건물 전체가 다이소네\\n어마어마하게 큰 다이소구나.\\n커튼을 살짝 닫으면 다이소뷰는 사라지고\\n남산뷰만 보이니 다행이다.  롯데호텔L7명동 객실은 딱 필요한것만  \\n깔끔하게 준비 되어 있다. \\n롯데호텔L7명동은 외국인이 많이 오는 호텔 \\n이라고 한다. \\n명동호캉스로는  그닥그닥..^^\\n중국인, 일본인이 많이 오는 호텔이라고 하는데\\n코로나 때문에 호텔 전체가 조용하다. 밤이 되면 낮에 보다 더 눈에 띄는\\n커다란  다이소 뷰가 나타난다. \\n이곳은 다이소뷰호텔인가? 남산뷰호텔인가? 요즘 노랑색을 보고 있으면 마음이 따뜻해 진다. \\n처음 세월호 노란 리본을 달았을때는  볼때마다 \\n슬픔과 아픔으로 다가 왔지만\\n이제 노란리본은 나에게 위로와 따뜻함을 주고 있다.\\n부디... 그분들 가족들 에게도 따뜻함이 전해 지길 바래본다.  남산야경을 보면서 캔맥홀짝 커피홀짝\\n그리고는 그날밤 난 밤을 샜다.\\n명동호캉스 밤이 넘 길었던 시간 이었다.  도로위로 달리는  차소리 때문에 시끄러워서 잠을 잘수가 없었다.\\n롯데호텔l7명동점 저처럼 차소리에 예민하신분은\\n비추예요. ㅠ  밤을 새고 6시30분 간단하게 조식 먹고 와서 \\n잠깐이라도 눈좀 붙이고 나가자. \\n롯데호텔l7명동 호텔 조식 시간은 6시 30분\\n1등으로 식당에 도착했다. \\n30분 동안 먹는 사이 손님이 아무도 오지 않아서 다행이다..  조식 준비 되어 있는 음식은  간단하다.\\n다른 곳과 비교하면 정말 간단하개 준비 되어있다.  평소 같으면 여행자들 손님으로 시끌시끌했을 \\n식당이었을 텐데..텅~너무나 조용하다. 과일 담아서 먹고 언능 룸으로 올라가자 전복죽이 맛있어서 두번먹은거 빼고는 \\n나머지는 그냥그냥~~~\\n호캉스 롯데호텔l7명동 전체적으로 난 별로~~ 그러고 보니 연어도 맛있었네.. \\n음~~이정도면 롯데호텔l7명동 괜찮다고 해야하는거가? 시끄러워서 잠을 못잤으니 별로라고 해야하나?\\n내가 예민할수도 .... 롯데호텔l7명동점 조식을 다 먹을때 까지 \\n아무도 없는 레스토랑 ㅠ\\n코로나로 인한 경제가 너무 심각하구나.\\n하루빨리 코로나가 지나가야 할텐데.\\n모두모두 힘내자 !!!\\nhttps://coupa.ng/bthEHS 파트너스활동으로일정의수수료를 받을수도 있습니다.\\n#롯데호텔l7명동 #롯데호텔l7명동조식 #남산뷰호텔\\n#남산야경호텔 #명동호캉스'}, 22: {'title': '명동부동산 명동무권리상가임대 우째이런일이', 'nickname': '명동삼춘', 'datetime': '2020. 4. 10. 13:36', 'content': '명동부동산 명동무권리상가임대 우째이런일이. 대한민국 최고상권 명동. 코로나19 직격탄을 맞았네요. 해외관광객 멸종. 유동인구 감소, 상가점포 폐업. 모든것이 곤두박질쳤습니다. 그러나 희망은 있습니다. 전쟁 포화 속에서도 꽃은 피듯이, 지금의 명동은 서서히 다시 회복 기미가 보이네요. 유동인구는 조금 늘었고 점심시간에는 조금 활기가 넘쳐 납니다. 신종바이러스 타격이 가장 심한곳은, 외국여행객이 가장 많이 방문하였던 명동 홍대 강남역 익선동입니다. 그중에서도 가장 영향을 받는것이 명동이군요. 썰렁한 분위기 명동거리.\\n  이제는 그 끝이 보이기 시작합니다. 물론 외국관광객은 없지만. 명동은 어디까지나 직장인 상권이기 때문이겠죠. 주변에 수많은 건물과 빌딩들. 대기업 본사, 국영기업체, 금융회사 들. 은행과 증권회사들 연봉높은 넥타이부대들 돈 팡팡 잘 쓰기에 명동은 괜찮은 상권입니다. 또한 데이트족 및 쇼핑객 풍부하여 쓰러져 가는 명동을 다시 일으켜 세우리라 확신합니다. 분명한 것은 명동이 망하면 대한민국이 망한다는 사실. 따라서 지금 잠시 힘들 뿐. 이 고난과 역경 계속 지속 되리라 판단하지는 않고 있네요. 벌써 분위기가 달라졌으니요.  그럼, 오늘의 소재 명동부동산 명동무권리상가임대 우째이런일이 소개해 보겠습니다. 점포 위치는 명동1가 방향입니다. 명동은 명동유네스코길 (명동롯데백화점 맞은편 초입 ~ 명동성당 가는 라인) 중심으로 명동1가, 명동2가로 구분되죠. 즉. 4호선 명동역이 있는 명동2가, 2호선 을지로입구역 있는 명동1가. 당연히 명동2가 더 번화가이고 유동인구도 많고 임대료 또한 훨씬 비싸겠죠. 주로 화장품 회사들이 밀집되어 있습니다. 이에 반해 명동1가 지역은 상대적으로 유동인구가 적고 임대료도 저렴하겠죠. 하지만 정말 장사를 할 줄 아는 사람들은 을지로입구역 쪽을 택하게 됩니다. 실 수요자가 많다는거죠. 명동역 방향은 주로 아이쇼핑객이 많고 왔던 사람이 또 지나가고 또 지나가니 정말 유동인구 많은 것으로 착시현상을 일으킬 수 있다는 것입니다. 그리하여 그 광경만 보고. 덜컥 계약했다가 쌍코피 흘리는 분들 자주 보았습니다. 자! 그럼 가성비 훌륭한 명동1가. 을지로 1, 2가 상권 좀 볼까요.  1층 33평 보증금 2억. 월세 1300. 권리금 무. 정말 이런 가게가 있을까요. 네 있습니다. 명동삼춘이 자신있게 추천드리니 한번 보실까요. 임대료는 시국이 시국인만큼 좀 더  조정해 볼 계획이며 임대차조건 좋게 해 보겠습니다. 모두가 힘든 이  때 서로 상생하는 아름다움과 배려심이 필요하지 않을까요. 위사진 톡 누리시면 저와 바로 전화연결됩니다. 명동부동산에 관련한 궁금한 모든 사항 문의 주십시요. 제가 알고 있는한 최선을 다 하여 상담에 임하겠습니다. 저희 명동부동산은 명동중앙 (명동예술극장 옆) 에 위치한 정통공인중개사 사무실입니다. 명동에서 약 20여년 역사와 전통을 지닌 전문가 집단이죠. 저 역시 믿음과 신뢰로서 고객님과 함께 하겠습니다. 저의 철칙. 제 어머님 가게 얻는다는 절실한 심정으로 고객님을 맞이할 것입니다. 정직이 최선의 방책이라 믿고 또 그렇게 행동하고 있습니다. 일단 한번 만나뵈면 알 수 있겠네요. 명동부동산 명동무권리상가임대 우째이런일이 이 불경기. 가게 이전이나 확장 계획 있으신분들 전화도 기다리겠습니다. 즉 가게접수도 받는다는 의미이겠죠. 이 또한 저의 철칙을 밝힌다면.\\n1. 절대 보안유지.  2. 만족한 가격.  3. 신속 정확. 이 3가지 기조를 가지고 열심히 할 것입니다. 가게는 내가 빠지고 싶을 때, 원하는 싯점에 원하는 가격을 받고 나가는 것이 제일 중요합니다. 만약 그렇치 못하여 보증금 다 까 먹고, 원상복구 까지 하게 된다면. 정말 눈에서 피눈물 날 것입니다. 그런 최악의 상황과 부딪히치 않게 저와 함께 상의 해 보시면 어떨까요. 어치피 모든 것은 사람이 하는 일. 사람이 하는데 안 되는 일이 어디 있을까요. 전 믿습니다. 항상 긍정적입니다. 모든 것은 잘 되리란 확신. 우리 함께 조금만 더 힘을 내어볼까요. 고지가 바로 저기인데. 그냥 이렇게 주저 앉을수는 없잖습니까. 잠시 수면 상태 들어가서 힘를 비축하였다가, 다시 훨훨 날아야죠. 불꺼진 명동예술극장. 명동을 사랑하는 사람으로서 이 명동예술극장 운영에 대하여 참 아쉬움이 많은 일인입니다. 좀 더 적극적으로 능동적으로 극장 운영 하면 어떨까요. 너무 아쉽네요. 어쩜 우리 명동상권을 좀 먹는 장소가 이 예술극장 아니런가요. 한 때 악세서리 창업이 부쩍 많았는데. 모두 힘든 시기를 지내고 있군요. 모두모두 잘 되었음 하는 바람밖에 없습니다. 주말 잘 보내시고요. 명동무권리상가임대 권리금없는명동상가임대 우째이런일이. 하지만 희망은 살아 있습니다. 우리 모두 조금만 더 힘내어요. 위 사진들은 본 임대매물과는 전혀 관련없는 이미지사진들임을 고지합니다.'}, 23: {'title': '명동_ 동대문 시장_텅 빈 거리', 'nickname': '라라', 'datetime': '2020. 4. 3. 12:01', 'content': ' 안녕하세요~~~^^\\n오랜만에 동대문 시장을 다녀왔어요.\\n물론 쇼핑하거나 놀러 간 건 아니고요(지금은 시기적으로 그럴 때가 아니잖아요ㅜㅜ)\\n동생이 하는 옷 가게가 있어서 시장을 보러 간 거랍니다.\\n어쨌든 일은 해야 하고 일하려면 옷은 있어야 하니까요.\\n동생도 이놈의 코로나 때문에 한 달도 넘게 시장을 못 갔다네요 ㅜㅜ 그래도 오랜만에 가는 시장이라 기분이 좋더라고요.\\n얼마나 이쁜 옷들이 나와있을까? ^^\\n내 옷 사러 가는 것은 아니지만 시장은 언제나 저를 설레게 하는 것 같아요. 일단 동탄 메타폴리스 앞에서 만나 M 버스 타고 고고고~~~~\\n버스에서 내려 지하철로 갈아타거나 택시를 한 번 더 타야 한답니다.\\n명동 백병원역에서 하차하여 명동 안으로 들어갔어요.\\n왜 갔을까요????\\n왜냐면요~~~~~~~ 바로 명동교자 칼국수 때문이에요. 요놈은요 저희가 시장 갈 때마다\\n 들려서 먹고 가요\\n보통 일반적인 해물칼국수가 아니라 닭 육수로 국물을 내서 맛이 깊고 \\n면발도 생면을 쓰는지 참 부드러워요. 그리고 이집 김치는요....\\n김치를 먹기 위해 칼국수를 드시는 분이 있을 정도로 맛이 있답니다.\\n하지만 단점 하나!!!!!!!\\n마늘 냄새가 너무 심해서 식사하고 집으로 가실 분들만 드시는 걸로 ㅎㅎ\\n하지만 요즈음은 너도나도 마스크를 쓰고 다니기 때문에 별문제는 없어 보이지만 \\n제가 또 문제 하나를 느꼈어요.\\n 내마늘 냄새는 고스란히 내몫인걸루...장난아니더라구요 ㅜㅜ 마스크 벗고 싶오~~~~~~\\n그나저나 큰일입니다.\\n여기도 텅~~~~~ 저기도 텅~~~\\n위 흰바지 입으신분은 내동생이고요(몰래 한컷) 다른 저기도 텅~~~~~\\n거리가 텅텅 비었어요. 여기가 정말 명동인가 싶을 정도\\n로요.\\n예전엔 사람이 너무 많아 밀려 다닐정도 였는데 말이죠.\\n문닫은 상가도 많고 조기폐점(8시)한다는 안내 문구붙인곳도 꽤되구요.\\n슬픈 현실입니다.\\n빨리 정상화가 되어서 여러 자영업 하시는 분들 힘들지 않았음 좋겠어요.\\n(기도 기도 손 모아 기도)\\n그와중에 조명이 너무 이뻐 찍은 사진 이에요 요건 약국인데 건물이 귀여워서 한컷~~ 참.\\n우린 빨리 동대문 가야지..\\n택시를 타고 다시 동대문으로.\\n택시안에서 바라본 DDP 사진이 흔들렸어요\\n마치 우주선 같쥬~~~???\\n드디어 시장 도착! 얼릉얼릉 보고 가자 동생아.늙은 언니는 벌써 졸릴라고해\\n요즈음은 해만 떨어지면 자고싶오 ㅎㅎㅎ 어머나\\n여기도 읍오 ㅜㅜ 사람이 읍오 ㅜㅜ 만나는 사장님마다 너무 힘들다 하시네요.. 그래서 잠도 못주무시고 투잡뛰는 사장님들도 계시답니다.\\n건강이 최고인데..\\n건강을 잃으면 모든걸 잃는 건데..걱정이 됩니다.\\n특히나 이곳에 계신분들은 밤낮이 바뀌어 생활 하시는분들이라\\n호르몬 밸런스가 깨져서 건강에도 문제가 생긴답니다.\\n또 저많은 인공빛들에 많이 노출됐을때 질병이 생기기도 쉽고요. 좋은 비타민.미네랄 챙겨드세요~~~~\\n근데 옷들도 별로 없어요\\n공장들이 옷을 많이 생산 안한다고 합니다.\\n왜???\\n안팔리니까요 ..\\n경제가 어려워지면 소비를 줄이고 \\n소비가 줄면 생산이 감소하고\\n생산이 감소되면 근로자들 일거리가 줄어들고\\n그래서 가정경제가 다시 힘드어지는...악순환인거죠 ㅜㅜ\\n경제야 얼릉 살아나라 일을 마무리하고 집으로 돌아 오는길.\\n벚꽃은 흐드러지게 피어 자태를 뽐내고 있네요. 이 아름다운꽃들은 알까요?\\n갑자기 \\n이상화 시인의 <빼앗긴 들에도 봄은 오는가>가 생각나네요.\\n코로나19로 우리들의 봄은 힘들지만\\n이 또한 지나갑니다.\\n분명히요.\\n지나갈때 까지 우리 모두 기운 내자고요\\n오늘도 긍정의 마음으로 \\n모두 회이팅입니다~~~~ 독일 피엠 라라였습니다~~^^\\n#서울명동 #명동코로나 #명동거리 #명동교자 #명동칼국수 #동대문 \\n#동대문시장 #동대문코로나\\n#독일피엠 #독일비타민'}, 24: {'title': \" * 순서대로라면 봉천, 신림의 중국집인 '차이나영'을 먼저 올려야 하지만, 명동 2편인 일품향을 먼저 올립니다. '차이나 영'은 조만간 올리도록 하겠습니다.\", 'nickname': '자장면기행', 'datetime': '2020. 5. 3. 3:39', 'content': \" * 순서대로라면 봉천, 신림의 중국집인 '차이나영'을 먼저 올려야 하지만, 명동 2편인 일품향을 먼저 올립니다. '차이나 영'은 조만간 올리도록 하겠습니다.\\n 코로나19가 바꾼 명동, 아직 이전으로 돌아오지는 않았다.\\n 2019년 여름, 일본이 한국을 대상으로 불화수소를 포함한 반도체 소재의 수출을 금지하는 결정을 내린다. 이러한 사건에서 많은 한국인들이 두 가지 사실을 알게 된 것 같다. 첫 번째는 한국이 생각보다 힘이 세다는 것, 그리고 일본이 생각보다  '아주' 약하다는 것이었다.  그리고 코로나19 팬데믹에서, 한국은 2019년에 깨달았던 것보다 더 세다는 것을 알게 된 것 같다. 과거 동경의 대상이었던 유럽의 선진국들과 비교해 한국이 전혀 뒤쳐지지 않았다는 사실, 오히려 어떤 부분에서는 그들을 앞서고 있다는 사실이 이번 코로나19 팬데믹을 통해 입증되었다는 생각이 든다.\\n 그래도 아쉬운 부분도 있다. 명동을 포함한 많은 곳이 코로나19 이전으로 돌아오지 않았다는 것이다. 오해를 피하기 위해, 질병관리본부, 서울시의 결정을 반대할 의사는 전혀 없다. 오히려 그러한 결정에 전적인 지지를 보냄을 말하고 싶다. 단지 현재의 상황이 아쉽다는 것이다. 토요일 오후의 명동, 코로나19 이전에는 지나가기 어려울 정도로 노점이 많고 그리고 사람도 많았다. 하지만 5월 2일 음식을 파는 노점은 소수였고, 그리고 노점에서 음식을 먹는 사람도 별로 없었다. 그래도 다행인 건, 외국에서 입국한 사람을 제외하면 확진자 수가 0명을 기록했다는 것이다. \\n 5월 2일, '일품향'을 간 것은 우연이었다. 명동성당에서 미사가 있었고(오후 6시), 미사가 끝난 다음 저녁을 명동에서 먹을 생각을 했기 때문이다. 그렇게 '일품향을 들리게 되었다. \\n 일품향은 명동화교협회 건물 2층에 있는데, 특이한 점은 한 사람 또는 커플이 나란히 먹을 수 있는 테이블이 있었다는 것이다. 내가 자장면을 먹은 테이블이 그러했다. 명동화교협회 건물에는 일품향 외에도 도향촌, 산동교자와 같이 중국의 다른 먹거리를 파는 상점도 있다. (도향촌은 장소와 이름 그리고 취급 상품으로 인해 화교가 주인일 것 같으나 한국인이다. 그 이야기는 나중에 기회가 되면 소개하도록 한다. 결론만 이야기하면, 긍정적인 이야기이다.)   일품향에 들어가자마자 메뉴도 보지 않고, 자장면을 주문했다. 맛에 대해 이야기하면, 평소에 먹던 자장면이다. 거기에는 이유가 있다.\\n 한국의 경우, 중국집을 평가할 때 기본이 되는 음식이 자장면이다. 그리고 가장 어려운 음식으로 꼽히는 음식이 자장면이기도 하다. 노점과 같은 장소가 아니라면 맛을 차별화하기 매우 어려운 음식이 또한 자장면이다. 비슷한 음식으로 김치볶음밥, 떡볶이를 들 수 있다. 기본에 충실하면 맛 없기도 힘들지만, 아주 맛있기도 힘든 음식이다. 처음부터 블로그가 맛집 탐방기가 아니라고 한 이유가 여기에 있다. 맛의 우열을 가리기 힘든 음식이다. 일정 수준이 되면 평준화가 되는 음식이 자장면이다.\\n 2001년의 경험\\n 2001년 초의 일이다. 당시 여의도에서 근무하였는데, 늦은 시간 차를 타기 전 출출해서 버스정류장 근처의 포장마차를 들린 일이 있다. 그 일은 거의 20년이 지난 지금도 기억할 정도로 강렬하다. 자장면과 짬뽕을 파는 포장마차였는데, 주문을 받은 포장마차의 주인은 밀가루 반죽을 꺼냈다. 그 다음 나와 후배는 입이 벌어졌다. 알고는 있지만 평소 보기 힘든 장면이 벌어진 것이다. 포장마차의 주인은 밀가루를 반죽에 조금 뿌리더니, 탁탁 하는 소리를 내며 반죽을 내려치기 시작했다. 한줄이었던 밀가루 반죽이 갑자기 2줄이 되더니 4줄, 8줄, 16줄 식으로 나누어지기 시작했다.\\n 면은 울퉁불퉁했는데, 반듯한 것을 좋아하는 성격 임에도 그러한 울퉁불퉁함이 좋았다. 나는 자장면을 먹고, 후배는 짬뽕을 먹었는데 적어도 자장면의 맛은 훌륭했다. 포장마차의 주인은 (당시 기준으로) 얼마 전까지 중국집에서 일을 했는데, IMF로 직장을 나오게 되어서 포장마차를 한다고 했다. 그에게는 미안했지만 나는 큰 행운이라는 생각이 들었다. 수타짜장을 먹은 기억이 그 전에도 별로 없었으나, 이후에도 별로 없기 때문이다.\"}, 25: {'title': '명동 현황_공식 30%+ 비공식 30% 휴업 중_20년 4월 17일 현황)', 'nickname': 'N잡시대 N잡러', 'datetime': '2020. 4. 17. 9:00', 'content': '20년 4월 중순 서울 명동의 현황입니다. 먼저, 수치로 바로 볼 수 있는 숙소 현황입니다. 명동구역은 명동역부터 을지로 입구까지 거리를 말하며, 그 안에 대략 크고 작은 호텔이 약 40~50여 개 있습니다.\\n3월부터 이미 휴업을 들어간 숙박업소가 많으며 특히 50객실 이상의 비즈니스 이상급은 일찍이 휴업에 들어가 현재는 4월 30일까지 휴업 중으로 나와 있습니다. 숫자를 확인해 보니, 40개 숙박업소 중 14개 업소가 아직까지 휴업 중이고, 그 외 비공식적 60% 휴업이라고 생각하면 됩니다.\\n보는 방법은 현재 명동 숙박업소의 1박 당 가격은 2인실 기준, 게스트 하우스의 경우 5만 원 이하로 구할 수 있습니다. 대부분 3만 원 수준입니다. 그리고 1박당 5만 원 이상으로 되어 있는 경우는 실제로 비공식적인 휴업 중이라고 보면 됩니다.\\n일반 가게 들도 휴업이 상당히 있습니다. 임시 휴업은 이미 3월부터 시작되어서, 초기에는 4월 5일 정도로 하였으나, 현재는 대부분 임시 휴업 가게들은 4월 30일까지 휴업을 해놓은 상태입니다. 이것도 4월 30일 다가와서 추가로 연장될 가능성이 높습니다.\\n명동은 외국인 관광객들이 주로 머무는 곳인데, 현재 전 세계가 국경을 봉쇄하고, 비행기가 다니지 않습니다.\\n외국인 관광객은 이제 찾아볼 수가 없습니다. 명동의 코로나 사태 이후 전과 후입니다.\\n2019년까지만 해도 2017년 사드로 인한 중국의 한한령으로 인해 기존 800만 명이었던 중국 관광객들이 400만 명으로 줄었습니다.\\n이후 18년도 500만, 19년도 600만 명으로 점점 늘어나서 관광객 방문이 최고 기록을 낼 수 있을까 했던 20년도였습니다. 하지만 코로.나 사태 이후 관광객은 물론 현재는 길거리 음식점이 모두 철수된 상태입니다.\\n2015년 메르스 사태 때도 이 정도는 아니었는데, 10년 이래 가장 심각한 수준의 명동 거리입니다.\\n현재 국내 내수는 조금씩 회복이 되고 있지만, 관광객들이 방문을 하는 건 중국의 국경절이 껴 있는 10월 정도 돼야 하지 않을까 하네요. 5월 초 황금연휴의 명동은 어땠을까요? 아래 글에 나와있습니다. 게스트 하우스가 어떤 것인지 알고 싶으시면 아랫글을 참고해 주세요. 게스트하우스에서 투어 판매왕 비법. 그것이 궁금하시면 아랫글에 있습니다. 저는 어떻게 N잡러가 되었는지 궁금하시면 아래의 글을 눌러 주세요. '}, 26: {'title': '나인트리 프리미어 호텔 명동 2', 'nickname': '박까까', 'datetime': '2020. 5. 5. 14:47', 'content': '4월 초에 나인트리 프리미어 호텔 명동2에 방문했었다.\\n남산이 보이는 시티뷰와 편안했던 침구류가 \\n기억에 남는 호텔이다. 우리 커플은 여유로운 호캉스를 즐기기 위해서\\n항상 레이트체크아웃 프로모션을 하는 호텔을 먼저 검색한다.\\n그러던 도중 알게 된 나인트리 호텔 명동!\\n코로나의 영향때문인지 요즘 30시간 패키지를 하는 호텔이 많은 듯 하다.\\n이번에도 30시간 패키지로 다녀왔다. 위치는 명동역에서 정말 가깝고 찾기도 쉽다. 나인트리 호텔은 3성급호텔이고, \\n체크인은 3층에서 하면 된다. 체크인을 하고 방으로 올라간다.\\n.\\n.\\n방은 좁다. 좁아. 좁아요. 좁습니다.\\n침대 하나로 꽉차요. 뭔가 모르게 신뢰가 가는 그린카드\\n하지만 1박만 하는 우리에게는 무용지물이다. 있을 건 다 있다.\\n(TV,커피포트, 금고, 포켓와이파이 등) 내가 묵었던 방은 \\n샤워실과 화장실이 분리 되어 있엇다. 어메니티는 체크인할때 따로 챙겨준다.\\n(칫솔,치약, 바디로선, 화상솜, 면봉, 헤어캡) 근처에 있는 스타벅스에서 사온 커피도 마시고 \\n낮잠도 충분히 잤다. 저녁을 먹고 11층에 있는 라운지에 가보았다.\\n코인세탁실도 있나보다. 라운지에는 다양한 잡지들과\\n얼음정수기, 커피머신과 녹차까지 준비되어 있다.\\n우리는 얼음정수기에서 얼음만 받아서 내려왔다. 아쉬웠던 점!\\n체크인할때 중앙난방이라서 에어컨가동이 안되고 \\n난방만 온도 조절이 가능하다는 말에 대수롭지 않게 생각했다.\\n하지만, 통유리창이었던 객실과\\n점점 더워지는 날씨에 중앙난방은 너무 불편했다.\\n호캉스는 사실..\\n 뽀송뽀송하게 더울땐 시원하게 \\n추울땐 따뜻하게 지내려고 가는 건데...\\n다시 방문할지는 모르겠다.\\n좋은 프로모션이 있다면 또 올 수도.....있겠지?\\n지금까지 내돈내산 후기였습니다.'}, 27: {'title': '명동 디저트 카페 : 디저트연구소 명동점', 'nickname': 'plummy\\n(coqls2134)', 'datetime': '2020. 2. 10. 6:00', 'content': '  친구랑 이 시점에 명동....\\n코로나 조심 또 조심!\\n그래도 사야될게 잔뜩이었기 때문에\\n마스크 필수 착용에 뭐 먹을때마다 손 씻기\\n일단 본격적으로 쇼핑을 하기 전에\\n당 충전하러 달다구리를 먹기 위해\\n명동 디저트 카페 디저트연구소에 방문 😀 명동 디저트 카페 디저트연구소의 내부는\\n굉장히 넓었고 다양한 테이블들이 있었다.\\n8인까지 앉을 수 있는 긴 쉐어 테이블, \\n반좌식(?) 테이블, 타일 포인트의 4인 테이블, \\n1~2인이 앉기 좋은 테이블까지.\\n아기자기한 느낌의 인테리어였다.\\n원래 명동에 외국인들이 엄청나게 많은데\\n코로나 때문인지 평소보다 적은 손님 수에\\n홀 내부 촬영하기가 굉장히 수월했음! 👍 그 중에서 가장 마음에 들었던 테이블.\\n가운데에 화분이 들어가 있어서\\n뭔가 제주-제주- 스럽다.\\n오늘 명동 디저트 카페 디저트연구소에서\\n주문한 베이커리들도 제주스러운 느낌이라\\n요 테이블에서 촬영하니까 찰떡이었다. \\U0001f970\\n대신 이 테이블은 8인석이었고, \\n우린 2인이었기 때문에\\n촬영만 하고 반좌식 테이블에 앉음 ㅎㅎ 요 4인 좌석 뒤에도 있음 😆 커피, 티, 스무디, 에이드 종류가 기본으로 있고 행사? 시즌? 혹은 디저트연구소 명동점만의 메뉴?\\n일것만 같은 ㅋㅋㅋㅋㅋ (추측)\\n다양한 음료들이 있었다.\\n요기서 주문한건\\n딸기청으로 만든 딸기라떼\\n핑크멜로우 에이드 그리고 명동 디저트 카페 디저트연구소에 온 이유!\\n바로 이 아기자기한 디저트들 😍 명동 디저트 카페 답게 베이커리 종류 전부 다\\n모형같고 너무 예쁘다 ㅠㅠ 먹기 아깝게 생김\\n선인장이랑 복숭아가 제일 유명한듯한데\\n친구가 전에 선인장은 먹어봤다고 해서\\n당근농장, 오렌지    주문! 비주얼 갑.....\\n사실 당근농장은 궁금해서 주문해봤고,\\n오렌지는 실패 없을 맛일거 같아서 주문해봤다. 예상했던 맛과 비슷하기도, 다르기도 했던것 😁\\n둘 다 색감 너무 예쁨 💞 음 청량감 -\\n갑자기 제주도 가고 싶고\\n봄 여름 왔으면 좋겠고 그래 친구가 주문한 딸기청으로 만든 딸기라떼는\\n예상한 맛 그대로인 맛있는 맛 ㅎㅎ\\n딸기 + 설탕 + 우유\\n생각보다 딸기가 많이 들어있어서 좋았다.\\n딸기 향 맛이 아닌, 정말 과일 본연의 딸기 과즙 맛. 내가 마셨던 핑크멜로우 에이드.\\n장미꽃(?)이 동동 떠 있다.\\n색감 때문에 불량식품맛? 화학적인 맛?을 생각했는데\\n예상외로 덜 달고 화학적인 향도 없음.\\n개인적은 맛 평가로는 비타*워터랑 비슷한 맛이었다.\\n이온음료 느낌이었던 핑크멜로우 에이드. 같이 나온 투명색 무언가를 부어주면\\n색이 바뀐다....!!!!! 신기하다\\n인스타 스토리 각\\n오묘한 색상이랑 비주얼이 예쁨  첫 번째 먹어볼 디저트 오렌지.\\n오렌지보단 귤 스러운 크기에 \\n귤 스러운 비주얼이었지만 \\n왜 오렌지인지는 먹어봐야 암 바로 커팅 들어갑니다. 짜잔 바로 안에 진짜 오렌지가 들어있음\\n커스터드가루 + 크림 + 오렌지 느낌?\\n상큼하고 달달한 맛이 예상했던대로 맛있었다.\\n저 하얀색 막대기(?)는 그냥 설탕덩어리겠거니 하고 \\n치워 놓으려 했는데 만지는 순간 말랑...해서 엥? 하고\\n봤더니 마시멜로우 젤리였다 ㅎㅎ😋\\n덕분에 맛있게 다 먹어치움 의외의 맛이었던 당근농장\\n일단 비주얼 너무너무 귀여운 것 ㅋㅋㅋㅋㅋ\\n검은 흙은 쿠키로 추정했고,\\n당근은 팥앙금, 안은 당근케이크로 추정했었다. 일단 흙과 당근은 얼추 맞췄으나\\n안이 완전히 틀렸음 ㅋㅋㅋㅋㅋ\\n당근농장의 안은 모카 케이크였다....!!! 처음엔 크림만 있는 줄 알았는데\\n바닥쪽에 빵도 있었다.\\n크림만 먹었을땐 카*오레라는 \\n커피맛 아이스크림 맛이었다.\\n적당히 달달하고 커피향 나는게\\n원래도 모카케이크를 좋아해서 정말 맛있게 먹음.\\n오히려 예상했던 당근케이크였다면 남겼을 것 같다.\\n맛은 포기하고 비주얼만 보고 고른건데\\n맛 까지 마음에 들어서 다 먹어버림 😆\\U0001f92d\\n네이버 지도 위치 참고 '}, 28: {'title': '[나들이] 명동의 추억 2020년 1-2월', 'nickname': '지디대표', 'datetime': '2020. 2. 23. 12:45', 'content': '명동의 대표 명소\\n라인스토어 명동점\\n늘 인산인해 였던 이곳이 코로나의 여파로 잠잠하다.\\n마스크 꼭 차고 열심히 구경하기 \\n역시나 입구에 크게 자리 잡고 있는 브라운을 보며 퇴근 한잔\\n여기엔 태극당 팝업스토어가 있어서 가벼운 간식거리 먹는게 소소한 행복이에요 #명동역 #라인스토어명동 #태극당 #브라운   명동하면 분식을 빼놓을 수 없지\\n고모네 떡볶기는 명동거리를 걸으며 만나는 맛난 스트리트 푸드\\n20년이 넘은 역사엔 20년 동안 품어온 맛이 있다. \\n#명동떡볶기 #고모네떡볶기 #떡볶기 #분식 #주전부리  구수한 육수가 찌게 속으로 이렇게 맛난게 있습니다.\\n차가운 바람과 함께라면 더 좋지요\\n#심슨탕 #육수부대찌게 #테이스티로드 #명동역맛집 #심슨탕맛집 #명동 #버터밥  가보진 못했지만, 참 좋아 보이는 로얄호텔\\n여행객처럼 느끼고 싶다면 도심속에 호텔에 머물러 보기\\n#로얄호텔서울 #로얄호텔 #로얄호텔명동 #명동호텔 #호텔 \\n명동으로 사무실을 옮기고 만나는 일상들 점심시간이 여행 같고 \\n퇴근 시간이 여행 같은 명동\\n코로나로 외국이 없어 조금 아쉽긴 하지만, 그 덕에 사람들이 없어 여유있게 볼 수 있는게 매력적이다\\n모두 안전한 주말 보내세요!!!'}, 29: {'title': '천향원', 'nickname': '힌꾸', 'datetime': '2020. 2. 25. 10:37', 'content': '눈이 팡팡 내리던 날\\n오랜만에 친구와 찾아간 명동!\\n코로나19때문인지\\n날이 추워서 그랬는지\\n명동거리는 한산했다.\\n(내가 알던 명동이 아니였다...ㅠ)\\n사람이 적은건 아니였지만\\n내 기억속 명동은\\n어딜가도 줄 서있고,\\n왁자지껄하고,\\n3미터 1어깨빵은 기본이였는데...\\nㅠㅡㅠ\\n우리는 호달달 떨며\\n얼어붙은 몸을 녹여줄\\n훠궈 무한리필집을 찾아갔다!    천향원은\\n을지로입구역과 시청역사이,\\n조선호텔 정문과 후문사이,\\n에 있다.\\n우리는 을지로입구역에서 내려\\n7번출구로 나와 걸어갔다.\\n-천향원 매장 외관사진임니다!- 2층에 위치해 있슴니다! 무한리필 정통 중국 샤브샤브! 올라가는 길에\\n요런 이벤트 포스터가 붙어있었다!\\n생맥주 1잔에 1,000원?\\n(어우..흥분에서 초점이 나갔넹..)\\n+_+ 그리고 매장입구에는\\n코로나19에 대한 안내문도 붙어있었다.\\n정기적으로 소독방역을 실시하고있고,\\n현재 일하고 있는 중국인 알바생은\\n출국한지 6개월 이상되었다\\n는 내용!\\n중국음식점이라,\\n걱정하는 손님들도 안심할 수 있을 것 같다!\\n-매장 내부사진임니다!- 매장은 룸형식으로 되어있다.\\n조용하고 깔끔해서 좋았다.\\n모임이나 회식하기 좋은듯!\\n(매장에는 BGM으로\\n2000년대 발라드가 매들리로 나왔는데\\n추억돋고 좋았다....!) 이 곳은 훠궈뿐만 아니라\\n다양한 중국요리도 판매해서인지,\\n화구가 달린 테이블이 아닌,\\n테이블마다 휴대용 가스버너가 올려져있다! 오?\\n천향원은 물대신 꽃차를 주신다.\\n맛보니 자스민차 같았다.\\n(쌀국수집에 가면 나오는 차. 그 맛!)\\n-천향원 메뉴판임니다!- 메뉴가 정말 다양하다!\\n메인은 역시\\n★훠궈 무한리필★\\n우리는 훠궈 무한리필을 주문했다!\\n(무한리필은 언제나 옳슴니다~)\\n짜라란~!!! 육수가 나왔슴니다!\\n보통 훠거육수로는\\n홍탕과 백탕이 있는데,\\n천향원은 특이하게\\n홍탕, 백탕, 버섯탕 3가지 종류였다!\\n우리는 홍탕과\\n천향원에서만 맛볼 수 있는 버섯탕으로~ 육수가 나왔으니\\n어서 샐러드빠로 고고!\\n무한리필이라 크게 기대 안했는데\\n재료들이 다양하고 신선했다!\\n(야채, 버섯, 면류, 두부 등등)\\n아쉬웠던건 분모자가 없었다는 점...ㅠ\\n(다른거 더 많이 먹으면 되지롱ㅇ_< ) 고기는 얇게 슬라이스된 냉동고기!\\n고기볼 줄은 잘 몰라도\\n신선해 보였다는 점!\\n고기는\\n소고기, 우삼겹, 양고기, 돼지삼겹\\n이렇게 4가지 종류가 있다! 꼬치종류는\\n사진처럼 냉장고 안에 모여있다.\\n(유부, 소시지, 떡, 메추리알 등등)\\n꼬치외에도 해산물과 과일도 있다!\\n(어떡하지? 먹을게 너무 많쟈나?)\\n심지어\\n칵테일새우가 아닌 생새우가 있다니!\\n감.동♥ 이 집 선택사항이 왜케 많은고지?\\n소스마저도 종류가 다양하다!\\n\"어떻게 섞어야되지...?\"\\n(훠궈초보자)\\n라고 고민하고 있을 때,\\n직원분 오셔서 아주 프로페셔널하게\\n소스를 담아주셨다!\\n왼쪽사진을 보면\\n(사진구석에 쪼끄맣게 보임니다..)\\n\"완성품 소스가지고 한 번 드셔보세요~\"\\n라고 적혀있다.\\n(처음 한번만 담아주시는 듯?) 나는 이렇게 세가지스타일로 담아왔다!\\n(천향원소스가 직원분이 담아주신 것!)\\n짜라란~~☆ 우리가 담아온 접시들!\\n(여자 둘이서 먹을 양인건 안비밀...!)\\n(리필도 했다지요...) 샐러드바를 다녀온사이 육수가 펄펄 끓는다~~ 순서없이 다 때려넣어 줌니다~~ 냄비를 보면\\n가운데 동그랗게 나뉜 부분이 있는데,\\n여기에 매운고추와 마라소스가 들어있다.\\n동그란 부분이 홍탕쪽으로만 구멍이 나있어서\\n육수를 추가해도 계속 맵게 우려진다!\\n꼬치는 이 동그란부분에 넣어서 먹으면\\n더욱 매콤하게 먹을 수 있다!\\n(꼬치를 탕속에 잃어버릴 일도 없다.헤헿)\\n짜라란-- 샤브샤브니 금방 익어서 좋다!헤헿\\n먼저 버섯탕부터 맛보았는데,\\n(홍탕먹기전 준비운동! 하핳)\\n일반적인 샤브샤브육수 맛이 난다!\\n호불호없이 먹을 수 있는 맛!\\n천향원소스에 찍어먹는 것도 맛잇지만,\\n나는 칠리소스에 찍어먹은게 더 맛있었다!\\n이어서 맛본 홍탕의 맛은,\\n마라탕맛!\\n힌꾸가 좋아하는 맛♥\\n(맵고 짜고 자극적♥)\\n처음먹을때는 안매운거 같더니\\n어느샌가 혀가 마비되어있었다...!\\n홍탕은 간장+참기름소스에\\n찍어먹은게 잘어울렸다.\\n근데,\\n안찍어먹는게 제일 맛있었다!\\n(이미 자극적이여서..소스가 필요엄서요..) 이 날 거나하게 먹었다-\\n다른집에서도 훠궈를 먹어봤는데,\\n여기가 맛집!(엄지b) ★천향원 여러줄평★\\n- 직원분이 매우 친절하셨다.\\n- 위생상태도, 재료신선도도 모두 좋았다.\\n- 조용하고 편안한 식당분위기!\\n(음식에 집중할수 있다.)\\n- 여러분 훠궈 찐맛집을 찾았슴니다! 어서오세욤!\\n앞으로 명동가는날\\n점심은 무조건 훠궈\\n#천향원 #훠궈무한리필 #훠궈맛집\\n#배고파졌다...'}, 30: {'title': '허허벌판 명동거리,,,,ㅜㅜ', 'nickname': 'Foodrip', 'datetime': '2020. 2. 19. 22:24', 'content': '업무차 명동에 갔습니다\\n코로나바이러스로 인해\\n명동 상권이 죽었다는 내용의 기사를 봤었는데요 오늘 방문한 명동은 정말 허허벌판이었습니다.\\n평일 낮이라 더 그럴 수도 있지만\\n엄청 한산해 보였습니다\\n매출이 많이 빠진 매장은\\n평소 매출의 30% 정도밖에\\n안 나오는 곳도 있다고 합니다\\n얼른 코로나바이러스 문제가 해결되었으면 합니다\\n 업무를 마치고 퇴근길\\n허니버터아몬드 매장이 크게 명동에 있다던\\n여자친구의 말이 떠올랐습니다\\n최근 군옥수수맛 아몬드를\\n정말 맛있게 먹었던 기억도 있어\\n네이버 지도로 매장을 찾아봅니다\\n  등잔밑이 어둡다라는걸 다시한번 느꼈습니다.\\n바로 눈앞에 있었는데 전혀 알아보지 못했거든요ㅎ\\n꿀벌과 HBAF라고 크게 써 있던\\n간판의 의미를 몰라서 그랬나봐요\\nHBAF는 허니버터아몬드&프렌즈\\n(Honey Butter Almond & Friends)의\\n약자라고 합니다.  지하로 내려가는 매장입구입니다.\\n양 옆으로 다양한 맛의 아몬드 상자가\\n전시되어 있습니다  내려와서 유리문이 열리니\\n큰 꿀벌인형이 반겨줍니다.\\n  입구 왼편에는 간단한 짐을 맡길수 있는 락커\\n  구입한 물건을 패킹 할 수 있는 공간과 카트가 진열되어 있습니다.\\n 외국인 손님들이 많다고 하더라고요\\n처음 들어갔을 때는 손님이 거의 없었지만요ㅜㅜ\\n  코로나 바이러스 때문인지\\n손소독제와 마스크도 판매하고 있습니다\\n  매장은 정말 넓습니다.\\n 정말 다양한 맛의 아몬드가 진열되어 있습니다!!!  아몬드가 한 팩씩 포장된 것도 있고\\n 작은 소포장 된 아몬드를 묶어 놓은 상품도 있습니다.\\n 그리고 다양한 맛을 패키지로 파는 상품도 있었고요\\n 맛이 다양하고 \\n특이한(?) 맛이 많아서\\n어떤걸 사야할지 고민이 되더라고요\\n자세히 살펴보니\\n진열된 아몬드 옆에\\n본사 직원분들의 맛에 대한 설명이 적혀 있습니다\\n구매할 때 참고하시면 좋을실 것 같아요  저는 너무 많아서 참고해도\\n선택하기가 힘들더라고요ㅜㅜ\\n 다시 매장을 좀 더 둘러보며 고민해보기로 합니다.\\n  좀 더 둘러보니 아몬드빵을 판매하는\\n카페도 있습니다.\\n운영은 안하더라고요,,,,,,\\n코로나바이러스 때문인지,,,\\n무슨 이유인지 물어보지는 않았지만 아쉽네요,,  카페를 지나치니\\n신상품 허니버터호두, 허니버터캐슈넛이 있습니다. 수면바지, 에코백, 펜, 달력, 다이어리, 컵, 인형 등\\n다양한 HBAF 굿즈도 판매하고 있습니다.\\n   고민 끝에 김맛아몬드를 구매하기로 하고\\n계산대로 갑니다\\n계산대에는 중국어로 된 안내문이 많습니다.\\n중국인 손님이 엄청 많다고 합니다.\\n직원분들 중에도 중국인 직원들이 많더라고요.\\n 계산을 마치고 나갈 때쯤 매장을 둘러보니\\n외국인 관광객들이 많이 들어왔습니다.\\n 처음에 손님이 얼마 없어서\\n천천히 구경하고 사진찍기도 좋았지만\\n얼른 코로나바이러스에서 벗어나\\n사람들이 다시 붐비면 좋을 것 같습니다. #HBAF #허니버터아몬드앤프렌즈\\n#허니버터아몬드앤프랜즈 #플래그십스토어\\n#명동 #명동상권\\n#코로나바이러스 #명동코로나바이러스\\n#허니버터아몬드 #떡볶이맛아몬드 #딸기맛아몬드\\n#망고바나나맛아몬드 #복숭아맛아몬드\\n#카라멜아몬드앤프레첼 #꿀유자맛아몬드\\n#꿀홍삼맛아몬드 #김맛아몬드 #불닭맛아몬드\\n#요구루트맛아몬드 #별빛팡팡아몬드\\n#단팥맛아몬드 #티라미수맛아몬드\\n#토피넛라떼아몬드 #군옥수수맛아몬드\\n#와사비맛아몬드 #그린티라떼아몬드퍼프볼\\n#아몬드굿즈'}, 32: {'title': '명동 마라탕 맛집 / 라화쿵부 마라탕 명동1호점 / 엄마와 명동에서 마라탕과 꿔바로우까지 먹은 날♡', 'nickname': 'Eve', 'datetime': '2020. 5. 21. 10:00', 'content': \"#명동 맛집 #명동 마라탕 맛집 \\n#마라탕 #명동 마라샹궈 맛집 #명동 혼밥 오오늘은 엄마와 함께 점심 먹은날 ☆\\n엄마가 일하는 곳이 명동 근처여서\\n점심을 오랜만에 밖에서 처음 먹음\\n우리 가족은 집에서 먹는\\n집밥이 더 맛있어서 밖에서 잘 안먹는데\\n집에서 잘 해먹지 못하는 것들을 보통\\n밖에서 사 먹는다!!\\n(울엄마가 해준거가 젤 맛나단 말야)\\n그래서 오늘의 메뉴는 바로\\n'마라탕'\\n울어머니 처음 드시는 음식!!!\\n그래서\\n명동 마라탕 맛집, 명동 마라샹궈 맛집\\n명동 혼밥도 가능한!! 명동 영업시간\\n매일\\n10 : 30 ~ 22 : 30 라화쿵부는 국내 최초로 마라탕 프랜차이즈를\\n열었고! \\n식약청에서 인정한 위생등급 우수 판정의 마라탕 맛집이라고 한다 =)\\n(맛녀석들에도 나왔었던 것 같음) 을지로입구역과 명동역 사이!\\n오랜만에 오는 명동\\n코로나 이후 발길이 거의 뚝 끊겼다가\\n점심먹으러 조심하면서 왔음\\n비가 그쳐서 다행이긴 한데\\n아직은 구름이 많도다... 가게는 2,3층에 있는데\\n입구가 매우 좁아서\\n멀리서는 아주 잘 보이나\\n가까이서 보면 잘 찾아봐야한다 좁은 계단 입구를 올라가면\\n마라탕 간판이 뙇!!\\n맛있는 녀석들에도 나왔네?\\n집에 TV 없앤 이후로 안본지 오래 된 맛녀석들.. 처음에 2층만 보고는\\n와.. 가게 되게 작네...\\n명동 혼밥 가능하겠네..\\n1인 전용으로 만든 곳인가..\\n했는데 그렇다 3층이 있었다\\nㅋㅋㅋㅋㅋㅋㅋㅋㅋㅋ\\n당황했쟈너..☆ 창가에 자리를 잡은 모녀.jpg 엄마가 마라탕 처음이라서\\n어떻게 먹는거냐고 물어보셨는데\\n동시에 여기로 오더니 이게 뭐니.. 하면서 날 쳐다보심\\n아니 근데ㅠㅠ 분모자가 있다니ㅠㅠ\\n내가 널 찾아 헤멨어 분모자야ㅠㅠㅠㅠㅠㅠ 요 바구니에 먹고 싶은거 넣으면 돼\\n했는데 바구니가 참 맘에 들었다\\n딴덴 물 안빠지는 그릇인데\\n여긴 물빠지는 바구니였음 리얼\\n이거 맘에 리얼 듬 진짜로\\nㅋㅋㅋㅋㅋ 물 무게 사라지는 거자나♡ 가격\\n마라탕 ₩1,700 / 100g\\n*최소주문 ₩5,000 이상\\n마라샹궈 ₩3,000 / 100g\\n꿔바로우 ₩16,000\\n마라탕도 되지만 마라샹궈도 당연히 되고\\n그 외에 다른 중국요리도 가능!\\n볶아 먹는 마라샹궈도 먹고 싶긴 했는데..\\n일단 오늘은 국물있는 마라탕 비오니까!!!\\n마라샹궈는 다음에 =) 그래서 이렇게 한가득 담음\\nㅋㅋㅋㅋㅋㅋㅋㅋㅋ\\n인당 한그릇 먹을까 하다가\\n크게 한그릇이랑 꿔바로우 먹었다\\n난..푸주랑.. 분모자랑.. 하얀목이버섯이 젤 좋아..♡ 재료를 바구니에 넣으면\\n무게를 재고 무게에 따라서 가격이 정해진다\\n마라탕은 최소 5천원 이상이 나오게 골라야함!!\\n바구니 만 사천원어치에.. 꼬치 3개에..\\n소고기추가.. 2만원...\\nㅋㅋㅋㅋㅋㅋㅋㅋㅋㅋㅋㅋㅋㅋㅋ\\nㅎ... 그럴수있지 응\\n2인분이니까요 뭐\\n매운맛 강도는 울어머니 처음이시니까\\n그치만 매운거 좋아하시니까\\n2단계로 주문!! 주문을 하면 즉석 요리 해주시러 들어가시고\\n번호표를 주신다\\n딴 곳은 기억하시거나 테이블.번호로 하시는.거 같은데\\n여긴 이걸 가지고 있으면\\n보시고 주심\\n가지러가지 않아요~\\n친절하게 가져다 주시니 얌전히 기다린다 접시랑 물랑 단무지는\\n셀프♡\\n수저는 테이블에!! 마라탕을 기다리며\\n찍은 것들.jpg\\n마라탕의 유래도 적혀있고\\n중국술도 있고\\n마라탕 먹을 때 제일예뻐도 있고~ 기다림에 끝에 나온\\n마라탕과 꿔바로우\\nㅠㅠㅠㅠㅠㅠㅠㅠㅠㅠㅠㅠㅠㅠ\\n이쁜것들 진짜 겁나푸짐\\nㅋㅋㅋㅋㅋㅋ 그냥\\n웬만한 전골 양임ㅋㅋㅋㅋㅋㅋㅋㅋ\\n재밌닼ㅋㅋㅋㅋㅋㅋㅋ 아예 국자도 가져다 주셨다\\n김 모락모락 나는게.보이나\\n초록잎파리를 많이 안넣었네..\\n오마니가 면 많이 먹고 싶대서\\n면 많이 넣었는데...\\n다음엔 야채를 많이 넣으시겠단다 하.. 사랑스러운 내 분모자ㅠㅠㅠ\\n떡같은 식감 예술이쥬??\\n마라탕 그 특유의.마라맛과\\n땅콩소스의 고소한 맛과\\n채수&육수의 혼합된 그 !!!!\\n넘나 맛난것 ㅠㅠ 하.. 또 먹고싶네\\n울 오마니 드시자마자\\n오 이거 맛있다\\n하시며 바로 흡입하심 그리고..\\n꿔.바.로.우\\n내사랑 너의사랑!!!!\\n내가 진짜 꿔바로우 사랑하는데ㅠㅠ\\n그래서 이대에 꿔바로우 잘하는 집으로\\n일부러 가기도 하는데ㅠㅠㅠ\\n여기 맛있닼ㅋㅋㅋㅋㅋㅋㅋㅋㅋ\\n바삭바삭 쫄깃쫄깃 단짠단짠 이랬던 음식이 =)♡\\n싹비움\\n매우 만족 내려가는길\\n조심하시길\\n입슐랭\\n맛 ❤❤❤❤❤\\n4.8 / 5\\n분모자에 후한 점수 쨕쨕\\n다만 땅콩소스를 여분으로 더 넣고 싶었는데\\n없어서 아쉬웠음 ㅠㅠ\\n가격❤❤❤❤\\n4.5 / 5\\n가격은 자기가 어떻게 넣느냐에 따라\\n다르니!!! \\n위치❤❤❤❤\\n4.3 / 5\\n지도보고 찾아갔는데도\\n입구가 작아서 찾기가 조금 힘들었으나\\n위치자체는 괜찮았음\\n총점❤❤❤❤❤\\n4.6 / 5\\n명동에서 먹을 것이 없다!\\n마라탕이 급 땡긴다!!\\n하면\\n가보세요♡ \"}, 33: {'title': '명동데이트코스! 명동 반지대학에서 커플링만들기 어떨까요!', 'nickname': 'oki', 'datetime': '2020. 3. 2. 7:25', 'content': '안녕하세요\\n오기여보 입니다.  오기와 데이트를 위해서 명동으로 향했습니다!\\n오랜만에 오는 명동~ 코로나로 사람들이\\n많이 빠져있는 상태였습니다.\\n오늘 명동데이트코스로 커플링만들기를\\n하기로 하였습니다. 유명한 명동 반지대학을\\n찾아서 명동을 걸어 도착!\\n(명동데이트코스로 많이들 이용한다는\\n네이버 추천을 보고 찾아오게되었습니다.)  직접 DIY 하여(전문가의 도움 필요)만든 반지를\\n전달해 준다면 어떨까 하는 생각에 반지대학이\\n출발하게 되었다고 합니다.   명동 반지대학은, 반지, 팔찌, 목걸이를 99%의 고순도 \\n순은으로 직접 만들 수 있는 공방입니다.\\n 손재주가 없더라도 전문적으로 세공을 하시는\\n 선생님의 도움을 받아 완성품을 만들 수 있습니다. \\n직접 만든 선물로 감동을 줄 수있는 \\n최고의 데이트코스중에 하나라고 봅니다 시중에서 판매하는 이쁜 반지 보다는 못하지만\\n내가 직접 만드는 핸드메이드라는 점에\\n가치를 높게 주고싶습니다.\\n함께 만드는 그 순간순간이 더 큰 기쁨이겠죠~ 자리를 안내받았고 반지를 만드는데\\n보통 2시간 이상 걸린다고 하여 걱정을 하였는데\\n의자도 편하고, 주변에 이것 저것 구경할께 \\n많아 지루한 시간만은 아니었습니다.  알레르기와 변색이 적어서 좋다고 \\n말해주어서 더욱 믿음이 갔습니다. \\n반지의 종류를 보여주고 마음에 드는 디자인을\\n선택하여 선생님에게 말하면 됩니다.  오기와 저는 두가지 디자인을 선택하여 \\n고민하다가 좀 더 유니크한 꼬아서 만든\\n반지를 선택하였습니다.  세련되면서 유니크한 디자인을 선택~ 커피는 최고급 아라비아 원두를 사용하여 맛이\\n좋았습니다. 커피 전문가인 큐그레이더가\\n직접 관리하는 커피라고 하니 더욱 믿음이 갔습니다.\\n일반 커피숍보다 좀 더 부드러운 맛을 느낄 수\\n있어서 우리 둘 다 만족했습니다. 탄생석을 넣고 싶으면 추가금을 내고\\n넣을 수 있습니다. 저희는 탄생석을 넣으면\\n선택한 디자인의 유니크함리 사라져 보여서 \\n탄생석은 패스 하였습니다.  99.9%의 은은 항균, 항생 작용이 있습니다.\\n인체에 독성이 거의 없으며,여러 소재의 \\n항균 및 항생제로 널리 사용되고있습니다   명동 반지대학에서 첫 번째 커플링을\\n만들기로 하고 신청서를 작성!\\n각자의 정보를 적으면 됩니다.\\n디자인 부터 호수, 문구, 내용 등을\\n하나씩 채워 나가다 보면 반지가\\n완성되어져 있을 겁니다~ 손가락 사이즈를 체크합니다. \\n저는 19호 오기는 11호\\n가장 편안하게 낄 수 있는 사이즈를 \\n선택하는게 좋겠죠~\\n오기와 저의 반지 사이즈를 \\n둥근 쇠 기둥에 표시를 합니다\\n[사용 용도는 뒤에] 명동반지대학교 선생님께서 각자 사이즈에 맞는\\n은을 준비해서 주시면 다듬기가 시작됩니다.\\n어떻게 다듬어야 되는지를 시범을 보여주시기에\\n어렵지 않게 따라 할 수있습니다.  계속해서 확인해 주시면서 도와주시기에\\n걱정없이 할 수 있었습니다! 반지의 양옆에 모서리를 다듬고 나서\\n은으로 땜질을 하였는데 불을 사용하는 작업이라\\n선생님이 해주셨습니다.  위험한 작업은 해주셔서 다칠 위험성이 \\n적었습니다. 땜질한 부분은 갈아서\\n다른 부분과 같이 매끈하게 만들어 주었습니다.  사이즈 맞추기 단계로는 우리가 체크한 손가락 사이즈\\n 크기만큼 반지를 넓혀 주는 일 이었습니다.\\n 손가락 사이즈보다 3cm정도 위에 멈추어 선 \\n은반지를 망치로 두드리면 넓어지면서 아래로 \\n내려오게 됩니다.  이게 정말 되는구나 라는 생각과 함께\\n오기와 함께 열심히 두드렸습니다 디자인 만들기 단계로 거칠어진 표면과 \\n스크래치가 있는곳 튀어나온 곳을 \\n쇠 사포로 문질러서 평평하게 해줍니다. 은반지가 생각보다 작고 둥글어서\\n쉽지않은 작업이었습니다 마지막을 향해 가고있네요!\\n광내기를 통해 은 반지의 색을 찾아주고있습니다!\\n크기가 큰것부터 작은것까지있어서 필요에 맞는\\n 크기를 선택하여 광을 내면됩니다!\\n기계의 회전속도가 빨라서 은반지를 꽉 잡고 \\n해주셔야지 잘못하면 은반지를 놓치는 경우가 \\n발생합니다. ㅜㅜ 광내기까지 끝내구 우리가 반지에 넣고싶은 \\n문장의 글씨체를 선택하면 반지가 완성됩니다.\\n 우리는 맘에드는 필기체를 선택하고 \\n레이저 각인을 기다렸습니다. \\n손으로 하는 각인보다는 레이저 각인이 좀 더\\n 깔끔하게 나온다고 하여서 레이저 각인을 선택! 기다리는 동안 오기의손을 보니 얼마나 열심히\\n 갈고 딲고 했는지 보이네요  손재주가 있는 오기가 열심히\\n집중해서 만들었으니 당연히 따봉~\\n[젤네일하신분들은 조심하세요!\\n다듬기, 광내기 작업때 손상위험성있더라구요] 커플링이 완성되고 커플링과 함께\\n명동반지대학에서 준 학생증 만족스럽네요!  우리가 만든 커플링이 아름답게 들어가 있네요!\\n서로에게 반지를 끼워주고 찰칵 찰칵~ 너무 만족스럽게 나와서 기분이 업업!\\n사랑하는 사람과 함께 반지대학에 방문해서\\n  서로의 반지를 만들어 선물해보아요. \\n반지를 만드는 추억까지 선물할수 있었습니다\\n저희는 완벽한 명동데이트코스였습니다\\n명동반지대학에서 나와 서로의 커플링을\\n보며 빼지 않기로 약속했습니다\\n 명동데이트코스가 필요하다면 잇님들에게\\n추천해주고 싶은 곳입니다.\\n추억과 커플링을 선물하세요~\\n이상 오기여보였습니다 명동데이트코스하기좋은 명동반지대학\\n위치 공유할께요~  '}, 34: {'title': '명동마스크파는곳 kf94,kf80 최신!!(+명동마스크가격)', 'nickname': '언니랑동생\\n(miumiu0320)', 'datetime': '2020. 3. 5. 22:55', 'content': '요새 마스크대란이자나요?\\n최신후기올려요!!!!!!!!!!\\n저번에 제가한번 마스크거리에 깔렸다구 \\n썼자나용?\\n#명동마스크 거리에깔렸다구 기사났었잖아요?\\n저도 명동놀러갔을때 길거리에 마스크가 \\n3천원에 판매하구있는거 봤거든요?\\n(사실 명동교자먹으러갔.....)\\n근데지금은? 있어도 소형,중형(이것도증말조금)\\n소형kf94는 2500원에 판매중.\\n명동마스크대형kf94는 언제들어올지모른대요\\n(킹마트)\\n#명동마스크파는곳 #명동킹마트\\n#명동kf94 #명동마스크 \\n근데 돌아다니다보면\\n사람들줄서있는곳이 간간히있어요\\n이런곳을 노려야됨. ㅇㅕ기!!!!\\n여기 사람들줄서있길래 뭐지뭐지하면서\\n줄섰어요\\n다들 줄은서는데 왜줄서는지몰라서\\n앞사람한테 \"여기왜줄서요?\"\\nㅋㅋㅋㅋㅋㅋㅋㅋㅋㅋㅋㅋㅋㅋㅋㅋ\\n혹시 마스크판매해요?이러구 줄부터서서 물어봄\\nㅋㅋㅋㅋㅋㅋㅋㅋ\\n어리둥절하면서 눈치게임하듯 줄을서요\\n다들 한마음이겠죠...마스크구매ㅋㅋㅋㅋㅋ\\n그래서다들 설레는마음으로 줄을..ㅋㅋ\\n근데 며칠전까지 3천원이던 마스크가격이\\n3500원으로 올랐어요ㅜㅠ!!\\n가격듣구 그냥가시는분들도있구\\n강남마스크는 4900원 \\n홍대마스크는 3900원이라매여?(잇님피셜)\\n(명동교자 2호점바로앞)\\n(지금 공사중인 명동교자앞)\\n네이쳐컬렉션.\\n간판을못찍었네ㅠㅋㅋㅋ 여기서 어제 마스크판매하더라구요!!\\n가격은 3500원😅😅😅😅\\n증말 마스크대란이긴하더라구요\\n구매수량은 딱히 제한없는거같아요.\\n물론 가게에서 준비한물량이 다나가면 \\n구매못하겠지만요ㅠㅠ\\n한 30분줄서서 구매수량 이야기하구 결제하구\\n2시이후에오라그래서 마스크받으러다녀왔네요!\\n마스크급하신분들은 여기라도 문의해보세요!ㅠ\\n공적마스크구하기 힘들구,\\n마스크5부제가 시행되면서 구하기더어려운듯싶어요\\n#마스크명동 #명동코로나 #명동마스크\\n#명동마스크파는곳 #명동kf94\\n#명동마스크위치 #명동마스크판매위치\\n#명동마스크가격\\n#명동길거리마스크\\n#마스크명동가격'}, 35: {'title': '명동역 아이러니네일:: 3월 이벤트네일 봄 💅 네일아트 ', 'nickname': '스윗러니\\n(ironynail)', 'datetime': '2020. 3. 9. 23:48', 'content': '명동 ★아이러니 네일 오시는 길\\n명동역 5번 출구 도보 3분\\n신세계백화점 방면으로 쭉 -----오시다 보면\\n이삭토스트.cu편의점 옆 골목으로 내려와서 \\n오른편 김밥천국 3층 블링 블링 뷰티숍 안에 위치 안녕하세요!\\n명동 아이러니 네일 숍 러니임돠 ^^\\n3월 이벤트 네일 \\n좀 늦었지만 후다닥♠ 완전 봄 아직 꽃샘추위가 남았지만 그래도 이미 마음은 봄이잖아요 ♡\\n러블리하게 라벤더 칼라 / 베이지 칼라 / 은은한 파스텔 톤 네일아트\\n3월 이벤트 네일 꽉꽉 채웠어요!\\n실물이 더 이쁘고 손 톱에 바르면 더 옙쁘겠죠 ♡\\n자세한 사항은 명동역 #아이러니 네일 숍 /    \\n •예약문의 010-5731-7930 3월 코로나바이러스  답답하시쥬..\\n재택근무하시면서 주말에 나와서 네일아트 받고 가신 우리 고객님♥ 집안에서만 있다보니 너무 답답하고 주말엔 한 번씩 나와서 \\n바람도 쐬고 그래야 하는데..\\n겨울이라 그러지도 못했지만 이제 봄 봄 이 왔어요::)\\n날씨가 너무 좋아서 당장이라도 어디든 가고 싶지만.. 그렇지 못한 상황들이 \\n얼마나 답답한지 휴ㅠㅠ\\n네일아트  하는 것만으로 기분전환은 물론\\n삶의 질도 달라진다고요!!\\n아시죠 아시는 분은 알쥐알쥐  명동 #아이러니 네일 숍 에 오시면 여러가지 네일 디자인들이 있어요!\\n그중에서 눈이 가는 계란 꽃(?)같은 꽃 ㅋㅋㅋ\\n포인트 네일 해주었어요§\\n손톱도 너무 빨리 자라서 풀 칼라보다는 #둥근프렌치 네일아트 ☆\\n양손에 하나씩 오로라 #미러파우더 네일 이쁘쥬 서울 중구 명동 코로나 바이러스 때문에 외국인이 완전 없더라고요\\n.명동 중앙거리도 너무 썰렁하고 ㅠㅠ  다들 힘내시고 건강한 3월 보내면서 \\n따뜻한 봄 그리고 웃으면서 활기찬 명동거리로 돌아오길  기도합니다.🙏 명동역 ★아이러니 네일 숍★\\n1:1맞춤 시술로 꼼꼼하고 \\n청결은 물론 스트레스도 풀고 \\n가성비 좋은 네일숍 \\n시술 중에는 전화연결이 어려울 수 있습니다.\\n문자나 카톡 남겨주시면 끝나는 대로 \\n바로 연락드려요 \\n(양해 부탁드립니다^^) #명동역 #명동네일아트 #명동네일샵 #용산역네일 #서울역 #서울역네일 #을지로역 #을지로네일 #광화문네일 #시청역네일 #충무로네일 #신세계본점 #명동젤네일 #명동1인네일 #귀여운네일 #봄네일 #명동 #남산동네일 #남산 #대학로네일 #동대문네일 #용산네일 #주말영업 #명동주말네일 #명동네일추천 #명동젤네일추천'}, 36: {'title': '명동카페)분위기도 디저트도 맛집인 명동 커피숍 템프터 커피 로스터스 ', 'nickname': '까칠한미식가', 'datetime': '2020. 4. 1. 19:20', 'content': '템프터 커피 로스터스 명동커피 로스터리카페 명동  코로나때문에 방콕 생활한지 한달째 결국 또 개학은 연기되고 아이들은 언제까지 집에 가쳐 지내야 하는지 아이들도 힘들고 나도 힘들고 실내 활동을 할수 없으니 야외로라도 나가야 하고 그래서 멀리 남산까지 왔다 남산 다녀와서 기진맥진 당이 필요해 들리게된 템프터 커피명동  맛있는 커피가 마시고 파서 방문하게 되었다 로스터리 카페 직접 원두를 볶고 갈고 내리고 서울까지 왔으니 특별한 커피 마셔야지 ~ 넓은 실내에 분위기도 좋고 \\n조용히 데이트 하기에도 딱인거 같다  서서갈비 마즌편에 위치해있다 조용하고 분위기좋은 맛좋은 커피와 디져트를 먹을수 있는곳  더치 커피도 판매하고 있다\\n 커피 마셔보고 맛있으면 \\n집으로 데려가야지  1시부터 7시까지 디져트 메뉴도 판매한다 \\n플레인스콘 프렌치토스트 오픈샌드위치까지 \\n나는 오픈샌드위치를 먹고 싶었지만 1pm-7pm\\n샌드위치랑 디져트 가능하다  생과일 쥬스 리얼이다 \\n리얼 토마토 리얼 오렌지 이집 쥬스 맛집이네 직원분이 음식을 잘하시네 ㅋㅋㅋ \\n토마토 쥬스도 정말 신선하고 맛남  커피도 딱 내스타일 일단 안가던 카페가서 정말인지 커피가 맛이 없으면 정말 기분 나빠지는데 일단 음료들이 다 합격 역시 듣던데로군 명도서 조용하게 분위기와 맛을 즐길수 있는거 같아 좋다 !!! 프렌치 토스트 템프처 커피는 프렌치 토스트를 \\n바게트 빵으로 해주신다 \\n모양도 맛도 이쁘다 달달한 시럽과 거기에 상큼한 베리류들 그리고 제철인 딸기까지 기분까지 상큼해진다  다쿠아즈도 하나 시켜보았다 닝버터로 시켜보았다 \\n맛있다 요즘은 너무 달달한 마카롱 보다는 \\n담백하면서도 달달한 다쿠아즈에 빠진거같다  아들도 아빠도 잘먹네 요즘은 사람들 없는 시간에 카페가는게 취미아닌 취미가 되어버렸는데 \\n분위기도 너무 좋고 무엇보다 직원분이 너무 친절하시다  템프터 커피 로스터스는 스페셜티 커피를 합리적으로 드실 수 있도록 직접 생두를 선별하고 로스팅하여 제공하고 있습니다. 복잡한 명동에서 여유롭게 커피와 디저트를 즐기실 수 있는 따뜻한 공간이다 . 더치원액 우리집으로 가자 맛있다 커피 \\n요즘 커피숍 예전처럼 자주 가기도 뭐하고 우리동네는 맛있는 커피숍도 없는데 집에서 타 마셔야 겠다  시향을 할수 있어 좋았던 템프터 커피 로스터스 \\n원두 구매도 가능하다  [매장에서 판매되는 원두와 더치커피 모두 제조허가가 되어있습니다.] 집에와사 다음날 바로 타마셔봄 \\n내가 탔는데도 맛있다 요즘같은 시국에 집에서 간단하게 카페 커피를 즐기수 있어 좋은거같다 선물용으로도 추천 '}, 37: {'title': '명동 점심 먹기 좋은  일식성진에서 사시미 코스요리', 'nickname': 'BTVT', 'datetime': '2020. 2. 26. 21:09', 'content': '오랜만에 점심을 먹고 \\n힐링 타임을 보내기 위해\\n근처 카페에서 생소한\\n시나몬 음료를 먹었는데\\n힐링이 필요한 저에게 \\n힐링을 뺏어 갔어요 ㅠㅠ\\n카페 분위기가 온실 같아서\\n기다리는 동안 \\n정화되는 기분이었는데\\n시나몬 음료를 먹으니까\\n후회막심.. ㅋ\\n시나몬에서 계피 맛이\\n별로 안 날지 알았는데\\n계피 맛이 강하면서 \\n달달하더라고요.. ㅋ 알바님의 추천을 받아 달달한 걸로\\n시켰는데 상상을 뒤엎어버리는 맛..\\n다음부터 시나몬은 안 먹을 것 같네요 ㅋ\\n일단 사무실에\\n가져와서 틈틈이 먹었는데\\n반도 안 먹고 버렸어요 ㅠㅠ\\n그래도 오늘 저녁에 명동역맛집\\n일식성진에서 친구들이랑\\n사시미 세트를 먹으며\\n배를 호강시켜주기로\\n했으니 버티고 일을\\n할 수 있었네요.. ㅋ 일 끝나고 친구들이랑 명동에서\\n만나기로 해서\\n제일 먼저 도착했는데 \\n너무 일찍 와서 기다릴 장소가\\n마땅히 없더라고요 .. ㅋ\\n그래서 찾아보다가 일식성진 가는\\n방향인 명동역 10번 출구에서\\n내려 조그만 가다 보면 \\n이마트 24가 있는데 \\n여기 이마트가 프리 카페존을\\n운영해서 카페처럼 이용할 수 있더라고요\\n그래서 이마트 24  프리 카페존에서\\n10분 정도 기다리니까\\n친구들이 도착했다고 해서 명동역맛집 일식성진으로\\n이동했어요~\\n처음엔 음.. 업체 이름이 \\n일식 성진인데..\\n라고 생각을 했는데 \\n일식전문점 그리고 뒤에\\n한문으로 되어 있길래 \\n멍 때릴 뻔하다가 뒤에\\n성진이라고 한글로 써져\\n있길래 그제서야 잘\\n찾아왔구나 했어요 :ㅇ 입구로 들어오니까 \\n뭔가 정화될 것 같은 \\n분위기가 풍겼어요\\n나무가 있어서 그렇게 느꼈나 봐요\\n요즘같이 코로나 때문에 \\n민감할 때는 이렇게 \\n정화할 수 있는 것만\\n보면 기분이 좋아하지는 것\\n같아요 :ㅇ 일식성진 입구로 들어오니까\\n입구에서 안내를 도와주더라고요\\n예약을 해서 그런지\\n바로 예약석으로 안내를 받아 \\n저희 방으로 들어갔어요\\n요즘같이 코로나 때문에 어딜 \\n함부로 못 갈 때 괜찮을 것\\n같더라고요 \\n손님들마다 각자 방을 안내해주셔서\\n다른 손님 때문에 걱정하지\\n않고 편하게 먹을 수 있는 게\\n다른 음식점들에 비해\\n굉장히 좋은 것 같아요 :ㅇ 방으로 들어오니 이렇게 \\n발을 편하게 할 수 있는\\n좌식? 뭐라고 해야 하지? ㅋㅋ\\n여튼 앉았을 때 발이 방바닥 아래로\\n내려갈 수 있어서 \\n아빠 다리 하고 앉지 않아서\\n좋았어요 ㅋ\\n아빠 다리하고 음식을 먹으면 \\n나중에 일어날 때 \\n쥐가 나서 엄청 힘든데\\n이렇게 발을 편하게 해주니\\n그냥 앉는 것보다 좋은 거 같아요 :ㅇ 뭘 먹을까 고민하다가\\n사시미 B코스를 시켰어요 ~ 세팅이 엄청 빨리해주시더라고요\\n서빙해주시는 직원? 분들도\\n친절하시더라고요 \\n친구가 칭찬을 받아서 \\n자꾸 자기 자랑하는 바람에\\n귀 따갑게 자기 자랑 들었네요 ㅋㅋ 메인 음식이 나오기 전에 \\n죽이 나왔는데 \\n바람맞으며 돌아다녔더니\\n따뜻하고 부드럽고 맛있었어요 ~\\n요즘 일교차가 참 큰 것\\n같아요 점심에는 더웠는데\\n갑자기 저녁이 되니까\\n쌀쌀해서 얇게 입고 다닐 수는\\n없을 것 같더라고요 ..\\n여튼 그냥 먹어도 맛있는데\\n더 맛있게 먹고 싶은 분들은 \\n간장에 조금 찍어 먹으면\\n더 맛있게 즐길 수 있어요 :ㅇ 죽을 다 먹을 때쯤 되니까\\n메인 음식 사시미가\\n나왔어요 ~ 사시미를 보자마자 \\n입에서 침이 (꼴깍..)\\n이런 사시미나 참치를 먹을 때는\\n가장 맛있게 먹는 순서가\\n있는데 직원분이\\n어떤 순서로 먹었을 때 \\n제일 맛있는지 알려주시더라고요\\n방어를 제일 먼저 먹어야\\n다른 사시미들도 \\n맛있게 드실 수 있다고 \\n해서 방어 먹고 참치를\\n먹었어요 :ㅇ 친구들이 방어를 \\n먹는데 함성을 지르더라고요\\n왜 이렇게 맛있냐고 ㅋㅋ\\n그래서 오버하지 말라고 하며\\n저도 한입 먹어봤는데 \\n사시미를 먹을 때\\n입에서 살살 녹는 ~ 사시미가 차가운 것 때문에 그런지\\n입에서 부드럽게 녹는\\n기분이었어요 \\n나중에 직원분한테 물어보니까\\n일식성진에서는 당일 \\n들어온 물고기들을\\n잡아주신다고 하더라고요\\n그래서 첫 맛이 그렇게\\n부드러웠구나 싶더라고요 방어를 먹고 시간이 \\n지나서 다른 사시미를 먹을 때\\n왜 방어를 먼저 먹으라고 했는지\\n알겠더라고요 ㅋ 요놈은 늦게 먹어도 \\n맛이 그렇게 변하지\\n않는데 방어 같은 경우는\\n잡자마자 바로 먹는 게\\n식감을 제대로 느끼면서\\n먹을 수 있더라고요 :ㅇ 그리고 오랜만에 먹는 전복~\\n요놈이 바다의 산삼이라고들\\n하잖아요 ~\\n그래서 몸이 아프면 저도 전복죽을\\n먹곤 하는데 ㅋㅋ\\n이렇게 사시미로 해서\\n먹으니까 \\n식감이 더 좋았어요\\n오독오독 씹히는 게 \\n내 취향~  사시미를 다 먹고 다음으로\\n나온 다른 해산물들~~\\n굴, 골뱅이, 해삼, 멍게, 관자, 낙지\\n등등~ 저는 이게 소라인 줄\\n알고 사장님한테 소라가\\n굉장히 크네요라고 했는데 ㅋ\\n사장님이 골뱅이라고 \\n하더라고요 ㅋㅋ\\n골뱅이가 이렇게 \\n생겼는지는 처음 알았네요 ㅋ\\n통조림으로 된 것만 먹다가\\n이렇게 날 것으로 보니까\\n새롭더라고요 ㅋ\\n통조림보다 날것으로\\n먹는 골뱅이가 \\n더 쫄깃쫄깃하고 \\n맛이 좋은 거 같아요 :ㅇ 오른쪽에 있는 게 \\n어떤 물고기 껍질로 만들었다고 \\n했는데 기억이 안 나네요 ㅋ\\n여튼 껍질을 튀겨 놓으니까\\n맛있더라고요 \\n생선을 먹을 때 껍질은 안 먹고\\n버리는 편인데 이렇게\\n맛있는 줄 알았다면 \\n튀겨먹을 걸 그랬어요 :ㅇ \\n그리고 튀김을 따라 먹는 것\\n보다 다른 사시미나\\n낙지 / 해삼/ 멍게\\n이런 거랑 같이 먹으면 진짜 맛있어요\\n바삭거리는 부분 때문에\\n다른 음식과 같이 먹을 때\\n맛이 배가 되더라고요  그리고 매생이국인데\\n잠시 쉬어가는 용으로\\n딱 좋은 ㅋㅋ  처음에 생선 머리가 \\n나오길래 깜짝 놀랐어요\\n이렇게 큰 머리를 안 생선은\\n처음 보는 것 같아요 ㄷㄷ\\n방어라고 한 것 같은데\\n맞나 모르겠네요 ㅋㅋ\\n그런데 다행히 사장님이 \\n멀리에 살을 다 발라주시더라고요\\n먹을 수 있는 부위를 \\n다 발라주셔서 \\n먹기 편했어요 ㅋ\\n근데 진짜 부드러웠어요\\n버터랑 마가린을 뿌린듯한\\n그런 달달함이라고 해야 하나?\\n조리를 어떻게 했는지는\\n모르지만 처음 먹어보는\\n사람들은 반할 수밖에 \\n없을 것 같아요  ㅇ: 이건 알로 만든 전이라고 하는데\\n관자와 비슷한 맛인 것 같기도 하고\\n알을 이렇게 \\n전으로 부쳐먹을 수 있는 게\\n신기하네요 :ㅇ 그리고 꽃게 ...\\n요놈이 진짜 밥 도둑인데..\\n밥 한 그릇 있으면 진짜\\n밥 뚝딱해버리고 싶었다는.. ㅋ\\n명동에 점심을 먹으러\\n왔으면\\n이런 꽃게 에서 밥을 뚝딱 비벼\\n먹으면 진짜 \\n좋았을 거 같았다는 ㅋ 어느 정도 먹고 있는데\\n음식이 또 나오더라고요 ㅋㅋ\\n음식이 끝도 없이 \\n계속 나오니\\n정신을 못 차리겠더라고요 ㅋ\\n이미 배가 어느 정도\\n찬 것 같은데 \\n계속 나오니까 먹긴 먹는데\\n어디까지\\n배부르게 먹일 건지 궁금해질\\n참이었어요 ㅇ: 새우 / 고구마 / 게 맛살  튀김\\n등인데 \\n새우를 먹으니까 \\n아직 배가 안 찬 게 분명하구나 \\n느껴졌어요 ㅋㅋ\\n배가 부르다면 \\n맛이 덜 할 텐데\\n새우를 먹으니까 \\n맛있더라고요 ㅋ\\n그래서 아직 배가 안 부른 게\\n확실하다고 느꼈죠 ~ 그리고 뒤이어서\\n바로 지리탕이 나왔어요 :ㅇ\\n지리가 맑은 탕이라고도 한다고\\n하네요 \\n이 지리는 술을 먹은 다음에\\n해장으로 먹으면 진짜 좋을 것\\n같은 맛이었어요 ㅋㅋ 지리를 먹고 자리를\\n일어나려고 하는데\\n아직 끝난 게 아니더라고요  ;ㅇ 명동역맛집 일식성진의\\n피날레를 장식하는 것은\\n바로바로 야끼!! 야끼 속에 알이 꽉 차 있었어요\\n야끼를 처음 먹어보는데\\n넘나 맛있었어요 \\n한국인은 밥심이라 그런가\\n밥이 이렇게 알이랑 섞여서\\n나와서 더 좋은 거 같았어요\\n밥이랑 조화가 굉장히 좋더라고요 근데 진짜 끝은 매실차 ㅋㅋ\\n와 진짜 음식이 끝도 없이 나오는데\\n이렇게 매실차까지 후식으로 나오니까\\n오랜만에 배를 호강을 시켜줬구나\\n싶어졌어요 ㅋㅋ\\n나중에 명동에 점심을 먹으로 올 때\\n일식 성진에 한번\\n들려야겠어요\\n친구도 나중에 여자친구랑 \\n한 번 더 올 거라고 하네요 ㅋ\\n명동역에 제대로 된  맛집 \\n발견한 듯~ #명동점심#명동역맛집 #일식성진 #사시미\\n#명동 코스요리 #명동회 #명동코로나\\n#명동밥집'}, 38: {'title': '2020 코로나 시대, 청년의 집콕을 기록하다', 'nickname': '청신호 명동', 'datetime': '2020. 5. 6. 17:55', 'content': \"코로나19로 인한 '물리적 거리두기'가 전보다 느슨해지고 있습니다.\\n안녕하세요? 팽팽한 그 시간들을 잘 견디셨나요? 어떻게 지내고 계셨어요?\\n사람들은 코로나19와 같은 신종 전염병이 앞으로도 계속 반복될 거라고 예측합니다.\\n청년인 우리는 어떤 미래를 맞이하게 될까요? 그때마다 어떤 일상을 살게 될까요?\\n앞으로 의료체계를 더 확고히 하고, 경제 살리기에 힘쓴다고 하는데\\n이보다 더 근본적인 해결책은 없을까요?\\n청신호 명동은 이번 코로나19로 달라진 청년의 일상을 <집>이라는 주제로 기록하는 작업을 진행합니다.\\n코로나 19로 두려움과 걱정, 안타까움이 만연한 날을 겪으며, 당신이 살아낸 일상과 짧은 생각들을 들려주세요. \\n그 경험을 듣고, 공감하고, 위로하고, 나누며 문제점에는 해결책을 발견해가고 싶습니다. <Room1: 달라진 일상>\\n■ (신청) 구글독스 링크\\nhttps://bit.ly/2L66xak ■(대상) 코로나19로 일상에 변화를 겪은 청년 15명\\n■(주제) 코로나19로 달라진 청년의 일상\\n*세부주제(4가지 중 택1) : 라이프 스타일, 일(활동, 학업 등), 관계, 사유방식(인생관 등)\\n■(방식) A4 1장 이하 분량의 글(장르 제한 없음)\\n*구글폼 내에 파일을 첨부해야 하며, 양식은 따로 없음\\n■(기간) 2020.5.6~5.31\\n*<2020 청년 집콕 기록>은 관련 글, 인터뷰, 행사 등의 내용을 담아 올해 책자로 만들어질 예정입니다. 소중한 일상의 이야기를 보내주신 분들께는 3만 원 상당의 상품권을 드립니다.\\n*세부 주제가 균일하게 모집될 수 있도록, 향후 주제가 제한될 수 있음을 알립니다.\\n*문의: 070-5088-5464 (전화만 가능)\"}, 39: {'title': '명동 허니버터아몬드 + 명동마스크kf94 마스크여기다있네?(명동마스크파는곳)', 'nickname': '언니랑동생\\n(miumiu0320)', 'datetime': '2020. 3. 1. 23:00', 'content': '#명동허니버터아몬드 #명동마스크\\n#명동cgv 바로근처에위치해있는\\nk아몬드ㅋㅋㅋㅋㅋㅋ 아몬드종류짱짱많구 귀여운거 많이판다길래\\n다녀와본 명동허니버터아몬드ㅎㅎ\\n입구에서 kf94마스크를 한장당 3천원에\\n판매하구있더라구요\\n(매장안에도있음) 명동곳곳에 그냥깔린게마스크..!\\n그냥 지나가는 화장품가게,신발가게\\n눈에띄어서 쉽게찾을수있어요!!!!\\n가격은 2800~3000원사이!kf94 kf80,n95\\n그냥 갯수제한없이 판매하는듯?\\n많은분들이 사갖구가시더라구요\\n얼른마스크가격이 안정되어야할텐데😷😷\\n마스크 공적판매점에서는 구매하기가 넘어렵다하더라구요ㅜㅠ\\n1인당5개?니까 더그러겠죠?\\n줄도 길다는데..\\n마스크대란이네요진짜....! 나와서 돌아다니다보니 명동신발가게,\\n화장품가게 마스크존트많이팔더라\\n여긴 s-market앞인듯?\\n그냥 걸어다니다보면 다팔아요!!!!\\n한국과자파는 마켓에도,화장품가게,신발가게\\n그냥 겸사겸사 구경할겸 돌아다니시다보면 \\n마스크 다 팝니다~~\\n그래도못찾으시겠다면\\n명동cgv근처 명동허니버터아몬드에서\\n구매하셔도될거같아요~~\\n인터넷보단 저렴해서?ㅠㅠ많이들구매하시는듯.\\n외국분들도 많이사가시더라구요\\n#명동마스크 #명동코로나 #명동마스크판매\\n#명동마스크가격 #명동마스크파는곳\\n#명동마스크시세 #명동마스크kf94  짜잔~~얘기가넘길었죵?\\n입구에들어가면 귀여운아몬드?가 반겨줘요ㅋ 매장 진짜크더라구요!\\n엄청기대를하구다녀왔어요ㅋㅋㅋㅋ 10개세트도 있구! 귀여운 에코백?쇼핑백?도 팔구 달력,노트 볼펜,머그컵등등ㅎㅎ 이건 한개씩먹기딱좋을거같아서 사왔졍ㅋㅋ 떡볶이존좋이라 얼른 카트에담았당ㅋㅋ\\n한번씩먹을수있게 담겨있다!\\n30개묶음ㅎㅎ 귀여운 동전지갑ㅎㅎ 에코백,허니버터아몬드ㅎㅎ\\n29900원이네요ㅎ 딸기맛아몬드,복숭아맛아몬드,\\n망고바나나맛아몬드,꿀유자아몬드 등등\\n맛종류가진짜많더라구요ㅎㅎㅎㅎ 구경하는재미가있겠죠?ㅎㅎ\\n종류가너무많아서 이걸사야될지 저걸사야될지😆 민트초코좋아하시는분들은 진짜좋아할\\n민트초코아몬드!ㅋㅋ 곳곳에 보이는 포토존ㅋㅋ 별빛팡팡아몬드,쿠키앤크림아몬드\\n티라미수맛아몬드 등등 \\n진짜 종류가 😃😃😃 종류별로들어있는아몬드\\n맛을 고를수없어 아쉽지만\\n좋은구성ㅋㅋ 우왕ㅋㅋ김맛아몬드,불닭맛아몬드까지\\n아주취향저격제대로다ㅎㅎㅎㅎ 요구르트맛아몬드, 와사비맛아몬드\\n명동구경하다가 요구르트젤리사먹어서(노맛)\\n요구르트맛아몬드는 패스...ㅋㅋ\\n톡쏘는 와사비도 내취향아니당ㅋㅋ\\n아쉽지만패스.. 귀요미인형들 수면잠옷과 양말도 판매\\n그냥귀엽다ㅋㅋㅋㅋㅋㅋ 명동특성상 외국분들이 많이오셔서\\n계산대에는 이렇게 친절하게 tax free 문구도!\\nk아몬드라고 불리는 길림아몬드ㅋㅋ\\n증말 외국분들한테 인기가많다더니\\n그인기를 실감할수있는 매장크기였다ㅋㅋㅋㅋ 짐보관하는곳, 제품패킹하는곳도 마련되어있어서\\n물건사서 맡겨놓구 쇼핑해도될듯ㅋㅋㅋㅋㅋ\\n돌아다니다가 \\n길거리음식 구경하기ㅎㅎ 명동오레오츄러스 \\n증말맛있어보여서..먹어봤거든요?\\n가격은 4000원ㅎㅎ 먼저 휘핑크림을 주시더라구요....?\\n찍어먹으래요ㅋㅋ 짜잔~~생각보다 맛은별로였어요..\\n휘핑크림을 안찍어먹어서그런가?\\n번거롭더라구여 걸어다니면서 찍어먹기가..ㅎㅎ\\n아무튼 재밌게구경하구왔답니당ㅋㅋ'}, 40: {'title': '[터키 일상] 이스탄불 구경: 탁심광장(taksim), 요로스성(yoros castle), 베벡 스타벅스(bebek) 터키 코로나 근황', 'nickname': 'GB\\n(gjeon0311)', 'datetime': '2020. 5. 19. 16:10', 'content': '안녕하세요~!\\n터키에서 2월달부터 5월달까지 있는 동안 코로나가 있었지만.. 그나마 차를 타면서 돌아다녔던 곳들을 소개할려고 합니다!\\n다음에 코로나 없을때는 더 제데로 구경을 해야지 ㅠㅠ 여기가 그 유명한 탁심 광장인데, 코로나 때문에 아무도 없다.. 오 모스크를 리모델링인지 하튼 새로 짓고 있네요 바로 옆에 여기가 원래는 사람들이 엄청 붐비는 곳인데... (한국으로 치면 명동)\\n코로나 떄문에 다 문닫고, 이렇게 저처럼 집에만 있기 답답한 사람들이 나와있나 보네요 ㅎㅎ.. 건물들이 다 유럽풍으로 지어져있어서 그나마 건물 구경 하는 재미는 있었다.. 탁심에만 여러번 왔었지만, 올떄마다 새롭다.. \\n전에 탁심에 왔을떄는 사람들 구경만 했다면, 오늘은 건물들 구경만 실컷 ㅎㅎ 원래는 사람들이 하도 많아서 이렇게 사진도 못 찍음..ㅋㅋ 터키에서도 마스크는 필수! 탁심에 위치한 갈라타사라이 대학교\\n한때 갈라타사라이 축구팀을 응원했지만, 내가 응원할떄는 우승한 적이 없다가..\\n베식타식으로 옮겼는데 그제서야 우승하는 갈라타사라이.. 이스탄불에서 유명한 관광지들을 거의 다 문닫고 솔직히 전에 다 돌아다녀봐서\\n안가봤던 곳을 위주로 찾다가 여기를 발견!\\n요로스성(Yoros Castle)\\n근처에 이렇게 포토스팟도 있어서 온 보람을 느꼇다.. 보는 내가 속이 시원해지는 사진들이다.. ㅎㅎ;; 요렇게 라이트룸으로 만져봤는데, 아직 나의 실력은 미숙한거 같다...\\n모션그래픽도 배우고 싶고 그런데.. 언제 다 배우지.. ㅠㅠ 여기가 바로 요로스성\\n흑해 근처에 위치한 곳입니다. 성 근처에 이렇게 예쁜 야외 카페가 있는데, 코로나 때문에 문을 닫았다..\\n코로나 때문에 터키에서 문을 닫지 않는 곳을 보지를 못했다 ㅠㅠ 다음에는 여기와서 커피를 마시고 가리라.. 다음으론 이스탄불의 부유층들이 사는 동네\\nbebek마을에도 한번 가보았습니다.\\n전에는 몰랐는데, 여기에 전세계에서 가장 예쁜 스타벅스로 지정된 곳이 있다고 하더라고요! 는 문닫음 ㅋ...\\n원래 같았으면 저기 스타벅으로 들어가서 야외에 앉으면 요런 경치가 펼쳐지면서 커피 한잔을 마셔야했는데..\\n하는 수 없이 근처에서 대리만족이라도..'}, 41: {'title': '대구 거주 사실 숨기고 서울백병원 입원한 78세 여성 코로나19 확진', 'nickname': '기록이\\n(sun52031)', 'datetime': '2020. 3. 8. 20:28', 'content': 'https://mkoin.mk.co.kr/shared/10060051 대구에 머문 사실을 숨기고 #서울백병원에 입원한 78세 여성 환자가 코로나19로 확진됐다. 이에 서울백병원은 외래 및 응급실 등 병동 일부를 폐쇄했다. \\n연합뉴스에 따르면 이 환자는 지난달 29일 서울 마포구 딸의 집에 도착해 이달 3일 다른 병원 진료를 예약했지만, 대구에[서 왔다는 이유로 진료를 받지 못했다. 이에 서울백병원에서 진료받기 위해 대구에서 왔다는 사실을 밝히지 않고, 주소지 역시 딸의 주소지로 밝힌 뒤 입원했다. \\n#명동코로나 #백병원코로나 '}, 45: {'title': '하루#.35', 'nickname': 'Soba', 'datetime': '2020. 2. 14. 16:40', 'content': ' 닭갈비로 유명한 춘천 명동\\n주말에 갔더니 한산한 분위기\\n.\\n.\\n.\\n일상중 나의 놀이터이자 휴식터였던\\n시내 백화점 \\n영화극장, 체육센터\\n대형마트마저 한산한 분위기\\n코로나  바이러스가 빨리\\n진정되고 아픈사람이 치유되고\\n무엇보다 전반적으로 침체된 경제와\\n자영업들의 경기가 \\n회복되길 희망합니다!\\n      '}, 48: {'title': '부동산뉴스 2020.4.10', 'nickname': '셜록 부동산 이야기', 'datetime': '2020. 4. 10. 6:24', 'content': '서울 강북권 아파트값도 40주 만에 상승행진 멈춰 신축 아파트값… 낙폭 커졌다 능곡 2·5구역 사업시행인가 거부 \\'날벼락\\'… 조합 \"행정소송\" 강남 규제로 재건축 먹구름…\\'서초삼풍\\' 두달만에 2억 뚝 [서울 집값 하락 시그널] \"세부담 늘어도 아파트 계속 보유한다\" 65% 수원 영통 집값 39주만에 보합...서울 자치구 절반이상 하락세로 고양 고무줄 분양가…1900만원 vs 2630만원 \"세금폭탄 될 공시가격 낮춰야\" 강남 아파트 16곳 집단 이의신청 \\'풍선효과\\' 인천, 고분양가에도 억대 웃돈 가점 50점대는 명함 못내미는 서울 청약 과천 이사간 무주택자들, 청약 어려워지나…정부, 거주기간 가점 검토 인천 집값 과열, 경매까지 옮겨붙었다 매매 식고 청약 뜨겁고…따로 노는 부산·대구 부동산 \"착한 임대료도 소용없어요\"…무너지는 \\'상권 1번지\\' 명동 강남대로 상권 내 편의점, 월평균 매출 7600만원 넘어 [우리동네 지역전문가] 신축 단지 입주한 ‘서대문구 남가좌동’… 교육 시설 인접해'}, 49: {'title': '2020년4월14일-20일 ', 'nickname': '연서\\n(tnqls4499)', 'datetime': '2020. 5. 17. 5:38', 'content': \"이놈의 일상 써도 써도  내 영원한 옾파 공지철님\\n한 번만 만나서 악수해보고싶다  재형과 ??\\n음 내가 집에 혼자 있는 시간이 많아 우리 집에서 자주 넷플릭스 보면서 음식을 먹곤 한다😚 ㅋㅋ 어묵 >_< \\n맛있어서 둘이 몇개를 먹었는지 ... 이거 금액 바뀐 거 아시나용 \\n원래 열심히 샀는데 더 열심히 삼 ^^ \\n1회는 안 됐지만.. 언젠간....  종로 데이트  봄의 #청계천 걸어보고  #을지다락 #웨이팅  우리는 요즘 쿠키런에 빠졌음미다 \\n첨에는 카카오 쿠키런 하다가 지금은 오븐브레이크까지 하는 중  캬캬 운 좋게 넓은 창가 자리로 입성  대표 메뉴 오므라이스는 \\n눈 앞에서 칼로 잘라주시고 영상 찍을시간도 주신다 \\n재형이가 찍었는데 나는 영상이 없다는 게 함졍 ..\\n내놔내놔!!! 매운 크림 파스타???! 비쥬얼도 참 예쁘구나 너어무 배고팠던 관계로 \\n식탐 욕심쟁이들은 타마고샌드두 시켰다. \\n돈까스샌드위치 \\n더 코울슬로 얹어서 먹는 것 정말 잘 먹는 우리 둘이서 세개 먹으니까 딱 배부르고 맛있었다😋\\n남자친구는 여기 파스타랑 오므라이스를 그렇게 극찬했다  아참 근데 지도 보고 찾아갔는데 밑에서 입구를 못찾아서 진짜 한참 헤매고 전화해보려다가 겨우 찾음 ㅋㅋ \\n큰 간판은 안 붙어있음 주의 정말 뜬금 없는 외진 곳에 있었다 \\n근데 신기하게 들어가면 사람은 짱 많음 ㅋㅋ #명동\\n코로나로 사람 없는..~~! \\n볼일 있어서 간 건 아니고 재형이가 명동 안 가봤대서 \\n굳이 돌아서 지나쳐왔음 ㅎㅎㅎ\\n명동 설빙에서 빙수도 하나 먹었고  그리궁 #만선호프 찾으러 ~ ~ \\n이날 엄청 걸어다녔음 .. #먹태 에 #맥주 #먹맥 \\n골뱅이가 유명하다지만 배가 너무 불러서  자르고께씸  원래 만선호프 가려다가 야외자리가 없기도 했고, 해서 \\n걍 #뭔헨호프 로 감 ! \\n근데 여기는 뭔헨호프 주차장 땅 같았는데 만선호프는 길거리에 좌석을 세워놔서 경찰아저씨가 와서 아직 허가 안 났는데 왜 놨냐고(?) 뭐라고 하시는 광경을 봤당\\n코로나 땜에 그런가 ㅜ 컄 모함용 이거는 울동네 멸치국수찝\\U0001f9e1\\U0001f9e1\\U0001f9e1 \\nㅎㅎ콩국수 개시ㅠㅠㅠㅠ넘 행복 먹고싶다 ...  후식 \\n센틴컵 \\n햇사과에이드 맛있다  친구 생일 \\n얼마 차이 안 나는 둘😁🍎 셋이서 친구 케이크 먼저 호다닥 찾았다 \\n롯데타워랑 가까운 줄 알고 예약했는데 꽤 걸었다는 게 함정 ㅜ ㅜ 지나가는데 베라가 넘 궁전 같아서 . ㅋㅋ\\n공사 중이였다 생일자에게 서프라이즈 해주려고 했는데 \\n개뿔,,,, 늦어서 기다리게 했다 ㅠ 샤넬 로고는 안된다고 해서 .. \\nㅋㅋㅋㅋㅋㅋ초코픽 챙겨온 친구가 직접 수작업 ㅋㅋ ???\\nㅋㅋㅋㅋㅋㅋㅋㅋㅋㅋㅋ갑자기 장르 변경 마침 또 샤넬 앞 벤치에서 .. 했지 모야 ... #스시준 잠실 유명한 초밥 찝\\n일인 일 정식! 맛있었다 \\n초밥은 친구가 사줬당 ❤️ 방이동 #와인한잔 \\n와인한잔 첨 가보는데 와인 이름이 다 왜이러냐 \\nㅋㅋㅋㅋ 시키기 민망 오글 ... 애들이 전에 먹어봤는데 맛있다던 ',,,넌 예쁘니까,,,' \\n한 보틀 시켰는데 \\n먹을 만 했다 \\n우리는 무조건 당도 높은거 ! 안주는 간단히 나쵸와 꿀떡 시켰다 비가 오는 날이었어요.. 추웠고\\n내친구 #생일축하해 \\U0001f90d\\U0001f90d\\U0001f90d 3차는 한 명 빠지구 셋이🤣\\n동네에서! \\n#한라토닉 이 나가사키가 복병이었으니 \\n너어무 맛있어서 셋 다 굶은 애처럼 먹고 \\n면 먹어놓고 면 또 추가해서 물 부어서 쫄여 먹었다 ㅎㅎ 아 기요옹 ㅠ ㅠ\\n오랜만에 보는 아가 \\n애기 때 봤는데 많이 컸다 \\n저번에는 천방지축이였는데 커서 그런지 교육을 받았는지 엄청 얌전해졌다  ㅋㅋㅋㅋㅋㅋ\\n셋이 소주 두병인가 세병인가 먹고 \\n생일자 만취하심 \\n내 친구들 술 다 잘 못마셔서 내가 탑.. ㅎ \\n약간 재미 없다고 나 하나도 안 취했는데 ~~~!!! \\n재형이랑 먹는게 딱 적당하게 좋당 \\n(가끔은 내가 이길 때도 있지만 소곤) 데려다드림 ㅋㅋㅋㅋ\\n진짜 바닥에 데굴데굴 뒹굴고싶을만큼 웃었다  택시에서 옷 끼인 나.. ㅋ 나도 취했나 혹쉬? 담날 엄마랑 얼떨결에 해장 \\nㅎㅎㅎ 나보다 나이 많은 오래 된 칼국수집  수인과 아린과 제부가 집에 온대서 잔뜩 장을 봤다\\n무려 이 날부터 2주를 있다가 가게 되는데....  짬을 틈타 강지 산책  씻기면서 털 정리해주는 날에는 \\n내 팔 허벅지 손톱 자국 범벅~.~  ㅋㅋ 울 아가 와쪄용 ㅋㅋ\\n미니마우스 ,,  제부랑 엄마랑 나랑 각자 취향에 맞는 소주 한잔 \\n글구 삼계탕 😍 ㅋㅋㅋㅋㅋㅋㅋㅋㅋㅋㅋ\\nㅋㅋㅋㅋㅋ이거 개웃김 ㅋㅋㅋ \\nㅋㅋㅋㅋㅋㅋㅋㅋㅋㅋ\\n무한도전 그리워.... ㅠ ㅠ  재형이 서프라이즈로 머리 이발하고 온 날 \\n🤣🤣🤣🤣🤣🤣\\n감 격 \\n못알아볼뻔 정말정말 놀랬다 \\n버킷리스트 달성과 함께 거울 볼 때마다 못생겨보여서 현타가 왔다고 했다 \\n나도 자르길 원해했는데 깜짝으로 자르고 왔다\\n박 쑤 .. \\n훨 멋쪄\\n약간 아예 다른 사람이랑 사귀는 느낌이 남  맛있는 마라탕면 ? 우육면이였나 기억이 ... \\n롯데월드 몰 !! \\n그리고 방이동 겜방가서 게임 하궁 빠빠이 ㅂ 친구도 인스타그램 보구 ㅋㅣ 키  엄마랑 햄맥 \\n엄마가 좋아하는 조합 미미 혀 빠 닥 얌 ㅋ 수인 라식 날 ,.~~ \\n아기 때문에 라식까지 할 마음 먹고 길게 우리집 옴 .. \\n강남 아마스빈에서 애플망고버블티\\n맛있아 헥헥 2년 만에 나 라섹 한 병원 ㅠㅠㅠㅠㅠㅠ 예전에 여기서 찍었던 사진 호이쨔 \\n2년전 나  다행히 당일날 수술할 수 있었다 \\n그것도 원하던 라식으로\\n내가 힘들어 하는 걸 봤기 때문에 절대로 라섹은 하기 싫어했음 ㅋㅋㅋㅋ (라섹 개아파요..) \\n당일수술+내 이름으로 지인할인 받아서 나보다 더 싸게 수술함 ㅋ ㅋ 역시나 검사는 오래걸리지만 \\n수술은 5분만에 끝나버리고용 ~~ 집 가는 길  라식하고 피시방 가는 사람 \\nㅋㅋㅋㅋㅋㅋㅋㅋㅋㅋㅋㅋ\\n좀 하다가 갑자기 아프다고 집 먼저 갔다 .. \\n라식도 아프긴 아픈가보군 나 차 사고싶다~~~~!! \\n요즘 자꾸 suv가 보이네 \\n마세라티... 아우디.. 볼보..... 내 픽들 🤗\"}, 50: {'title': '지난 3월 일상', 'nickname': '흥', 'datetime': '2020. 4. 3. 22:50', 'content': '3월중순의 마브의 점심 회식\\n서교동 그리트 특히 요 트러플오일이 들어간\\n양송이 스프가 진짜진짜 맛있었다! 푸짐한 듯 안푸짐한 듯 아주 잘 먹었다 ㅎㅎ\\n쉬림프아보카도 오픈 샌드위치도 너무 맛있었다.\\n다음에 또 가기로 했다! 셀프 자가격리를 끝내고 돌아온\\n경아를 만나서\\n분위기 너무 좋은 카페 꼬르소산도\\n커피를 못먹는 우리는 논카페인 티를 시켰다. 브라우니는 덤 ㅎㅎ 분위기 너무 좋넴\\n요즘 아웃랜더에 빠졌는데\\n여기 막 중세시대느낌나고 좋았다. 어느 주말 아침,\\n계란샌드위치가 먹고싶어서\\n아침일찍 마트에 들렀다. 계란 삶아서 \\n후추 쪼금\\n콘옥수수넣고 쉐킷쉐킷 모닝롤도 꿉고\\n스프도 같이 만들어 먹었다 케케 아웃랜더와 함께\\U0001f970\\n바람잘날없는 \\n짠내 폴폴 우리 제이미ㅠㅠㅠㅠㅠㅠ 정말 오랜만에 쇼핑하러 명동!\\n코로나때문에 사람이 진짜 없어..😭 촬영때 쓰려고 컨버스하이를 구매했다.\\n컬러 너무 예쁜고 아니니? 배가고파 찾아간 밀푀유돈가스집\\n오랜만에 간거였는데\\n여전히 맛집\\n또 먹고싶어.. 흐앤므갔다가 찍은\\n맘에드는 사진 히히 원더플레이스로 고고\\n여기서 한시간은 넘게 있었던 듯.. 삼각지로 넘어와서 \\n카페 인바이티드\\n자매님 부부가 왕추천했던 그 카페! 묵직한 라떼를 원했는데\\n생각보단 아주쪼곰 가벼운 느낌\\n그래도 맛있었다 ㅎㅎ 맘에드는 그립톡사고 눈누난나\\n씬이났다🙆🏽\\u200d♀️ 잠깐 차에 뭐 꺼내러가는사이\\n제부가 찍은 컷들\\n차량털이범들처럼 나왔다 ㅎㅎ 요즘 자매님이 꽂힌 황금룡 탕수육\\n옛날 탕수육 맛이 난다. 롯데리아는 원래 새우버거만 먹었었는데\\n요 띠드버거도 참 맛있어요🍔 빅굿다리와 맥주.. 는 사랑입니더. 아웃랜더보면서 홀짝홀짝.\\n후르릅 쫍쫍. 제이미😭😭😭😭\\n막 시도때도없이 저런말들을 해대는데\\n어떻게 사랑에 안 빠지죠. 봄이 오긴 왔다.\\n3월 말쯤에 꽃망울 열린거 보고 신이나서 찍은 것 사무실에 놀러온 유랑 윤이! 아유 이뻐..!\\n정신없었지만 너무 예쁘고 힐링된다. 어느날 들렀던 \\n성산동 카페톤 나는 역시 라떼..!\\n존맛탱이다. 적당히 묵직하고 꼬숩다!\\n내 입맛에 딱! 레몬케익먹었는데\\n시고 맛난다..! 자매님이 먹은 사약같은 아메리카노.\\n살짝 산미있고,\\n아메도 엄청 맛있었다. 근데 레몬케익은 내가 다 먹은 듯..😅 주말아침 배가 너무 고파 \\n핫케익을 꿉는다..👩🏽\\u200d🍳 내가 했지만 맛나욤🥞 아부지가 엄청 먹고싶어하셨던\\n윤화돈가스 다먹고 잠깐 양재천들러서 산책했다.\\n물론 마스크 필수!😷😷 브라운핸즈에서 레몬티먹고 마무으리!\\n더 쓰고 싶은데 50장 다 찼다..\\n곧 또 올려야지!\\n그람 레알 오랜만의 블로깅!\\n끗이요!'}, 51: {'title': '봄꽃이 만발한 산과 들...나들이 생각만....', 'nickname': '천안사랑', 'datetime': '2020. 4. 9. 17:39', 'content': '봄꽃이 만발한 산과 들...나들이 생각만....\\n전세계적으로 코로나 사태가 일부국가를 제외하면\\n많은 국가들이 진정국면으로 돌아섰는가 봅니다.\\n백신과 치료제 개발에 많은 시간이 걸리기에..\\n아직은 사회적 거리두기에 동참을 지속적으로..\\n당분간은 코로나 사태가 안정된 나라에서는\\n안정되지 않은 나라의 국민들 입국을 통제\\n이에 관광사업 등....인적교류는 어려울 듯합니다.\\n관련 산업 주식, 부동산 투자는 조금있다..\\n강남고가아파트 및 종부세 대상이 되는 공시가격\\n인하요구가 많은가 봅니다. \\n아파트 가격 오르는 것은 좋은데.. 세금내는것은 \\n싫지요. 선거철도 되고...조정을 해줄까요..\\n아파트 가격은 하락하는곳도 있고 상승하는 곳도 있고\\n특히 세종은 많이 오르고 있는 중인가 봅니다.\\n코로나 사태가 안정적이다 보니 가격에 영향이 \\n없을까 하는 조심스러운 생각도 해보는데..\\n상업용 부동산 시장이 심각해지는 듯 합니다.\\n세계코로나 안정화 되기 전까지 관광객 유입이 없어\\n상업용 부동산 시장에 큰 타격을 줄것이고\\n아직 끝나지 않은 상태로 당분간 외식은 줄이고\\n상업용 부동산은 올해까지 많이 힘들듯 하네요.\\n총선을 맞이해서 각종 개발공약을 발표하네요\\n대부분 기존에 논의되던 것들이 많고 하니\\n다시한번 보시고 참고하심이 좋을 듯 합니다.\\n실업율이 높아지니 부동산 시장에도 영향\\n홍콩 부동산 가격이 상당히 높다고 하는데..\\n영향을 많이 미치는 가 봅니다. \\n최근 실업율 통계자료가 없어서 2월말 통계자료를\\n보니 2~5% 3월 통계를 봐야 되겠지만...\\n3.5%대 정도는 되지 않을까 하는 조심스런 예측\\n 홍콩 3.7%, 미국4.4%에서 증가하는 추세..\\n실업이 주택부동산 시장에 영향은 미치겠지만..\\n부동산 시장중 주택부동산 시장은 최후보루\\n정부도 3년전 가격으로 주택부동산시장을 \\n안정화 시킨다고 했지만 코로나 19로 \\n앞으로 별다른 대책을 내놓지 않을 것으로 보여집니다.\\n포스팅할때마다 썼지만...정부는 결코 건설경기가\\n급격히 나빠지는 것을 원하지 않습니다.\\n그러면 지금 하던 정책 그대로 유지하면서\\n관망하는 것이 가장 현명한 정책으로 여길 것입니다.\\n이럴때 자금이 적게드는 분양권시장을 노려볼만한\\n때가 아닌가 싶네요. 특히 서울, 경기권.... 코로나19 환자 150만명 넘어…일부 진정세에 봉쇄완화 움직임도\\nhttps://www.yna.co.kr/view/AKR20200409156800009?input=1179m 강남 아파트 16곳 \"세금폭탄 될 공시가격 낮춰라\" 아파트 주민들 최대 규모로 이의신청서 제출 은마·래대팰 등 대치동과 개포동 아파트 합동\\nhttps://www.mk.co.kr/news/realestate/view/2020/04/372910/ 서울 아파트 전셋값↑ “‘코로나’·규제 버티고 보자” [출처] - 국민일보 \\nhttp://news.kmib.co.kr/article/view.asp?arcid=0014457559&code=61141111&cp=du 급해진 강남 부동산 큰손들…매물 쏟아낼까?\\n종부세·양도세 아끼려 5월 잔금 조건…급매물 늘어날 것이란 전망도\\nhttps://news.mtn.co.kr/newscenter/news_viewer.mtn?gidx=2020040914465787188 강남4구 아파트값 하락폭 확대 마용성도 일제하락\\nhttp://www.startuptoday.co.kr/news/articleView.html?idxno=39953 \"착한 임대료도 소용없어요\"…무너지는 \\'상권 1번지\\' 명동 \\n관광객 비중 높은 명동, 코로나19 직격탄 매출 급감하면서 수천만원 월세 감당 못해 장사 접고 싶지만 이어받을 임차인 없어 소형빌딩 경매도 \\'찬밥\\'…수익 내기 힘들어\\nhttps://www.asiae.co.kr/article/2020040912091286247 4·15 총선 앞두고 지역 부동산 개발 공약 \\'봇물\\'\\n각 지역 교통망 확충 위한 교통 개발 공약 표심 잡기…GTX노선 개발 눈길\\nhttp://www.inews24.com/view/1256694 [글로벌-Biz 24] 홍콩, 부동산 가격 최대 20% 하락\\n코로나 전염병 따른 실업률 상승이 원인\\nhttps://news.g-enews.com/view.php?ud=20200408225416575b8488d322b_1&md=20200409132947_R 코로나19에 해외부동산 충격…국내 증권업계 ‘전전긍긍’\\nhttp://www.kukinews.com/news/article.html?no=773832 빚은 늘고 집값은 떨어지고…우울한 부동산 시장 전망 [식후땡 부동산\\nhttps://www.hankyung.com/realestate/article/202004085996e 부자들, 부동산 비중 6년 만에 감소…부동산 전망은 여전히 낙관적 [출처: 중앙일보]\\nhttps://news.joins.com/article/23745871 거제시, 실업율 4.7%...전국 \\'최악\\' 오명 벗었다\\n통영시도 5.0% 호전, 선박 수주 호조세 및 조선업 구조조정 마무리 영향...고용위기지역 약발 먹혔나?\\nhttp://www.geojejournal.co.kr/news/articleView.html?idxno=55243 美경제학자들 “6월 실업률 13%까지 치솟을 것” - WSJ\\nWSJ, 3~7일 이코노미스트 57명 대상 설문조사\\n\"美일자리, 코로나19 충격에 1440만개 증발할 것\"\\n“美GDP, 2분기엔 연율 25% 위축…올해 4.9% 역성장\\nhttps://www.edaily.co.kr/news/read?newsId=03460406625734480&mediaCodeNo=257&OutLnkChk=Y '}, 53: {'title': '200223 마스크와 함께 더 앨리, 남도 분식', 'nickname': 'Elia King\\n(dahinee98)', 'datetime': '2020. 2. 24. 22:03', 'content': \"이번주 일요일 2시쯤 우리 매장에서 드라마 촬영을 진행해 오후 1시반 정도 남자친구와 만났는데, 갑자기 촬영이 6시로 미뤄져 다이소에서 필요한 물품 살겸 급 데이트를 하였다. \\n두둥 간만에 데이트라 신남\\n코로나가 극성이라 마스크를 착용하고 명동 더 앨리로 출발~!\\n그리하여\\n도착한   매장 전체적 모습이 참 고풍스럽다.\\n작년에 우리나라를 강타한 이름바 '흑당밀크티 열풍'의 주역 중 하나가 아닌가 하다. \\n더 앨리의 브랜드 이미지는 보통 흑당 밀크티 전문점이 대만스럽고 동양적인 이미지를 택한 것과는 정 반대로 유럽스럽고 뭔가 자연에서 채집한 듯한 그런 오가닉한 분위기를 연상시킨다. \\n우리 나라 브랜드 인줄 알았더니 얘도 대만 브랜드였다. 충격      지금은 중국으로 인수된 더 앨리도 어쨌든 대만에서 온 브랜드이다!\\n하나의 소재로 다양한 모습으로 탈바꿈함 흑당 버블티의 모습이 재밌다.\\n그리고 기본 떡볶이 2인분 1단계+차돌박이+나중에 추가한 쫄면+계란..! 귀여운 시그니처 심볼 떡 양이 처음엔 넘 적다 싶었는데, 끓이면 겁나 불어난다.\\n쫀득쫀득하고 맛있다. \\n토핑을 하나 둘 추가하다 보면 양을 겉잡을 수 없다. 즐거운 하루였다. \\n급작스러운 마무리.\\n안녕! #더앨리 #명동 #코로나 #코로나19 #마스크 #데이트 #을지로 #흑당밀크티 #흑당버블티 #브라운슈가\"}, 54: {'title': '', 'nickname': '이란', 'datetime': '2020. 4. 30. 2:17', 'content': \" 호텔 체크인하고 들어와서 찍은 사진\\n호텔에 올 때마다 느끼는 거지만 나는 처음 딱 문을 열고\\n커튼 펼칠 때가 가장 좋고 행복하다\\n호텔은 항상 설레고 기분이 좋아지는 곳 ღ'ᴗ'ღ  코로나 때문인지 객실 가격이 할인 된(?)이벤트로 트윈룸을 예약했는데 많이 좁지도 않고 너무 아늑했다\\n가장 고층방이어서 뷰도 너무 좋았다\\n나는 딱 객실에 딱 들어왔을 때 딱 보이는 이 분위기를\\n너무너무~ 좋아한다 ˃̵͈̑ᴗ˂̵͈̑\\n-롯데시티호텔은 을지 3가에서 내리면 바로 앞에 있는데\\n을지로입구역에 롯데호텔이 있어서 헷갈린다...\\n(사실 처음에 거기로 들어가려 했음) 체크인을 하고 바로 남산공원을 갔다\\n롯데시티 호텔에서 택시를 타고 남산도서관까지 10분 정도 걸리는데 둘레길 올라가기에는 남산도서관에서 내리는 게 가장 좋다\\n이 사진은 길고 긴 둘레길을 올라가서 찍은 나무.\\n벚꽃도 이쁘지만 나는 초록색 나무랑 파란색 하늘을\\n정말 좋아한다 넘 시원한 느낌 나이 들수록 꽃을 찍는다는데 그런 거 없어 나는 스무살이거든 예쁘면 찍는 거야 물을 안 챙겨와서 완전 헥헥 거리면서 올라왔는데\\n남산타워 일층에 스타벅스랑 공차가 있었다 그저 빛\\n딸기 요구르트 크러쉬랑 망고 스무디를 주문했다 나는 딸기 요구르트 크러쉬(이름 진짜 왤케 긴겨)를 먹었는데 너무너무너무 시원했다 새콤하기도 하고 요구르트 맛도 많이 나서 개인적으로 정말 맛있었다 음 그냥 이건 그냥 말하기 싫다 남산타워에 있는 회전식 레스토랑인데 눈앞으로 창이 정말 크게 있어서 야경이 잘 보인다 아 너무 이뻤는데 조금 아쉬운 게 있다면 예약을 하고 간 게 아니라 좋은 뷰는 아니었다 그래도 레스토랑 자체 분위기가 좋아서 불만 없이 너무 좋았던 것 같다.. (나는 솔직히 그냥 다 좋음)\\n6시쯤 갔는데 해가 길어서 환했다 그래서 해가 지고 어두워지고 건물에 불빛이 들어오는 것까지 다 봤는데...\\n그 분위기 잊을 수 없어 꼭 한 번 다시 와 보고 싶은 곳 깜깜해진 창밖 솔직히 사진으로 못 담아 엄마가 찍어줬다 엄마가 레스토랑 나와서 어둑어둑 해진 뒤에 찍은 남산타워\\n너무 이쁘고 공기도 좋았고 날씨도 선선해서 정말 행복했다 나는 시골을 좋아하는데 도시 불빛들이 주는 그 분위기도 참 좋은 것 같다\\n난 이런 경치 보면 그냥 저렇게 계속 서서\\n'와 예쁘다 아 예뻐 대박 예뻐 와..' 만 한다\\n이제 야경 감상 그냥 바라보다가 마음이 뻥 뚫리는 느낌도 들고\\n저렇게 빽빽하고 반짝거리는 건물들 보면서 더 열심히\\n살고 싶다는 생각이 들었다 나태해지고 늘어질 때 이 사진들 보면서 저 순간에 건물들 보며 느꼈던 생각들을 다시 떠올리고 부지런하게 살고 싶다 완전 열심히 호텔 들어와서 찍은 뷰\\n하트시그널 보면서 찍었다..ㅎㅎ\"}, 55: {'title': '-.관광1번지 명동, 코로나19에 유동인구 40% 급감', 'nickname': '별하', 'datetime': '2020. 5. 7. 23:25', 'content': '#시장동향\\n-.관광1번지 명동, 코로나19에 유동인구 40% 급감\\n-.대구 아파트 매매가 하락 \\'10주\\' 벽도 깼다.\\n-.은마 전용 76㎡ 18억 중반 회복…강남권, 약세 속 반등 조짐\\n-.서핑 인기에 서핑명소 부동산 가격도 들썩\\n-.3년 만에 날개 꺾인 서울 아파트값…원상 회복 조짐?\\n-.[단독] 잇단 사고에도… 서울 한복판 위험한 공사장\\n-.서울 집값 6주 연속 하락…강남은 반등 기미\\n-.주택사업 체감경기 바닥 다졌나…서울, 코로나 이후 첫 상승전환\\n-.‘종부세 폭탄’ 피하고 보자…자녀까지 동원 ‘쪼개기 증여’\\n-.재건축 아닌 공공재개발…`집값 원상 회복`, 실현될까\\n-.돈 되는 아파트 싹쓸이… 서울사람, 타지에도 투자\\n-.해 넘긴 ‘종부세’ 인상에 한숨돌린 강남…“급매물 거뒀어요”\\n#정책/제도\\n-.\"공급 증가\" 집값 잡기 쐐기 박는 정부… 시장은 \"현실성 떨어져 엇박자\"\\n-.또 지역주택조합 사고…상계3구역 추진위원장 구속\\n-.국세청,부동산 편법증여 혐의자 무더기 세무조사 착수\\n-.전남도, 광양 덕례·도월지구 \\'토지거래 허가구역\\' 지정\\n-.과도한 임대의무, 기부채납… \"정비사업 활성화, 현실성 떨어져\"\\n-.대전 중구청사 등 3곳, 생활SOC 갖춘 복합공간으로 바뀐다\\n-.국토부, \\'한방부동산포털\\'서 등록임대주택 맞춤형 검색 가능\\n-.지자체 공간환경 전략 수립 위한 지원 대폭 늘린다\\n-.서울시, 건축공사장 화재예방 긴급현장점검 실시\\n-.‘장위뉴타운·증산4구역?’ 초미관심 공공재개발 지역 어디…\\n-.AI가 국토·교통 전 분야로…‘20대 유망기술’ 집중 육성\\n-.임대주택 20% 짓는 재개발, 정부 인센티브 쏜다\\n-.수도권 주택공급 확대…2022년까지 서울 도심에 7만가구\\n-.박원순표 ‘부동산 국민공유제’ 밑그림 나온다\\n#개발정보\\n-.\\'노후·위험\\' 영등포 영진시장…25층 \\'주거·판매·SOC\\'로 재생\\n-.행복도시 외곽순환도로 선형개선…\"도로 안전성 제고\"\\n-.3기 신도시 용지별 융·복합 시도한다\\n-.서울 ‘송파미성’ 아파트, 성냥갑 탈피 ‘특별건축구역’ 지정\\n-.낡은 전통시장을 \\'도심 빌딩\\'으로… 서울시, 시장정비사업 추진\\n-.3기 신도시에 \\'MB표 사전청약제\\' 꺼낸 정부, 왜?\\n-.개포 재건축 바통 잇는다…개포한신 건축심의 통과\\n#분양\\n-.교통 확 좋아지는 인천 서구 \\'가재울역 트루엘 에코시티\\' 5월 분양\\n-.오피스텔도 그린프리미엄… 수원역 가온팰리스 주목\\n-.(주)효성중공업, 충남 당진 송산뉴시티 최초 교육특화 아파트 ‘당진 해링턴 플레이스 에듀타운’ 5월15일 그랜드 오픈\\n-.동양건설산업, 청주 청약 열기 업고 5월 2개 단지 분양\\n-.신개념 주거공간 ‘고양 삼송 우미라피아노’ 8일 분양\\n-.수도권 지식산업센터, 새로운 투자처로 급부상\\n-.고수익보다 안정성 지향하는 수요자들… ‘충무로 하늘N’ 인기\\n-.‘쌍용 더 플래티넘 범어’, 1순위 청약 최고경쟁률 29대1\\n-.트리플 역세권 ‘청라국제도시역 푸르지오 시티’ 눈길\\n-.청라시티타워 비전 프리미엄 담아낸 ‘시티타워역 골드클래스’ 상가 분양중\\n-.경기도시공사 기존주택 매입 임대..최장 20년 거주\\n-.부산 신흥 인기지역 ‘부산진구’ 신규 단지 분양\\n-.‘트리플 효과’ 직접 누린다… 프리미엄 빛나는 ‘여주’ 주목\\n-.영종국제도시 화성파크드림 2차, 사이버 견본주택 8일오픈 예정\\n-.광주 아파트 시장 기지개…6월까지 3598세대 분양 예정\\n-.역세권 중소형 아파트 `괴정솔밭지역주택조합 괴정 비스타동원` 조합원 모집\\n-.오피스텔 지고 지식산업센터 뜬다… 건국이래 최대 도시, 삼성전자가 선택한 \\'동탄테크노밸리\\'\\n-.아파트야 오피스텔이야… 지방에서 주거형 오피스텔 주목\\n-.LH, 올해 첫 행복주택 2670가구 입주자 모집\\n-.신영, \\'울산 지웰시티 자이\\' 광고모델에 미스터트롯 \\'영탁\\' 발탁\\n-.동부건설, \\'두류 센트레빌 더시티\\' 단지상가 분양\\n-.HDC현산, \\'우장산숲 아이파크\\' 견본주택 유튜브 통해 라이브\\n-.\\'올인룸\\' 가능한 \\'힐스테이트 동인 센트럴\\' 금일 1순위 청약\\n-.트램역 바로앞 사거리 코너 상가 ‘동탄 리더스퀘어’\\n-.‘동대구 해모로 스퀘어이스트’ 5월말 모델하우스 오픈\\n-.\\'고분양가 논란\\' 덕은지구 아파트, 1순위 당해 마감 실패\\n-.구리 갈매지구 복합 지식산업센터 ‘현대클러스터 갈매역 스칸센알토’ 분양\\n-.계룡 푸르지오 더 퍼스트, 계룡 역대 최고 경쟁률로 청약마감\\n-.‘대전 둔곡 우미린’ 호재는 ‘국제과학비즈니스벨트’\\n-.‘분양불패’ 서울·대구서 5월에만 1만가구 쏟아진다\\n#업계동향\\n-.캠코, 대구 등 감염병 특별관리지역 채무자 상환유예 등 채무조정실시\\n-.GL포엠사업부·KSC, 슈퍼콘크리트 상용화 투자협약\\n-.분양보증사고 ‘역대급’…지방건설社 ‘줄도산’ 위기\\n-.건협 \"건설업, 한국형뉴딜 견인차 역할 해야\"\\n-.직방 브리즈인베, 베트남 프롭테크 스타트업에 투자\\n-.LX, 10년 노하우 담은 \\'측량장비 통합매뉴얼\\' 배포\\n-.\\'생활방역 전환\\' 공기업, 상반기 채용 재개\\n-.\\'분양전환 가능\\' 문구가 만든 논란… LH, 공정위 조사 받는다\\n-.라온건설, 서울 ‘종암동 역세권 청년주택’ 수주\\n-.삼성물산, 반포3주구 수주에 \\'랜드마크\\' 디자인 제안\\n-.SH공사, 60세 이상 고령자 ‘연금형 자율주택정비사업’ 공모\\n-.GS건설, 국내 첫 지하 외벽 PC공법 확대 적용 성공\\n#경매/공매\\n-.[이코노미 플러스]`569건 → 48건\\' 부동산 경매도 코로나 직격탄\\n출처:https://land.naver.com/news/field.nhn'}, 56: {'title': '롯데백화점 본점 빵집', 'nickname': 'Prince Zang\\n(p_zang)', 'datetime': '2020. 4. 21. 19:14', 'content': ' 안녕하세요? Prince 입니다.\\n#빵 사러 잠시 들렀어요~~~   두군데 자주 가는 빵집요.\\n#OPS 🥐🥐🥞🥞🥞\\U0001f9c7\\U0001f9c7🍰🍰\\U0001f9c1\\U0001f9c1 그리고 #바겟 🥖을 위해 #여섯시오븐  #롯데백화점 #롯데본점 #을지로 #명동 #코로나바이러스 로 종류도 여전히 줄고 수량도 적어요.\\n평일이라 사람들도 별루 없어요 #패션블로그 #일상블로그 #여행블로그 #리빙      요거 최애 빵  오렌지 데니쉬랑 완전 좋아함'}, 57: {'title': '05월 07일 부동산 헤드라인 뉴스', 'nickname': '젤리b', 'datetime': '2020. 5. 7. 22:18', 'content': '@ 시장동향\\n- 대구 아파트 매매가 하락 \\'10주\\' 벽도 깼다.\\n- 관광1번지 명동, 코로나19에 유동인구 40% 급감\\n- 은마 전용 76㎡ 18억 중반 회복…강남권, 약세 속 반등 조짐\\n- 잇단 사고에도… 서울 한복판 위험한 공사장\\n- 3년 만에 날개 꺾인 서울 아파트값…원상 회복 조짐?\\n- 서핑 인기에 서핑명소 부동산 가격도 들썩\\n- 서울 집값 6주 연속 하락…강남은 반등 기미\\n- ‘종부세 폭탄’ 피하고 보자…자녀까지 동원 ‘쪼개기 증여’\\n- 주택사업 체감경기 바닥 다졌나…서울, 코로나 이후 첫 상승전환\\n- 재건축 아닌 공공재개발…`집값 원상 회복`, 실현될까\\n- 해 넘긴 ‘종부세’ 인상에 한숨돌린 강남…“급매물 거뒀어요”\\n- 돈 되는 아파트 싹쓸이… 서울사람, 타지에도 투자\\n@ 정책/제도\\n- 또 지역주택조합 사고…상계3구역 추진위원장 구속\\n- 국세청,부동산 편법증여 혐의자 무더기 세무조사 착수\\n- \"공급 증가\" 집값 잡기 쐐기 박는 정부… 시장은 \"현실성 떨어져 엇박자\"\\n- 과도한 임대의무, 기부채납… \"정비사업 활성화, 현실성 떨어져\"\\n- 전남도, 광양 덕례·도월지구 \\'토지거래 허가구역\\' 지정\\n- 대전 중구청사 등 3곳, 생활SOC 갖춘 복합공간으로 바뀐다\\n- 지자체 공간환경 전략 수립 위한 지원 대폭 늘린다\\n- 서울시, 건축공사장 화재예방 긴급현장점검 실시\\n- 국토부, \\'한방부동산포털\\'서 등록임대주택 맞춤형 검색 가능\\n- 임대주택 20% 짓는 재개발, 정부 인센티브 쏜다\\n- AI가 국토·교통 전 분야로…‘20대 유망기술’ 집중 육성\\n- ‘장위뉴타운·증산4구역?’ 초미관심 공공재개발 지역 어디…\\n- 박원순표 ‘부동산 국민공유제’ 밑그림 나온다\\n- 수도권 주택공급 확대…2022년까지 서울 도심에 7만가구\\n@ 개발정보\\n- 행복도시 외곽순환도로 선형개선…\"도로 안전성 제고\"\\n- \\'노후·위험\\' 영등포 영진시장…25층 \\'주거·판매·SOC\\'로 재생\\n- 3기 신도시 용지별 융·복합 시도한다\\n- 낡은 전통시장을 \\'도심 빌딩\\'으로… 서울시, 시장정비사업 추진\\n- 개포 재건축 바통 잇는다…개포한신 건축심의 통과\\n- 3기 신도시에 \\'MB표 사전청약제\\' 꺼낸 정부, 왜?\\n- 서울 ‘송파미성’ 아파트, 성냥갑 탈피 ‘특별건축구역’ 지정\\n@ 분양\\n- 교통 확 좋아지는 인천 서구 \\'가재울역 트루엘 에코시티\\' 5월 분양\\n- 동양건설산업, 청주 청약 열기 업고 5월 2개 단지 분양\\n- (주)효성중공업, 충남 당진 송산뉴시티 최초 교육특화 아파트 ‘당진 해링턴 플레이스 에듀타운’ 5월15일 그랜드 오픈\\n- 오피스텔도 그린프리미엄… 수원역 가온팰리스 주목\\n- 신개념 주거공간 ‘고양 삼송 우미라피아노’ 8일 분양\\n- ‘트리플 효과’ 직접 누린다… 프리미엄 빛나는 ‘여주’ 주목\\n- 경기도시공사 기존주택 매입 임대..최장 20년 거주\\n- 트리플 역세권 ‘청라국제도시역 푸르지오 시티’ 눈길\\n- ‘쌍용 더 플래티넘 범어’, 1순위 청약 최고경쟁률 29대1\\n- 고수익보다 안정성 지향하는 수요자들… ‘충무로 하늘N’ 인기\\n- 수도권 지식산업센터, 새로운 투자처로 급부상\\n- 청라시티타워 비전 프리미엄 담아낸 ‘시티타워역 골드클래스’ 상가 분양중\\n- 영종국제도시 화성파크드림 2차, 사이버 견본주택 8일오픈 예정\\n- 아파트야 오피스텔이야… 지방에서 주거형 오피스텔 주목\\n- 역세권 중소형 아파트 `괴정솔밭지역주택조합 괴정 비스타동원` 조합원 모집\\n- 광주 아파트 시장 기지개…6월까지 3598세대 분양 예정\\n- 부산 신흥 인기지역 ‘부산진구’ 신규 단지 분양\\n- 동부건설, \\'두류 센트레빌 더시티\\' 단지상가 분양\\n- HDC현산, \\'우장산숲 아이파크\\' 견본주택 유튜브 통해 라이브\\n- 신영, \\'울산 지웰시티 자이\\' 광고모델에 미스터트롯 \\'영탁\\' 발탁\\n- LH, 올해 첫 행복주택 2670가구 입주자 모집\\n- 오피스텔 지고 지식산업센터 뜬다… 건국이래 최대 도시, 삼성전자가 선택한 \\'동탄테크노밸리\\'\\n- 트램역 바로앞 사거리 코너 상가 ‘동탄 리더스퀘어’\\n- \\'올인룸\\' 가능한 \\'힐스테이트 동인 센트럴\\' 금일 1순위 청약\\n- 구리 갈매지구 복합 지식산업센터 ‘현대클러스터 갈매역 스칸센알토’ 분양\\n- \\'고분양가 논란\\' 덕은지구 아파트, 1순위 당해 마감 실패\\n- ‘동대구 해모로 스퀘어이스트’ 5월말 모델하우스 오픈\\n- ‘분양불패’ 서울·대구서 5월에만 1만가구 쏟아진다\\n- ‘대전 둔곡 우미린’ 호재는 ‘국제과학비즈니스벨트’\\n- 계룡 푸르지오 더 퍼스트, 계룡 역대 최고 경쟁률로 청약마감\\n@ 업계동향\\n- 캠코, 대구 등 감염병 특별관리지역 채무자 상환유예 등 채무조정실시\\n- GL포엠사업부·KSC, 슈퍼콘크리트 상용화 투자협약\\n- \\'생활방역 전환\\' 공기업, 상반기 채용 재개\\n- 직방 브리즈인베, 베트남 프롭테크 스타트업에 투자\\n- 건협 \"건설업, 한국형뉴딜 견인차 역할 해야\"\\n- 분양보증사고 ‘역대급’…지방건설社 ‘줄도산’ 위기\\n- LX, 10년 노하우 담은 \\'측량장비 통합매뉴얼\\' 배포\\n- 삼성물산, 반포3주구 수주에 \\'랜드마크\\' 디자인 제안\\n- 라온건설, 서울 ‘종암동 역세권 청년주택’ 수주\\n- SH공사, 60세 이상 고령자 ‘연금형 자율주택정비사업’ 공모\\n- \\'분양전환 가능\\' 문구가 만든 논란… LH, 공정위 조사 받는다\\n- GS건설, 국내 첫 지하 외벽 PC공법 확대 적용 성공\\n@ 경매/공매\\n- `569건 → 48건\\' 부동산 경매도 코로나 직격탄\\n출처: https://land.naver.com/news/'}, 59: {'title': '2020년 3월 6일 부동산뉴스', 'nickname': '비온', 'datetime': '2020. 3. 6. 11:18', 'content': '대체투자 \\'신흥강자\\'로 떠오른 NH아문디 (한국경제)\\n▶  타임스퀘어 투자 수익률 60%\\n▶  진출 4년 만에 수탁액 4조원대로 성장\\n김승배 피데스개발 대표, 한국부동산개발협회 5대 회장 추대 (머니S)\\n▶  2009년부터 한국부동산개발협회 수석부회장 맡아 활발히 활동중\\n▶  2004년 피데스개발설립, 국내 대표하는 디벨로퍼 기업으로 성장\\n무궁화신탁, 현대자산운용 인수 완료 (Queen)\\n▶  키스톤PE가 SPC통해 보유하고있던 현대자산운용 지분 100% 인수\\n▶  현대자산운용, 전북혁신도시에서 근무할 인력 새로 선발할 예정\\n지주사 전환 앞둔 태영그룹, 기업가치 끌어올릴까 (녹색경제신문)\\n▶  대형 건설사 제치고 ‘노른자위 땅’ 마곡지구 개발부지 차지\\n▶  디벨로퍼 경쟁력 확보\\n교보리얼코, 사무부동산 플랫폼 ‘사무실찾기’와 MOU 체결 (아시아투데이)\\n▶  한율C&S와 협약 체결\\n▶  대형 오피스빌딩 O2O 서비스 강화위해 마련\\n이도, 환경인프라·부동산사업 부문 대표 신규 선임 (팍스넷뉴스)\\n▶  대우건설 출신 주효준 부사장·글로벌 투자은행 출신 안준상 부사장 발탁\\n▶  이번 영입으로 Value-Add전략 투자 및 통합운영관리 역할 기대\\n서울 세운상가, 개발‧정비에서 보전‧재생 전환 (이코노믹리뷰)\\n▶  세운재정비촉진지구 152개 정비구역 해제\\n▶  연내 도시재생활성화계획 수립\\n 판교 금싸라기 땅 \\'판교구청 부지\\' 또 유찰 (이투데이)\\n▶  지난해 첫 매각 시도 때도 응찰자 없어 무산\\n▶  \"8,000억 넘는 가격에 부담감 느낀듯\"\\nSK네트웍스, 주유소사업 넘긴다 (이코노텔링)\\n▶  양도가 1조 3,321억원, SK네트웍스 전체 자산의 14.7% 규모\\n▶  현대오일뱅크 업계 2위로 올라서며 업계 판도 변화 예상\\n다시 주목받는 \\'로펌 위치의 경제학\\' (리걸타임즈)\\n▶  법무법인 김앤장, 광장, 태평양 外\\n▶  \"강북과 강남, 여의도로 나뉜 \\'로펌의 입지\\' 변수 귀추가 주목 돼\"\\n거대한 \\'재택근무 실험실\\'된 판교 (아시아경제)\\n▶  ICT 기업들 자사 서비스로 재택근무 선제 대응\\n▶  SK텔레콤, 카카오, KT, 네이버, 넥슨 등\\n롯데쇼핑, 올해 신사업 투자계획 보류 (아시아경제)\\n▶  DMC 쇼핑몰, 김해유통단지 사업 추진 미뤄\\n▶  온라인 사업은 적극 투자\\n스타필드, 코로나19 ‘심각’ 단계 기간 단축 운영 (시사ON)\\n▶  신세계프라퍼티, 스타필드 전 지점 단축운영 시작\\n▶  기존 10시부터 22시까지 → 11시부터 21시까지, 총 2시간 단축\\n\"임대료 550만원에 하루 매출 6만원\"…홍대·명동 코로나 직격탄 (뉴스원)\\n▶  \\'버스킹\\'마저 금지된 홍대…대학생, 외국인 발길 \\'뚝\\'\\n▶  외국인 많던 명동 숙박업계 객실이용률 10% 수준 \\'비명\\''}, 60: {'title': '2020.05.07 부동산 경제 뉴스', 'nickname': '재잘예\\n(tlschfhd28)', 'datetime': '2020. 5. 7. 9:05', 'content': '안녕하세요 재잘예입니다\\n씨가 좋은 아침입니다\\n예쁜날씨만큼\\n모두 행복하세요\\n감사합니다\\n사랑합니다\\n축복합니다 재잘예의 긍정선언문\\n나는 운이좋고 복이많다\\n나는 매우 건강하다\\n나는 지혜의여신 아테나이다\\n나는 좋은사람이고 내주변에는 좋은사람들로 가득차있다\\n나는 날마다 모든면에서 점점더 좋아지고있다\\n나는 즉시 반드시 될때까지 한다\\n나는 독서천재다\\n나는 복부인이다\\n나는 부자다\\n나는 매일 해빙한다\\n우주는 나의 편이다 \"각종 청구서 관리 한 번에\"…카카오페이, 내문서함 오픈\\n카카오페이는 각종 청구서부터 등기우편, 공공기관 안내문까 다양한 문서를 한 번에 관리할 수 있는 \\'내문서함\\'을 오픈했다고 7일 밝혔다. 적립금 ‘뚝뚝’… 변액보험, ‘코로나19’에 속수무책\\n보험업계에 ‘변액보험 비상등’이 커졌다. 신종 코로나바이러스 감염증(코로나19) 여파로 국내외 증시가 폭락장을 이어가면서 변액보험 자산이 증발하고 있어서다. 제로금리기조로 보험사들은 변액보험 보증적립금 부담까지 높아졌다. 하락하는 변액보험 수익률에 신규 가입자도 줄어들 가능성이 높다.   피해자는 피가 마르는데… 물 건너가는 ‘착오송금 구제 법안’\\n착오송금 구제법안(예금보호법 개정안)은 예금보험공사(예보)가 착오송금 수취인으로부터 자진 반환을 안내·유도하는 업무를 맡도록 했다. 수취인으로부터 돈을 회수한 뒤 송금인에게 돌려주는 ‘선회수 후지급’ 방식이 적용된다. 필요할 경우 지급명령이나 소송 등 법적 절차를 밟을 수 있다. 하지만 법안은 소관 상임위원회인 국회 정무위에 계류 중이다. ‘개인의 실수로 빚어진 피해를 정부가 구제해 주는 게 맞느냐’를 두고 찬반이 갈린 탓이다 [국제유가] 5일만에 하락세 전환, 배럴당 2.3% 뚝\\n6일(현지시간) 뉴욕상업거래소(NYMEX)에서 거래되는 서부 텍사스산 원유(WTI) 6월물은 배럴당 배럴당 2.3%(0.57달러) 하락한 23.99달러에 장을 마감했다. [2보] 홍남기 \"93만명에 월 50만원씩 3개월분 고용안정지원금 지급\"\\n홍남기 부총리 겸 기획재정부 장관은 7일 신종 코로나바이러스 감염증(코로나19) 대응을 위한 긴급고용안정지원금 지원과 관련 \"약 93만명에게 월 50만원씩 3개월분 고용안정지원금을 지급할 계획\"이라고 말했다. [뉴욕증시] 미중 무역전쟁 우려에, 다우 1% 하락\\n뉴욕증시의 다우가 1% 가량 하락했다. 미중 무역전쟁 우려가 증시 하락으로 이어졌다는 분석이다. 신영, `울산 지웰시티 자이` 광고모델로 미스터트롯 `영탁` 발탁\\n신영은 트롯 가수 \\'영탁\\'을 \\'울산 지웰시티 자이\\' 광고모델로 발탁했다고 7일 밝혔다. 신영이 인기 스타를 광고모델로 기용한 것은 지난 2006년 세계적인 여성 골퍼 미쉘 위 이후 14년 만이다.  낡은 전통시장을 \\'도심 빌딩\\'으로… 서울시, 시장정비사업 추진\\n서울 지역 내 전통시장가 종합상가들이 정비사업에 속도를 내고 있다. 오래돼 낡은 전통시장을 현대화해 지역상권 활성화에 기여할 것으로 기대를 모은다. `고분양가 논란` 고양 덕은 자이아파트, 1순위 해당지역 마감 못해\\n고분양가 논란으로 해당지역 1순위 마감은 못했지만 7일 진행 예정인 1순위 기타 지역에서 무난히 1순위 청약 마감을 달성할 것으로 보인다. 3기 신도시 건설에 따른 교통 광역화 등 토론\\n대한국토도시계획학회(회장 김현수 단국대 교수·사진)는 8일 온라인에서 ‘광역교통과 광역도시계획’을 주제로 전문가 좌담회를 개최한다고 7일 밝혔다.  집값 잡는 \\'종부세 인상안\\', 끝내 여야 합의 안됐다\\n정부가 지난해 12·16부동산대책을 통해 발표한 종합부동산세 인상법안이 20대 국회에서 의원입법으로 추진됐지만 임기를 3주 남겨놓고 사실상 통과가 무산됐다. 양도세 퇴로 열어줬더니 집 안파는 다주택자들…`쪼개기 증여` 확산\\n 정부가 양도소득세 중과를 유예해주자 집을 파는 대신 증여로 돌아선 다주택자들이 늘고 있다. 주택을 여러 명의 소유로 분산할 경우 증여세 등을 내야 하지만 1인당 6억원까지 종부세가 공제돼 보유세를 아낄 수 있어서다. 기존에는 배우자에게 지분을 넘겨 부부 공동명의로 바꾸거나 무주택 자녀 1명에 사전 증여를 했다면 올해는 자녀를 포함해 여러 사람의 이름으로 명의를 분산하는 사례가 등장했다. 관광1번지 명동, 코로나19에 유동인구 40% 급감\\n코로나19의 전 세계적인 확산으로 외국인 관광객 유입이 사실상 중단된 결과다. 조현택 상가정보연구소 연구원은 \"코로나19 확산이 안정세에 진입했지만 내수경기 침체가 이어지며 오프라인 상가 경기가 급속하게 떨어지고 있다\"며 \"특히 외국인 관광객이 많이 찾던 명동, 인사동 등과 같은 상권의 얼어붙은 분위기는 계속되고 있다\"고 분석했다. 임대주택 20% 짓는 재개발, 정부 인센티브 쏜다\\nLH·SK 참여해 공공임대 20% 공급하면 분상제·용적률 완화\\n용산 정비창에 \\'신도시급\\' 8000가구 공급..국제업무지구개발과 연계 전통시장도 재개발 바람… \"대치동·논현동 상가도 고층건물로 변신\"\\n강남구 논현동 논현종합시장도 지하 5층, 지상 10층짜리 도시형생활주택 99가구와 판매시설 및 부대 복리시설로 탈바꿈을 준비 중이다. 관악구 봉천동 당곡시장 정비사업의 경우, 당초 사업시행자 봉신산업에서 주식회사 무궁화신탁으로 변경되면서 다시 속도를 내고 있다.  돈 되는 아파트 싹쓸이… 서울사람, 타지에도 투자\\n오대열 경제만랩 리서치팀장은 “저금리 기조로 인해 시중에 유동자금이 많아지면서 돈이 될 만한 아파트를 찾아다니고 있는 분위기”라며 “서울 거주자는 지방으로, 지방 거주자는 서울로 아파트 쇼핑에 나서고 있는 모양새“라고 분석했다. 용산에 8000가구 복합단지… 서울 도심 ‘미니신도시’ 조성\\n서울 용산구에 8000가구 규모의 신도시급 주거·업무 복합단지가 들어선다. 3기 신도시 예정지인 경기도 과천의 과천지구(7000가구)보다 공급 규모가 크다. 서울 도심 한복판에서 주택 공급이 대규모로 이뤄지는 것은 2006년 2기 신도시인 위례신도시지구(4만4877가구) 지정 이후 처음이다. 정부는 이를 포함해 2022년까지 서울 도심에 총 7만가구를 공급할 부지를 확보하기로 했다. '}}\n"
     ]
    }
   ],
   "source": [
    "# dict = {}  # 전체 크롤링 데이터를 담을 그릇\n",
    "\n",
    "# # 수집할 글 갯수\n",
    "# number = post_num\n",
    "# for i in tqdm(range(0, number)): \n",
    "#     # 글 띄우기\n",
    "#     url = url_load['url'][i]\n",
    "#     driver = webdriver.Chrome(r\"C:\\Users\\jejec\\chromedriver_win32\\chromedriver.exe\")\n",
    "#     driver.get(url)   # 글 띄우기\n",
    "    \n",
    "#     # 크롤링\n",
    "    \n",
    "#     try : \n",
    "#         # iframe 접근\n",
    "#         driver.switch_to_frame('mainFrame')\n",
    "\n",
    "#         target_info = {}\n",
    "\n",
    "#         # 제목 크롤링 시작\n",
    "#         overlays = \".se-fs-.se-ff-\"                                 \n",
    "#         tit = driver.find_element_by_css_selector(overlays)         # title\n",
    "#         title = tit.text\n",
    "#         title\n",
    "\n",
    "#         # 글쓴이 크롤링 시작\n",
    "#         overlays = \".nick\"                                 \n",
    "#         nick = driver.find_element_by_css_selector(overlays)         # nick\n",
    "#         nickname = nick.text\n",
    "\n",
    "#         # 날짜 크롤링\n",
    "#         overlays = \".se_publishDate.pcol2\"                                 \n",
    "#         date = driver.find_element_by_css_selector(overlays)         # date\n",
    "#         datetime = date.text\n",
    "#         # 내용 크롤링\n",
    "#         overlays = \".se-component.se-text.se-l-default\"                                 \n",
    "#         contents = driver.find_elements_by_css_selector(overlays)         # date\n",
    "\n",
    "#         content_list = []\n",
    "#         for content in contents:\n",
    "#             content_list.append(content.text)\n",
    "\n",
    "#         content_str = ' '.join(content_list)\n",
    "\n",
    "#         # 글 하나는 target_info라는 딕셔너리에 담기게 되고,\n",
    "#         target_info['title'] = title\n",
    "#         target_info['nickname'] = nickname\n",
    "#         target_info['datetime'] = datetime\n",
    "#         target_info['content'] = content_str\n",
    "\n",
    "#         # 각각의 글은 dict라는 딕셔너리에 담기게 됩니다.\n",
    "#         dict[i] = target_info\n",
    "#         time.sleep(1)\n",
    "\n",
    "#         # 글 하나 크롤링 후 크롬 창 닫기\n",
    "#         driver.close()       \n",
    "    \n",
    "#     # 에러나면 현재 크롬창 닫고 다음 글(i+1)로 이동\n",
    "#     except:\n",
    "#         driver.close()\n",
    "#         time.sleep(1)\n",
    "#         continue\n",
    "    \n",
    "#     # 중간,중간에 파일로 저장하기\n",
    "#     if i == 30 or 50 or 80:\n",
    "#         # 판다스로 만들기\n",
    "#         import pandas as pd\n",
    "#         result_df = pd.DataFrame.from_dict(dict, 'index')\n",
    "\n",
    "#         # 저장하기\n",
    "#         result_df.to_excel(\"blog_content_{}.xlsx\".format(subway_list[i]), index=False)\n",
    "#         time.sleep(3)\n",
    "\n",
    "# print('수집한 글 갯수: ', len(dict))\n",
    "# print(dict)\n",
    "\n",
    "# # 판다스로 만들기\n",
    "# import pandas as pd\n",
    "# result_df = pd.DataFrame.from_dict(dict, 'index')\n",
    "\n",
    "# # 저장하기\n",
    "# result_df.to_excel(\"blog_content_{}.xlsx\".format(subway_list[i]), index = False)"
   ]
  },
  {
   "cell_type": "code",
   "execution_count": 6,
   "metadata": {},
   "outputs": [],
   "source": [
    "import re\n",
    "from tqdm import tqdm"
   ]
  },
  {
   "cell_type": "code",
   "execution_count": 75,
   "metadata": {
    "scrolled": true
   },
   "outputs": [
    {
     "name": "stderr",
     "output_type": "stream",
     "text": [
      "  0%|                                                                                          | 0/150 [00:00<?, ?it/s]\n",
      "100%|████████████████████████████████████████████████████████████████████████████████| 11/11 [00:00<00:00, 1254.69it/s]\u001b[A\n",
      "  1%|▌                                                                                 | 1/150 [00:00<00:35,  4.16it/s]\n",
      "100%|██████████████████████████████████████████████████████████████████████████████████| 4/4 [00:00<00:00, 1139.52it/s]\u001b[A\n",
      "\n",
      "  0%|                                                                                          | 0/174 [00:00<?, ?it/s]\u001b[A\n",
      "100%|██████████████████████████████████████████████████████████████████████████████| 174/174 [00:00<00:00, 1447.56it/s]\u001b[A\n",
      "  2%|█▋                                                                                | 3/150 [00:00<00:32,  4.52it/s]\n",
      "100%|████████████████████████████████████████████████████████████████████████████████| 23/23 [00:00<00:00, 2562.60it/s]\u001b[A\n",
      "\n",
      "100%|██████████████████████████████████████████████████████████████████████████████████| 4/4 [00:00<00:00, 1788.04it/s]\u001b[A\n",
      "  3%|██▋                                                                               | 5/150 [00:00<00:25,  5.76it/s]\n",
      "  0%|                                                                                           | 0/20 [00:00<?, ?it/s]\u001b[A\n",
      "\n",
      "0it [00:00, ?it/s]\u001b[A\n",
      "\n",
      "100%|████████████████████████████████████████████████████████████████████████████████| 11/11 [00:00<00:00, 1837.85it/s]\u001b[A\n",
      "  5%|████▎                                                                             | 8/150 [00:00<00:19,  7.40it/s]\n",
      "100%|██████████████████████████████████████████████████████████████████████████████████| 2/2 [00:00<00:00, 1002.58it/s]\u001b[A\n",
      "\n",
      "  0%|                                                                                            | 0/3 [00:00<?, ?it/s]\u001b[A"
     ]
    },
    {
     "name": "stdout",
     "output_type": "stream",
     "text": [
      "blog_content_강동구청.xlsx\n"
     ]
    },
    {
     "name": "stderr",
     "output_type": "stream",
     "text": [
      "100%|██████████████████████████████████████████████████████████████████████████████████| 3/3 [00:00<00:00, 1505.67it/s]\n",
      "  7%|█████▍                                                                           | 10/150 [00:00<00:15,  8.93it/s]\n",
      "100%|██████████████████████████████████████████████████████████████████████████████████| 4/4 [00:00<00:00, 1337.26it/s]\u001b[A\n",
      "\n",
      "100%|██████████████████████████████████████████████████████████████████████████████████| 1/1 [00:00<00:00, 1003.18it/s]\u001b[A\n",
      "  8%|██████▍                                                                          | 12/150 [00:01<00:12, 10.68it/s]\n",
      "100%|██████████████████████████████████████████████████████████████████████████████████| 3/3 [00:00<00:00, 1003.02it/s]\u001b[A\n",
      "\n",
      "100%|██████████████████████████████████████████████████████████████████████████████████| 1/1 [00:00<00:00, 1002.46it/s]\u001b[A\n",
      "\n",
      "100%|██████████████████████████████████████████████████████████████████████████████████| 1/1 [00:00<00:00, 1003.66it/s]\u001b[A\n",
      " 10%|████████                                                                         | 15/150 [00:01<00:10, 12.76it/s]\n",
      "100%|██████████████████████████████████████████████████████████████████████████████████| 3/3 [00:00<00:00, 3006.67it/s]\u001b[A\n",
      "\n",
      "100%|███████████████████████████████████████████████████████████████████████████████████| 3/3 [00:00<00:00, 601.48it/s]\u001b[A\n",
      " 11%|█████████▏                                                                       | 17/150 [00:01<00:10, 13.11it/s]\n",
      "100%|████████████████████████████████████████████████████████████████████████████████| 43/43 [00:00<00:00, 1709.49it/s]\u001b[A\n",
      "\n",
      "100%|████████████████████████████████████████████████████████████████████████████████| 10/10 [00:00<00:00, 1671.24it/s]\u001b[A\n",
      " 13%|██████████▎                                                                      | 19/150 [00:01<00:10, 12.76it/s]\n",
      "  0%|                                                                                            | 0/6 [00:00<?, ?it/s]\u001b[A\n",
      "\n",
      "  0%|                                                                                          | 0/259 [00:00<?, ?it/s]\u001b[A\n",
      " 14%|███████████▎                                                                     | 21/150 [00:01<00:09, 13.52it/s]\n",
      "100%|██████████████████████████████████████████████████████████████████████████████████| 3/3 [00:00<00:00, 1504.59it/s]\u001b[A\n",
      "\n",
      "  0%|                                                                                           | 0/43 [00:00<?, ?it/s]\u001b[A"
     ]
    },
    {
     "name": "stdout",
     "output_type": "stream",
     "text": [
      "blog_content_남부터미널(예술의전당).xlsx\n",
      "blog_content_남성.xlsx\n"
     ]
    },
    {
     "name": "stderr",
     "output_type": "stream",
     "text": [
      "  0%|                                                                                           | 0/43 [00:00<?, ?it/s]\n",
      "\n",
      "100%|██████████████████████████████████████████████████████████████████████████████████| 4/4 [00:00<00:00, 1132.37it/s]\u001b[A\n",
      " 16%|████████████▉                                                                    | 24/150 [00:01<00:08, 15.32it/s]\n",
      "100%|██████████████████████████████████████████████████████████████████████████████████| 3/3 [00:00<00:00, 1503.51it/s]\u001b[A\n",
      "\n",
      "100%|██████████████████████████████████████████████████████████████████████████████████| 6/6 [00:00<00:00, 1896.73it/s]\u001b[A\n",
      " 17%|██████████████                                                                   | 26/150 [00:01<00:07, 16.08it/s]\n",
      "100%|██████████████████████████████████████████████████████████████████████████████████| 1/1 [00:00<00:00, 1001.74it/s]\u001b[A"
     ]
    },
    {
     "name": "stdout",
     "output_type": "stream",
     "text": [
      "blog_content_노원.xlsx\n"
     ]
    },
    {
     "name": "stderr",
     "output_type": "stream",
     "text": [
      "\n",
      "\n",
      "100%|██████████████████████████████████████████████████████████████████████████████████| 6/6 [00:00<00:00, 1203.65it/s]\u001b[A\n",
      " 19%|███████████████                                                                  | 28/150 [00:02<00:07, 16.13it/s]\n",
      "100%|██████████████████████████████████████████████████████████████████████████████████| 1/1 [00:00<00:00, 1002.70it/s]\u001b[A\n",
      "\n",
      "100%|██████████████████████████████████████████████████████████████████████████████████| 2/2 [00:00<00:00, 1002.34it/s]\u001b[A\n",
      "\n",
      "100%|██████████████████████████████████████████████████████████████████████████████████| 5/5 [00:00<00:00, 2505.56it/s]\u001b[A\n",
      " 21%|████████████████▋                                                                | 31/150 [00:02<00:06, 17.61it/s]\n",
      "100%|██████████████████████████████████████████████████████████████████████████████████| 2/2 [00:00<00:00, 2004.93it/s]\u001b[A\n",
      "\n",
      "100%|██████████████████████████████████████████████████████████████████████████████████| 2/2 [00:00<00:00, 1066.57it/s]\u001b[A\n",
      "\n",
      "100%|████████████████████████████████████████████████████████████████████████████████| 35/35 [00:00<00:00, 1563.02it/s]\u001b[A\n",
      " 23%|██████████████████▎                                                              | 34/150 [00:02<00:06, 17.28it/s]\n",
      "  0%|                                                                                          | 0/358 [00:00<?, ?it/s]\u001b[A\n",
      " 33%|█████████████████████████▍                                                    | 117/358 [00:00<00:00, 1159.21it/s]\u001b[A\n",
      " 60%|███████████████████████████████████████████████                               | 216/358 [00:00<00:00, 1098.01it/s]\u001b[A\n",
      "100%|██████████████████████████████████████████████████████████████████████████████| 358/358 [00:00<00:00, 1037.37it/s]\u001b[A\n",
      "\n",
      "100%|██████████████████████████████████████████████████████████████████████████████████| 1/1 [00:00<00:00, 1014.34it/s]\u001b[A\n",
      " 24%|███████████████████▍                                                             | 36/150 [00:03<00:16,  6.71it/s]\n",
      "100%|██████████████████████████████████████████████████████████████████████████████████| 1/1 [00:00<00:00, 1012.87it/s]\u001b[A\n",
      "\n",
      "100%|██████████████████████████████████████████████████████████████████████████████████| 4/4 [00:00<00:00, 1338.00it/s]\u001b[A\n",
      "\n",
      "  0%|                                                                                           | 0/10 [00:00<?, ?it/s]\u001b[A\n",
      "\n",
      "0it [00:00, ?it/s]\u001b[A\n",
      " 27%|█████████████████████▌                                                           | 40/150 [00:03<00:12,  8.78it/s]\n",
      "100%|████████████████████████████████████████████████████████████████████████████████| 19/19 [00:00<00:00, 1904.36it/s]\u001b[A\n",
      "\n",
      "  0%|                                                                                           | 0/28 [00:00<?, ?it/s]\u001b[A\n",
      "\n",
      "100%|██████████████████████████████████████████████████████████████████████████████████| 4/4 [00:00<00:00, 2005.17it/s]\u001b[A\n",
      " 29%|███████████████████████▏                                                         | 43/150 [00:03<00:10, 10.66it/s]"
     ]
    },
    {
     "name": "stdout",
     "output_type": "stream",
     "text": [
      "blog_content_마곡.xlsx\n",
      "blog_content_마포구청.xlsx\n"
     ]
    },
    {
     "name": "stderr",
     "output_type": "stream",
     "text": [
      "\n",
      "100%|████████████████████████████████████████████████████████████████████████████████████████████| 1/1 [00:00<?, ?it/s]\u001b[A\n",
      "\n",
      "100%|███████████████████████████████████████████████████████████████████████████████████| 1/1 [00:00<00:00, 346.04it/s]\u001b[A\n",
      "\n",
      "100%|████████████████████████████████████████████████████████████████████████████████████████████| 1/1 [00:00<?, ?it/s]\u001b[A\n",
      " 31%|████████████████████████▊                                                        | 46/150 [00:03<00:08, 12.56it/s]\n",
      "100%|████████████████████████████████████████████████████████████████████████████████| 48/48 [00:00<00:00, 1996.22it/s]\u001b[A\n",
      "\n",
      "100%|██████████████████████████████████████████████████████████████████████████████████| 3/3 [00:00<00:00, 1602.51it/s]\u001b[A\n",
      "\n",
      "100%|██████████████████████████████████████████████████████████████████████████████████| 5/5 [00:00<00:00, 1671.97it/s]\u001b[A\n",
      " 33%|██████████████████████████▍                                                      | 49/150 [00:03<00:07, 12.97it/s]\n",
      "100%|████████████████████████████████████████████████████████████████████████████████| 42/42 [00:00<00:00, 2232.62it/s]\u001b[A\n",
      "\n",
      "100%|████████████████████████████████████████████████████████████████████████████████| 50/50 [00:00<00:00, 2141.52it/s]\u001b[A\n",
      " 34%|███████████████████████████▌                                                     | 51/150 [00:03<00:08, 12.19it/s]\n",
      "100%|██████████████████████████████████████████████████████████████████████████████████| 4/4 [00:00<00:00, 2004.45it/s]\u001b[A\n",
      "\n",
      "100%|██████████████████████████████████████████████████████████████████████████████████| 5/5 [00:00<00:00, 1670.24it/s]\u001b[A\n",
      "\n",
      "  0%|                                                                                            | 0/3 [00:00<?, ?it/s]\u001b[A\n",
      "\n",
      "100%|██████████████████████████████████████████████████████████████████████████████████| 8/8 [00:00<00:00, 2673.66it/s]\u001b[A\n",
      " 37%|█████████████████████████████▋                                                   | 55/150 [00:04<00:06, 14.47it/s]\n",
      "100%|███████████████████████████████████████████████████████████████████████████████████| 1/1 [00:00<00:00, 500.69it/s]\u001b[A\n",
      "\n",
      "100%|██████████████████████████████████████████████████████████████████████████████████| 5/5 [00:00<00:00, 1671.97it/s]\u001b[A\n",
      "\n",
      "100%|████████████████████████████████████████████████████████████████████████████████| 13/13 [00:00<00:00, 2172.09it/s]\u001b[A\n"
     ]
    },
    {
     "name": "stdout",
     "output_type": "stream",
     "text": [
      "blog_content_미아사거리.xlsx\n"
     ]
    },
    {
     "name": "stderr",
     "output_type": "stream",
     "text": [
      " 39%|███████████████████████████████▎                                                 | 58/150 [00:04<00:05, 15.71it/s]\n",
      "  0%|                                                                                            | 0/1 [00:00<?, ?it/s]\u001b[A\n",
      "\n",
      "100%|██████████████████████████████████████████████████████████████████████████████████| 3/3 [00:00<00:00, 1002.78it/s]\u001b[A\n",
      "\n",
      "100%|██████████████████████████████████████████████████████████████████████████████████| 4/4 [00:00<00:00, 1336.62it/s]\u001b[A\n",
      " 41%|████████████████████████████████▉                                                | 61/150 [00:04<00:05, 17.65it/s]\n",
      "100%|██████████████████████████████████████████████████████████████████████████████████| 3/3 [00:00<00:00, 1002.38it/s]\u001b[A\n",
      "\n",
      "100%|██████████████████████████████████████████████████████████████████████████████████| 3/3 [00:00<00:00, 1503.16it/s]\u001b[A\n"
     ]
    },
    {
     "name": "stdout",
     "output_type": "stream",
     "text": [
      "blog_content_방화.xlsx\n"
     ]
    },
    {
     "name": "stderr",
     "output_type": "stream",
     "text": [
      "\n",
      "100%|██████████████████████████████████████████████████████████████████████████████████| 8/8 [00:00<00:00, 2005.17it/s]\u001b[A\n",
      " 43%|██████████████████████████████████▌                                              | 64/150 [00:04<00:04, 17.89it/s]\n",
      "100%|████████████████████████████████████████████████████████████████████████████████| 12/12 [00:00<00:00, 2042.51it/s]\u001b[A\n",
      "\n",
      "100%|██████████████████████████████████████████████████████████████████████████████████| 9/9 [00:00<00:00, 1804.35it/s]\u001b[A\n",
      "\n",
      "100%|██████████████████████████████████████████████████████████████████████████████████| 8/8 [00:00<00:00, 1605.09it/s]\u001b[A\n",
      " 45%|████████████████████████████████████▏                                            | 67/150 [00:04<00:04, 17.77it/s]\n",
      "100%|██████████████████████████████████████████████████████████████████████████████████| 1/1 [00:00<00:00, 1000.79it/s]\u001b[A\n",
      "\n",
      "100%|██████████████████████████████████████████████████████████████████████████████████| 2/2 [00:00<00:00, 1003.06it/s]\u001b[A\n",
      " 46%|█████████████████████████████████████▎                                           | 69/150 [00:04<00:04, 18.02it/s]\n",
      "100%|████████████████████████████████████████████████████████████████████████████████| 10/10 [00:00<00:00, 1397.26it/s]\u001b[A\n",
      "\n",
      "100%|██████████████████████████████████████████████████████████████████████████████████| 8/8 [00:00<00:00, 2004.93it/s]\u001b[A\n",
      " 47%|██████████████████████████████████████▎                                          | 71/150 [00:04<00:04, 18.42it/s]\n",
      "100%|██████████████████████████████████████████████████████████████████████████████████| 6/6 [00:00<00:00, 2564.02it/s]\u001b[A\n",
      "\n",
      "100%|██████████████████████████████████████████████████████████████████████████████████| 1/1 [00:00<00:00, 1001.51it/s]\u001b[A\n",
      "\n",
      "100%|██████████████████████████████████████████████████████████████████████████████████| 4/4 [00:00<00:00, 2005.40it/s]\u001b[A\n",
      " 49%|███████████████████████████████████████▉                                         | 74/150 [00:04<00:03, 19.39it/s]\n",
      "100%|████████████████████████████████████████████████████████████████████████████████| 20/20 [00:00<00:00, 2227.93it/s]\u001b[A\n",
      "\n",
      "100%|██████████████████████████████████████████████████████████████████████████████████| 9/9 [00:00<00:00, 2258.37it/s]\u001b[A\n",
      "\n",
      "100%|████████████████████████████████████████████████████████████████████████████████| 37/37 [00:00<00:00, 2081.09it/s]\u001b[A\n",
      " 51%|█████████████████████████████████████████▌                                       | 77/150 [00:05<00:04, 16.90it/s]\n",
      "100%|████████████████████████████████████████████████████████████████████████████████| 25/25 [00:00<00:00, 1653.85it/s]\u001b[A\n",
      "\n",
      "100%|███████████████████████████████████████████████████████████████████████████████████| 1/1 [00:00<00:00, 501.23it/s]\u001b[A\n",
      " 53%|██████████████████████████████████████████▋                                      | 79/150 [00:05<00:04, 16.21it/s]\n",
      "100%|██████████████████████████████████████████████████████████████████████████████████| 5/5 [00:00<00:00, 1670.64it/s]\u001b[A\n",
      "\n",
      "100%|████████████████████████████████████████████████████████████████████████████████| 14/14 [00:00<00:00, 1154.59it/s]\u001b[A\n",
      " 54%|███████████████████████████████████████████▋                                     | 81/150 [00:05<00:04, 15.24it/s]\n",
      "100%|███████████████████████████████████████████████████████████████████████████████████| 4/4 [00:00<00:00, 802.16it/s]\u001b[A\n",
      "\n",
      "100%|████████████████████████████████████████████████████████████████████████████████| 21/21 [00:00<00:00, 1173.15it/s]\u001b[A\n",
      " 55%|████████████████████████████████████████████▊                                    | 83/150 [00:05<00:04, 14.01it/s]\n",
      "100%|███████████████████████████████████████████████████████████████████████████████████| 1/1 [00:00<00:00, 501.47it/s]\u001b[A\n",
      "\n",
      "0it [00:00, ?it/s]\u001b[A\n",
      " 57%|█████████████████████████████████████████████▉                                   | 85/150 [00:05<00:04, 15.17it/s]\n",
      "0it [00:00, ?it/s]\u001b[A\n",
      "\n",
      "  0%|                                                                                          | 0/534 [00:00<?, ?it/s]\u001b[A\n",
      " 14%|███████████▏                                                                    | 75/534 [00:00<00:00, 474.09it/s]\u001b[A\n",
      " 58%|██████████████████████████████████████████████▉                                  | 87/150 [00:06<00:05, 11.17it/s]\n",
      "100%|███████████████████████████████████████████████████████████████████████████████████| 1/1 [00:00<00:00, 500.87it/s]\u001b[A\n",
      "\n",
      "100%|██████████████████████████████████████████████████████████████████████████████████| 4/4 [00:00<00:00, 2004.21it/s]\u001b[A\n",
      "\n",
      "100%|██████████████████████████████████████████████████████████████████████████████████| 3/3 [00:00<00:00, 1598.64it/s]\u001b[A\n",
      " 60%|████████████████████████████████████████████████▌                                | 90/150 [00:06<00:04, 13.12it/s]\n",
      "100%|██████████████████████████████████████████████████████████████████████████████████| 3/3 [00:00<00:00, 1504.41it/s]\u001b[A\n",
      "\n"
     ]
    },
    {
     "name": "stdout",
     "output_type": "stream",
     "text": [
      "blog_content_시청.xlsx\n"
     ]
    },
    {
     "name": "stderr",
     "output_type": "stream",
     "text": [
      "100%|████████████████████████████████████████████████████████████████████████████████| 18/18 [00:00<00:00, 2039.81it/s]\u001b[A\n",
      " 61%|█████████████████████████████████████████████████▋                               | 92/150 [00:06<00:04, 14.36it/s]\n",
      "  0%|                                                                                           | 0/11 [00:00<?, ?it/s]\u001b[A\n",
      "\n",
      "100%|██████████████████████████████████████████████████████████████████████████████████| 4/4 [00:00<00:00, 2004.93it/s]\u001b[A\n",
      "\n",
      "100%|███████████████████████████████████████████████████████████████████████████████████| 1/1 [00:00<00:00, 963.54it/s]\u001b[A\n",
      " 63%|███████████████████████████████████████████████████▎                             | 95/150 [00:06<00:03, 16.84it/s]\n",
      "100%|██████████████████████████████████████████████████████████████████████████████████| 2/2 [00:00<00:00, 2000.62it/s]\u001b[A\n",
      "\n",
      "100%|████████████████████████████████████████████████████████████████████████████████| 25/25 [00:00<00:00, 1790.48it/s]\u001b[A\n"
     ]
    },
    {
     "name": "stdout",
     "output_type": "stream",
     "text": [
      "blog_content_신림.xlsx\n"
     ]
    },
    {
     "name": "stderr",
     "output_type": "stream",
     "text": [
      "\n",
      "100%|██████████████████████████████████████████████████████████████████████████████████| 1/1 [00:00<00:00, 1000.07it/s]\u001b[A\n",
      " 65%|████████████████████████████████████████████████████▉                            | 98/150 [00:06<00:03, 16.98it/s]\n",
      "100%|██████████████████████████████████████████████████████████████████████████████████| 4/4 [00:00<00:00, 1336.30it/s]\u001b[A\n",
      "\n",
      "100%|██████████████████████████████████████████████████████████████████████████████████| 1/1 [00:00<00:00, 1004.38it/s]\u001b[A\n",
      " 67%|█████████████████████████████████████████████████████▎                          | 100/150 [00:06<00:02, 17.63it/s]\n",
      "100%|██████████████████████████████████████████████████████████████████████████████████| 1/1 [00:00<00:00, 1003.66it/s]\u001b[A\n",
      "\n",
      "100%|██████████████████████████████████████████████████████████████████████████████████| 2/2 [00:00<00:00, 2004.93it/s]\u001b[A\n",
      " 68%|██████████████████████████████████████████████████████▍                         | 102/150 [00:06<00:02, 17.97it/s]\n",
      "100%|████████████████████████████████████████████████████████████████████████████████| 18/18 [00:00<00:00, 1654.78it/s]\u001b[A\n",
      "\n",
      "100%|██████████████████████████████████████████████████████████████████████████████████| 7/7 [00:00<00:00, 1754.83it/s]\u001b[A\n",
      " 69%|███████████████████████████████████████████████████████▍                        | 104/150 [00:06<00:02, 17.27it/s]\n",
      "100%|████████████████████████████████████████████████████████████████████████████████| 21/21 [00:00<00:00, 2105.78it/s]\u001b[A\n",
      "\n",
      "  0%|                                                                                           | 0/75 [00:00<?, ?it/s]\u001b[A\n",
      "\n",
      "  0%|                                                                                            | 0/2 [00:00<?, ?it/s]\u001b[A\n",
      "\n",
      "100%|████████████████████████████████████████████████████████████████████████████████| 53/53 [00:00<00:00, 2216.04it/s]\u001b[A\n",
      " 72%|█████████████████████████████████████████████████████████▌                      | 108/150 [00:07<00:02, 18.29it/s]\n",
      "100%|██████████████████████████████████████████████████████████████████████████████████| 6/6 [00:00<00:00, 2004.93it/s]\u001b[A\n",
      "\n",
      "100%|██████████████████████████████████████████████████████████████████████████████████| 1/1 [00:00<00:00, 1003.90it/s]\u001b[A\n"
     ]
    },
    {
     "name": "stdout",
     "output_type": "stream",
     "text": [
      "blog_content_양평.xlsx\n",
      "blog_content_여의나루.xlsx\n"
     ]
    },
    {
     "name": "stderr",
     "output_type": "stream",
     "text": [
      "\n",
      "100%|████████████████████████████████████████████████████████████████████████████████| 18/18 [00:00<00:00, 2234.71it/s]\u001b[A\n",
      " 74%|███████████████████████████████████████████████████████████▏                    | 111/150 [00:07<00:02, 18.66it/s]\n",
      "100%|████████████████████████████████████████████████████████████████████████████████| 32/32 [00:00<00:00, 2291.70it/s]\u001b[A\n",
      "\n",
      "100%|██████████████████████████████████████████████████████████████████████████████████| 1/1 [00:00<00:00, 1002.70it/s]\u001b[A\n",
      " 75%|████████████████████████████████████████████████████████████▎                   | 113/150 [00:07<00:02, 17.64it/s]\n",
      "100%|██████████████████████████████████████████████████████████████████████████████████| 2/2 [00:00<00:00, 1002.58it/s]\u001b[A\n",
      "\n",
      "100%|████████████████████████████████████████████████████████████████████████████████████████████| 1/1 [00:00<?, ?it/s]\u001b[A\n",
      "\n",
      "  0%|                                                                                           | 0/86 [00:00<?, ?it/s]\u001b[A\n",
      " 77%|█████████████████████████████████████████████████████████████▊                  | 116/150 [00:07<00:01, 19.24it/s]\n",
      "100%|███████████████████████████████████████████████████████████████████████████████████| 1/1 [00:00<00:00, 910.62it/s]\u001b[A\n",
      "\n",
      "100%|███████████████████████████████████████████████████████████████████████████████████| 1/1 [00:00<00:00, 501.35it/s]\u001b[A\n",
      "\n",
      "100%|██████████████████████████████████████████████████████████████████████████████████| 2/2 [00:00<00:00, 1985.00it/s]\u001b[A\n",
      " 79%|███████████████████████████████████████████████████████████████▍                | 119/150 [00:07<00:01, 19.83it/s]\n",
      "100%|██████████████████████████████████████████████████████████████████████████████████| 2/2 [00:00<00:00, 2003.01it/s]\u001b[A\n"
     ]
    },
    {
     "name": "stdout",
     "output_type": "stream",
     "text": [
      "blog_content_월드컵경기장(성산).xlsx\n"
     ]
    },
    {
     "name": "stderr",
     "output_type": "stream",
     "text": [
      "\n",
      "0it [00:00, ?it/s]\u001b[A\n",
      "\n",
      "100%|██████████████████████████████████████████████████████████████████████████████████| 8/8 [00:00<00:00, 1604.17it/s]\u001b[A\n",
      " 81%|█████████████████████████████████████████████████████████████████               | 122/150 [00:07<00:01, 19.06it/s]\n",
      "100%|████████████████████████████████████████████████████████████████████████████████| 10/10 [00:00<00:00, 1430.77it/s]\u001b[A\n",
      "\n",
      "100%|████████████████████████████████████████████████████████████████████████████████| 15/15 [00:00<00:00, 1501.86it/s]\u001b[A\n",
      " 83%|██████████████████████████████████████████████████████████████████▏             | 124/150 [00:07<00:01, 17.19it/s]\n",
      "100%|██████████████████████████████████████████████████████████████████████████████████| 1/1 [00:00<00:00, 1002.70it/s]\u001b[A\n",
      "\n",
      "100%|██████████████████████████████████████████████████████████████████████████████████| 5/5 [00:00<00:00, 2505.86it/s]\u001b[A\n",
      "\n",
      "100%|███████████████████████████████████████████████████████████████████████████████████| 1/1 [00:00<00:00, 999.12it/s]\u001b[A\n",
      " 85%|███████████████████████████████████████████████████████████████████▋            | 127/150 [00:08<00:01, 18.95it/s]\n",
      "0it [00:00, ?it/s]\u001b[A\n",
      "\n",
      "100%|██████████████████████████████████████████████████████████████████████████████████| 2/2 [00:00<00:00, 2005.88it/s]\u001b[A\n",
      "\n",
      "0it [00:00, ?it/s]\u001b[A\n",
      " 87%|█████████████████████████████████████████████████████████████████████▎          | 130/150 [00:08<00:00, 21.10it/s]\n",
      "100%|███████████████████████████████████████████████████████████████████████████████████| 1/1 [00:00<00:00, 998.88it/s]\u001b[A\n",
      "\n",
      "100%|████████████████████████████████████████████████████████████████████████████████| 63/63 [00:00<00:00, 2074.37it/s]\u001b[A\n",
      "\n",
      "100%|████████████████████████████████████████████████████████████████████████████████| 10/10 [00:00<00:00, 1822.26it/s]\u001b[A\n",
      " 89%|██████████████████████████████████████████████████████████████████████▉         | 133/150 [00:08<00:00, 18.59it/s]\n",
      "100%|████████████████████████████████████████████████████████████████████████████████| 27/27 [00:00<00:00, 1895.52it/s]\u001b[A\n",
      "\n",
      "100%|██████████████████████████████████████████████████████████████████████████████████| 1/1 [00:00<00:00, 1003.66it/s]\u001b[A\n",
      "\n",
      "100%|██████████████████████████████████████████████████████████████████████████████████| 2/2 [00:00<00:00, 1003.06it/s]\u001b[A\n",
      " 91%|████████████████████████████████████████████████████████████████████████▌       | 136/150 [00:08<00:00, 18.89it/s]\n",
      "100%|██████████████████████████████████████████████████████████████████████████████████| 3/3 [00:00<00:00, 1002.70it/s]\u001b[A\n",
      "\n",
      "100%|████████████████████████████████████████████████████████████████████████████████| 16/16 [00:00<00:00, 2005.94it/s]\u001b[A\n",
      "\n",
      "100%|████████████████████████████████████████████████████████████████████████████████| 43/43 [00:00<00:00, 1887.43it/s]\u001b[A\n",
      " 93%|██████████████████████████████████████████████████████████████████████████▏     | 139/150 [00:08<00:00, 16.74it/s]\n",
      "100%|████████████████████████████████████████████████████████████████████████████████| 18/18 [00:00<00:00, 1289.03it/s]\u001b[A\n",
      "\n",
      "100%|██████████████████████████████████████████████████████████████████████████████████| 1/1 [00:00<00:00, 1004.14it/s]\u001b[A\n",
      " 94%|███████████████████████████████████████████████████████████████████████████▏    | 141/150 [00:08<00:00, 15.85it/s]\n",
      "0it [00:00, ?it/s]\u001b[A\n",
      "\n",
      "100%|██████████████████████████████████████████████████████████████████████████████████| 2/2 [00:00<00:00, 2004.93it/s]\u001b[A\n",
      "\n",
      "0it [00:00, ?it/s]\u001b[A\n",
      " 96%|████████████████████████████████████████████████████████████████████████████▊   | 144/150 [00:09<00:00, 17.86it/s]\n",
      "100%|██████████████████████████████████████████████████████████████████████████████████| 5/5 [00:00<00:00, 2505.26it/s]\u001b[A\n",
      "\n",
      "100%|████████████████████████████████████████████████████████████████████████████████| 15/15 [00:00<00:00, 2146.52it/s]\u001b[A\n",
      " 97%|█████████████████████████████████████████████████████████████████████████████▊  | 146/150 [00:09<00:00, 18.09it/s]\n",
      "100%|██████████████████████████████████████████████████████████████████████████████████| 4/4 [00:00<00:00, 1971.01it/s]\u001b[A\n",
      "\n",
      "100%|██████████████████████████████████████████████████████████████████████████████████| 5/5 [00:00<00:00, 1672.24it/s]\u001b[A\n",
      "\n",
      "100%|███████████████████████████████████████████████████████████████████████████████████| 1/1 [00:00<00:00, 538.42it/s]\u001b[A\n",
      " 99%|███████████████████████████████████████████████████████████████████████████████▍| 149/150 [00:09<00:00, 19.38it/s]\n",
      "100%|███████████████████████████████████████████████████████████████████████████████████| 1/1 [00:00<00:00, 333.89it/s]\u001b[A\n",
      "100%|████████████████████████████████████████████████████████████████████████████████| 150/150 [00:09<00:00, 16.13it/s]\n"
     ]
    }
   ],
   "source": [
    "for j in tqdm(range(len(url_list))):\n",
    "    df = pd.read_excel('blog_content_{}.xlsx'.format(url_list[j]))\n",
    "    try:\n",
    "        for i in tqdm(range(len(df))):\n",
    "            df['content'].dropna(inplace=True)\n",
    "            df['content'][i] = re.sub('\\n', '', df['content'][i])\n",
    "        df.to_excel('blog_content_{}.xlsx'.format(url_list[j]), index=False)\n",
    "\n",
    "    except:\n",
    "        print('blog_content_{}.xlsx'.format(url_list[j]))\n",
    "        continue"
   ]
  },
  {
   "cell_type": "code",
   "execution_count": 76,
   "metadata": {
    "scrolled": true
   },
   "outputs": [
    {
     "data": {
      "text/html": [
       "<div>\n",
       "<style scoped>\n",
       "    .dataframe tbody tr th:only-of-type {\n",
       "        vertical-align: middle;\n",
       "    }\n",
       "\n",
       "    .dataframe tbody tr th {\n",
       "        vertical-align: top;\n",
       "    }\n",
       "\n",
       "    .dataframe thead th {\n",
       "        text-align: right;\n",
       "    }\n",
       "</style>\n",
       "<table border=\"1\" class=\"dataframe\">\n",
       "  <thead>\n",
       "    <tr style=\"text-align: right;\">\n",
       "      <th></th>\n",
       "      <th>title</th>\n",
       "      <th>nickname</th>\n",
       "      <th>datetime</th>\n",
       "      <th>content</th>\n",
       "    </tr>\n",
       "  </thead>\n",
       "  <tbody>\n",
       "    <tr>\n",
       "      <th>0</th>\n",
       "      <td>가락시장, 코로나19 의료진을 위한 블루라이트 점등</td>\n",
       "      <td>슈퍼맨</td>\n",
       "      <td>2020. 4. 29. 15:50</td>\n",
       "      <td>가락시장은 우리나라 최대의 공영도매시장입니다.저녁부터 새벽까지 청과와 수산 도매가활...</td>\n",
       "    </tr>\n",
       "    <tr>\n",
       "      <th>1</th>\n",
       "      <td>[안주]연어회,가락시장,코로나,일상</td>\n",
       "      <td>40미리</td>\n",
       "      <td>2020. 3. 18. 7:50</td>\n",
       "      <td>스트레스받을땐 맛있는거 먹는게 최고지연어회코로나로 모든게 정지된 느낌이다일도 일상도...</td>\n",
       "    </tr>\n",
       "    <tr>\n",
       "      <th>2</th>\n",
       "      <td>가락시장! 생선상가 추천! 강동수산 옆 제2 주차장 경매인 반짝 장터! 생선 싱싱하...</td>\n",
       "      <td>상큼체리\\n(kcherry99)</td>\n",
       "      <td>2020. 3. 7. 2:03</td>\n",
       "      <td>가락시장 강동수산 앞 제2주차장 생선 시장!어제 아침에 굴을 사러 가락시장에 갔습니...</td>\n",
       "    </tr>\n",
       "    <tr>\n",
       "      <th>3</th>\n",
       "      <td>가락시장 오복수산</td>\n",
       "      <td>몽실구름</td>\n",
       "      <td>2020. 5. 20. 8:00</td>\n",
       "      <td>한달에 한번은 장보러가는 가락시장.코로나19로 몇달 가지 않다가 오랜만에 방문하였다...</td>\n",
       "    </tr>\n",
       "    <tr>\n",
       "      <th>4</th>\n",
       "      <td>가락시장 쭈꾸미, 광어, 참돔 구입 후기</td>\n",
       "      <td>금왕수저</td>\n",
       "      <td>2020. 4. 16. 1:39</td>\n",
       "      <td>최근에 회를 먹은지 오래되어 바람도 쐴겸, 산책 겸, 회도 먹을겸 겸사겸사 방문하게...</td>\n",
       "    </tr>\n",
       "    <tr>\n",
       "      <th>5</th>\n",
       "      <td>[홍세바리일상]3월 일상 청담노티드, 인천-빨간거 짱구네,가락시장킹크랩</td>\n",
       "      <td>홍세바리</td>\n",
       "      <td>2020. 3. 11. 18:01</td>\n",
       "      <td>코로나가 한창이고 밖에 나가기도 넘힘든 요즘매일집에서빈둥빈둥 아직까지는 신나는 중 ...</td>\n",
       "    </tr>\n",
       "    <tr>\n",
       "      <th>6</th>\n",
       "      <td>가락수산몰 1층</td>\n",
       "      <td>설명충</td>\n",
       "      <td>2020. 2. 11. 2:54</td>\n",
       "      <td>서울 살면서 왜 한번도 가락시장에 와보지 못했지?심지어 24시인데!! 광주출신 친구...</td>\n",
       "    </tr>\n",
       "    <tr>\n",
       "      <th>7</th>\n",
       "      <td>코로나19  확진자현황  3월 14일</td>\n",
       "      <td>티티키</td>\n",
       "      <td>2020. 3. 14. 22:41</td>\n",
       "      <td>티티키확진자  8086사망자  73명휘발유 7주하락완치자  신규확진자 2,배경기 서...</td>\n",
       "    </tr>\n",
       "    <tr>\n",
       "      <th>8</th>\n",
       "      <td>송파구 가락동 코로나 확찐자 여러분, 헬스 PT 받을지, 필라테스 PT 받을지 더이...</td>\n",
       "      <td>운동남녀</td>\n",
       "      <td>2020. 4. 2. 15:24</td>\n",
       "      <td>안녕하세요~ 건강은, 몸은 안녕하신가요??봄이 와서 날은 점점 좋아지는데, 내 몸도...</td>\n",
       "    </tr>\n",
       "    <tr>\n",
       "      <th>9</th>\n",
       "      <td>우리 둘만의 행복한 시간</td>\n",
       "      <td>유노</td>\n",
       "      <td>2020. 2. 25. 0:00</td>\n",
       "      <td>저녁 장보러 가락시장 !코로나19때문에 러시아에서 중국으로 수출돼야 할킹크랩이 우...</td>\n",
       "    </tr>\n",
       "    <tr>\n",
       "      <th>10</th>\n",
       "      <td>일개미의 봄</td>\n",
       "      <td>혜림\\n(hyer2mm)</td>\n",
       "      <td>2020. 4. 5. 9:28</td>\n",
       "      <td>#직장인 #일상 #기록\\n코로나 덕에 여행을 가지 못해 강제로 일상 블로거가 되었는...</td>\n",
       "    </tr>\n",
       "  </tbody>\n",
       "</table>\n",
       "</div>"
      ],
      "text/plain": [
       "                                                title           nickname  \\\n",
       "0                        가락시장, 코로나19 의료진을 위한 블루라이트 점등                슈퍼맨   \n",
       "1                                 [안주]연어회,가락시장,코로나,일상               40미리   \n",
       "2   가락시장! 생선상가 추천! 강동수산 옆 제2 주차장 경매인 반짝 장터! 생선 싱싱하...  상큼체리\\n(kcherry99)   \n",
       "3                                           가락시장 오복수산               몽실구름   \n",
       "4                              가락시장 쭈꾸미, 광어, 참돔 구입 후기               금왕수저   \n",
       "5             [홍세바리일상]3월 일상 청담노티드, 인천-빨간거 짱구네,가락시장킹크랩               홍세바리   \n",
       "6                                            가락수산몰 1층                설명충   \n",
       "7                                코로나19  확진자현황  3월 14일                티티키   \n",
       "8   송파구 가락동 코로나 확찐자 여러분, 헬스 PT 받을지, 필라테스 PT 받을지 더이...               운동남녀   \n",
       "9                                       우리 둘만의 행복한 시간                 유노   \n",
       "10                                             일개미의 봄      혜림\\n(hyer2mm)   \n",
       "\n",
       "              datetime                                            content  \n",
       "0   2020. 4. 29. 15:50  가락시장은 우리나라 최대의 공영도매시장입니다.저녁부터 새벽까지 청과와 수산 도매가활...  \n",
       "1    2020. 3. 18. 7:50  스트레스받을땐 맛있는거 먹는게 최고지연어회코로나로 모든게 정지된 느낌이다일도 일상도...  \n",
       "2     2020. 3. 7. 2:03  가락시장 강동수산 앞 제2주차장 생선 시장!어제 아침에 굴을 사러 가락시장에 갔습니...  \n",
       "3    2020. 5. 20. 8:00  한달에 한번은 장보러가는 가락시장.코로나19로 몇달 가지 않다가 오랜만에 방문하였다...  \n",
       "4    2020. 4. 16. 1:39  최근에 회를 먹은지 오래되어 바람도 쐴겸, 산책 겸, 회도 먹을겸 겸사겸사 방문하게...  \n",
       "5   2020. 3. 11. 18:01  코로나가 한창이고 밖에 나가기도 넘힘든 요즘매일집에서빈둥빈둥 아직까지는 신나는 중 ...  \n",
       "6    2020. 2. 11. 2:54  서울 살면서 왜 한번도 가락시장에 와보지 못했지?심지어 24시인데!! 광주출신 친구...  \n",
       "7   2020. 3. 14. 22:41  티티키확진자  8086사망자  73명휘발유 7주하락완치자  신규확진자 2,배경기 서...  \n",
       "8    2020. 4. 2. 15:24  안녕하세요~ 건강은, 몸은 안녕하신가요??봄이 와서 날은 점점 좋아지는데, 내 몸도...  \n",
       "9    2020. 2. 25. 0:00   저녁 장보러 가락시장 !코로나19때문에 러시아에서 중국으로 수출돼야 할킹크랩이 우...  \n",
       "10    2020. 4. 5. 9:28  #직장인 #일상 #기록\\n코로나 덕에 여행을 가지 못해 강제로 일상 블로거가 되었는...  "
      ]
     },
     "execution_count": 76,
     "metadata": {},
     "output_type": "execute_result"
    }
   ],
   "source": [
    "pd.read_excel('blog_content_{}.xlsx'.format(url_list[0]))"
   ]
  }
 ],
 "metadata": {
  "kernelspec": {
   "display_name": "Python 3",
   "language": "python",
   "name": "python3"
  },
  "language_info": {
   "codemirror_mode": {
    "name": "ipython",
    "version": 3
   },
   "file_extension": ".py",
   "mimetype": "text/x-python",
   "name": "python",
   "nbconvert_exporter": "python",
   "pygments_lexer": "ipython3",
   "version": "3.6.10"
  }
 },
 "nbformat": 4,
 "nbformat_minor": 4
}

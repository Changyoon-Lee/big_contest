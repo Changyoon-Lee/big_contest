{
 "cells": [
  {
   "cell_type": "markdown",
   "metadata": {},
   "source": [
    "# 데이터합치기\n",
    "### 지하철데이터 + 요일, 공휴일 + 확진자데이터 + 검색어트랜드"
   ]
  },
  {
   "cell_type": "code",
   "execution_count": 2,
   "metadata": {
    "scrolled": false
   },
   "outputs": [],
   "source": [
    "import pickle\n",
    "import pandas as pd\n",
    "from function import makefulldate, makefulldate2\n",
    "from function import DFyoon"
   ]
  },
  {
   "cell_type": "code",
   "execution_count": 3,
   "metadata": {},
   "outputs": [
    {
     "name": "stdout",
     "output_type": "stream",
     "text": [
      "불러오기완료\n"
     ]
    },
    {
     "data": {
      "text/plain": [
       "250"
      ]
     },
     "execution_count": 3,
     "metadata": {},
     "output_type": "execute_result"
    }
   ],
   "source": [
    "dfyoon = DFyoon()\n",
    "len(dfyoon.station_list)"
   ]
  },
  {
   "cell_type": "code",
   "execution_count": 16,
   "metadata": {},
   "outputs": [],
   "source": [
    "df = pd.read_pickle('data/8주평균하차수.pkl')"
   ]
  },
  {
   "cell_type": "code",
   "execution_count": 15,
   "metadata": {},
   "outputs": [],
   "source": [
    "df = pd.read_pickle('data/지하철데이터.pkl')\n",
    "df.reset_index(inplace=True)\n",
    "df.rename(columns={'날짜':'date'}, inplace=True)\n",
    "col_need = ['date','역명', '5-6', '6-7', '7-8', '8-9', '9-10', '10-11', '11-12',\n",
    "       '12-13', '13-14', '14-15', '15-16', '16-17', '17-18', '18-19', '19-20',\n",
    "       '20-21', '21-22', '22-23', '23-24', '24-01']\n",
    "col_nee= ['5-6', '6-7', '7-8', '8-9', '9-10', '10-11', '11-12',\n",
    "       '12-13', '13-14', '14-15', '15-16', '16-17', '17-18', '18-19', '19-20',\n",
    "       '20-21', '21-22', '22-23', '23-24', '24-01']"
   ]
  },
  {
   "cell_type": "code",
   "execution_count": 4,
   "metadata": {},
   "outputs": [
    {
     "data": {
      "text/plain": [
       "284560"
      ]
     },
     "execution_count": 4,
     "metadata": {},
     "output_type": "execute_result"
    }
   ],
   "source": [
    "len(df)"
   ]
  },
  {
   "cell_type": "code",
   "execution_count": 17,
   "metadata": {},
   "outputs": [
    {
     "name": "stderr",
     "output_type": "stream",
     "text": [
      "C:\\Users\\YOON\\anaconda3\\envs\\nlp\\lib\\site-packages\\ipykernel_launcher.py:9: SettingWithCopyWarning: \n",
      "A value is trying to be set on a copy of a slice from a DataFrame\n",
      "\n",
      "See the caveats in the documentation: https://pandas.pydata.org/pandas-docs/stable/user_guide/indexing.html#returning-a-view-versus-a-copy\n",
      "  if __name__ == '__main__':\n"
     ]
    }
   ],
   "source": [
    "#역명이 바뀌거나 중복된 것 modify\n",
    "renamed_dic = {'서울역':'서울',\n",
    "               \"낙성대(강감찬)\":'낙성대',\n",
    "               '용마산(용마폭포공원)':'용마산',\n",
    "               '동대문역사문화공원(DDP)':'동대문역사문화공원'}\n",
    "for i in range(len(df['역명'])):\n",
    "    if df['역명'][i] in ['서울역','낙성대(강감찬)','용마산(용마폭포공원)','동대문역사문화공원(DDP)']:\n",
    "        \n",
    "        df['역명'][i] = renamed_dic[df['역명'][i]]\n",
    "df = df.query('역명 not in [\"신내\"]')\n",
    "df.to_pickle('data/전년유동감소폭.pickle')\n",
    "df_date2 = makefulldate2()\n",
    "df = pd.merge(df_date2,df, on = 'date',how='left')\n"
   ]
  },
  {
   "cell_type": "code",
   "execution_count": 18,
   "metadata": {},
   "outputs": [],
   "source": [
    "df_down_ = df[df['구분']=='하차']\n",
    "df_down_ = df_down_[col_need+['요일']].groupby(['역명','요일','date']).sum()\n",
    "\n",
    "import numpy as np\n",
    "from copy import deepcopy\n",
    "df_down_temp = deepcopy(df_down_)"
   ]
  },
  {
   "cell_type": "code",
   "execution_count": 19,
   "metadata": {},
   "outputs": [],
   "source": [
    "df_down_temp.reset_index(inplace=True)\n",
    "df_down_temp.set_index(['역명','요일','date'],inplace=True)"
   ]
  },
  {
   "cell_type": "markdown",
   "metadata": {},
   "source": [
    "# 지하철 몇주전 평균낼껀지 lastnday에 넣는다"
   ]
  },
  {
   "cell_type": "code",
   "execution_count": 20,
   "metadata": {},
   "outputs": [],
   "source": [
    "#지난 8주 평균\n",
    "lastnday=8"
   ]
  },
  {
   "cell_type": "code",
   "execution_count": 21,
   "metadata": {},
   "outputs": [
    {
     "name": "stderr",
     "output_type": "stream",
     "text": [
      "100%|████████████████████████████████████████████████████████████████████████████████| 242/242 [01:00<00:00,  3.99it/s]\n"
     ]
    }
   ],
   "source": [
    "from tqdm import tqdm\n",
    "for i in tqdm(df_down_temp.reset_index()['역명'].unique()):\n",
    "    try:\n",
    "        for j in df['요일'].unique():\n",
    "            for k,val in enumerate(df_down_.loc[i,j].index):\n",
    "                if k>7:\n",
    "                    df_down_temp.loc[(i,j,val)] = np.mean(df_down_.loc[i,j].iloc[k-lastnday:k])\n",
    "                else :\n",
    "                    df_down_temp.loc[i,j].iloc[k] = df_down_.loc[i,j].iloc[k]\n",
    "    except:\n",
    "        print(i,j,val)"
   ]
  },
  {
   "cell_type": "code",
   "execution_count": 22,
   "metadata": {},
   "outputs": [],
   "source": [
    "new_df_ = pd.DataFrame(df_down_temp.reset_index().drop(['요일'],axis=1).set_index(['역명','date']).stack())\n",
    "new_df_= new_df_.reset_index()\n",
    "new_df_.columns = ['역명','date','시간','8주평균하차수']"
   ]
  },
  {
   "cell_type": "code",
   "execution_count": 23,
   "metadata": {},
   "outputs": [
    {
     "data": {
      "text/html": [
       "<div>\n",
       "<style scoped>\n",
       "    .dataframe tbody tr th:only-of-type {\n",
       "        vertical-align: middle;\n",
       "    }\n",
       "\n",
       "    .dataframe tbody tr th {\n",
       "        vertical-align: top;\n",
       "    }\n",
       "\n",
       "    .dataframe thead th {\n",
       "        text-align: right;\n",
       "    }\n",
       "</style>\n",
       "<table border=\"1\" class=\"dataframe\">\n",
       "  <thead>\n",
       "    <tr style=\"text-align: right;\">\n",
       "      <th></th>\n",
       "      <th>역명</th>\n",
       "      <th>date</th>\n",
       "      <th>시간</th>\n",
       "      <th>8주평균하차수</th>\n",
       "    </tr>\n",
       "  </thead>\n",
       "  <tbody>\n",
       "    <tr>\n",
       "      <th>0</th>\n",
       "      <td>가락시장</td>\n",
       "      <td>2019-12-06</td>\n",
       "      <td>5-6</td>\n",
       "      <td>95.000</td>\n",
       "    </tr>\n",
       "    <tr>\n",
       "      <th>1</th>\n",
       "      <td>가락시장</td>\n",
       "      <td>2019-12-06</td>\n",
       "      <td>6-7</td>\n",
       "      <td>409.000</td>\n",
       "    </tr>\n",
       "    <tr>\n",
       "      <th>2</th>\n",
       "      <td>가락시장</td>\n",
       "      <td>2019-12-06</td>\n",
       "      <td>7-8</td>\n",
       "      <td>912.000</td>\n",
       "    </tr>\n",
       "    <tr>\n",
       "      <th>3</th>\n",
       "      <td>가락시장</td>\n",
       "      <td>2019-12-06</td>\n",
       "      <td>8-9</td>\n",
       "      <td>3065.000</td>\n",
       "    </tr>\n",
       "    <tr>\n",
       "      <th>4</th>\n",
       "      <td>가락시장</td>\n",
       "      <td>2019-12-06</td>\n",
       "      <td>9-10</td>\n",
       "      <td>1526.000</td>\n",
       "    </tr>\n",
       "    <tr>\n",
       "      <th>...</th>\n",
       "      <td>...</td>\n",
       "      <td>...</td>\n",
       "      <td>...</td>\n",
       "      <td>...</td>\n",
       "    </tr>\n",
       "    <tr>\n",
       "      <th>885715</th>\n",
       "      <td>효창공원앞</td>\n",
       "      <td>2020-05-26</td>\n",
       "      <td>20-21</td>\n",
       "      <td>270.250</td>\n",
       "    </tr>\n",
       "    <tr>\n",
       "      <th>885716</th>\n",
       "      <td>효창공원앞</td>\n",
       "      <td>2020-05-26</td>\n",
       "      <td>21-22</td>\n",
       "      <td>243.250</td>\n",
       "    </tr>\n",
       "    <tr>\n",
       "      <th>885717</th>\n",
       "      <td>효창공원앞</td>\n",
       "      <td>2020-05-26</td>\n",
       "      <td>22-23</td>\n",
       "      <td>213.750</td>\n",
       "    </tr>\n",
       "    <tr>\n",
       "      <th>885718</th>\n",
       "      <td>효창공원앞</td>\n",
       "      <td>2020-05-26</td>\n",
       "      <td>23-24</td>\n",
       "      <td>133.375</td>\n",
       "    </tr>\n",
       "    <tr>\n",
       "      <th>885719</th>\n",
       "      <td>효창공원앞</td>\n",
       "      <td>2020-05-26</td>\n",
       "      <td>24-01</td>\n",
       "      <td>23.375</td>\n",
       "    </tr>\n",
       "  </tbody>\n",
       "</table>\n",
       "<p>885720 rows × 4 columns</p>\n",
       "</div>"
      ],
      "text/plain": [
       "           역명       date     시간   8주평균하차수\n",
       "0        가락시장 2019-12-06    5-6    95.000\n",
       "1        가락시장 2019-12-06    6-7   409.000\n",
       "2        가락시장 2019-12-06    7-8   912.000\n",
       "3        가락시장 2019-12-06    8-9  3065.000\n",
       "4        가락시장 2019-12-06   9-10  1526.000\n",
       "...       ...        ...    ...       ...\n",
       "885715  효창공원앞 2020-05-26  20-21   270.250\n",
       "885716  효창공원앞 2020-05-26  21-22   243.250\n",
       "885717  효창공원앞 2020-05-26  22-23   213.750\n",
       "885718  효창공원앞 2020-05-26  23-24   133.375\n",
       "885719  효창공원앞 2020-05-26  24-01    23.375\n",
       "\n",
       "[885720 rows x 4 columns]"
      ]
     },
     "execution_count": 23,
     "metadata": {},
     "output_type": "execute_result"
    }
   ],
   "source": [
    "new_df_"
   ]
  },
  {
   "cell_type": "markdown",
   "metadata": {},
   "source": [
    "# 승차수, 하차수, 요일 공휴일 코로나단계 합치기"
   ]
  },
  {
   "cell_type": "code",
   "execution_count": 27,
   "metadata": {},
   "outputs": [
    {
     "name": "stderr",
     "output_type": "stream",
     "text": [
      "C:\\Users\\YOON\\anaconda3\\envs\\nlp\\lib\\site-packages\\pandas\\core\\frame.py:3997: SettingWithCopyWarning: \n",
      "A value is trying to be set on a copy of a slice from a DataFrame\n",
      "\n",
      "See the caveats in the documentation: https://pandas.pydata.org/pandas-docs/stable/user_guide/indexing.html#returning-a-view-versus-a-copy\n",
      "  errors=errors,\n"
     ]
    }
   ],
   "source": [
    "df_date = makefulldate()\n",
    "df = pd.merge(df_date,df, on = 'date',how='left')\n",
    "##요일 공휴일 데이터프레임화\n",
    "df_yo1 = df[['date','요일','공휴일']].drop_duplicates()\n",
    "df_yo = df[['date','요일','공휴일']].drop_duplicates()\n",
    "df_yo['주말제외공휴일'] = df['공휴일']\n",
    "\n",
    "df_down = df[df['구분']=='하차']\n",
    "df_down.drop(columns=['호선','역번호','합 계'], inplace =True)\n",
    "df_1 = df_down[col_need].groupby(['역명','date']).sum()\n",
    "\n",
    "df_up = df[df['구분']=='승차']\n",
    "df_up.drop(columns=['호선','역번호','합 계'], inplace =True)\n",
    "df_2 = df_up[col_need].groupby(['역명','date']).sum()\n",
    "\n",
    "new_df = pd.DataFrame(df_1.stack())\n",
    "new_df.reset_index(inplace = True)\n",
    "new_df.columns=['역명','date','시간','하차']\n",
    "\n",
    "new_df['승차']=df_2.stack().values\n",
    "\n",
    "do = pd.read_csv('data/feature_list_dy.csv',parse_dates=['date'])\n",
    "new_df = pd.merge(new_df,df_yo,on = 'date',how='left')#######################################\n",
    "new_df = pd.merge(new_df,do[['date','corona_stage']],on = 'date',how='left')##################\n",
    "new_df['구'] = [1 if dfyoon.station_gu_dic[i] in dfyoon.gu_list else 0 for i in new_df['역명'] ]\n",
    "renew_df = new_df[new_df['구']==1]"
   ]
  },
  {
   "cell_type": "code",
   "execution_count": 29,
   "metadata": {},
   "outputs": [],
   "source": [
    "renew_df = pd.merge(renew_df, new_df_, on=['역명','date','시간'], how='left')"
   ]
  },
  {
   "cell_type": "markdown",
   "metadata": {},
   "source": [
    "---"
   ]
  },
  {
   "cell_type": "markdown",
   "metadata": {},
   "source": [
    "# 코로나 감염자데이터 지난 last_nday 데이터 합치기"
   ]
  },
  {
   "cell_type": "code",
   "execution_count": 31,
   "metadata": {},
   "outputs": [
    {
     "name": "stderr",
     "output_type": "stream",
     "text": [
      "C:\\Users\\YOON\\nlp\\worksp\\re\\big_contest\\modeling\\function.py:54: SettingWithCopyWarning: \n",
      "A value is trying to be set on a copy of a slice from a DataFrame\n",
      "\n",
      "See the caveats in the documentation: https://pandas.pydata.org/pandas-docs/stable/user_guide/indexing.html#returning-a-view-versus-a-copy\n",
      "  df[\"sumcount\"][i] = sum(df[col_name][:i])\n",
      "C:\\Users\\YOON\\nlp\\worksp\\re\\big_contest\\modeling\\function.py:56: SettingWithCopyWarning: \n",
      "A value is trying to be set on a copy of a slice from a DataFrame\n",
      "\n",
      "See the caveats in the documentation: https://pandas.pydata.org/pandas-docs/stable/user_guide/indexing.html#returning-a-view-versus-a-copy\n",
      "  df[\"sumcount\"][i] = sum(df[col_name][i - last_nday : i])\n"
     ]
    }
   ],
   "source": [
    "for i,val in enumerate(renew_df['역명'].unique()):\n",
    "    df_sta = dfyoon.sta_merg(val, last_nday=7)\n",
    "    df_sta['역명']=val\n",
    "    if i==0:\n",
    "        df_conc = df_sta\n",
    "    else :\n",
    "        df_conc = pd.concat([df_conc,df_sta],axis=0)\n",
    "    ra = pd.merge(renew_df,df_conc, on = ['date','역명'],how='left')\n",
    "ra.drop('구', axis=1, inplace=True)"
   ]
  },
  {
   "cell_type": "markdown",
   "metadata": {},
   "source": [
    "# 한양대기준트렌드"
   ]
  },
  {
   "cell_type": "code",
   "execution_count": 48,
   "metadata": {},
   "outputs": [],
   "source": [
    "import pandas as pd\n",
    "df_han = pd.read_pickle('data/검색어트렌드_한양대_final.pkl')\n",
    "df_han.set_index('date', inplace=True)"
   ]
  },
  {
   "cell_type": "code",
   "execution_count": 49,
   "metadata": {},
   "outputs": [],
   "source": [
    "df_han = df_han.stack().reset_index()\n",
    "df_han.columns=['date','역명','검색트랜드(한양)']\n",
    "df_han['date'] = pd.to_datetime(df_han['date'])\n",
    "df_han['역명'] = [i[:-1] for i in df_han['역명']]\n",
    "df_merged = pd.merge(ra, df_han, on = ['date','역명'],how='left')"
   ]
  },
  {
   "cell_type": "code",
   "execution_count": 50,
   "metadata": {},
   "outputs": [],
   "source": [
    "import re\n",
    "df_merged['시간'] =[int(re.findall('(.*)-',i)[0]) for i in df_merged['시간']] "
   ]
  },
  {
   "cell_type": "code",
   "execution_count": 51,
   "metadata": {},
   "outputs": [],
   "source": [
    "df_merged['시간'] =[int(i) for i in df_merged['시간']] "
   ]
  },
  {
   "cell_type": "markdown",
   "metadata": {},
   "source": [
    "# 기상데이터"
   ]
  },
  {
   "cell_type": "code",
   "execution_count": 52,
   "metadata": {},
   "outputs": [
    {
     "data": {
      "text/html": [
       "<div>\n",
       "<style scoped>\n",
       "    .dataframe tbody tr th:only-of-type {\n",
       "        vertical-align: middle;\n",
       "    }\n",
       "\n",
       "    .dataframe tbody tr th {\n",
       "        vertical-align: top;\n",
       "    }\n",
       "\n",
       "    .dataframe thead th {\n",
       "        text-align: right;\n",
       "    }\n",
       "</style>\n",
       "<table border=\"1\" class=\"dataframe\">\n",
       "  <thead>\n",
       "    <tr style=\"text-align: right;\">\n",
       "      <th></th>\n",
       "      <th>date</th>\n",
       "      <th>시간</th>\n",
       "      <th>기온(°C)</th>\n",
       "      <th>강수량(mm)</th>\n",
       "      <th>풍속(m/s)</th>\n",
       "      <th>습도(%)</th>\n",
       "    </tr>\n",
       "  </thead>\n",
       "  <tbody>\n",
       "    <tr>\n",
       "      <th>0</th>\n",
       "      <td>2020-01-01</td>\n",
       "      <td>0</td>\n",
       "      <td>-6.5</td>\n",
       "      <td>0.0</td>\n",
       "      <td>0.0</td>\n",
       "      <td>38</td>\n",
       "    </tr>\n",
       "    <tr>\n",
       "      <th>1</th>\n",
       "      <td>2020-01-01</td>\n",
       "      <td>1</td>\n",
       "      <td>-5.9</td>\n",
       "      <td>0.0</td>\n",
       "      <td>1.7</td>\n",
       "      <td>40</td>\n",
       "    </tr>\n",
       "    <tr>\n",
       "      <th>2</th>\n",
       "      <td>2020-01-01</td>\n",
       "      <td>2</td>\n",
       "      <td>-5.7</td>\n",
       "      <td>0.0</td>\n",
       "      <td>0.1</td>\n",
       "      <td>42</td>\n",
       "    </tr>\n",
       "    <tr>\n",
       "      <th>3</th>\n",
       "      <td>2020-01-01</td>\n",
       "      <td>3</td>\n",
       "      <td>-5.6</td>\n",
       "      <td>0.0</td>\n",
       "      <td>0.0</td>\n",
       "      <td>46</td>\n",
       "    </tr>\n",
       "    <tr>\n",
       "      <th>4</th>\n",
       "      <td>2020-01-01</td>\n",
       "      <td>4</td>\n",
       "      <td>-5.4</td>\n",
       "      <td>0.0</td>\n",
       "      <td>0.0</td>\n",
       "      <td>50</td>\n",
       "    </tr>\n",
       "  </tbody>\n",
       "</table>\n",
       "</div>"
      ],
      "text/plain": [
       "        date 시간  기온(°C)  강수량(mm)  풍속(m/s)  습도(%)\n",
       "0 2020-01-01  0    -6.5      0.0      0.0     38\n",
       "1 2020-01-01  1    -5.9      0.0      1.7     40\n",
       "2 2020-01-01  2    -5.7      0.0      0.1     42\n",
       "3 2020-01-01  3    -5.6      0.0      0.0     46\n",
       "4 2020-01-01  4    -5.4      0.0      0.0     50"
      ]
     },
     "execution_count": 52,
     "metadata": {},
     "output_type": "execute_result"
    }
   ],
   "source": [
    "df_wea = pd.read_pickle('data/날씨(기상자료개방포털).pkl')\n",
    "df_wea.head()"
   ]
  },
  {
   "cell_type": "code",
   "execution_count": 53,
   "metadata": {},
   "outputs": [],
   "source": [
    "df_wea['date'] = pd.to_datetime(df_wea['date'])\n",
    "df_wea['시간'].astype(int)\n",
    "df_wea['시간'] = [24 if i==0 else i for i in df_wea['시간'] ]\n",
    "from dateutil.relativedelta import relativedelta\n",
    "df_wea['date'] = [i - relativedelta(days=1) if df_wea['시간'][idx]==24 else i for idx, i in enumerate(df_wea['date'])]"
   ]
  },
  {
   "cell_type": "code",
   "execution_count": 54,
   "metadata": {},
   "outputs": [
    {
     "data": {
      "text/html": [
       "<div>\n",
       "<style scoped>\n",
       "    .dataframe tbody tr th:only-of-type {\n",
       "        vertical-align: middle;\n",
       "    }\n",
       "\n",
       "    .dataframe tbody tr th {\n",
       "        vertical-align: top;\n",
       "    }\n",
       "\n",
       "    .dataframe thead th {\n",
       "        text-align: right;\n",
       "    }\n",
       "</style>\n",
       "<table border=\"1\" class=\"dataframe\">\n",
       "  <thead>\n",
       "    <tr style=\"text-align: right;\">\n",
       "      <th></th>\n",
       "      <th>date</th>\n",
       "      <th>시간</th>\n",
       "      <th>기온(°C)</th>\n",
       "      <th>강수량(mm)</th>\n",
       "      <th>풍속(m/s)</th>\n",
       "      <th>습도(%)</th>\n",
       "    </tr>\n",
       "  </thead>\n",
       "  <tbody>\n",
       "    <tr>\n",
       "      <th>0</th>\n",
       "      <td>2019-12-31</td>\n",
       "      <td>24</td>\n",
       "      <td>-6.5</td>\n",
       "      <td>0.0</td>\n",
       "      <td>0.0</td>\n",
       "      <td>38</td>\n",
       "    </tr>\n",
       "    <tr>\n",
       "      <th>1</th>\n",
       "      <td>2020-01-01</td>\n",
       "      <td>1</td>\n",
       "      <td>-5.9</td>\n",
       "      <td>0.0</td>\n",
       "      <td>1.7</td>\n",
       "      <td>40</td>\n",
       "    </tr>\n",
       "    <tr>\n",
       "      <th>2</th>\n",
       "      <td>2020-01-01</td>\n",
       "      <td>2</td>\n",
       "      <td>-5.7</td>\n",
       "      <td>0.0</td>\n",
       "      <td>0.1</td>\n",
       "      <td>42</td>\n",
       "    </tr>\n",
       "    <tr>\n",
       "      <th>3</th>\n",
       "      <td>2020-01-01</td>\n",
       "      <td>3</td>\n",
       "      <td>-5.6</td>\n",
       "      <td>0.0</td>\n",
       "      <td>0.0</td>\n",
       "      <td>46</td>\n",
       "    </tr>\n",
       "    <tr>\n",
       "      <th>4</th>\n",
       "      <td>2020-01-01</td>\n",
       "      <td>4</td>\n",
       "      <td>-5.4</td>\n",
       "      <td>0.0</td>\n",
       "      <td>0.0</td>\n",
       "      <td>50</td>\n",
       "    </tr>\n",
       "    <tr>\n",
       "      <th>...</th>\n",
       "      <td>...</td>\n",
       "      <td>...</td>\n",
       "      <td>...</td>\n",
       "      <td>...</td>\n",
       "      <td>...</td>\n",
       "      <td>...</td>\n",
       "    </tr>\n",
       "    <tr>\n",
       "      <th>5851</th>\n",
       "      <td>2020-08-31</td>\n",
       "      <td>19</td>\n",
       "      <td>28.0</td>\n",
       "      <td>0.0</td>\n",
       "      <td>3.5</td>\n",
       "      <td>73</td>\n",
       "    </tr>\n",
       "    <tr>\n",
       "      <th>5852</th>\n",
       "      <td>2020-08-31</td>\n",
       "      <td>20</td>\n",
       "      <td>27.6</td>\n",
       "      <td>0.0</td>\n",
       "      <td>2.5</td>\n",
       "      <td>73</td>\n",
       "    </tr>\n",
       "    <tr>\n",
       "      <th>5853</th>\n",
       "      <td>2020-08-31</td>\n",
       "      <td>21</td>\n",
       "      <td>27.1</td>\n",
       "      <td>0.0</td>\n",
       "      <td>2.4</td>\n",
       "      <td>74</td>\n",
       "    </tr>\n",
       "    <tr>\n",
       "      <th>5854</th>\n",
       "      <td>2020-08-31</td>\n",
       "      <td>22</td>\n",
       "      <td>26.8</td>\n",
       "      <td>0.0</td>\n",
       "      <td>2.3</td>\n",
       "      <td>76</td>\n",
       "    </tr>\n",
       "    <tr>\n",
       "      <th>5855</th>\n",
       "      <td>2020-08-31</td>\n",
       "      <td>23</td>\n",
       "      <td>26.6</td>\n",
       "      <td>0.0</td>\n",
       "      <td>2.9</td>\n",
       "      <td>74</td>\n",
       "    </tr>\n",
       "  </tbody>\n",
       "</table>\n",
       "<p>5856 rows × 6 columns</p>\n",
       "</div>"
      ],
      "text/plain": [
       "           date  시간  기온(°C)  강수량(mm)  풍속(m/s)  습도(%)\n",
       "0    2019-12-31  24    -6.5      0.0      0.0     38\n",
       "1    2020-01-01   1    -5.9      0.0      1.7     40\n",
       "2    2020-01-01   2    -5.7      0.0      0.1     42\n",
       "3    2020-01-01   3    -5.6      0.0      0.0     46\n",
       "4    2020-01-01   4    -5.4      0.0      0.0     50\n",
       "...         ...  ..     ...      ...      ...    ...\n",
       "5851 2020-08-31  19    28.0      0.0      3.5     73\n",
       "5852 2020-08-31  20    27.6      0.0      2.5     73\n",
       "5853 2020-08-31  21    27.1      0.0      2.4     74\n",
       "5854 2020-08-31  22    26.8      0.0      2.3     76\n",
       "5855 2020-08-31  23    26.6      0.0      2.9     74\n",
       "\n",
       "[5856 rows x 6 columns]"
      ]
     },
     "execution_count": 54,
     "metadata": {},
     "output_type": "execute_result"
    }
   ],
   "source": [
    "df_wea"
   ]
  },
  {
   "cell_type": "code",
   "execution_count": 55,
   "metadata": {},
   "outputs": [],
   "source": [
    "df_merged = pd.merge(df_merged, df_wea, on=['date','시간'], how='left')"
   ]
  },
  {
   "cell_type": "code",
   "execution_count": 65,
   "metadata": {},
   "outputs": [],
   "source": [
    "df_merged.to_pickle('data/merged_dataframe.pickle')"
   ]
  }
 ],
 "metadata": {
  "kernelspec": {
   "display_name": "Python 3",
   "language": "python",
   "name": "python3"
  },
  "language_info": {
   "codemirror_mode": {
    "name": "ipython",
    "version": 3
   },
   "file_extension": ".py",
   "mimetype": "text/x-python",
   "name": "python",
   "nbconvert_exporter": "python",
   "pygments_lexer": "ipython3",
   "version": "3.6.10"
  }
 },
 "nbformat": 4,
 "nbformat_minor": 4
}

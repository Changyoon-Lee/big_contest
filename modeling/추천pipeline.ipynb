{
 "cells": [
  {
   "cell_type": "markdown",
   "metadata": {},
   "source": [
    "# 시간대 입력 (일주일 후까지 가능) 날짜 입력\n",
    " 붐빔 정도로 추천리스트 / 첨에 등록할 때 관심 지역을 설정하면 오늘 9시 12시 3시 6시 9시 12시 붐빔 정도 공지"
   ]
  },
  {
   "cell_type": "code",
   "execution_count": null,
   "metadata": {},
   "outputs": [
    {
     "name": "stdout",
     "output_type": "stream",
     "text": [
      "날짜입력(YYYY-mm-dd) : 2020-07-20\n"
     ]
    }
   ],
   "source": [
    "date, time, category = input('날짜입력(YYYY-mm-dd) : '), input('시간입력(ex:07 or 20 등) : '), input('카테고리입력 : ')"
   ]
  },
  {
   "cell_type": "markdown",
   "metadata": {},
   "source": [
    "## 1. 인구밀집도 예측을 바탕으로 filtering"
   ]
  },
  {
   "cell_type": "code",
   "execution_count": null,
   "metadata": {},
   "outputs": [],
   "source": []
  },
  {
   "cell_type": "markdown",
   "metadata": {},
   "source": [
    "## 1-1 그냥지하철 모습 보여주고 선택하게하기->3으로 넘어감"
   ]
  },
  {
   "cell_type": "code",
   "execution_count": null,
   "metadata": {},
   "outputs": [],
   "source": []
  },
  {
   "cell_type": "markdown",
   "metadata": {},
   "source": [
    "## 2. 19년 주말 20대의 지하철 하차 인구가 많은 순서대로 정렬, 검색어트렌드 상위 순으로 정렬하여 하위권 배제시키기\n",
    "        (둘다써도되고 둘중하나만해도될듯)\n",
    "##    이 중에서 작년대비 유동이 가장 줄어든곳 n 개를 listup"
   ]
  },
  {
   "cell_type": "code",
   "execution_count": null,
   "metadata": {},
   "outputs": [],
   "source": []
  },
  {
   "cell_type": "markdown",
   "metadata": {},
   "source": [
    "## 3. 역을 선택하면 세부장소 list up"
   ]
  },
  {
   "cell_type": "code",
   "execution_count": null,
   "metadata": {},
   "outputs": [],
   "source": []
  }
 ],
 "metadata": {
  "kernelspec": {
   "display_name": "Python 3",
   "language": "python",
   "name": "python3"
  },
  "language_info": {
   "codemirror_mode": {
    "name": "ipython",
    "version": 3
   },
   "file_extension": ".py",
   "mimetype": "text/x-python",
   "name": "python",
   "nbconvert_exporter": "python",
   "pygments_lexer": "ipython3",
   "version": "3.6.10"
  }
 },
 "nbformat": 4,
 "nbformat_minor": 4
}

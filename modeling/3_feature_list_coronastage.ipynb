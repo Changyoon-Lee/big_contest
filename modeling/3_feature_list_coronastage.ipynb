{
 "cells": [
  {
   "cell_type": "code",
   "execution_count": 60,
   "metadata": {
    "colab": {},
    "colab_type": "code",
    "executionInfo": {
     "elapsed": 999,
     "status": "ok",
     "timestamp": 1598974088847,
     "user": {
      "displayName": "김도연",
      "photoUrl": "",
      "userId": "13093336926317411579"
     },
     "user_tz": -540
    },
    "id": "ZusR4-EDxqnP"
   },
   "outputs": [],
   "source": [
    "import pandas as pd\n",
    "import datetime"
   ]
  },
  {
   "cell_type": "code",
   "execution_count": 72,
   "metadata": {
    "colab": {},
    "colab_type": "code",
    "executionInfo": {
     "elapsed": 929,
     "status": "ok",
     "timestamp": 1598974201844,
     "user": {
      "displayName": "김도연",
      "photoUrl": "",
      "userId": "13093336926317411579"
     },
     "user_tz": -540
    },
    "id": "H1Q0Tf-LymHM"
   },
   "outputs": [],
   "source": [
    "start = datetime.datetime.strptime(\"2020-02-01\", \"%Y-%m-%d\")\n",
    "end = datetime.datetime.strptime(\"2020-07-31\", \"%Y-%m-%d\")\n",
    "date_generated = [start + datetime.timedelta(days=x) for x in range(0, (end-start).days)]\n",
    "date_ls = []\n",
    "day_ls= []\n",
    "corona_stage= []\n",
    "red_day = []\n",
    "for date in date_generated:\n",
    "    date_ls.append(date.strftime(\"%Y-%m-%d\"))\n",
    "    day_ls.append(date.strftime(\"%A\"))\n",
    "for i in range(len(date_ls)):\n",
    "    if date_ls[i] < '2020-03-22':\n",
    "      corona_stage.append(0)\n",
    "    elif '2020-03-22' <= date_ls[i] < '2020-04-20':\n",
    "      corona_stage.append(3)\n",
    "    elif '2020-04-20' <= date_ls[i] < '2020-05-06':\n",
    "      corona_stage.append(2)\n",
    "    elif '2020-05-06' <= date_ls[i]:\n",
    "      corona_stage.append(1)\n",
    "red = ['2020-03-01','2020-04-30','2020-05-05','2020-06-06','2020-04-15','2020-05-01']\n",
    "for i in range(len(date_ls)):\n",
    "  if day_ls[i] in ['Saturday','Sunday'] or date_ls[i] in red:\n",
    "    red_day.append(1)\n",
    "  else:\n",
    "    red_day.append(0)"
   ]
  },
  {
   "cell_type": "code",
   "execution_count": 73,
   "metadata": {
    "colab": {},
    "colab_type": "code",
    "executionInfo": {
     "elapsed": 625,
     "status": "ok",
     "timestamp": 1598974201846,
     "user": {
      "displayName": "김도연",
      "photoUrl": "",
      "userId": "13093336926317411579"
     },
     "user_tz": -540
    },
    "id": "CPkkR1Jf0s7v"
   },
   "outputs": [],
   "source": [
    "feature_list = {}\n",
    "feature_list['date'] = date_ls\n",
    "feature_list['day'] = day_ls\n",
    "feature_list['corona_stage'] = corona_stage\n",
    "feature_list['red_day'] = red_day"
   ]
  },
  {
   "cell_type": "code",
   "execution_count": 75,
   "metadata": {
    "colab": {},
    "colab_type": "code",
    "executionInfo": {
     "elapsed": 1097,
     "status": "ok",
     "timestamp": 1598974230143,
     "user": {
      "displayName": "김도연",
      "photoUrl": "",
      "userId": "13093336926317411579"
     },
     "user_tz": -540
    },
    "id": "GiHKx0QfRwQO"
   },
   "outputs": [],
   "source": [
    "data = pd.DataFrame(feature_list)\n",
    "data.to_csv('feature_list_dy.csv',index=False)"
   ]
  },
  {
   "cell_type": "code",
   "execution_count": null,
   "metadata": {
    "colab": {},
    "colab_type": "code",
    "id": "s0ZG5pdrSUFS"
   },
   "outputs": [],
   "source": []
  }
 ],
 "metadata": {
  "colab": {
   "authorship_tag": "ABX9TyP5BNsJFpHAxguRV2jCFCOg",
   "name": "predition_data.ipynb",
   "provenance": []
  },
  "kernelspec": {
   "display_name": "Python 3",
   "language": "python",
   "name": "python3"
  },
  "language_info": {
   "codemirror_mode": {
    "name": "ipython",
    "version": 3
   },
   "file_extension": ".py",
   "mimetype": "text/x-python",
   "name": "python",
   "nbconvert_exporter": "python",
   "pygments_lexer": "ipython3",
   "version": "3.6.10"
  }
 },
 "nbformat": 4,
 "nbformat_minor": 1
}

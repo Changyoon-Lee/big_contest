{
 "cells": [
  {
   "cell_type": "code",
   "execution_count": 209,
   "metadata": {},
   "outputs": [
    {
     "ename": "ImportError",
     "evalue": "cannot import name 'gu_lists'",
     "output_type": "error",
     "traceback": [
      "\u001b[1;31m---------------------------------------------------------------------------\u001b[0m",
      "\u001b[1;31mImportError\u001b[0m                               Traceback (most recent call last)",
      "\u001b[1;32m<ipython-input-209-591812ba1afc>\u001b[0m in \u001b[0;36m<module>\u001b[1;34m\u001b[0m\n\u001b[0;32m      1\u001b[0m \u001b[1;32mimport\u001b[0m \u001b[0mpandas\u001b[0m \u001b[1;32mas\u001b[0m \u001b[0mpd\u001b[0m\u001b[1;33m\u001b[0m\u001b[1;33m\u001b[0m\u001b[0m\n\u001b[1;32m----> 2\u001b[1;33m \u001b[1;32mfrom\u001b[0m \u001b[0mfunction\u001b[0m \u001b[1;32mimport\u001b[0m \u001b[0mmake_sumcount\u001b[0m\u001b[1;33m,\u001b[0m \u001b[0mmakefulldate\u001b[0m\u001b[1;33m,\u001b[0m \u001b[0mgu_lists\u001b[0m\u001b[1;33m\u001b[0m\u001b[1;33m\u001b[0m\u001b[0m\n\u001b[0m",
      "\u001b[1;31mImportError\u001b[0m: cannot import name 'gu_lists'"
     ]
    }
   ],
   "source": [
    "import pandas as pd\n",
    "from function import make_sumcount, makefulldate, gu_lists"
   ]
  },
  {
   "cell_type": "code",
   "execution_count": 173,
   "metadata": {},
   "outputs": [],
   "source": [
    "df1 = pd.read_csv('data/서울시 확진자 현황.csv', header = 0, encoding='ANSI')\n",
    "\n",
    "df1['확진일'] = ['2020-'+i[:-1].replace('.','-') for i in df1['확진일']]\n",
    "\n",
    "df1.rename(columns={'확진일':'date','환자번호':'확진자 수'},inplace= True)\n",
    "\n",
    "df1['date'] = pd.to_datetime(df1['date'], format='%Y-%m-%d')\n",
    "df_count = df1[['date','지역','확진자 수']].groupby(['지역','date']).count()"
   ]
  },
  {
   "cell_type": "code",
   "execution_count": 206,
   "metadata": {},
   "outputs": [
    {
     "data": {
      "text/plain": [
       "['노원구',\n",
       " '강서구',\n",
       " '광진구',\n",
       " '강동구',\n",
       " '도봉구',\n",
       " '관악구',\n",
       " '성북구',\n",
       " '구로구',\n",
       " '금천구',\n",
       " '동대문구',\n",
       " '영등포구',\n",
       " '서대문구',\n",
       " '중구',\n",
       " '강북구',\n",
       " '강남구',\n",
       " '송파구',\n",
       " '은평구',\n",
       " '종로구',\n",
       " '동작구',\n",
       " '성동구',\n",
       " '양천구',\n",
       " '중랑구',\n",
       " '서초구',\n",
       " '마포구',\n",
       " '용산구']"
      ]
     },
     "execution_count": 206,
     "metadata": {},
     "output_type": "execute_result"
    }
   ],
   "source": [
    "gu_list"
   ]
  },
  {
   "cell_type": "code",
   "execution_count": 179,
   "metadata": {},
   "outputs": [],
   "source": [
    "dic_gu_count={}"
   ]
  },
  {
   "cell_type": "code",
   "execution_count": 180,
   "metadata": {},
   "outputs": [
    {
     "name": "stderr",
     "output_type": "stream",
     "text": [
      "C:\\Users\\YOON\\anaconda3\\envs\\nlp\\lib\\site-packages\\ipykernel_launcher.py:5: SettingWithCopyWarning: \n",
      "A value is trying to be set on a copy of a slice from a DataFrame\n",
      "\n",
      "See the caveats in the documentation: https://pandas.pydata.org/pandas-docs/stable/user_guide/indexing.html#returning-a-view-versus-a-copy\n",
      "  \"\"\"\n",
      "C:\\Users\\YOON\\anaconda3\\envs\\nlp\\lib\\site-packages\\ipykernel_launcher.py:7: SettingWithCopyWarning: \n",
      "A value is trying to be set on a copy of a slice from a DataFrame\n",
      "\n",
      "See the caveats in the documentation: https://pandas.pydata.org/pandas-docs/stable/user_guide/indexing.html#returning-a-view-versus-a-copy\n",
      "  import sys\n"
     ]
    }
   ],
   "source": [
    "for i in gu_list:\n",
    "    df_gu = df_count.loc[i].reset_index()\n",
    "    df1_1 = pd.merge(fulldate,df_count.loc[i], on = 'date',how='left')\n",
    "    df1_1['확진자 수']=df1_1['확진자 수'].fillna(0)\n",
    "    df1_sum = make_sumcount(df1_1)\n",
    "    dic_gu_count[i] = df1_sum\n",
    "    "
   ]
  },
  {
   "cell_type": "code",
   "execution_count": 195,
   "metadata": {},
   "outputs": [
    {
     "name": "stdout",
     "output_type": "stream",
     "text": [
      "저장완료\n"
     ]
    }
   ],
   "source": [
    "with open('data/구별확진자수dict.pickle', 'wb') as f:\n",
    "    pickle.dump(dic_gu_count, f, protocol=pickle.HIGHEST_PROTOCOL)\n",
    "    print('저장완료')"
   ]
  },
  {
   "cell_type": "code",
   "execution_count": 184,
   "metadata": {},
   "outputs": [],
   "source": [
    "df2 = pd.read_csv('data/kr_regional_daily.csv', parse_dates=['date'])\n",
    "df3 = pd.read_csv('data/서울 지하철역 좌표.csv')"
   ]
  },
  {
   "cell_type": "code",
   "execution_count": 189,
   "metadata": {},
   "outputs": [
    {
     "data": {
      "text/html": [
       "<div>\n",
       "<style scoped>\n",
       "    .dataframe tbody tr th:only-of-type {\n",
       "        vertical-align: middle;\n",
       "    }\n",
       "\n",
       "    .dataframe tbody tr th {\n",
       "        vertical-align: top;\n",
       "    }\n",
       "\n",
       "    .dataframe thead th {\n",
       "        text-align: right;\n",
       "    }\n",
       "</style>\n",
       "<table border=\"1\" class=\"dataframe\">\n",
       "  <thead>\n",
       "    <tr style=\"text-align: right;\">\n",
       "      <th></th>\n",
       "      <th>confirmed</th>\n",
       "      <th>확진자 수</th>\n",
       "    </tr>\n",
       "    <tr>\n",
       "      <th>date</th>\n",
       "      <th></th>\n",
       "      <th></th>\n",
       "    </tr>\n",
       "  </thead>\n",
       "  <tbody>\n",
       "    <tr>\n",
       "      <th>2020-02-17</th>\n",
       "      <td>30</td>\n",
       "      <td>0</td>\n",
       "    </tr>\n",
       "    <tr>\n",
       "      <th>2020-02-18</th>\n",
       "      <td>31</td>\n",
       "      <td>1</td>\n",
       "    </tr>\n",
       "    <tr>\n",
       "      <th>2020-02-19</th>\n",
       "      <td>51</td>\n",
       "      <td>20</td>\n",
       "    </tr>\n",
       "    <tr>\n",
       "      <th>2020-02-20</th>\n",
       "      <td>108</td>\n",
       "      <td>57</td>\n",
       "    </tr>\n",
       "    <tr>\n",
       "      <th>2020-02-21</th>\n",
       "      <td>205</td>\n",
       "      <td>97</td>\n",
       "    </tr>\n",
       "    <tr>\n",
       "      <th>...</th>\n",
       "      <td>...</td>\n",
       "      <td>...</td>\n",
       "    </tr>\n",
       "    <tr>\n",
       "      <th>2020-08-28</th>\n",
       "      <td>19077</td>\n",
       "      <td>371</td>\n",
       "    </tr>\n",
       "    <tr>\n",
       "      <th>2020-08-29</th>\n",
       "      <td>19400</td>\n",
       "      <td>323</td>\n",
       "    </tr>\n",
       "    <tr>\n",
       "      <th>2020-08-30</th>\n",
       "      <td>19699</td>\n",
       "      <td>299</td>\n",
       "    </tr>\n",
       "    <tr>\n",
       "      <th>2020-08-31</th>\n",
       "      <td>19947</td>\n",
       "      <td>248</td>\n",
       "    </tr>\n",
       "    <tr>\n",
       "      <th>2020-09-01</th>\n",
       "      <td>20182</td>\n",
       "      <td>235</td>\n",
       "    </tr>\n",
       "  </tbody>\n",
       "</table>\n",
       "<p>198 rows × 2 columns</p>\n",
       "</div>"
      ],
      "text/plain": [
       "            confirmed  확진자 수\n",
       "date                        \n",
       "2020-02-17         30      0\n",
       "2020-02-18         31      1\n",
       "2020-02-19         51     20\n",
       "2020-02-20        108     57\n",
       "2020-02-21        205     97\n",
       "...               ...    ...\n",
       "2020-08-28      19077    371\n",
       "2020-08-29      19400    323\n",
       "2020-08-30      19699    299\n",
       "2020-08-31      19947    248\n",
       "2020-09-01      20182    235\n",
       "\n",
       "[198 rows x 2 columns]"
      ]
     },
     "execution_count": 189,
     "metadata": {},
     "output_type": "execute_result"
    }
   ],
   "source": [
    "df_junguk = df2[['date','confirmed']].groupby(['date']).sum()\n",
    "df_junguk['확진자 수']=0\n",
    "for i in range(len(df_junguk)):\n",
    "    if i>0:\n",
    "        df_junguk['확진자 수'][i] = df_junguk['confirmed'][i]-df_junguk['confirmed'][i-1]"
   ]
  },
  {
   "cell_type": "code",
   "execution_count": 192,
   "metadata": {},
   "outputs": [],
   "source": [
    "import pickle\n",
    "df_junguk.to_pickle('전국확진자수.pickle')"
   ]
  },
  {
   "cell_type": "code",
   "execution_count": 191,
   "metadata": {},
   "outputs": [
    {
     "data": {
      "text/html": [
       "<div>\n",
       "<style scoped>\n",
       "    .dataframe tbody tr th:only-of-type {\n",
       "        vertical-align: middle;\n",
       "    }\n",
       "\n",
       "    .dataframe tbody tr th {\n",
       "        vertical-align: top;\n",
       "    }\n",
       "\n",
       "    .dataframe thead th {\n",
       "        text-align: right;\n",
       "    }\n",
       "</style>\n",
       "<table border=\"1\" class=\"dataframe\">\n",
       "  <thead>\n",
       "    <tr style=\"text-align: right;\">\n",
       "      <th></th>\n",
       "      <th>confirmed</th>\n",
       "      <th>확진자 수</th>\n",
       "      <th>sumcount</th>\n",
       "    </tr>\n",
       "    <tr>\n",
       "      <th>date</th>\n",
       "      <th></th>\n",
       "      <th></th>\n",
       "      <th></th>\n",
       "    </tr>\n",
       "  </thead>\n",
       "  <tbody>\n",
       "    <tr>\n",
       "      <th>2020-08-19</th>\n",
       "      <td>16058</td>\n",
       "      <td>297</td>\n",
       "      <td>1101</td>\n",
       "    </tr>\n",
       "    <tr>\n",
       "      <th>2020-08-20</th>\n",
       "      <td>16346</td>\n",
       "      <td>288</td>\n",
       "      <td>1344</td>\n",
       "    </tr>\n",
       "    <tr>\n",
       "      <th>2020-08-21</th>\n",
       "      <td>16670</td>\n",
       "      <td>324</td>\n",
       "      <td>1576</td>\n",
       "    </tr>\n",
       "    <tr>\n",
       "      <th>2020-08-22</th>\n",
       "      <td>17002</td>\n",
       "      <td>332</td>\n",
       "      <td>1797</td>\n",
       "    </tr>\n",
       "    <tr>\n",
       "      <th>2020-08-23</th>\n",
       "      <td>17399</td>\n",
       "      <td>397</td>\n",
       "      <td>1963</td>\n",
       "    </tr>\n",
       "    <tr>\n",
       "      <th>2020-08-24</th>\n",
       "      <td>17665</td>\n",
       "      <td>266</td>\n",
       "      <td>2081</td>\n",
       "    </tr>\n",
       "    <tr>\n",
       "      <th>2020-08-25</th>\n",
       "      <td>17945</td>\n",
       "      <td>280</td>\n",
       "      <td>2150</td>\n",
       "    </tr>\n",
       "    <tr>\n",
       "      <th>2020-08-26</th>\n",
       "      <td>18265</td>\n",
       "      <td>320</td>\n",
       "      <td>2184</td>\n",
       "    </tr>\n",
       "    <tr>\n",
       "      <th>2020-08-27</th>\n",
       "      <td>18706</td>\n",
       "      <td>441</td>\n",
       "      <td>2207</td>\n",
       "    </tr>\n",
       "    <tr>\n",
       "      <th>2020-08-28</th>\n",
       "      <td>19077</td>\n",
       "      <td>371</td>\n",
       "      <td>2360</td>\n",
       "    </tr>\n",
       "    <tr>\n",
       "      <th>2020-08-29</th>\n",
       "      <td>19400</td>\n",
       "      <td>323</td>\n",
       "      <td>2407</td>\n",
       "    </tr>\n",
       "    <tr>\n",
       "      <th>2020-08-30</th>\n",
       "      <td>19699</td>\n",
       "      <td>299</td>\n",
       "      <td>2398</td>\n",
       "    </tr>\n",
       "    <tr>\n",
       "      <th>2020-08-31</th>\n",
       "      <td>19947</td>\n",
       "      <td>248</td>\n",
       "      <td>2300</td>\n",
       "    </tr>\n",
       "    <tr>\n",
       "      <th>2020-09-01</th>\n",
       "      <td>20182</td>\n",
       "      <td>235</td>\n",
       "      <td>2282</td>\n",
       "    </tr>\n",
       "  </tbody>\n",
       "</table>\n",
       "</div>"
      ],
      "text/plain": [
       "            confirmed  확진자 수  sumcount\n",
       "date                                  \n",
       "2020-08-19      16058    297      1101\n",
       "2020-08-20      16346    288      1344\n",
       "2020-08-21      16670    324      1576\n",
       "2020-08-22      17002    332      1797\n",
       "2020-08-23      17399    397      1963\n",
       "2020-08-24      17665    266      2081\n",
       "2020-08-25      17945    280      2150\n",
       "2020-08-26      18265    320      2184\n",
       "2020-08-27      18706    441      2207\n",
       "2020-08-28      19077    371      2360\n",
       "2020-08-29      19400    323      2407\n",
       "2020-08-30      19699    299      2398\n",
       "2020-08-31      19947    248      2300\n",
       "2020-09-01      20182    235      2282"
      ]
     },
     "execution_count": 191,
     "metadata": {},
     "output_type": "execute_result"
    }
   ],
   "source": [
    "make_sumcount(df_junguk)"
   ]
  },
  {
   "cell_type": "code",
   "execution_count": 226,
   "metadata": {},
   "outputs": [
    {
     "name": "stderr",
     "output_type": "stream",
     "text": [
      "C:\\Users\\YOON\\anaconda3\\envs\\nlp\\lib\\site-packages\\ipykernel_launcher.py:4: SettingWithCopyWarning: \n",
      "A value is trying to be set on a copy of a slice from a DataFrame\n",
      "\n",
      "See the caveats in the documentation: https://pandas.pydata.org/pandas-docs/stable/user_guide/indexing.html#returning-a-view-versus-a-copy\n",
      "  after removing the cwd from sys.path.\n"
     ]
    }
   ],
   "source": [
    "import re\n",
    "df3['구'] =0\n",
    "for i in range(len(df3['상세주소'])):\n",
    "    df3['구'][i] = ''.join(re.findall('([가-힣]*구)',df3['상세주소'][i]))"
   ]
  },
  {
   "cell_type": "code",
   "execution_count": 227,
   "metadata": {},
   "outputs": [
    {
     "data": {
      "text/html": [
       "<div>\n",
       "<style scoped>\n",
       "    .dataframe tbody tr th:only-of-type {\n",
       "        vertical-align: middle;\n",
       "    }\n",
       "\n",
       "    .dataframe tbody tr th {\n",
       "        vertical-align: top;\n",
       "    }\n",
       "\n",
       "    .dataframe thead th {\n",
       "        text-align: right;\n",
       "    }\n",
       "</style>\n",
       "<table border=\"1\" class=\"dataframe\">\n",
       "  <thead>\n",
       "    <tr style=\"text-align: right;\">\n",
       "      <th></th>\n",
       "      <th>역명</th>\n",
       "      <th>상세주소</th>\n",
       "      <th>경도</th>\n",
       "      <th>위도</th>\n",
       "      <th>상태</th>\n",
       "      <th>구</th>\n",
       "    </tr>\n",
       "  </thead>\n",
       "  <tbody>\n",
       "    <tr>\n",
       "      <th>0</th>\n",
       "      <td>서울</td>\n",
       "      <td>서울특별시 중구 봉래동2가 122 서울역(1호선)</td>\n",
       "      <td>126.969563</td>\n",
       "      <td>37.558156</td>\n",
       "      <td>정좌표</td>\n",
       "      <td>중구</td>\n",
       "    </tr>\n",
       "    <tr>\n",
       "      <th>1</th>\n",
       "      <td>시청</td>\n",
       "      <td>서울특별시 중구 정동 5-5 시청역(1호선)</td>\n",
       "      <td>126.976919</td>\n",
       "      <td>37.565597</td>\n",
       "      <td>정좌표</td>\n",
       "      <td>중구</td>\n",
       "    </tr>\n",
       "    <tr>\n",
       "      <th>2</th>\n",
       "      <td>종각</td>\n",
       "      <td>서울특별시 종로구 종로1가 54 종각지하철역사</td>\n",
       "      <td>126.981390</td>\n",
       "      <td>37.570222</td>\n",
       "      <td>정좌표</td>\n",
       "      <td>종로구</td>\n",
       "    </tr>\n",
       "    <tr>\n",
       "      <th>3</th>\n",
       "      <td>종로5가</td>\n",
       "      <td>서울특별시 종로구 종로5가 82-1 1호선 종로5가역</td>\n",
       "      <td>127.001925</td>\n",
       "      <td>37.571020</td>\n",
       "      <td>정좌표</td>\n",
       "      <td>종로구</td>\n",
       "    </tr>\n",
       "    <tr>\n",
       "      <th>4</th>\n",
       "      <td>동대문</td>\n",
       "      <td>서울특별시 종로구 창신동 492-1 1호선 동대문역(1호선)</td>\n",
       "      <td>127.011233</td>\n",
       "      <td>37.571759</td>\n",
       "      <td>정좌표</td>\n",
       "      <td>종로구</td>\n",
       "    </tr>\n",
       "  </tbody>\n",
       "</table>\n",
       "</div>"
      ],
      "text/plain": [
       "     역명                               상세주소          경도         위도   상태    구\n",
       "0    서울        서울특별시 중구 봉래동2가 122 서울역(1호선)  126.969563  37.558156  정좌표   중구\n",
       "1    시청           서울특별시 중구 정동 5-5 시청역(1호선)  126.976919  37.565597  정좌표   중구\n",
       "2    종각          서울특별시 종로구 종로1가 54 종각지하철역사  126.981390  37.570222  정좌표  종로구\n",
       "3  종로5가      서울특별시 종로구 종로5가 82-1 1호선 종로5가역  127.001925  37.571020  정좌표  종로구\n",
       "4   동대문  서울특별시 종로구 창신동 492-1 1호선 동대문역(1호선)  127.011233  37.571759  정좌표  종로구"
      ]
     },
     "execution_count": 227,
     "metadata": {},
     "output_type": "execute_result"
    }
   ],
   "source": [
    "df3.head()"
   ]
  },
  {
   "cell_type": "code",
   "execution_count": 234,
   "metadata": {},
   "outputs": [
    {
     "name": "stderr",
     "output_type": "stream",
     "text": [
      "C:\\Users\\YOON\\anaconda3\\envs\\nlp\\lib\\site-packages\\ipykernel_launcher.py:4: SettingWithCopyWarning: \n",
      "A value is trying to be set on a copy of a slice from a DataFrame\n",
      "\n",
      "See the caveats in the documentation: https://pandas.pydata.org/pandas-docs/stable/user_guide/indexing.html#returning-a-view-versus-a-copy\n",
      "  after removing the cwd from sys.path.\n"
     ]
    }
   ],
   "source": [
    "df3['bool']=0\n",
    "for i in range(len(df3)):\n",
    "    if df3['구'][i] not in gu_list:\n",
    "        df3['bool'][i]=1\n",
    "df3 = df3[df3['bool']==0]"
   ]
  },
  {
   "cell_type": "code",
   "execution_count": 247,
   "metadata": {},
   "outputs": [],
   "source": [
    "station_gu_dic = {}\n",
    "for i in range(len(df3)):\n",
    "    station_gu_dic[df3['역명'][i]] = df3['구'][i]\n",
    "    "
   ]
  },
  {
   "cell_type": "code",
   "execution_count": 248,
   "metadata": {},
   "outputs": [
    {
     "data": {
      "text/plain": [
       "201"
      ]
     },
     "execution_count": 248,
     "metadata": {},
     "output_type": "execute_result"
    }
   ],
   "source": [
    "len(station_gu_dic)"
   ]
  },
  {
   "cell_type": "code",
   "execution_count": 242,
   "metadata": {},
   "outputs": [],
   "source": [
    "df3 = df3.drop_duplicates(subset=['역명'])"
   ]
  },
  {
   "cell_type": "code",
   "execution_count": 246,
   "metadata": {},
   "outputs": [],
   "source": [
    "df3.reset_index(inplace=True)"
   ]
  }
 ],
 "metadata": {
  "kernelspec": {
   "display_name": "Python 3",
   "language": "python",
   "name": "python3"
  },
  "language_info": {
   "codemirror_mode": {
    "name": "ipython",
    "version": 3
   },
   "file_extension": ".py",
   "mimetype": "text/x-python",
   "name": "python",
   "nbconvert_exporter": "python",
   "pygments_lexer": "ipython3",
   "version": "3.6.10"
  }
 },
 "nbformat": 4,
 "nbformat_minor": 4
}

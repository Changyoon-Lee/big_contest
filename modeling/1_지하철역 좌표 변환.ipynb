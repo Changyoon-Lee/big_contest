{
 "cells": [
  {
   "cell_type": "code",
   "execution_count": 1,
   "metadata": {},
   "outputs": [],
   "source": [
    "import pandas as pd"
   ]
  },
  {
   "cell_type": "code",
   "execution_count": 2,
   "metadata": {},
   "outputs": [],
   "source": [
    "df = pd.read_excel('../data/4647,4661번 서울교통공사 역별 주소 현황 및 전화번호.xlsx')\n",
    "df.columns = df.iloc[0]\n",
    "df = df.iloc[1:]\n",
    "df = df[['역명', '상세주소']]\n",
    "df.to_csv('data/서울 지하철역 주소.csv')"
   ]
  },
  {
   "cell_type": "markdown",
   "metadata": {},
   "source": [
    "# 지오코딩 사용해 지하철역 주소 -> 좌표 변환\n",
    "- http://www.gisdeveloper.co.kr/?p=4784"
   ]
  },
  {
   "cell_type": "code",
   "execution_count": 32,
   "metadata": {},
   "outputs": [],
   "source": [
    "sub_loc = pd.read_csv('data/변환이후.shp.csv', encoding='cp949')"
   ]
  },
  {
   "cell_type": "code",
   "execution_count": 34,
   "metadata": {},
   "outputs": [],
   "source": [
    "del sub_loc['No']\n",
    "del sub_loc['Unnamed: 1']"
   ]
  },
  {
   "cell_type": "code",
   "execution_count": 38,
   "metadata": {},
   "outputs": [],
   "source": [
    "errors = pd.read_csv('data/변환이후.shp.err.csv', encoding='cp949')"
   ]
  },
  {
   "cell_type": "code",
   "execution_count": 40,
   "metadata": {},
   "outputs": [],
   "source": [
    "del errors['No']\n",
    "del errors['Unnamed: 1']"
   ]
  },
  {
   "cell_type": "code",
   "execution_count": null,
   "metadata": {},
   "outputs": [],
   "source": [
    "#지오코딩에서 좌표 변환 실패한 지역 직접 매칭\n",
    "indexes = [a, b, c, d, e, f, g, h, i, j]\n",
    "\n",
    "'''\n",
    "종로3가 = [37.570662, 126.992158]\n",
    "봉천 = [37.482628, 126.941502]\n",
    "서울역 = [37.553760, 126.969609]\n",
    "대림 = [37.492892, 126.896571]\n",
    "까치울 = [37.506278, 126.801107]\n",
    "부천종합운동장 = [37.505639, 126.797466]\n",
    "춘의 = [37.503859, 126.787091]\n",
    "신중동 = [37.503189, 126.775952]\n",
    "부천시청 = [37.504748, 126.764025]\n",
    "상동 = [37.505885, 126.753153]\n",
    "'''\n",
    "\n",
    "a = [37.570662, 126.992158]\n",
    "b = [37.482628, 126.941502]\n",
    "c = [37.553760, 126.969609]\n",
    "d = [37.492892, 126.896571]\n",
    "e = [37.506278, 126.801107]\n",
    "f = [37.505639, 126.797466]\n",
    "g = [37.503859, 126.787091]\n",
    "h = [37.503189, 126.775952]\n",
    "i = [37.504748, 126.764025]\n",
    "j = [37.505885, 126.753153]"
   ]
  },
  {
   "cell_type": "code",
   "execution_count": 155,
   "metadata": {},
   "outputs": [],
   "source": [
    "for station, loc in zip(erros.index, indexes):\n",
    "    erros.loc[station]['경도'] = loc[1]\n",
    "    erros.loc[station]['위도'] = loc[0]"
   ]
  },
  {
   "cell_type": "code",
   "execution_count": null,
   "metadata": {},
   "outputs": [],
   "source": [
    "sub_loc_all = pd.concat([sub_loc, erros], axis = 0)\n",
    "sub_loc_all.to_csv('data/서울 지하철역 좌표.csv')"
   ]
  }
 ],
 "metadata": {
  "kernelspec": {
   "display_name": "Python 3",
   "language": "python",
   "name": "python3"
  },
  "language_info": {
   "codemirror_mode": {
    "name": "ipython",
    "version": 3
   },
   "file_extension": ".py",
   "mimetype": "text/x-python",
   "name": "python",
   "nbconvert_exporter": "python",
   "pygments_lexer": "ipython3",
   "version": "3.6.10"
  }
 },
 "nbformat": 4,
 "nbformat_minor": 4
}

{
 "cells": [
  {
   "cell_type": "code",
   "execution_count": 278,
   "metadata": {},
   "outputs": [],
   "source": [
    "import pandas as pd\n",
    "from function import make_sumcount, makefulldate"
   ]
  },
  {
   "cell_type": "code",
   "execution_count": 173,
   "metadata": {},
   "outputs": [],
   "source": [
    "df1 = pd.read_csv('data/서울시 확진자 현황.csv', header = 0, encoding='ANSI')\n",
    "\n",
    "df1['확진일'] = ['2020-'+i[:-1].replace('.','-') for i in df1['확진일']]\n",
    "\n",
    "df1.rename(columns={'확진일':'date','환자번호':'확진자 수'},inplace= True)\n",
    "\n",
    "df1['date'] = pd.to_datetime(df1['date'], format='%Y-%m-%d')\n",
    "df_count = df1[['date','지역','확진자 수']].groupby(['지역','date']).count()"
   ]
  },
  {
   "cell_type": "code",
   "execution_count": 206,
   "metadata": {},
   "outputs": [
    {
     "data": {
      "text/plain": [
       "['노원구',\n",
       " '강서구',\n",
       " '광진구',\n",
       " '강동구',\n",
       " '도봉구',\n",
       " '관악구',\n",
       " '성북구',\n",
       " '구로구',\n",
       " '금천구',\n",
       " '동대문구',\n",
       " '영등포구',\n",
       " '서대문구',\n",
       " '중구',\n",
       " '강북구',\n",
       " '강남구',\n",
       " '송파구',\n",
       " '은평구',\n",
       " '종로구',\n",
       " '동작구',\n",
       " '성동구',\n",
       " '양천구',\n",
       " '중랑구',\n",
       " '서초구',\n",
       " '마포구',\n",
       " '용산구']"
      ]
     },
     "execution_count": 206,
     "metadata": {},
     "output_type": "execute_result"
    }
   ],
   "source": [
    "gu_list"
   ]
  },
  {
   "cell_type": "code",
   "execution_count": 263,
   "metadata": {},
   "outputs": [],
   "source": [
    "for i in gu_list:\n",
    "    df_gu = df_count.loc[i].reset_index()\n",
    "    df1_1 = pd.merge(fulldate,df_count.loc[i], on = 'date',how='left')\n",
    "    df1_1['확진자 수']=df1_1['확진자 수'].fillna(0)\n",
    "#     df1_sum = make_sumcount(df1_1)\n",
    "    dic_gu_count[i] = df1_1\n",
    "    "
   ]
  },
  {
   "cell_type": "code",
   "execution_count": 264,
   "metadata": {},
   "outputs": [
    {
     "name": "stdout",
     "output_type": "stream",
     "text": [
      "저장완료\n"
     ]
    }
   ],
   "source": [
    "with open('data/구별확진자수dict.pickle', 'wb') as f:\n",
    "    pickle.dump(dic_gu_count, f, protocol=pickle.HIGHEST_PROTOCOL)\n",
    "    print('저장완료')"
   ]
  },
  {
   "cell_type": "code",
   "execution_count": 291,
   "metadata": {},
   "outputs": [
    {
     "name": "stdout",
     "output_type": "stream",
     "text": [
      "불러오기 완료\n"
     ]
    }
   ],
   "source": [
    "import pickle\n",
    "import pandas as pd\n",
    "# with open('data/역넣으면구나오는dict.pickle', 'wb') as f:\n",
    "#     pickle.dump(station_gu_dic, f, protocol=pickle.HIGHEST_PROTOCOL)\n",
    "#     print('저장완료')\n",
    "# df_junguk.to_pickle('data/전국확진자수.pickle')\n",
    "    \n",
    "with open('data/역넣으면구나오는dict.pickle', 'rb') as f:\n",
    "    station_gu_dic = pickle.load(f)\n",
    "    print('불러오기 완료')\n",
    "df_junguk = pd.read_pickle('data/전국확진자수.pickle')"
   ]
  },
  {
   "cell_type": "code",
   "execution_count": 283,
   "metadata": {},
   "outputs": [],
   "source": [
    "def sta_merg(station, last_nday=7):\n",
    "    df1 = make_sumcount(dic_gu_count[station_gu_dic[station]], last_nday=last_nday)[['date','sumcount']]\n",
    "    df2 = make_sumcount(df_junguk, last_nday=last_nday)[['sumcount']]\n",
    "    df_merged = pd.merge(df1,df2, on = 'date',how='left')\n",
    "    df_merged.fillna(0,inplace = True)\n",
    "    df_merged.columns=['date','행정구역_확진자','전국_확진자']\n",
    "    return df_merged"
   ]
  },
  {
   "cell_type": "code",
   "execution_count": null,
   "metadata": {},
   "outputs": [],
   "source": []
  },
  {
   "cell_type": "code",
   "execution_count": 284,
   "metadata": {},
   "outputs": [
    {
     "data": {
      "text/html": [
       "<div>\n",
       "<style scoped>\n",
       "    .dataframe tbody tr th:only-of-type {\n",
       "        vertical-align: middle;\n",
       "    }\n",
       "\n",
       "    .dataframe tbody tr th {\n",
       "        vertical-align: top;\n",
       "    }\n",
       "\n",
       "    .dataframe thead th {\n",
       "        text-align: right;\n",
       "    }\n",
       "</style>\n",
       "<table border=\"1\" class=\"dataframe\">\n",
       "  <thead>\n",
       "    <tr style=\"text-align: right;\">\n",
       "      <th></th>\n",
       "      <th>date</th>\n",
       "      <th>행정구역_확진자</th>\n",
       "      <th>전국_확진자</th>\n",
       "    </tr>\n",
       "  </thead>\n",
       "  <tbody>\n",
       "    <tr>\n",
       "      <th>0</th>\n",
       "      <td>2020-02-01</td>\n",
       "      <td>0</td>\n",
       "      <td>0.0</td>\n",
       "    </tr>\n",
       "    <tr>\n",
       "      <th>1</th>\n",
       "      <td>2020-02-02</td>\n",
       "      <td>0</td>\n",
       "      <td>0.0</td>\n",
       "    </tr>\n",
       "    <tr>\n",
       "      <th>2</th>\n",
       "      <td>2020-02-03</td>\n",
       "      <td>0</td>\n",
       "      <td>0.0</td>\n",
       "    </tr>\n",
       "    <tr>\n",
       "      <th>3</th>\n",
       "      <td>2020-02-04</td>\n",
       "      <td>0</td>\n",
       "      <td>0.0</td>\n",
       "    </tr>\n",
       "    <tr>\n",
       "      <th>4</th>\n",
       "      <td>2020-02-05</td>\n",
       "      <td>0</td>\n",
       "      <td>0.0</td>\n",
       "    </tr>\n",
       "    <tr>\n",
       "      <th>...</th>\n",
       "      <td>...</td>\n",
       "      <td>...</td>\n",
       "      <td>...</td>\n",
       "    </tr>\n",
       "    <tr>\n",
       "      <th>208</th>\n",
       "      <td>2020-08-27</td>\n",
       "      <td>35</td>\n",
       "      <td>2207.0</td>\n",
       "    </tr>\n",
       "    <tr>\n",
       "      <th>209</th>\n",
       "      <td>2020-08-28</td>\n",
       "      <td>35</td>\n",
       "      <td>2360.0</td>\n",
       "    </tr>\n",
       "    <tr>\n",
       "      <th>210</th>\n",
       "      <td>2020-08-29</td>\n",
       "      <td>34</td>\n",
       "      <td>2407.0</td>\n",
       "    </tr>\n",
       "    <tr>\n",
       "      <th>211</th>\n",
       "      <td>2020-08-30</td>\n",
       "      <td>32</td>\n",
       "      <td>2398.0</td>\n",
       "    </tr>\n",
       "    <tr>\n",
       "      <th>212</th>\n",
       "      <td>2020-08-31</td>\n",
       "      <td>30</td>\n",
       "      <td>2300.0</td>\n",
       "    </tr>\n",
       "  </tbody>\n",
       "</table>\n",
       "<p>213 rows × 3 columns</p>\n",
       "</div>"
      ],
      "text/plain": [
       "          date  행정구역_확진자  전국_확진자\n",
       "0   2020-02-01         0     0.0\n",
       "1   2020-02-02         0     0.0\n",
       "2   2020-02-03         0     0.0\n",
       "3   2020-02-04         0     0.0\n",
       "4   2020-02-05         0     0.0\n",
       "..         ...       ...     ...\n",
       "208 2020-08-27        35  2207.0\n",
       "209 2020-08-28        35  2360.0\n",
       "210 2020-08-29        34  2407.0\n",
       "211 2020-08-30        32  2398.0\n",
       "212 2020-08-31        30  2300.0\n",
       "\n",
       "[213 rows x 3 columns]"
      ]
     },
     "execution_count": 284,
     "metadata": {},
     "output_type": "execute_result"
    }
   ],
   "source": [
    "a = sta_merg('강남')"
   ]
  },
  {
   "cell_type": "code",
   "execution_count": 290,
   "metadata": {},
   "outputs": [
    {
     "data": {
      "text/plain": [
       "dict_keys(['서울', '시청', '종각', '종로5가', '동대문', '신설동', '제기동', '청량리(서울시립대입구)', '동묘앞', '을지로3가', '을지로4가', '동대문역사문화공원', '신당', '상왕십리', '왕십리(성동구청)', '한양대', '뚝섬', '성수', '잠실나루', '잠실(송파구청)', '잠실새내', '종합운동장', '삼성(무역센터)', '선릉', '역삼', '강남', '교대(법원·검찰청)', '서초', '방배', '사당', '낙성대', '신림', '신대방', '신도림', '문래', '당산', '합정', '신촌', '이대', '아현', '충정로(경기대입구)', '용답', '신답', '용두(동대문구청)', '도림천', '신정네거리', '까치산', '연신내', '불광', '녹번', '홍제', '무악재', '독립문', '경복궁(정부서울청사)', '안국', '종로3가', '충무로', '약수', '금호', '옥수', '신사', '잠원', '고속터미널', '남부터미널(예술의전당)', '양재(서초구청)', '매봉', '도곡', '대치', '학여울', '대청', '일원', '수서', '가락시장', '경찰병원', '오금', '당고개', '상계', '노원', '창동', '쌍문', '수유(강북구청)', '미아(서울사이버대학)', '미아사거리', '길음', '혜화', '명동', '회현(남대문시장)', '삼각지', '신용산', '이촌(국립중앙박물관)', '동작(현충원)', '총신대입구(이수)', '남태령', '방화', '개화산', '김포공항', '송정', '마곡', '발산', '우장산', '화곡', '신정(은행정)', '목동', '오목교(목동운동장앞)', '양평', '영등포시장', '신길', '여의도', '여의나루', '마포', '공덕', '애오개', '서대문', '광화문(세종문화회관)', '종로3가(탑골공원)', '신금호', '행당', '마장', '답십리', '장한평', '군자(능동)', '아차산(어린이대공원후문)', '광나루(장신대)', '천호(풍납토성)', '강동', '길동', '굽은다리(강동구민회관앞)', '명일', '고덕', '상일동', '둔촌동', '올림픽공원(한국체대)', '방이', '개롱', '거여', '마천', '응암', '역촌', '독바위', '새절(신사)', '증산(명지대앞)', '디지털미디어시티', '월드컵경기장(성산)', '망원', '상수', '광흥창(서강)', '대흥(서강대앞)', '효창공원앞', '녹사평(용산구청)', '이태원', '한강진', '버티고개', '창신', '보문', '안암(고대병원앞)', '고려대(종암)', '월곡(동덕여대)', '상월곡(한국과학기술연구원)', '돌곶이', '석계', '화랑대(서울여대입구)', '봉화산(서울의료원)', '도봉산', '수락산', '마들', '중계', '하계', '공릉(서울과학기술대)', '먹골', '중화', '상봉(시외버스터미널)', '면목', '사가정', '용마산', '중곡', '어린이대공원(세종대)', '뚝섬유원지', '청담', '학동', '논현', '반포', '내방', '이수', '남성', '상도', '장승배기', '신대방삼거리', '보라매', '신풍', '가산디지털단지', '천왕', '온수(성공회대입구)', '암사', '몽촌토성(평화의문)', '석촌', '송파', '문정', '장지', '복정', '봉천', '대림(구로구청)'])"
      ]
     },
     "execution_count": 290,
     "metadata": {},
     "output_type": "execute_result"
    }
   ],
   "source": [
    "#참고 : 역이름 목록입니다\n",
    "station_gu_dic.keys()"
   ]
  }
 ],
 "metadata": {
  "kernelspec": {
   "display_name": "Python 3",
   "language": "python",
   "name": "python3"
  },
  "language_info": {
   "codemirror_mode": {
    "name": "ipython",
    "version": 3
   },
   "file_extension": ".py",
   "mimetype": "text/x-python",
   "name": "python",
   "nbconvert_exporter": "python",
   "pygments_lexer": "ipython3",
   "version": "3.6.10"
  }
 },
 "nbformat": 4,
 "nbformat_minor": 4
}

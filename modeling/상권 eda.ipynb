{
 "cells": [
  {
   "cell_type": "code",
   "execution_count": 62,
   "metadata": {},
   "outputs": [],
   "source": [
    "import pandas as pd\n",
    "df_subway = pd.read_pickle('data/전년유동감소폭.pickle')"
   ]
  },
  {
   "cell_type": "code",
   "execution_count": 63,
   "metadata": {},
   "outputs": [
    {
     "data": {
      "text/html": [
       "<div>\n",
       "<style scoped>\n",
       "    .dataframe tbody tr th:only-of-type {\n",
       "        vertical-align: middle;\n",
       "    }\n",
       "\n",
       "    .dataframe tbody tr th {\n",
       "        vertical-align: top;\n",
       "    }\n",
       "\n",
       "    .dataframe thead th {\n",
       "        text-align: right;\n",
       "    }\n",
       "</style>\n",
       "<table border=\"1\" class=\"dataframe\">\n",
       "  <thead>\n",
       "    <tr style=\"text-align: right;\">\n",
       "      <th></th>\n",
       "      <th>date</th>\n",
       "      <th>호선</th>\n",
       "      <th>역번호</th>\n",
       "      <th>역명</th>\n",
       "      <th>구분</th>\n",
       "      <th>5-6</th>\n",
       "      <th>6-7</th>\n",
       "      <th>7-8</th>\n",
       "      <th>8-9</th>\n",
       "      <th>9-10</th>\n",
       "      <th>...</th>\n",
       "      <th>18-19</th>\n",
       "      <th>19-20</th>\n",
       "      <th>20-21</th>\n",
       "      <th>21-22</th>\n",
       "      <th>22-23</th>\n",
       "      <th>23-24</th>\n",
       "      <th>24-01</th>\n",
       "      <th>합 계</th>\n",
       "      <th>요일</th>\n",
       "      <th>공휴일</th>\n",
       "    </tr>\n",
       "  </thead>\n",
       "  <tbody>\n",
       "    <tr>\n",
       "      <th>0</th>\n",
       "      <td>2019-01-01</td>\n",
       "      <td>1호선</td>\n",
       "      <td>150</td>\n",
       "      <td>서울</td>\n",
       "      <td>승차</td>\n",
       "      <td>348</td>\n",
       "      <td>321</td>\n",
       "      <td>348</td>\n",
       "      <td>741</td>\n",
       "      <td>940</td>\n",
       "      <td>...</td>\n",
       "      <td>3277</td>\n",
       "      <td>2898</td>\n",
       "      <td>2590</td>\n",
       "      <td>3004</td>\n",
       "      <td>2234</td>\n",
       "      <td>970</td>\n",
       "      <td>38</td>\n",
       "      <td>39559</td>\n",
       "      <td>화요일</td>\n",
       "      <td>0</td>\n",
       "    </tr>\n",
       "    <tr>\n",
       "      <th>1</th>\n",
       "      <td>2019-01-01</td>\n",
       "      <td>6호선</td>\n",
       "      <td>2630</td>\n",
       "      <td>녹사평(용산구청)</td>\n",
       "      <td>승차</td>\n",
       "      <td>171</td>\n",
       "      <td>117</td>\n",
       "      <td>58</td>\n",
       "      <td>81</td>\n",
       "      <td>104</td>\n",
       "      <td>...</td>\n",
       "      <td>272</td>\n",
       "      <td>212</td>\n",
       "      <td>238</td>\n",
       "      <td>239</td>\n",
       "      <td>188</td>\n",
       "      <td>72</td>\n",
       "      <td>0</td>\n",
       "      <td>3506</td>\n",
       "      <td>화요일</td>\n",
       "      <td>0</td>\n",
       "    </tr>\n",
       "    <tr>\n",
       "      <th>2</th>\n",
       "      <td>2019-01-01</td>\n",
       "      <td>6호선</td>\n",
       "      <td>2629</td>\n",
       "      <td>삼각지</td>\n",
       "      <td>하차</td>\n",
       "      <td>46</td>\n",
       "      <td>89</td>\n",
       "      <td>64</td>\n",
       "      <td>80</td>\n",
       "      <td>105</td>\n",
       "      <td>...</td>\n",
       "      <td>128</td>\n",
       "      <td>152</td>\n",
       "      <td>157</td>\n",
       "      <td>116</td>\n",
       "      <td>152</td>\n",
       "      <td>80</td>\n",
       "      <td>14</td>\n",
       "      <td>2411</td>\n",
       "      <td>화요일</td>\n",
       "      <td>0</td>\n",
       "    </tr>\n",
       "    <tr>\n",
       "      <th>3</th>\n",
       "      <td>2019-01-01</td>\n",
       "      <td>6호선</td>\n",
       "      <td>2629</td>\n",
       "      <td>삼각지</td>\n",
       "      <td>승차</td>\n",
       "      <td>48</td>\n",
       "      <td>68</td>\n",
       "      <td>51</td>\n",
       "      <td>80</td>\n",
       "      <td>110</td>\n",
       "      <td>...</td>\n",
       "      <td>269</td>\n",
       "      <td>150</td>\n",
       "      <td>125</td>\n",
       "      <td>100</td>\n",
       "      <td>74</td>\n",
       "      <td>50</td>\n",
       "      <td>0</td>\n",
       "      <td>2981</td>\n",
       "      <td>화요일</td>\n",
       "      <td>0</td>\n",
       "    </tr>\n",
       "    <tr>\n",
       "      <th>4</th>\n",
       "      <td>2019-01-01</td>\n",
       "      <td>6호선</td>\n",
       "      <td>2628</td>\n",
       "      <td>효창공원앞</td>\n",
       "      <td>하차</td>\n",
       "      <td>24</td>\n",
       "      <td>76</td>\n",
       "      <td>64</td>\n",
       "      <td>103</td>\n",
       "      <td>129</td>\n",
       "      <td>...</td>\n",
       "      <td>213</td>\n",
       "      <td>179</td>\n",
       "      <td>149</td>\n",
       "      <td>163</td>\n",
       "      <td>145</td>\n",
       "      <td>80</td>\n",
       "      <td>12</td>\n",
       "      <td>2533</td>\n",
       "      <td>화요일</td>\n",
       "      <td>0</td>\n",
       "    </tr>\n",
       "  </tbody>\n",
       "</table>\n",
       "<p>5 rows × 28 columns</p>\n",
       "</div>"
      ],
      "text/plain": [
       "        date   호선   역번호         역명  구분  5-6  6-7  7-8  8-9 9-10  ... 18-19  \\\n",
       "0 2019-01-01  1호선   150         서울  승차  348  321  348  741  940  ...  3277   \n",
       "1 2019-01-01  6호선  2630  녹사평(용산구청)  승차  171  117   58   81  104  ...   272   \n",
       "2 2019-01-01  6호선  2629        삼각지  하차   46   89   64   80  105  ...   128   \n",
       "3 2019-01-01  6호선  2629        삼각지  승차   48   68   51   80  110  ...   269   \n",
       "4 2019-01-01  6호선  2628      효창공원앞  하차   24   76   64  103  129  ...   213   \n",
       "\n",
       "  19-20 20-21 21-22 22-23 23-24 24-01    합 계   요일 공휴일  \n",
       "0  2898  2590  3004  2234   970    38  39559  화요일   0  \n",
       "1   212   238   239   188    72     0   3506  화요일   0  \n",
       "2   152   157   116   152    80    14   2411  화요일   0  \n",
       "3   150   125   100    74    50     0   2981  화요일   0  \n",
       "4   179   149   163   145    80    12   2533  화요일   0  \n",
       "\n",
       "[5 rows x 28 columns]"
      ]
     },
     "execution_count": 63,
     "metadata": {},
     "output_type": "execute_result"
    }
   ],
   "source": [
    "df_subway.head()"
   ]
  },
  {
   "cell_type": "code",
   "execution_count": 13,
   "metadata": {},
   "outputs": [
    {
     "data": {
      "text/html": [
       "<div>\n",
       "<style scoped>\n",
       "    .dataframe tbody tr th:only-of-type {\n",
       "        vertical-align: middle;\n",
       "    }\n",
       "\n",
       "    .dataframe tbody tr th {\n",
       "        vertical-align: top;\n",
       "    }\n",
       "\n",
       "    .dataframe thead th {\n",
       "        text-align: right;\n",
       "    }\n",
       "</style>\n",
       "<table border=\"1\" class=\"dataframe\">\n",
       "  <thead>\n",
       "    <tr style=\"text-align: right;\">\n",
       "      <th>year</th>\n",
       "      <th>변화량(%)</th>\n",
       "    </tr>\n",
       "    <tr>\n",
       "      <th>역명</th>\n",
       "      <th></th>\n",
       "    </tr>\n",
       "  </thead>\n",
       "  <tbody>\n",
       "    <tr>\n",
       "      <th>종합운동장</th>\n",
       "      <td>-67.539233</td>\n",
       "    </tr>\n",
       "    <tr>\n",
       "      <th>명동</th>\n",
       "      <td>-64.614933</td>\n",
       "    </tr>\n",
       "    <tr>\n",
       "      <th>이태원</th>\n",
       "      <td>-61.678766</td>\n",
       "    </tr>\n",
       "    <tr>\n",
       "      <th>한양대</th>\n",
       "      <td>-60.508550</td>\n",
       "    </tr>\n",
       "    <tr>\n",
       "      <th>동대입구</th>\n",
       "      <td>-57.835741</td>\n",
       "    </tr>\n",
       "    <tr>\n",
       "      <th>이대</th>\n",
       "      <td>-57.803681</td>\n",
       "    </tr>\n",
       "    <tr>\n",
       "      <th>어린이대공원(세종대)</th>\n",
       "      <td>-53.232246</td>\n",
       "    </tr>\n",
       "    <tr>\n",
       "      <th>학여울</th>\n",
       "      <td>-53.069603</td>\n",
       "    </tr>\n",
       "    <tr>\n",
       "      <th>홍대입구</th>\n",
       "      <td>-51.414876</td>\n",
       "    </tr>\n",
       "    <tr>\n",
       "      <th>여의나루</th>\n",
       "      <td>-50.497369</td>\n",
       "    </tr>\n",
       "    <tr>\n",
       "      <th>안암(고대병원앞)</th>\n",
       "      <td>-49.459739</td>\n",
       "    </tr>\n",
       "    <tr>\n",
       "      <th>월드컵경기장(성산)</th>\n",
       "      <td>-49.306105</td>\n",
       "    </tr>\n",
       "    <tr>\n",
       "      <th>경복궁(정부서울청사)</th>\n",
       "      <td>-48.450263</td>\n",
       "    </tr>\n",
       "    <tr>\n",
       "      <th>동대문역사문화공원</th>\n",
       "      <td>-47.695820</td>\n",
       "    </tr>\n",
       "    <tr>\n",
       "      <th>올림픽공원(한국체대)</th>\n",
       "      <td>-46.566012</td>\n",
       "    </tr>\n",
       "    <tr>\n",
       "      <th>녹사평(용산구청)</th>\n",
       "      <td>-45.249062</td>\n",
       "    </tr>\n",
       "    <tr>\n",
       "      <th>숭실대입구(살피재)</th>\n",
       "      <td>-45.111540</td>\n",
       "    </tr>\n",
       "    <tr>\n",
       "      <th>신촌</th>\n",
       "      <td>-44.537801</td>\n",
       "    </tr>\n",
       "    <tr>\n",
       "      <th>고려대(종암)</th>\n",
       "      <td>-43.906892</td>\n",
       "    </tr>\n",
       "    <tr>\n",
       "      <th>상수</th>\n",
       "      <td>-43.784884</td>\n",
       "    </tr>\n",
       "  </tbody>\n",
       "</table>\n",
       "</div>"
      ],
      "text/plain": [
       "year            변화량(%)\n",
       "역명                    \n",
       "종합운동장       -67.539233\n",
       "명동          -64.614933\n",
       "이태원         -61.678766\n",
       "한양대         -60.508550\n",
       "동대입구        -57.835741\n",
       "이대          -57.803681\n",
       "어린이대공원(세종대) -53.232246\n",
       "학여울         -53.069603\n",
       "홍대입구        -51.414876\n",
       "여의나루        -50.497369\n",
       "안암(고대병원앞)   -49.459739\n",
       "월드컵경기장(성산)  -49.306105\n",
       "경복궁(정부서울청사) -48.450263\n",
       "동대문역사문화공원   -47.695820\n",
       "올림픽공원(한국체대) -46.566012\n",
       "녹사평(용산구청)   -45.249062\n",
       "숭실대입구(살피재)  -45.111540\n",
       "신촌          -44.537801\n",
       "고려대(종암)     -43.906892\n",
       "상수          -43.784884"
      ]
     },
     "execution_count": 13,
     "metadata": {},
     "output_type": "execute_result"
    }
   ],
   "source": [
    "df_subway['year'] = df_subway['date'].dt.year\n",
    "df_subway['month'] = df_subway['date'].dt.month\n",
    "df_subway = df_subway.query('month == 5 and 구분 == \"하차\"')[['역명','year','합 계']].groupby(['역명','year']).sum().unstack()\n",
    "df_subway.columns = df_subway.columns.droplevel([0])\n",
    "df_subway['변화량(%)'] = (df_subway[2020]-df_subway[2019])/df_subway[2019]*100\n",
    "df_subway.sort_values(by=['변화량(%)'])[['변화량(%)']][:20]"
   ]
  },
  {
   "cell_type": "code",
   "execution_count": 36,
   "metadata": {
    "scrolled": false
   },
   "outputs": [
    {
     "data": {
      "text/plain": [
       "<matplotlib.axes._subplots.AxesSubplot at 0x278e8604588>"
      ]
     },
     "execution_count": 36,
     "metadata": {},
     "output_type": "execute_result"
    },
    {
     "data": {
      "image/png": "[encoded data removed]",
      "text/plain": [
       "<Figure size 936x432 with 1 Axes>"
      ]
     },
     "metadata": {
      "needs_background": "light"
     },
     "output_type": "display_data"
    }
   ],
   "source": [
    "import matplotlib.pyplot as plt\n",
    "import seaborn as sns\n",
    "plt.figure(figsize=(13,6))\n",
    "plt.xticks(rotation=90)\n",
    "plt.rcParams.update({'font.size': 15})\n",
    "sns.barplot(x=\"역명\", y=\"변화량(%)\", data=df_subway.reset_index()[::8], color = '#1F497D')"
   ]
  },
  {
   "cell_type": "markdown",
   "metadata": {},
   "source": [
    "%%상권에 대한 얘기"
   ]
  },
  {
   "cell_type": "code",
   "execution_count": 37,
   "metadata": {},
   "outputs": [
    {
     "data": {
      "text/html": [
       "<div>\n",
       "<style scoped>\n",
       "    .dataframe tbody tr th:only-of-type {\n",
       "        vertical-align: middle;\n",
       "    }\n",
       "\n",
       "    .dataframe tbody tr th {\n",
       "        vertical-align: top;\n",
       "    }\n",
       "\n",
       "    .dataframe thead th {\n",
       "        text-align: right;\n",
       "    }\n",
       "</style>\n",
       "<table border=\"1\" class=\"dataframe\">\n",
       "  <thead>\n",
       "    <tr style=\"text-align: right;\">\n",
       "      <th></th>\n",
       "      <th>상호명</th>\n",
       "    </tr>\n",
       "    <tr>\n",
       "      <th>법정동명</th>\n",
       "      <th></th>\n",
       "    </tr>\n",
       "  </thead>\n",
       "  <tbody>\n",
       "    <tr>\n",
       "      <th>가락동</th>\n",
       "      <td>2072</td>\n",
       "    </tr>\n",
       "    <tr>\n",
       "      <th>가리봉동</th>\n",
       "      <td>663</td>\n",
       "    </tr>\n",
       "    <tr>\n",
       "      <th>가산동</th>\n",
       "      <td>3476</td>\n",
       "    </tr>\n",
       "    <tr>\n",
       "      <th>가양동</th>\n",
       "      <td>1225</td>\n",
       "    </tr>\n",
       "    <tr>\n",
       "      <th>가회동</th>\n",
       "      <td>114</td>\n",
       "    </tr>\n",
       "    <tr>\n",
       "      <th>...</th>\n",
       "      <td>...</td>\n",
       "    </tr>\n",
       "    <tr>\n",
       "      <th>후암동</th>\n",
       "      <td>346</td>\n",
       "    </tr>\n",
       "    <tr>\n",
       "      <th>훈정동</th>\n",
       "      <td>3</td>\n",
       "    </tr>\n",
       "    <tr>\n",
       "      <th>휘경동</th>\n",
       "      <td>1329</td>\n",
       "    </tr>\n",
       "    <tr>\n",
       "      <th>흑석동</th>\n",
       "      <td>652</td>\n",
       "    </tr>\n",
       "    <tr>\n",
       "      <th>흥인동</th>\n",
       "      <td>262</td>\n",
       "    </tr>\n",
       "  </tbody>\n",
       "</table>\n",
       "<p>466 rows × 1 columns</p>\n",
       "</div>"
      ],
      "text/plain": [
       "       상호명\n",
       "법정동명      \n",
       "가락동   2072\n",
       "가리봉동   663\n",
       "가산동   3476\n",
       "가양동   1225\n",
       "가회동    114\n",
       "...    ...\n",
       "후암동    346\n",
       "훈정동      3\n",
       "휘경동   1329\n",
       "흑석동    652\n",
       "흥인동    262\n",
       "\n",
       "[466 rows x 1 columns]"
      ]
     },
     "execution_count": 37,
     "metadata": {},
     "output_type": "execute_result"
    }
   ],
   "source": [
    "import re\n",
    "df_sang_1 = pd.read_csv('data/상권정보/20-1분기상가업소정보_서울_202003 - 복사본.csv', encoding='ANSI')\n",
    "df_sang_1[['법정동명','상호명']].groupby(['법정동명']).count()"
   ]
  },
  {
   "cell_type": "code",
   "execution_count": 38,
   "metadata": {},
   "outputs": [
    {
     "data": {
      "text/html": [
       "<div>\n",
       "<style scoped>\n",
       "    .dataframe tbody tr th:only-of-type {\n",
       "        vertical-align: middle;\n",
       "    }\n",
       "\n",
       "    .dataframe tbody tr th {\n",
       "        vertical-align: top;\n",
       "    }\n",
       "\n",
       "    .dataframe thead th {\n",
       "        text-align: right;\n",
       "    }\n",
       "</style>\n",
       "<table border=\"1\" class=\"dataframe\">\n",
       "  <thead>\n",
       "    <tr style=\"text-align: right;\">\n",
       "      <th></th>\n",
       "      <th>상호명</th>\n",
       "    </tr>\n",
       "    <tr>\n",
       "      <th>법정동명</th>\n",
       "      <th></th>\n",
       "    </tr>\n",
       "  </thead>\n",
       "  <tbody>\n",
       "    <tr>\n",
       "      <th>가락동</th>\n",
       "      <td>2005</td>\n",
       "    </tr>\n",
       "    <tr>\n",
       "      <th>가리봉동</th>\n",
       "      <td>635</td>\n",
       "    </tr>\n",
       "    <tr>\n",
       "      <th>가산동</th>\n",
       "      <td>3292</td>\n",
       "    </tr>\n",
       "    <tr>\n",
       "      <th>가양동</th>\n",
       "      <td>1097</td>\n",
       "    </tr>\n",
       "    <tr>\n",
       "      <th>가회동</th>\n",
       "      <td>109</td>\n",
       "    </tr>\n",
       "    <tr>\n",
       "      <th>...</th>\n",
       "      <td>...</td>\n",
       "    </tr>\n",
       "    <tr>\n",
       "      <th>후암동</th>\n",
       "      <td>327</td>\n",
       "    </tr>\n",
       "    <tr>\n",
       "      <th>훈정동</th>\n",
       "      <td>4</td>\n",
       "    </tr>\n",
       "    <tr>\n",
       "      <th>휘경동</th>\n",
       "      <td>1189</td>\n",
       "    </tr>\n",
       "    <tr>\n",
       "      <th>흑석동</th>\n",
       "      <td>626</td>\n",
       "    </tr>\n",
       "    <tr>\n",
       "      <th>흥인동</th>\n",
       "      <td>258</td>\n",
       "    </tr>\n",
       "  </tbody>\n",
       "</table>\n",
       "<p>464 rows × 1 columns</p>\n",
       "</div>"
      ],
      "text/plain": [
       "       상호명\n",
       "법정동명      \n",
       "가락동   2005\n",
       "가리봉동   635\n",
       "가산동   3292\n",
       "가양동   1097\n",
       "가회동    109\n",
       "...    ...\n",
       "후암동    327\n",
       "훈정동      4\n",
       "휘경동   1189\n",
       "흑석동    626\n",
       "흥인동    258\n",
       "\n",
       "[464 rows x 1 columns]"
      ]
     },
     "execution_count": 38,
     "metadata": {},
     "output_type": "execute_result"
    }
   ],
   "source": [
    "df_sang_2 = pd.read_csv('data/상권정보/20-2분기상가(상권)정보_서울_20200630.csv', delimiter='|',encoding='utf-8')\n",
    "df_sang_2[['법정동명','상호명']].groupby(['법정동명']).count()"
   ]
  },
  {
   "cell_type": "code",
   "execution_count": 39,
   "metadata": {},
   "outputs": [],
   "source": [
    "df_qu = pd.DataFrame(columns=['1분기','2분기'])"
   ]
  },
  {
   "cell_type": "code",
   "execution_count": 40,
   "metadata": {},
   "outputs": [],
   "source": [
    "df_qu['1분기'] = df_sang_1[['법정동명','상호명']].groupby(['법정동명']).count()['상호명']\n",
    "df_qu['2분기'] = df_sang_2[['법정동명','상호명']].groupby(['법정동명']).count()['상호명']"
   ]
  },
  {
   "cell_type": "code",
   "execution_count": 41,
   "metadata": {},
   "outputs": [],
   "source": [
    "df_qu['변화량'] = (df_qu['2분기'] - df_qu['1분기'])/df_qu['1분기']*100"
   ]
  },
  {
   "cell_type": "code",
   "execution_count": 42,
   "metadata": {},
   "outputs": [
    {
     "data": {
      "text/plain": [
       "1분기    391500.000000\n",
       "2분기    370321.000000\n",
       "변화량     -1744.580447\n",
       "dtype: float64"
      ]
     },
     "execution_count": 42,
     "metadata": {},
     "output_type": "execute_result"
    }
   ],
   "source": [
    "df_qu.sum()"
   ]
  },
  {
   "cell_type": "code",
   "execution_count": 43,
   "metadata": {},
   "outputs": [
    {
     "data": {
      "text/plain": [
       "1분기    853.130045\n",
       "2분기    809.008969\n",
       "변화량     -3.905912\n",
       "dtype: float64"
      ]
     },
     "execution_count": 43,
     "metadata": {},
     "output_type": "execute_result"
    }
   ],
   "source": [
    "#이상치제거위해 상위 하위 10개 버림\n",
    "df_qu.sort_values(by=['변화량'])[10:-10].mean()"
   ]
  },
  {
   "cell_type": "code",
   "execution_count": 44,
   "metadata": {},
   "outputs": [
    {
     "data": {
      "text/plain": [
       "Index(['가락동', '가리봉동', '가산동', '가양동', '가회동', '갈월동', '갈현동', '강일동', '개봉동', '개포동',\n",
       "       ...\n",
       "       '회현동2가', '회현동3가', '효자동', '효제동', '효창동', '후암동', '훈정동', '휘경동', '흑석동',\n",
       "       '흥인동'],\n",
       "      dtype='object', name='법정동명', length=466)"
      ]
     },
     "execution_count": 44,
     "metadata": {},
     "output_type": "execute_result"
    }
   ],
   "source": [
    "df_qu.index"
   ]
  },
  {
   "cell_type": "code",
   "execution_count": 45,
   "metadata": {},
   "outputs": [],
   "source": [
    "df_g = df_qu.query('법정동명 in [\"잠실동\", \"충무로2가\",\"이태원동\",\"행당동\",\"장충동2가\", \"대현동\", \"군자동\",\"대치동\"]')"
   ]
  },
  {
   "cell_type": "code",
   "execution_count": 46,
   "metadata": {},
   "outputs": [
    {
     "data": {
      "text/plain": [
       "<matplotlib.axes._subplots.AxesSubplot at 0x278f7774320>"
      ]
     },
     "execution_count": 46,
     "metadata": {},
     "output_type": "execute_result"
    },
    {
     "data": {
      "image/png": "[encoded data removed]",
      "text/plain": [
       "<Figure size 936x432 with 1 Axes>"
      ]
     },
     "metadata": {
      "needs_background": "light"
     },
     "output_type": "display_data"
    }
   ],
   "source": [
    "plt.figure(figsize=(13,6))\n",
    "plt.xticks(rotation=90)\n",
    "\n",
    "sns.barplot(x=\"법정동명\", y=\"변화량\", data=df_g.reset_index(),color=\"#1F497D\")"
   ]
  }
 ],
 "metadata": {
  "kernelspec": {
   "display_name": "Python 3",
   "language": "python",
   "name": "python3"
  },
  "language_info": {
   "codemirror_mode": {
    "name": "ipython",
    "version": 3
   },
   "file_extension": ".py",
   "mimetype": "text/x-python",
   "name": "python",
   "nbconvert_exporter": "python",
   "pygments_lexer": "ipython3",
   "version": "3.6.10"
  }
 },
 "nbformat": 4,
 "nbformat_minor": 4
}

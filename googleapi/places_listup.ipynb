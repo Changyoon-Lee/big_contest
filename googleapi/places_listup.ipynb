{
 "cells": [
  {
   "cell_type": "code",
   "execution_count": 1,
   "metadata": {
    "colab": {},
    "colab_type": "code",
    "executionInfo": {
     "elapsed": 996,
     "status": "ok",
     "timestamp": 1598788013941,
     "user": {
      "displayName": "김도연",
      "photoUrl": "",
      "userId": "13093336926317411579"
     },
     "user_tz": -540
    },
    "id": "vr5Yn4tlQDGu"
   },
   "outputs": [],
   "source": [
    "import pandas as pd\n",
    "import pickle\n",
    "import gzip"
   ]
  },
  {
   "cell_type": "code",
   "execution_count": 52,
   "metadata": {
    "colab": {
     "base_uri": "https://localhost:8080/",
     "height": 109,
     "resources": {
      "http://localhost:8080/nbextensions/google.colab/files.js": {
       "data": "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",
       "headers": [
        [
         "content-type",
         "application/javascript"
        ]
       ],
       "ok": true,
       "status": 200,
       "status_text": ""
      }
     }
    },
    "colab_type": "code",
    "executionInfo": {
     "elapsed": 166732,
     "status": "ok",
     "timestamp": 1598788181222,
     "user": {
      "displayName": "김도연",
      "photoUrl": "",
      "userId": "13093336926317411579"
     },
     "user_tz": -540
    },
    "id": "a1dD6H79Pcmq",
    "outputId": "d4be15ee-a4dc-45a5-a70a-37a3ec7f3948"
   },
   "outputs": [
    {
     "data": {
      "text/html": [
       "\n",
       "     <input type=\"file\" id=\"files-620c8734-e8a2-4cee-8ef5-3508a349bf2c\" name=\"files[]\" multiple disabled\n",
       "        style=\"border:none\" />\n",
       "     <output id=\"result-620c8734-e8a2-4cee-8ef5-3508a349bf2c\">\n",
       "      Upload widget is only available when the cell has been executed in the\n",
       "      current browser session. Please rerun this cell to enable.\n",
       "      </output>\n",
       "      <script src=\"/nbextensions/google.colab/files.js\"></script> "
      ],
      "text/plain": [
       "<IPython.core.display.HTML object>"
      ]
     },
     "metadata": {
      "tags": []
     },
     "output_type": "display_data"
    },
    {
     "name": "stdout",
     "output_type": "stream",
     "text": [
      "Saving seoul_populartime.pickle to seoul_populartime (1).pickle\n",
      "Saving subway_xy.pickle to subway_xy (1).pickle\n"
     ]
    }
   ],
   "source": [
    "from google.colab import files\n",
    "uploaded = files.upload()"
   ]
  },
  {
   "cell_type": "code",
   "execution_count": 2,
   "metadata": {
    "colab": {},
    "colab_type": "code",
    "executionInfo": {
     "elapsed": 2675,
     "status": "ok",
     "timestamp": 1598788225145,
     "user": {
      "displayName": "김도연",
      "photoUrl": "",
      "userId": "13093336926317411579"
     },
     "user_tz": -540
    },
    "id": "8sWYgiiBFfsh"
   },
   "outputs": [],
   "source": [
    "#장소랑 지하철 좌표 불러오기\n",
    "with gzip.open('seoul_populartime.pickle','rb') as f:\n",
    "    data = pickle.load(f)\n",
    "with gzip.open('subway_xy.pickle','rb') as f:\n",
    "    subway = pickle.load(f)"
   ]
  },
  {
   "cell_type": "code",
   "execution_count": 9,
   "metadata": {
    "colab": {},
    "colab_type": "code",
    "executionInfo": {
     "elapsed": 1188,
     "status": "ok",
     "timestamp": 1598798618077,
     "user": {
      "displayName": "김도연",
      "photoUrl": "",
      "userId": "13093336926317411579"
     },
     "user_tz": -540
    },
    "id": "yjeXZ3AxOd1h",
    "scrolled": true
   },
   "outputs": [
    {
     "name": "stdout",
     "output_type": "stream",
     "text": [
      "['amusement_park', 'aquarium', 'art_gallery', 'bakery', 'bank', 'bar', 'book_store', 'bowling_alley', 'cafe', 'clothing_store', 'department_store', 'doctor', 'drugstore', 'hospital', 'library', 'local_government_office', 'meal_takeaway', 'movie_theater', 'museum', 'night_club', 'park', 'pharmacy', 'post_office', 'restaurant', 'shopping_mall', 'spa', 'store', 'tourist_attraction', 'zoo']\n"
     ]
    }
   ],
   "source": [
    "# 장소 하나의 데이터프레임으로 만들기\n",
    "places = list(data.keys())\n",
    "print(places)\n",
    "df = pd.DataFrame()\n",
    "for i in places:\n",
    "    df1 = pd.DataFrame(data[i])\n",
    "    df1['places'] = i\n",
    "    df = pd.concat([df,df1])\n",
    "df = df.reset_index(drop=True)"
   ]
  },
  {
   "cell_type": "markdown",
   "metadata": {},
   "source": [
    "관광/문화/놀거리 : 'amusement_park', 'aquarium', 'art_gallery', 'book_store', 'bowling_alley', 'library', 'movie_theater', 'museum',  \n",
    "'night_club', 'park','spa','tourist_attraction''zoo'  \n",
    "의료 :'doctor','drugstore', 'hospital','pharmacy'  \n",
    "맛집 : 'bar','meal_takeaway','restaurant'  \n",
    "카페 : 'bakery' 'cafe'  \n",
    "쇼핑/마트 : 'clo,thing_store''department_store','shopping_mall','store'  \n",
    "은행/공공기관 : 'bank', 'local_government_office','post_office',  \n",
    "  "
   ]
  },
  {
   "cell_type": "code",
   "execution_count": 10,
   "metadata": {
    "colab": {
     "base_uri": "https://localhost:8080/",
     "height": 34
    },
    "colab_type": "code",
    "executionInfo": {
     "elapsed": 940,
     "status": "ok",
     "timestamp": 1598798623070,
     "user": {
      "displayName": "김도연",
      "photoUrl": "",
      "userId": "13093336926317411579"
     },
     "user_tz": -540
    },
    "id": "wHrj9nfKvXeu",
    "outputId": "0b8e0370-f791-4807-bac9-2e83ce237d9f"
   },
   "outputs": [
    {
     "name": "stdout",
     "output_type": "stream",
     "text": [
      "21531 12\n"
     ]
    }
   ],
   "source": [
    "print(len(df),len(df.columns))"
   ]
  },
  {
   "cell_type": "code",
   "execution_count": 11,
   "metadata": {},
   "outputs": [],
   "source": [
    "place_dic = {'amusement_park' : '관광/문화/놀거리' , 'aquarium' : '관광/문화/놀거리' ,\n",
    "             'art_gallery' : '관광/문화/놀거리' , 'book_store' : '관광/문화/놀거리',\n",
    "             'bowling_alley' : '관광/문화/놀거리', 'library' : '관광/문화/놀거리',\n",
    "             'movie_theater' : '관광/문화/놀거리', 'museum' : '관광/문화/놀거리',\n",
    "             'doctor' : '의료','drugstore' : '의료',\n",
    "             'hospital' : '의료','pharmacy' : '의료',\n",
    "             'bar' : '맛집','meal_takeaway' : '맛집','restaurant' : '맛집',\n",
    "             'bakery' : '카페/빵집', 'cafe' : '카페/빵집',\n",
    "             'clothing_store' : '쇼핑/마트', 'department_store' : '쇼핑/마트',\n",
    "             'shopping_mall' : '쇼핑/마트','store' : '쇼핑/마트',\n",
    "             'bank' : '은행/공공기관', 'local_government_office' : '은행/공공기관','post_office' : '은행/공공기관',\n",
    "            }"
   ]
  },
  {
   "cell_type": "code",
   "execution_count": 12,
   "metadata": {},
   "outputs": [
    {
     "data": {
      "text/html": [
       "<div>\n",
       "<style scoped>\n",
       "    .dataframe tbody tr th:only-of-type {\n",
       "        vertical-align: middle;\n",
       "    }\n",
       "\n",
       "    .dataframe tbody tr th {\n",
       "        vertical-align: top;\n",
       "    }\n",
       "\n",
       "    .dataframe thead th {\n",
       "        text-align: right;\n",
       "    }\n",
       "</style>\n",
       "<table border=\"1\" class=\"dataframe\">\n",
       "  <thead>\n",
       "    <tr style=\"text-align: right;\">\n",
       "      <th></th>\n",
       "      <th>id</th>\n",
       "      <th>name</th>\n",
       "      <th>address</th>\n",
       "      <th>types</th>\n",
       "      <th>coordinates</th>\n",
       "      <th>rating</th>\n",
       "      <th>rating_n</th>\n",
       "      <th>current_popularity</th>\n",
       "      <th>populartimes</th>\n",
       "      <th>time_spent</th>\n",
       "      <th>places</th>\n",
       "      <th>time_wait</th>\n",
       "    </tr>\n",
       "  </thead>\n",
       "  <tbody>\n",
       "    <tr>\n",
       "      <th>0</th>\n",
       "      <td>ChIJjz3BWhedfDURKGWHZQj1dIM</td>\n",
       "      <td>롯데월드</td>\n",
       "      <td>송파구 잠실동</td>\n",
       "      <td>[amusement_park, point_of_interest, establishm...</td>\n",
       "      <td>{'lat': 37.5169271, 'lng': 126.8375871}</td>\n",
       "      <td>4.2</td>\n",
       "      <td>33786.0</td>\n",
       "      <td>26.0</td>\n",
       "      <td>[{'name': 'Monday', 'data': [0, 0, 0, 0, 0, 0,...</td>\n",
       "      <td>NaN</td>\n",
       "      <td>amusement_park</td>\n",
       "      <td>NaN</td>\n",
       "    </tr>\n",
       "    <tr>\n",
       "      <th>1</th>\n",
       "      <td>ChIJMfwYnPCefDUR-ZwyNc2pZZc</td>\n",
       "      <td>Sealala Water Park</td>\n",
       "      <td>164 Mullae-ro, Yeongdeungpo-gu</td>\n",
       "      <td>[tourist_attraction, amusement_park, point_of_...</td>\n",
       "      <td>{'lat': 37.5181236, 'lng': 126.8999252}</td>\n",
       "      <td>3.9</td>\n",
       "      <td>1060.0</td>\n",
       "      <td>60.0</td>\n",
       "      <td>[{'name': 'Monday', 'data': [0, 0, 0, 0, 0, 0,...</td>\n",
       "      <td>NaN</td>\n",
       "      <td>amusement_park</td>\n",
       "      <td>NaN</td>\n",
       "    </tr>\n",
       "    <tr>\n",
       "      <th>2</th>\n",
       "      <td>ChIJXTLnGBaZfDURfhee0sxO_pc</td>\n",
       "      <td>Football Faentasium</td>\n",
       "      <td>240 Woldeukeom-ro, Mapo-gu</td>\n",
       "      <td>[museum, amusement_park, point_of_interest, es...</td>\n",
       "      <td>{'lat': 37.5683621, 'lng': 126.8964823}</td>\n",
       "      <td>4.1</td>\n",
       "      <td>166.0</td>\n",
       "      <td>NaN</td>\n",
       "      <td>[{'name': 'Monday', 'data': [0, 0, 0, 0, 0, 0,...</td>\n",
       "      <td>[120, 120]</td>\n",
       "      <td>amusement_park</td>\n",
       "      <td>NaN</td>\n",
       "    </tr>\n",
       "    <tr>\n",
       "      <th>3</th>\n",
       "      <td>ChIJJ35mstqYfDURlOC0ff-sdbY</td>\n",
       "      <td>VR SQUARE 홍대점</td>\n",
       "      <td>68 Eoulmadang-ro, Mapo-gu</td>\n",
       "      <td>[amusement_park, point_of_interest, establishm...</td>\n",
       "      <td>{'lat': 37.55106900000001, 'lng': 126.9214724}</td>\n",
       "      <td>4.1</td>\n",
       "      <td>112.0</td>\n",
       "      <td>NaN</td>\n",
       "      <td>[{'name': 'Monday', 'data': [0, 0, 0, 0, 0, 0,...</td>\n",
       "      <td>[210, 210]</td>\n",
       "      <td>amusement_park</td>\n",
       "      <td>NaN</td>\n",
       "    </tr>\n",
       "    <tr>\n",
       "      <th>4</th>\n",
       "      <td>ChIJ54bbUMWYfDURcUkusvg7pE8</td>\n",
       "      <td>Seoul Escape Room (Hongdae2)</td>\n",
       "      <td>3,4,5층, 410-9 Seogyo-dong, Mapo-gu</td>\n",
       "      <td>[tourist_attraction, amusement_park, point_of_...</td>\n",
       "      <td>{'lat': 37.550061, 'lng': 126.9223922}</td>\n",
       "      <td>4.8</td>\n",
       "      <td>483.0</td>\n",
       "      <td>NaN</td>\n",
       "      <td>[{'name': 'Monday', 'data': [0, 0, 0, 0, 0, 0,...</td>\n",
       "      <td>[90, 90]</td>\n",
       "      <td>amusement_park</td>\n",
       "      <td>NaN</td>\n",
       "    </tr>\n",
       "  </tbody>\n",
       "</table>\n",
       "</div>"
      ],
      "text/plain": [
       "                            id                          name  \\\n",
       "0  ChIJjz3BWhedfDURKGWHZQj1dIM                          롯데월드   \n",
       "1  ChIJMfwYnPCefDUR-ZwyNc2pZZc            Sealala Water Park   \n",
       "2  ChIJXTLnGBaZfDURfhee0sxO_pc           Football Faentasium   \n",
       "3  ChIJJ35mstqYfDURlOC0ff-sdbY                 VR SQUARE 홍대점   \n",
       "4  ChIJ54bbUMWYfDURcUkusvg7pE8  Seoul Escape Room (Hongdae2)   \n",
       "\n",
       "                              address  \\\n",
       "0                             송파구 잠실동   \n",
       "1      164 Mullae-ro, Yeongdeungpo-gu   \n",
       "2          240 Woldeukeom-ro, Mapo-gu   \n",
       "3           68 Eoulmadang-ro, Mapo-gu   \n",
       "4  3,4,5층, 410-9 Seogyo-dong, Mapo-gu   \n",
       "\n",
       "                                               types  \\\n",
       "0  [amusement_park, point_of_interest, establishm...   \n",
       "1  [tourist_attraction, amusement_park, point_of_...   \n",
       "2  [museum, amusement_park, point_of_interest, es...   \n",
       "3  [amusement_park, point_of_interest, establishm...   \n",
       "4  [tourist_attraction, amusement_park, point_of_...   \n",
       "\n",
       "                                      coordinates  rating  rating_n  \\\n",
       "0         {'lat': 37.5169271, 'lng': 126.8375871}     4.2   33786.0   \n",
       "1         {'lat': 37.5181236, 'lng': 126.8999252}     3.9    1060.0   \n",
       "2         {'lat': 37.5683621, 'lng': 126.8964823}     4.1     166.0   \n",
       "3  {'lat': 37.55106900000001, 'lng': 126.9214724}     4.1     112.0   \n",
       "4          {'lat': 37.550061, 'lng': 126.9223922}     4.8     483.0   \n",
       "\n",
       "   current_popularity                                       populartimes  \\\n",
       "0                26.0  [{'name': 'Monday', 'data': [0, 0, 0, 0, 0, 0,...   \n",
       "1                60.0  [{'name': 'Monday', 'data': [0, 0, 0, 0, 0, 0,...   \n",
       "2                 NaN  [{'name': 'Monday', 'data': [0, 0, 0, 0, 0, 0,...   \n",
       "3                 NaN  [{'name': 'Monday', 'data': [0, 0, 0, 0, 0, 0,...   \n",
       "4                 NaN  [{'name': 'Monday', 'data': [0, 0, 0, 0, 0, 0,...   \n",
       "\n",
       "   time_spent          places time_wait  \n",
       "0         NaN  amusement_park       NaN  \n",
       "1         NaN  amusement_park       NaN  \n",
       "2  [120, 120]  amusement_park       NaN  \n",
       "3  [210, 210]  amusement_park       NaN  \n",
       "4    [90, 90]  amusement_park       NaN  "
      ]
     },
     "execution_count": 12,
     "metadata": {},
     "output_type": "execute_result"
    }
   ],
   "source": [
    "df.head()"
   ]
  },
  {
   "cell_type": "code",
   "execution_count": 14,
   "metadata": {
    "colab": {},
    "colab_type": "code",
    "executionInfo": {
     "elapsed": 1608,
     "status": "ok",
     "timestamp": 1598798626937,
     "user": {
      "displayName": "김도연",
      "photoUrl": "",
      "userId": "13093336926317411579"
     },
     "user_tz": -540
    },
    "id": "U-AWRMoXvblB"
   },
   "outputs": [],
   "source": [
    "# X, Y 좌표로 데이터 프레임 빼기\n",
    "def preprocessing_data(df):\n",
    "    df['lat'] = [df['coordinates'][i]['lat'] for i in range(len(df))]\n",
    "    df['lng'] = [df['coordinates'][i]['lng'] for i in range(len(df))]\n",
    "    df['category'] = df['places'].map(place_dic)\n",
    "    return df\n",
    "df = preprocessing_data(df)"
   ]
  },
  {
   "cell_type": "code",
   "execution_count": 80,
   "metadata": {},
   "outputs": [],
   "source": [
    "class DF:\n",
    "    def __init__(self, df):\n",
    "        self.df = df\n",
    "        \n",
    "        \n",
    "    def listup(self, station, category = 'all', k=0.01):\n",
    "        input_coordinates = subway[station]\n",
    "        df['lat_dis'] = abs(df['lat'] - input_coordinates[0])\n",
    "        df['lng_dis'] = abs(df['lng'] - input_coordinates[1])\n",
    "        self.df_sta_cat = df.query(\"lat_dis < {} and lng_dis < {}\".format(k,k))\n",
    "        \n",
    "        if category == 'all':\n",
    "            return self.df_sta_cat\n",
    "        else:\n",
    "            self.df_sta_cat = self.df_sta_cat[self.df_sta_cat['category']== category]\n",
    "        return self.df_sta_cat\n",
    "\n",
    "        \n",
    "    def timeline(self, time = (0,24), week='Monday'):#time=(시작시간,끝시간)\n",
    "        time_dic={}\n",
    "        temp = []\n",
    "        \n",
    "        for i in self.df_sta_cat['populartimes']:\n",
    "            for j in i:\n",
    "                time_dic[j['name']] = j['data']\n",
    "            temp.append(pd.DataFrame(time_dic)[week][time[0]:time[1]].values)\n",
    "        self.df_sta_cat['인구수'] = temp\n",
    "        return self.df_sta_cat[['name','address','인구수']]"
   ]
  },
  {
   "cell_type": "code",
   "execution_count": 81,
   "metadata": {},
   "outputs": [],
   "source": [
    "dd = DF(df)"
   ]
  },
  {
   "cell_type": "code",
   "execution_count": 82,
   "metadata": {},
   "outputs": [
    {
     "data": {
      "text/html": [
       "<div>\n",
       "<style scoped>\n",
       "    .dataframe tbody tr th:only-of-type {\n",
       "        vertical-align: middle;\n",
       "    }\n",
       "\n",
       "    .dataframe tbody tr th {\n",
       "        vertical-align: top;\n",
       "    }\n",
       "\n",
       "    .dataframe thead th {\n",
       "        text-align: right;\n",
       "    }\n",
       "</style>\n",
       "<table border=\"1\" class=\"dataframe\">\n",
       "  <thead>\n",
       "    <tr style=\"text-align: right;\">\n",
       "      <th></th>\n",
       "      <th>name</th>\n",
       "      <th>address</th>\n",
       "      <th>인구수</th>\n",
       "    </tr>\n",
       "  </thead>\n",
       "  <tbody>\n",
       "    <tr>\n",
       "      <th>1658</th>\n",
       "      <td>블루문 믹스앤몰트</td>\n",
       "      <td>1640-13 Seocho 1(il)-dong, Seocho-gu</td>\n",
       "      <td>[0, 3]</td>\n",
       "    </tr>\n",
       "    <tr>\n",
       "      <th>1662</th>\n",
       "      <td>BAR 11 CLUB (바11클럽,바일레븐)</td>\n",
       "      <td>1330-15 Seocho-dong, Seocho-gu</td>\n",
       "      <td>[0, 0]</td>\n",
       "    </tr>\n",
       "    <tr>\n",
       "      <th>1663</th>\n",
       "      <td>Tumbler Beer</td>\n",
       "      <td>38 Seocho-daero 78-gil, Seocho-gu</td>\n",
       "      <td>[0, 0]</td>\n",
       "    </tr>\n",
       "    <tr>\n",
       "      <th>1664</th>\n",
       "      <td>이태원천상 강남역점</td>\n",
       "      <td>서초 대로 74 길 23, Gangnam-gu</td>\n",
       "      <td>[1, 7]</td>\n",
       "    </tr>\n",
       "    <tr>\n",
       "      <th>1666</th>\n",
       "      <td>Just a Glass of Wine</td>\n",
       "      <td>837-24 Yeoksam-dong, Gangnam-gu</td>\n",
       "      <td>[3, 7]</td>\n",
       "    </tr>\n",
       "    <tr>\n",
       "      <th>...</th>\n",
       "      <td>...</td>\n",
       "      <td>...</td>\n",
       "      <td>...</td>\n",
       "    </tr>\n",
       "    <tr>\n",
       "      <th>14307</th>\n",
       "      <td>원가네감자탕</td>\n",
       "      <td>60 Yeoksam-ro 17-gil, Gangnam-gu</td>\n",
       "      <td>[2, 6]</td>\n",
       "    </tr>\n",
       "    <tr>\n",
       "      <th>14308</th>\n",
       "      <td>돈우애락</td>\n",
       "      <td>역삼동 738 강남구 서울특별시 KR</td>\n",
       "      <td>[3, 14]</td>\n",
       "    </tr>\n",
       "    <tr>\n",
       "      <th>14309</th>\n",
       "      <td>푸른바다세꼬시</td>\n",
       "      <td>3 Nonhyeon-ro 81-gil, Gangnam-gu</td>\n",
       "      <td>[9, 27]</td>\n",
       "    </tr>\n",
       "    <tr>\n",
       "      <th>14312</th>\n",
       "      <td>Chicken &amp; Beer</td>\n",
       "      <td>509 Nonhyeon-ro, Gangnam-gu</td>\n",
       "      <td>[2, 9]</td>\n",
       "    </tr>\n",
       "    <tr>\n",
       "      <th>14314</th>\n",
       "      <td>Tong-Yeong</td>\n",
       "      <td>511 Nonhyeon-ro, Gangnam-gu</td>\n",
       "      <td>[7, 16]</td>\n",
       "    </tr>\n",
       "  </tbody>\n",
       "</table>\n",
       "<p>429 rows × 3 columns</p>\n",
       "</div>"
      ],
      "text/plain": [
       "                           name                               address      인구수\n",
       "1658                  블루문 믹스앤몰트  1640-13 Seocho 1(il)-dong, Seocho-gu   [0, 3]\n",
       "1662   BAR 11 CLUB (바11클럽,바일레븐)        1330-15 Seocho-dong, Seocho-gu   [0, 0]\n",
       "1663               Tumbler Beer     38 Seocho-daero 78-gil, Seocho-gu   [0, 0]\n",
       "1664                 이태원천상 강남역점             서초 대로 74 길 23, Gangnam-gu   [1, 7]\n",
       "1666       Just a Glass of Wine       837-24 Yeoksam-dong, Gangnam-gu   [3, 7]\n",
       "...                         ...                                   ...      ...\n",
       "14307                    원가네감자탕      60 Yeoksam-ro 17-gil, Gangnam-gu   [2, 6]\n",
       "14308                      돈우애락                  역삼동 738 강남구 서울특별시 KR  [3, 14]\n",
       "14309                   푸른바다세꼬시      3 Nonhyeon-ro 81-gil, Gangnam-gu  [9, 27]\n",
       "14312            Chicken & Beer           509 Nonhyeon-ro, Gangnam-gu   [2, 9]\n",
       "14314                Tong-Yeong           511 Nonhyeon-ro, Gangnam-gu  [7, 16]\n",
       "\n",
       "[429 rows x 3 columns]"
      ]
     },
     "execution_count": 82,
     "metadata": {},
     "output_type": "execute_result"
    }
   ],
   "source": [
    "dd.listup('강남', '맛집') ##listup으로 역이랑 카테고리 정함\n",
    "dd.timeline(time=(16,18), week='Monday')  ##특정시간대 인구수 표시"
   ]
  }
 ],
 "metadata": {
  "colab": {
   "authorship_tag": "ABX9TyNR3KcsWIdTuw3y+5dMAJbL",
   "collapsed_sections": [],
   "name": "mapping_list.ipynb",
   "provenance": []
  },
  "kernelspec": {
   "display_name": "Python 3",
   "language": "python",
   "name": "python3"
  },
  "language_info": {
   "codemirror_mode": {
    "name": "ipython",
    "version": 3
   },
   "file_extension": ".py",
   "mimetype": "text/x-python",
   "name": "python",
   "nbconvert_exporter": "python",
   "pygments_lexer": "ipython3",
   "version": "3.6.10"
  }
 },
 "nbformat": 4,
 "nbformat_minor": 1
}

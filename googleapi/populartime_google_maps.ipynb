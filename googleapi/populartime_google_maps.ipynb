{
 "cells": [
  {
   "cell_type": "code",
   "execution_count": 64,
   "metadata": {},
   "outputs": [],
   "source": [
    "import populartimes\n",
    "from tqdm.notebook import tqdm\n",
    "import pickle\n",
    "import gzip\n",
    "import pandas as pd"
   ]
  },
  {
   "cell_type": "markdown",
   "metadata": {},
   "source": [
    "## PLACE_ALL"
   ]
  },
  {
   "cell_type": "code",
   "execution_count": 65,
   "metadata": {},
   "outputs": [],
   "source": [
    "# 장소 카테고리에서 cafe 제거하기\n",
    "category = pd.read_csv('장소카테고리.txt',header=None)"
   ]
  },
  {
   "cell_type": "code",
   "execution_count": 1,
   "metadata": {},
   "outputs": [],
   "source": [
    "api_key = #api key 넣기\n",
    "min = (37.427661, 126.766876)\n",
    "max = (37.698634, 127.181338)\n",
    "size = 0.035\n",
    "max_iter = 1000\n",
    "lat,lon = min[0],min[1]\n",
    "data = {}\n",
    "for i in tqdm(category[0].values):\n",
    "    data[i]=[]\n",
    "    for _ in tqdm(range(max_iter)):\n",
    "        data[i].extend(populartimes.get(api_key, [i] ,(lat, lon), (lat+size, lon+size),all_places = False))\n",
    "        lat += size\n",
    "        print(len(data[i]))\n",
    "        if lat > max[0]:\n",
    "            lon += size\n",
    "            lat = min[0]        \n",
    "        if lon > max[1]:\n",
    "            break"
   ]
  },
  {
   "cell_type": "code",
   "execution_count": 29,
   "metadata": {},
   "outputs": [],
   "source": [
    "with gzip.open('seoul_poptime.pickle', 'wb') as f:\n",
    "    pickle.dump(data, f)"
   ]
  },
  {
   "cell_type": "markdown",
   "metadata": {},
   "source": [
    "## CAFE"
   ]
  },
  {
   "cell_type": "code",
   "execution_count": 66,
   "metadata": {},
   "outputs": [
    {
     "data": {
      "application/vnd.jupyter.widget-view+json": {
       "model_id": "6bffa3fecc464a38871287dfe3dda18c",
       "version_major": 2,
       "version_minor": 0
      },
      "text/plain": [
       "HBox(children=(FloatProgress(value=0.0, max=1000.0), HTML(value='')))"
      ]
     },
     "metadata": {},
     "output_type": "display_data"
    },
    {
     "name": "stdout",
     "output_type": "stream",
     "text": [
      "2\n",
      "31\n",
      "45\n",
      "45\n",
      "46\n",
      "47\n",
      "87\n",
      "97\n",
      "99\n",
      "104\n",
      "113\n",
      "131\n",
      "147\n",
      "159\n",
      "167\n",
      "173\n",
      "175\n",
      "190\n",
      "212\n",
      "243\n",
      "243\n",
      "244\n",
      "252\n",
      "253\n",
      "274\n",
      "295\n",
      "346\n",
      "393\n",
      "412\n",
      "416\n",
      "431\n",
      "431\n",
      "432\n",
      "473\n",
      "547\n"
     ]
    },
    {
     "name": "stderr",
     "output_type": "stream",
     "text": [
      "WARNING:root:Result limit in search radius reached, some data may get lost\n",
      "WARNING:root:Result limit in search radius reached, some data may get lost\n",
      "WARNING:root:Result limit in search radius reached, some data may get lost\n",
      "WARNING:root:Result limit in search radius reached, some data may get lost\n",
      "WARNING:root:Result limit in search radius reached, some data may get lost\n",
      "WARNING:root:Result limit in search radius reached, some data may get lost\n",
      "WARNING:root:Result limit in search radius reached, some data may get lost\n",
      "WARNING:root:Result limit in search radius reached, some data may get lost\n",
      "WARNING:root:Result limit in search radius reached, some data may get lost\n",
      "WARNING:root:Result limit in search radius reached, some data may get lost\n",
      "WARNING:root:Result limit in search radius reached, some data may get lost\n",
      "WARNING:root:Result limit in search radius reached, some data may get lost\n",
      "WARNING:root:Result limit in search radius reached, some data may get lost\n"
     ]
    },
    {
     "name": "stdout",
     "output_type": "stream",
     "text": [
      "904\n",
      "939\n",
      "959\n",
      "964\n",
      "964\n",
      "965\n",
      "1018\n",
      "1067\n"
     ]
    },
    {
     "name": "stderr",
     "output_type": "stream",
     "text": [
      "WARNING:root:Result limit in search radius reached, some data may get lost\n"
     ]
    },
    {
     "name": "stdout",
     "output_type": "stream",
     "text": [
      "1177\n",
      "1256\n",
      "1260\n",
      "1263\n",
      "1263\n",
      "1270\n",
      "1335\n",
      "1368\n"
     ]
    },
    {
     "name": "stderr",
     "output_type": "stream",
     "text": [
      "WARNING:root:Result limit in search radius reached, some data may get lost\n"
     ]
    },
    {
     "name": "stdout",
     "output_type": "stream",
     "text": [
      "1581\n"
     ]
    },
    {
     "name": "stderr",
     "output_type": "stream",
     "text": [
      "WARNING:root:Result limit in search radius reached, some data may get lost\n",
      "WARNING:root:Result limit in search radius reached, some data may get lost\n",
      "WARNING:root:Result limit in search radius reached, some data may get lost\n"
     ]
    },
    {
     "name": "stdout",
     "output_type": "stream",
     "text": [
      "1804\n",
      "1806\n",
      "1811\n",
      "1811\n",
      "1812\n",
      "1906\n"
     ]
    },
    {
     "name": "stderr",
     "output_type": "stream",
     "text": [
      "WARNING:root:Result limit in search radius reached, some data may get lost\n",
      "WARNING:root:Result limit in search radius reached, some data may get lost\n"
     ]
    },
    {
     "name": "stdout",
     "output_type": "stream",
     "text": [
      "2189\n",
      "2254\n",
      "2299\n",
      "2321\n",
      "2344\n",
      "2348\n",
      "2351\n",
      "2371\n",
      "2451\n"
     ]
    },
    {
     "name": "stderr",
     "output_type": "stream",
     "text": [
      "WARNING:root:Result limit in search radius reached, some data may get lost\n"
     ]
    },
    {
     "name": "stdout",
     "output_type": "stream",
     "text": [
      "2540\n",
      "2586\n",
      "2613\n",
      "2638\n",
      "2645\n",
      "2649\n",
      "2662\n",
      "2742\n",
      "2771\n",
      "2782\n",
      "2794\n",
      "2802\n",
      "2802\n",
      "2814\n",
      "2851\n",
      "2892\n",
      "2919\n",
      "2934\n",
      "2939\n",
      "2950\n",
      "2952\n",
      "2956\n",
      "2959\n",
      "2959\n",
      "2965\n",
      "2973\n",
      "2982\n",
      "2984\n",
      "2984\n",
      "\n"
     ]
    }
   ],
   "source": [
    "api_key = #api key 넣기\n",
    "min = (37.427661, 126.766876)\n",
    "max = (37.698634, 127.181338)\n",
    "size = 0.035\n",
    "max_iter = 1000\n",
    "lat,lon = min[0],min[1]\n",
    "data = {}\n",
    "i = 'cafe'\n",
    "data[i]=[]\n",
    "for _ in tqdm(range(max_iter)):\n",
    "    data[i].extend(populartimes.get(api_key, [i] ,(lat, lon), (lat+size, lon+size),all_places = False))\n",
    "    lat += size\n",
    "    print(len(data[i]))\n",
    "    if lat > max[0]:\n",
    "        lon += size\n",
    "        lat = min[0]        \n",
    "    if lon > max[1]:\n",
    "        break"
   ]
  },
  {
   "cell_type": "code",
   "execution_count": 68,
   "metadata": {},
   "outputs": [],
   "source": [
    "with gzip.open('cafe_seoul.pickle', 'wb') as f:\n",
    "    pickle.dump(data, f)"
   ]
  },
  {
   "cell_type": "code",
   "execution_count": 56,
   "metadata": {},
   "outputs": [],
   "source": [
    "with gzip.open('cafe_seoul.pickle','rb') as f:\n",
    "    data = pickle.load(f)"
   ]
  },
  {
   "cell_type": "code",
   "execution_count": null,
   "metadata": {},
   "outputs": [],
   "source": []
  }
 ],
 "metadata": {
  "kernelspec": {
   "display_name": "Python 3",
   "language": "python",
   "name": "python3"
  },
  "language_info": {
   "codemirror_mode": {
    "name": "ipython",
    "version": 3
   },
   "file_extension": ".py",
   "mimetype": "text/x-python",
   "name": "python",
   "nbconvert_exporter": "python",
   "pygments_lexer": "ipython3",
   "version": "3.6.10"
  }
 },
 "nbformat": 4,
 "nbformat_minor": 4
}

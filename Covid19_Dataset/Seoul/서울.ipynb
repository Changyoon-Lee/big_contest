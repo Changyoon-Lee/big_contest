{
 "cells": [
  {
   "cell_type": "code",
   "execution_count": 2,
   "metadata": {},
   "outputs": [],
   "source": [
    "import pandas as pd"
   ]
  },
  {
   "cell_type": "code",
   "execution_count": 3,
   "metadata": {},
   "outputs": [
    {
     "data": {
      "text/plain": [
       "array(['home', 'health', 'establishment', 'car', 'market', 'pharmacy',\n",
       "       'food', 'company', 'church', 'community center',\n",
       "       'convenience_store', 'street_address', 'political', 'subway',\n",
       "       'walk', 'locality', 'doctor', 'bus', 'academy', 'real estate',\n",
       "       'airport', 'transit_station', 'taxi', 'book_store', 'coffee',\n",
       "       'subway_station', 'train_station', 'bar', 'gym', 'natural_feature',\n",
       "       'police', 'primary_school', 'pc cafe', 'laboratory',\n",
       "       'department store', 'beauty_salon', 'bus_station', 'cafe',\n",
       "       'shopping_mall', 'bank', 'karaoke', 'bakery', 'moving_company',\n",
       "       'home_goods_store', 'gas station', 'tennis', 'catholic church',\n",
       "       'billiards', 'car_repair', 'tourist_attraction', 'car wash',\n",
       "       'park', 'forces training', 'school', 'theater', 'mountain'],\n",
       "      dtype=object)"
      ]
     },
     "execution_count": 3,
     "metadata": {},
     "output_type": "execute_result"
    }
   ],
   "source": [
    "pd.read_csv('./seoul_routes.csv', encoding='cp949')['type'].unique()"
   ]
  },
  {
   "cell_type": "code",
   "execution_count": 4,
   "metadata": {},
   "outputs": [
    {
     "data": {
      "text/plain": [
       "array(['Overseas travel', 'contact with patient',\n",
       "       'Seongdong-gu residental complex management office',\n",
       "       'contact with patient (suspect)', 'living in Daegu',\n",
       "       \"Eunpyeong-gu St. Mary's Hospital\",\n",
       "       'Shincheonji Church of Jesus (suspect)',\n",
       "       'contact with patient from different provice', 'Daegu visit',\n",
       "       'Under investigation', 'contact with patient from Daegu',\n",
       "       'Myungsung church', 'Shincheonji Daegu Church of Jesus',\n",
       "       'Seoul regenerative hospital', 'National Police Hospital',\n",
       "       'shopping mall', 'a real estate agency',\n",
       "       'construction site in Yeouido', 'Dongdaemun-gu church & arcade',\n",
       "       'Dongdaemun-gu caregiver', 'Guro-gu call center',\n",
       "       'contact with call center employee'], dtype=object)"
      ]
     },
     "execution_count": 4,
     "metadata": {},
     "output_type": "execute_result"
    }
   ],
   "source": [
    "pd.read_csv('./seoul_patients.csv', encoding='cp949')['infection_reason'].unique()"
   ]
  },
  {
   "cell_type": "code",
   "execution_count": null,
   "metadata": {},
   "outputs": [],
   "source": []
  },
  {
   "cell_type": "code",
   "execution_count": null,
   "metadata": {},
   "outputs": [],
   "source": []
  }
 ],
 "metadata": {
  "kernelspec": {
   "display_name": "Python 3",
   "language": "python",
   "name": "python3"
  },
  "language_info": {
   "codemirror_mode": {
    "name": "ipython",
    "version": 3
   },
   "file_extension": ".py",
   "mimetype": "text/x-python",
   "name": "python",
   "nbconvert_exporter": "python",
   "pygments_lexer": "ipython3",
   "version": "3.8.3"
  }
 },
 "nbformat": 4,
 "nbformat_minor": 4
}

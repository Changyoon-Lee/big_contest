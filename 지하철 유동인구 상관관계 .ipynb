{
 "cells": [
  {
   "cell_type": "markdown",
   "metadata": {},
   "source": [
    "# skt유동인구 데이터와 자하철 승하차 데이터의 상관관계 분석"
   ]
  },
  {
   "cell_type": "code",
   "execution_count": 1,
   "metadata": {},
   "outputs": [],
   "source": [
    "import pandas as pd\n",
    "import matplotlib\n",
    "import matplotlib.pyplot as plt\n",
    "import matplotlib.font_manager as fm\n",
    "import seaborn as sns\n",
    "\n",
    "font_location = 'C:/Windows/Fonts/malgunbd.ttf' # matplotlib 한글 맑은 고딕 폰트 설정\n",
    "font_name = fm.FontProperties(fname=font_location).get_name()\n",
    "matplotlib.rc('font', family=font_name)"
   ]
  },
  {
   "cell_type": "markdown",
   "metadata": {},
   "source": [
    "# SKT 유동인구 데이터 / 2020년 지하철 승하차 인원 데이터 로드"
   ]
  },
  {
   "cell_type": "code",
   "execution_count": 4,
   "metadata": {},
   "outputs": [],
   "source": [
    "# 2019년 데이터\n",
    "time1902= pd.read_csv('2020빅콘테스트 문제데이터(혁신아이디어분야)/01_유동인구데이터(SK텔레콤)/4개지역_FLOW_TIME_201902.CSV', sep = '|')\n",
    "time1903= pd.read_csv('2020빅콘테스트 문제데이터(혁신아이디어분야)/01_유동인구데이터(SK텔레콤)/4개지역_FLOW_TIME_201903.CSV', sep = '|')\n",
    "time1904= pd.read_csv('2020빅콘테스트 문제데이터(혁신아이디어분야)/01_유동인구데이터(SK텔레콤)/4개지역_FLOW_TIME_201904.CSV', sep = '|')\n",
    "time1905= pd.read_csv('2020빅콘테스트 문제데이터(혁신아이디어분야)/01_유동인구데이터(SK텔레콤)/4개지역_FLOW_TIME_201905.CSV', sep = '|')\n",
    "\n",
    "# 2020년 데이터\n",
    "time2002= pd.read_csv('2020빅콘테스트 문제데이터(혁신아이디어분야)/01_유동인구데이터(SK텔레콤)/4개지역_FLOW_TIME_202002.CSV', sep = '|')\n",
    "time2003= pd.read_csv('2020빅콘테스트 문제데이터(혁신아이디어분야)/01_유동인구데이터(SK텔레콤)/4개지역_FLOW_TIME_202003.CSV', sep = '|')\n",
    "time2004= pd.read_csv('2020빅콘테스트 문제데이터(혁신아이디어분야)/01_유동인구데이터(SK텔레콤)/4개지역_FLOW_TIME_202004.CSV', sep = '|')\n",
    "time2005= pd.read_csv('2020빅콘테스트 문제데이터(혁신아이디어분야)/01_유동인구데이터(SK텔레콤)/4개지역_FLOW_TIME_202005.CSV', sep = '|')\n",
    "\n",
    "# 2020년 지하철 승하차인원 데이터\n",
    "subway_2020 = pd.read_csv('data/서울교통공사_1_8호선일별역별시간대별승하차인원_202001_202008.csv', encoding='cp949')"
   ]
  },
  {
   "cell_type": "code",
   "execution_count": 5,
   "metadata": {},
   "outputs": [],
   "source": [
    "# 2020년 유동인구 데이터 concat\n",
    "Udong_2020 = pd.concat([time2002, time2003, time2004, time2005])\n",
    "\n",
    "# 유동인구데이터, 지하철데이터 날짜 칼럼 datetime 변환\n",
    "Udong_2020['STD_YMD'] = pd.to_datetime(Udong_2020['STD_YMD'].astype(str))\n",
    "subway_2020['날짜'] = pd.to_datetime(subway_2020['날짜'])"
   ]
  },
  {
   "cell_type": "markdown",
   "metadata": {},
   "source": [
    "## 유동인구데이터와 지하철데이터 날짜, 시간 매칭"
   ]
  },
  {
   "cell_type": "code",
   "execution_count": 6,
   "metadata": {},
   "outputs": [
    {
     "name": "stdout",
     "output_type": "stream",
     "text": [
      "시작 인덱스 : 17086\n",
      "끝 인덱스 : 83755\n"
     ]
    }
   ],
   "source": [
    "start = subway_2020[subway_2020['날짜'] == '2020-02-01'].index[0]\n",
    "print('시작 인덱스 :',start)\n",
    "finish = subway_2020[subway_2020['날짜'] == '2020-05-31'].index[-1]\n",
    "print('끝 인덱스 :', finish)"
   ]
  },
  {
   "cell_type": "code",
   "execution_count": 7,
   "metadata": {},
   "outputs": [],
   "source": [
    "# 지하철 2월부터 5월까지의 데이터\n",
    "subway_2020 = subway_2020.loc[17086:83755]"
   ]
  },
  {
   "cell_type": "code",
   "execution_count": 8,
   "metadata": {},
   "outputs": [
    {
     "data": {
      "text/plain": [
       "(Index(['TMST_05', 'TMST_06', 'TMST_07', 'TMST_08', 'TMST_09', 'TMST_10',\n",
       "        'TMST_11', 'TMST_12', 'TMST_13', 'TMST_14', 'TMST_15', 'TMST_16',\n",
       "        'TMST_17', 'TMST_18', 'TMST_19', 'TMST_20', 'TMST_21', 'TMST_22',\n",
       "        'TMST_23'],\n",
       "       dtype='object'),\n",
       " Index(['06시 이전', '06 ~ 07', '07 ~ 08', '08 ~ 09', '09 ~ 10', '10 ~ 11',\n",
       "        '11 ~ 12', '12 ~ 13', '13 ~ 14', '14 ~ 15', '15 ~ 16', '16 ~ 17',\n",
       "        '17 ~ 18', '18 ~ 19', '19 ~ 20', '20 ~ 21', '21 ~ 22', '22 ~ 23',\n",
       "        '23 ~ 24'],\n",
       "       dtype='object'))"
      ]
     },
     "execution_count": 8,
     "metadata": {},
     "output_type": "execute_result"
    }
   ],
   "source": [
    "Udong_2020.columns[9:], subway_2020.columns[5:-1]"
   ]
  },
  {
   "cell_type": "code",
   "execution_count": 9,
   "metadata": {},
   "outputs": [],
   "source": [
    "#유동인구 시간 컬럼\n",
    "Udong_time_col = Udong_2020.columns[9:]\n",
    "\n",
    "#지하철 시간 컬럼\n",
    "subway_time_col = subway_2020.columns[5:-1]"
   ]
  },
  {
   "cell_type": "code",
   "execution_count": 10,
   "metadata": {},
   "outputs": [],
   "source": [
    "#행정동, 날짜로 groupby\n",
    "Udong_2020 = Udong_2020.groupby(['HDONG_NM', 'STD_YMD'])[Udong_time_col].sum()\n",
    "Udong_2020.columns = subway_time_col"
   ]
  },
  {
   "cell_type": "code",
   "execution_count": 11,
   "metadata": {},
   "outputs": [],
   "source": [
    "#지하철 승하차 구분\n",
    "subway_up = subway_2020[subway_2020['구분'] == '승차']\n",
    "subway_down = subway_2020[subway_2020['구분'] == '하차']\n",
    "\n",
    "#지하철역, 날짜로 groupby\n",
    "subway_up = subway_up.groupby(['역명', '날짜'])[subway_time_col].sum()\n",
    "subway_down = subway_down.groupby(['역명', '날짜'])[subway_time_col].sum()\n",
    "\n",
    "#하차 - 승차 데이터\n",
    "subway_updown = subway_down - subway_up\n",
    "\n",
    "#하차 + 승차 데이터\n",
    "subway_updown2 = subway_down + subway_up"
   ]
  },
  {
   "cell_type": "code",
   "execution_count": 12,
   "metadata": {},
   "outputs": [],
   "source": [
    "subway_2020 = subway_2020.groupby(['역명', '날짜'])[subway_time_col].sum()"
   ]
  },
  {
   "cell_type": "markdown",
   "metadata": {},
   "source": [
    "# 승하차데이터 (1) \n",
    "- 하차인구 - 승차인구"
   ]
  },
  {
   "cell_type": "code",
   "execution_count": 13,
   "metadata": {},
   "outputs": [
    {
     "data": {
      "text/html": [
       "<div>\n",
       "<style scoped>\n",
       "    .dataframe tbody tr th:only-of-type {\n",
       "        vertical-align: middle;\n",
       "    }\n",
       "\n",
       "    .dataframe tbody tr th {\n",
       "        vertical-align: top;\n",
       "    }\n",
       "\n",
       "    .dataframe thead th {\n",
       "        text-align: right;\n",
       "    }\n",
       "</style>\n",
       "<table border=\"1\" class=\"dataframe\">\n",
       "  <thead>\n",
       "    <tr style=\"text-align: right;\">\n",
       "      <th></th>\n",
       "      <th>유동인구</th>\n",
       "      <th>지하철승하차</th>\n",
       "    </tr>\n",
       "  </thead>\n",
       "  <tbody>\n",
       "    <tr>\n",
       "      <th>유동인구</th>\n",
       "      <td>1.000000</td>\n",
       "      <td>0.613185</td>\n",
       "    </tr>\n",
       "    <tr>\n",
       "      <th>지하철승하차</th>\n",
       "      <td>0.613185</td>\n",
       "      <td>1.000000</td>\n",
       "    </tr>\n",
       "  </tbody>\n",
       "</table>\n",
       "</div>"
      ],
      "text/plain": [
       "            유동인구    지하철승하차\n",
       "유동인구    1.000000  0.613185\n",
       "지하철승하차  0.613185  1.000000"
      ]
     },
     "execution_count": 13,
     "metadata": {},
     "output_type": "execute_result"
    }
   ],
   "source": [
    "# 명동\n",
    "corr_df = pd.DataFrame(columns = ['유동인구', '지하철승하차'])\n",
    "corr_df['유동인구'] = Udong_2020.loc['명동'].stack()\n",
    "corr_df['지하철승하차'] = subway_updown.loc['을지로입구'].stack() + subway_updown.loc['명동'].stack()\n",
    "corr_df.corr()"
   ]
  },
  {
   "cell_type": "code",
   "execution_count": 14,
   "metadata": {},
   "outputs": [
    {
     "data": {
      "text/html": [
       "<div>\n",
       "<style scoped>\n",
       "    .dataframe tbody tr th:only-of-type {\n",
       "        vertical-align: middle;\n",
       "    }\n",
       "\n",
       "    .dataframe tbody tr th {\n",
       "        vertical-align: top;\n",
       "    }\n",
       "\n",
       "    .dataframe thead th {\n",
       "        text-align: right;\n",
       "    }\n",
       "</style>\n",
       "<table border=\"1\" class=\"dataframe\">\n",
       "  <thead>\n",
       "    <tr style=\"text-align: right;\">\n",
       "      <th></th>\n",
       "      <th>유동인구</th>\n",
       "      <th>지하철승하차</th>\n",
       "    </tr>\n",
       "  </thead>\n",
       "  <tbody>\n",
       "    <tr>\n",
       "      <th>유동인구</th>\n",
       "      <td>1.000000</td>\n",
       "      <td>0.221639</td>\n",
       "    </tr>\n",
       "    <tr>\n",
       "      <th>지하철승하차</th>\n",
       "      <td>0.221639</td>\n",
       "      <td>1.000000</td>\n",
       "    </tr>\n",
       "  </tbody>\n",
       "</table>\n",
       "</div>"
      ],
      "text/plain": [
       "            유동인구    지하철승하차\n",
       "유동인구    1.000000  0.221639\n",
       "지하철승하차  0.221639  1.000000"
      ]
     },
     "execution_count": 14,
     "metadata": {},
     "output_type": "execute_result"
    }
   ],
   "source": [
    "# 상계1동\n",
    "corr_df = pd.DataFrame(columns = ['유동인구', '지하철승하차'])\n",
    "corr_df['유동인구'] = Udong_2020.loc['상계1동'].stack()\n",
    "corr_df['지하철승하차'] = subway_updown.loc['수락산'].stack()\n",
    "corr_df.corr()"
   ]
  },
  {
   "cell_type": "code",
   "execution_count": 15,
   "metadata": {},
   "outputs": [
    {
     "data": {
      "text/html": [
       "<div>\n",
       "<style scoped>\n",
       "    .dataframe tbody tr th:only-of-type {\n",
       "        vertical-align: middle;\n",
       "    }\n",
       "\n",
       "    .dataframe tbody tr th {\n",
       "        vertical-align: top;\n",
       "    }\n",
       "\n",
       "    .dataframe thead th {\n",
       "        text-align: right;\n",
       "    }\n",
       "</style>\n",
       "<table border=\"1\" class=\"dataframe\">\n",
       "  <thead>\n",
       "    <tr style=\"text-align: right;\">\n",
       "      <th></th>\n",
       "      <th>유동인구</th>\n",
       "      <th>지하철승하차</th>\n",
       "    </tr>\n",
       "  </thead>\n",
       "  <tbody>\n",
       "    <tr>\n",
       "      <th>유동인구</th>\n",
       "      <td>1.00000</td>\n",
       "      <td>0.24212</td>\n",
       "    </tr>\n",
       "    <tr>\n",
       "      <th>지하철승하차</th>\n",
       "      <td>0.24212</td>\n",
       "      <td>1.00000</td>\n",
       "    </tr>\n",
       "  </tbody>\n",
       "</table>\n",
       "</div>"
      ],
      "text/plain": [
       "           유동인구   지하철승하차\n",
       "유동인구    1.00000  0.24212\n",
       "지하철승하차  0.24212  1.00000"
      ]
     },
     "execution_count": 15,
     "metadata": {},
     "output_type": "execute_result"
    }
   ],
   "source": [
    "# 상계3.4동\n",
    "corr_df = pd.DataFrame(columns = ['유동인구', '지하철승하차'])\n",
    "corr_df['유동인구'] = Udong_2020.loc['상계3.4동'].stack()\n",
    "corr_df['지하철승하차'] = subway_updown.loc['당고개'].stack()\n",
    "corr_df.corr()"
   ]
  },
  {
   "cell_type": "code",
   "execution_count": 16,
   "metadata": {},
   "outputs": [
    {
     "data": {
      "text/html": [
       "<div>\n",
       "<style scoped>\n",
       "    .dataframe tbody tr th:only-of-type {\n",
       "        vertical-align: middle;\n",
       "    }\n",
       "\n",
       "    .dataframe tbody tr th {\n",
       "        vertical-align: top;\n",
       "    }\n",
       "\n",
       "    .dataframe thead th {\n",
       "        text-align: right;\n",
       "    }\n",
       "</style>\n",
       "<table border=\"1\" class=\"dataframe\">\n",
       "  <thead>\n",
       "    <tr style=\"text-align: right;\">\n",
       "      <th></th>\n",
       "      <th>유동인구</th>\n",
       "      <th>지하철승하차</th>\n",
       "    </tr>\n",
       "  </thead>\n",
       "  <tbody>\n",
       "    <tr>\n",
       "      <th>유동인구</th>\n",
       "      <td>1.000000</td>\n",
       "      <td>0.348886</td>\n",
       "    </tr>\n",
       "    <tr>\n",
       "      <th>지하철승하차</th>\n",
       "      <td>0.348886</td>\n",
       "      <td>1.000000</td>\n",
       "    </tr>\n",
       "  </tbody>\n",
       "</table>\n",
       "</div>"
      ],
      "text/plain": [
       "            유동인구    지하철승하차\n",
       "유동인구    1.000000  0.348886\n",
       "지하철승하차  0.348886  1.000000"
      ]
     },
     "execution_count": 16,
     "metadata": {},
     "output_type": "execute_result"
    }
   ],
   "source": [
    "# 상계8동, 상계9동\n",
    "corr_df = pd.DataFrame(columns = ['유동인구', '지하철승하차'])\n",
    "corr_df['유동인구'] = Udong_2020.loc['상계8동'].stack() + Udong_2020.loc['상계9동'].stack()\n",
    "corr_df['지하철승하차'] = subway_updown.loc['마들'].stack()\n",
    "corr_df.corr()"
   ]
  },
  {
   "cell_type": "code",
   "execution_count": 17,
   "metadata": {},
   "outputs": [
    {
     "data": {
      "text/html": [
       "<div>\n",
       "<style scoped>\n",
       "    .dataframe tbody tr th:only-of-type {\n",
       "        vertical-align: middle;\n",
       "    }\n",
       "\n",
       "    .dataframe tbody tr th {\n",
       "        vertical-align: top;\n",
       "    }\n",
       "\n",
       "    .dataframe thead th {\n",
       "        text-align: right;\n",
       "    }\n",
       "</style>\n",
       "<table border=\"1\" class=\"dataframe\">\n",
       "  <thead>\n",
       "    <tr style=\"text-align: right;\">\n",
       "      <th></th>\n",
       "      <th>유동인구</th>\n",
       "      <th>지하철승하차</th>\n",
       "    </tr>\n",
       "  </thead>\n",
       "  <tbody>\n",
       "    <tr>\n",
       "      <th>유동인구</th>\n",
       "      <td>1.00000</td>\n",
       "      <td>0.51414</td>\n",
       "    </tr>\n",
       "    <tr>\n",
       "      <th>지하철승하차</th>\n",
       "      <td>0.51414</td>\n",
       "      <td>1.00000</td>\n",
       "    </tr>\n",
       "  </tbody>\n",
       "</table>\n",
       "</div>"
      ],
      "text/plain": [
       "           유동인구   지하철승하차\n",
       "유동인구    1.00000  0.51414\n",
       "지하철승하차  0.51414  1.00000"
      ]
     },
     "execution_count": 17,
     "metadata": {},
     "output_type": "execute_result"
    }
   ],
   "source": [
    "# 신당동\n",
    "corr_df = pd.DataFrame(columns = ['유동인구', '지하철승하차'])\n",
    "corr_df['유동인구'] = Udong_2020.loc['신당동'].stack()\n",
    "corr_df['지하철승하차'] = subway_updown.loc['신당'].stack() +subway_updown.loc['청구'].stack() + subway_updown.loc['약수'].stack() + subway_updown.loc['버티고개'].stack()\n",
    "corr_df.corr()"
   ]
  },
  {
   "cell_type": "code",
   "execution_count": 18,
   "metadata": {},
   "outputs": [
    {
     "data": {
      "text/html": [
       "<div>\n",
       "<style scoped>\n",
       "    .dataframe tbody tr th:only-of-type {\n",
       "        vertical-align: middle;\n",
       "    }\n",
       "\n",
       "    .dataframe tbody tr th {\n",
       "        vertical-align: top;\n",
       "    }\n",
       "\n",
       "    .dataframe thead th {\n",
       "        text-align: right;\n",
       "    }\n",
       "</style>\n",
       "<table border=\"1\" class=\"dataframe\">\n",
       "  <thead>\n",
       "    <tr style=\"text-align: right;\">\n",
       "      <th></th>\n",
       "      <th>유동인구</th>\n",
       "      <th>지하철승하차</th>\n",
       "    </tr>\n",
       "  </thead>\n",
       "  <tbody>\n",
       "    <tr>\n",
       "      <th>유동인구</th>\n",
       "      <td>1.000000</td>\n",
       "      <td>0.445931</td>\n",
       "    </tr>\n",
       "    <tr>\n",
       "      <th>지하철승하차</th>\n",
       "      <td>0.445931</td>\n",
       "      <td>1.000000</td>\n",
       "    </tr>\n",
       "  </tbody>\n",
       "</table>\n",
       "</div>"
      ],
      "text/plain": [
       "            유동인구    지하철승하차\n",
       "유동인구    1.000000  0.445931\n",
       "지하철승하차  0.445931  1.000000"
      ]
     },
     "execution_count": 18,
     "metadata": {},
     "output_type": "execute_result"
    }
   ],
   "source": [
    "# 을지로동\n",
    "corr_df = pd.DataFrame(columns = ['유동인구', '지하철승하차'])\n",
    "corr_df['유동인구'] = Udong_2020.loc['을지로동'].stack()\n",
    "corr_df['지하철승하차'] = subway_updown.loc['을지로3가'].stack() +subway_updown.loc['을지로4가'].stack()\n",
    "corr_df.corr()"
   ]
  },
  {
   "cell_type": "code",
   "execution_count": 19,
   "metadata": {},
   "outputs": [
    {
     "data": {
      "text/html": [
       "<div>\n",
       "<style scoped>\n",
       "    .dataframe tbody tr th:only-of-type {\n",
       "        vertical-align: middle;\n",
       "    }\n",
       "\n",
       "    .dataframe tbody tr th {\n",
       "        vertical-align: top;\n",
       "    }\n",
       "\n",
       "    .dataframe thead th {\n",
       "        text-align: right;\n",
       "    }\n",
       "</style>\n",
       "<table border=\"1\" class=\"dataframe\">\n",
       "  <thead>\n",
       "    <tr style=\"text-align: right;\">\n",
       "      <th></th>\n",
       "      <th>유동인구</th>\n",
       "      <th>지하철승하차</th>\n",
       "    </tr>\n",
       "  </thead>\n",
       "  <tbody>\n",
       "    <tr>\n",
       "      <th>유동인구</th>\n",
       "      <td>1.000000</td>\n",
       "      <td>0.227939</td>\n",
       "    </tr>\n",
       "    <tr>\n",
       "      <th>지하철승하차</th>\n",
       "      <td>0.227939</td>\n",
       "      <td>1.000000</td>\n",
       "    </tr>\n",
       "  </tbody>\n",
       "</table>\n",
       "</div>"
      ],
      "text/plain": [
       "            유동인구    지하철승하차\n",
       "유동인구    1.000000  0.227939\n",
       "지하철승하차  0.227939  1.000000"
      ]
     },
     "execution_count": 19,
     "metadata": {},
     "output_type": "execute_result"
    }
   ],
   "source": [
    "# 장충동\n",
    "corr_df = pd.DataFrame(columns = ['유동인구', '지하철승하차'])\n",
    "corr_df['유동인구'] = Udong_2020.loc['장충동'].stack()\n",
    "corr_df['지하철승하차'] = subway_updown.loc['동대입구'].stack()\n",
    "corr_df.corr()"
   ]
  },
  {
   "cell_type": "code",
   "execution_count": 20,
   "metadata": {},
   "outputs": [
    {
     "data": {
      "text/html": [
       "<div>\n",
       "<style scoped>\n",
       "    .dataframe tbody tr th:only-of-type {\n",
       "        vertical-align: middle;\n",
       "    }\n",
       "\n",
       "    .dataframe tbody tr th {\n",
       "        vertical-align: top;\n",
       "    }\n",
       "\n",
       "    .dataframe thead th {\n",
       "        text-align: right;\n",
       "    }\n",
       "</style>\n",
       "<table border=\"1\" class=\"dataframe\">\n",
       "  <thead>\n",
       "    <tr style=\"text-align: right;\">\n",
       "      <th></th>\n",
       "      <th>유동인구</th>\n",
       "      <th>지하철승하차</th>\n",
       "    </tr>\n",
       "  </thead>\n",
       "  <tbody>\n",
       "    <tr>\n",
       "      <th>유동인구</th>\n",
       "      <td>1.000000</td>\n",
       "      <td>0.307896</td>\n",
       "    </tr>\n",
       "    <tr>\n",
       "      <th>지하철승하차</th>\n",
       "      <td>0.307896</td>\n",
       "      <td>1.000000</td>\n",
       "    </tr>\n",
       "  </tbody>\n",
       "</table>\n",
       "</div>"
      ],
      "text/plain": [
       "            유동인구    지하철승하차\n",
       "유동인구    1.000000  0.307896\n",
       "지하철승하차  0.307896  1.000000"
      ]
     },
     "execution_count": 20,
     "metadata": {},
     "output_type": "execute_result"
    }
   ],
   "source": [
    "# 중계2.3동\n",
    "corr_df = pd.DataFrame(columns = ['유동인구', '지하철승하차'])\n",
    "corr_df['유동인구'] = Udong_2020.loc['중계2.3동'].stack()\n",
    "corr_df['지하철승하차'] = subway_updown.loc['중계'].stack()\n",
    "corr_df.corr()"
   ]
  },
  {
   "cell_type": "code",
   "execution_count": 21,
   "metadata": {},
   "outputs": [
    {
     "data": {
      "text/html": [
       "<div>\n",
       "<style scoped>\n",
       "    .dataframe tbody tr th:only-of-type {\n",
       "        vertical-align: middle;\n",
       "    }\n",
       "\n",
       "    .dataframe tbody tr th {\n",
       "        vertical-align: top;\n",
       "    }\n",
       "\n",
       "    .dataframe thead th {\n",
       "        text-align: right;\n",
       "    }\n",
       "</style>\n",
       "<table border=\"1\" class=\"dataframe\">\n",
       "  <thead>\n",
       "    <tr style=\"text-align: right;\">\n",
       "      <th></th>\n",
       "      <th>유동인구</th>\n",
       "      <th>지하철승하차</th>\n",
       "    </tr>\n",
       "  </thead>\n",
       "  <tbody>\n",
       "    <tr>\n",
       "      <th>유동인구</th>\n",
       "      <td>1.000000</td>\n",
       "      <td>0.184451</td>\n",
       "    </tr>\n",
       "    <tr>\n",
       "      <th>지하철승하차</th>\n",
       "      <td>0.184451</td>\n",
       "      <td>1.000000</td>\n",
       "    </tr>\n",
       "  </tbody>\n",
       "</table>\n",
       "</div>"
      ],
      "text/plain": [
       "            유동인구    지하철승하차\n",
       "유동인구    1.000000  0.184451\n",
       "지하철승하차  0.184451  1.000000"
      ]
     },
     "execution_count": 21,
     "metadata": {},
     "output_type": "execute_result"
    }
   ],
   "source": [
    "# 하계1동\n",
    "corr_df = pd.DataFrame(columns = ['유동인구', '지하철승하차'])\n",
    "corr_df['유동인구'] = Udong_2020.loc['하계1동'].stack() + Udong_2020.loc['하계2동'].stack()\n",
    "corr_df['지하철승하차'] = subway_updown.loc['하계'].stack()\n",
    "corr_df.corr()"
   ]
  },
  {
   "cell_type": "code",
   "execution_count": 22,
   "metadata": {},
   "outputs": [],
   "source": [
    "corr_df1 = pd.DataFrame(columns = ['유동인구', '지하철승하차'])\n",
    "corr_df1['유동인구'] = Udong_2020.loc['명동'].stack()\n",
    "corr_df1['지하철승하차'] = subway_updown.loc['을지로입구'].stack() + subway_updown.loc['명동'].stack()\n",
    "corr_1 = corr_df1.corr()['유동인구']['지하철승하차']\n",
    "     \n",
    "corr_df2 = pd.DataFrame(columns = ['유동인구', '지하철승하차'])\n",
    "corr_df2['유동인구'] = Udong_2020.loc['상계1동'].stack()\n",
    "corr_df2['지하철승하차'] = subway_updown.loc['수락산'].stack()\n",
    "corr_2 = corr_df2.corr()['유동인구']['지하철승하차']\n",
    "\n",
    "corr_df3 = pd.DataFrame(columns = ['유동인구', '지하철승하차'])\n",
    "corr_df3['유동인구'] = Udong_2020.loc['상계3.4동'].stack()\n",
    "corr_df3['지하철승하차'] = subway_updown.loc['당고개'].stack()\n",
    "corr_3 = corr_df3.corr()['유동인구']['지하철승하차']\n",
    "\n",
    "corr_df4 = pd.DataFrame(columns = ['유동인구', '지하철승하차'])\n",
    "corr_df4['유동인구'] = Udong_2020.loc['상계8동'].stack() + Udong_2020.loc['상계9동'].stack()\n",
    "corr_df4['지하철승하차'] = subway_updown.loc['마들'].stack()\n",
    "corr_4 = corr_df4.corr()['유동인구']['지하철승하차']\n",
    "\n",
    "corr_df5 = pd.DataFrame(columns = ['유동인구', '지하철승하차'])\n",
    "corr_df5['유동인구'] = Udong_2020.loc['신당동'].stack()\n",
    "corr_df5['지하철승하차'] = subway_updown.loc['신당'].stack() +subway_updown.loc['청구'].stack() + subway_updown.loc['약수'].stack() + subway_updown.loc['버티고개'].stack()\n",
    "corr_5 = corr_df5.corr()['유동인구']['지하철승하차']\n",
    "\n",
    "corr_df6 = pd.DataFrame(columns = ['유동인구', '지하철승하차'])\n",
    "corr_df6['유동인구'] = Udong_2020.loc['을지로동'].stack()\n",
    "corr_df6['지하철승하차'] = subway_updown.loc['을지로3가'].stack() +subway_updown.loc['을지로4가'].stack()\n",
    "corr_6 = corr_df6.corr()['유동인구']['지하철승하차']\n",
    "\n",
    "corr_df7 = pd.DataFrame(columns = ['유동인구', '지하철승하차'])\n",
    "corr_df7['유동인구'] = Udong_2020.loc['장충동'].stack()\n",
    "corr_df7['지하철승하차'] = subway_updown.loc['동대입구'].stack()\n",
    "corr_7 = corr_df7.corr()['유동인구']['지하철승하차']\n",
    "\n",
    "corr_df8 = pd.DataFrame(columns = ['유동인구', '지하철승하차'])\n",
    "corr_df8['유동인구'] = Udong_2020.loc['중계2.3동'].stack()\n",
    "corr_df8['지하철승하차'] = subway_updown.loc['중계'].stack()\n",
    "corr_8 = corr_df8.corr()['유동인구']['지하철승하차']\n",
    "\n",
    "corr_df9 = pd.DataFrame(columns = ['유동인구', '지하철승하차'])\n",
    "corr_df9['유동인구'] = Udong_2020.loc['하계1동'].stack() + Udong_2020.loc['하계2동'].stack()\n",
    "corr_df9['지하철승하차'] = subway_updown.loc['하계'].stack()\n",
    "corr_9 = corr_df9.corr()['유동인구']['지하철승하차']"
   ]
  },
  {
   "cell_type": "code",
   "execution_count": 23,
   "metadata": {},
   "outputs": [
    {
     "name": "stdout",
     "output_type": "stream",
     "text": [
      "지하철 승차-하차 상관관계: 0.3451320096727309\n"
     ]
    }
   ],
   "source": [
    "print('지하철 승차-하차 상관관계: {}'.format((corr_1 + corr_2 + corr_3 + corr_4 + corr_5 + corr_6 + corr_7 + corr_8 + corr_9)/9))"
   ]
  },
  {
   "cell_type": "markdown",
   "metadata": {},
   "source": [
    "# 승하차데이터(2)\n",
    "- 승차인구 + 하차인구"
   ]
  },
  {
   "cell_type": "code",
   "execution_count": 24,
   "metadata": {},
   "outputs": [
    {
     "data": {
      "text/html": [
       "<div>\n",
       "<style scoped>\n",
       "    .dataframe tbody tr th:only-of-type {\n",
       "        vertical-align: middle;\n",
       "    }\n",
       "\n",
       "    .dataframe tbody tr th {\n",
       "        vertical-align: top;\n",
       "    }\n",
       "\n",
       "    .dataframe thead th {\n",
       "        text-align: right;\n",
       "    }\n",
       "</style>\n",
       "<table border=\"1\" class=\"dataframe\">\n",
       "  <thead>\n",
       "    <tr style=\"text-align: right;\">\n",
       "      <th></th>\n",
       "      <th>유동인구</th>\n",
       "      <th>지하철승하차</th>\n",
       "    </tr>\n",
       "  </thead>\n",
       "  <tbody>\n",
       "    <tr>\n",
       "      <th>유동인구</th>\n",
       "      <td>1.000000</td>\n",
       "      <td>0.834932</td>\n",
       "    </tr>\n",
       "    <tr>\n",
       "      <th>지하철승하차</th>\n",
       "      <td>0.834932</td>\n",
       "      <td>1.000000</td>\n",
       "    </tr>\n",
       "  </tbody>\n",
       "</table>\n",
       "</div>"
      ],
      "text/plain": [
       "            유동인구    지하철승하차\n",
       "유동인구    1.000000  0.834932\n",
       "지하철승하차  0.834932  1.000000"
      ]
     },
     "execution_count": 24,
     "metadata": {},
     "output_type": "execute_result"
    }
   ],
   "source": [
    "# 명동\n",
    "corr_df = pd.DataFrame(columns = ['유동인구', '지하철승하차'])\n",
    "corr_df['유동인구'] = Udong_2020.loc['명동'].stack()\n",
    "corr_df['지하철승하차'] = subway_updown2.loc['을지로입구'].stack() + subway_updown2.loc['명동'].stack()\n",
    "corr_df.corr()"
   ]
  },
  {
   "cell_type": "code",
   "execution_count": 25,
   "metadata": {},
   "outputs": [
    {
     "data": {
      "text/html": [
       "<div>\n",
       "<style scoped>\n",
       "    .dataframe tbody tr th:only-of-type {\n",
       "        vertical-align: middle;\n",
       "    }\n",
       "\n",
       "    .dataframe tbody tr th {\n",
       "        vertical-align: top;\n",
       "    }\n",
       "\n",
       "    .dataframe thead th {\n",
       "        text-align: right;\n",
       "    }\n",
       "</style>\n",
       "<table border=\"1\" class=\"dataframe\">\n",
       "  <thead>\n",
       "    <tr style=\"text-align: right;\">\n",
       "      <th></th>\n",
       "      <th>유동인구</th>\n",
       "      <th>지하철승하차</th>\n",
       "    </tr>\n",
       "  </thead>\n",
       "  <tbody>\n",
       "    <tr>\n",
       "      <th>유동인구</th>\n",
       "      <td>1.000000</td>\n",
       "      <td>0.657367</td>\n",
       "    </tr>\n",
       "    <tr>\n",
       "      <th>지하철승하차</th>\n",
       "      <td>0.657367</td>\n",
       "      <td>1.000000</td>\n",
       "    </tr>\n",
       "  </tbody>\n",
       "</table>\n",
       "</div>"
      ],
      "text/plain": [
       "            유동인구    지하철승하차\n",
       "유동인구    1.000000  0.657367\n",
       "지하철승하차  0.657367  1.000000"
      ]
     },
     "execution_count": 25,
     "metadata": {},
     "output_type": "execute_result"
    }
   ],
   "source": [
    "# 상계1동\n",
    "corr_df = pd.DataFrame(columns = ['유동인구', '지하철승하차'])\n",
    "corr_df['유동인구'] = Udong_2020.loc['상계1동'].stack()\n",
    "corr_df['지하철승하차'] = subway_updown2.loc['수락산'].stack()\n",
    "corr_df.corr()"
   ]
  },
  {
   "cell_type": "code",
   "execution_count": 26,
   "metadata": {},
   "outputs": [
    {
     "data": {
      "text/html": [
       "<div>\n",
       "<style scoped>\n",
       "    .dataframe tbody tr th:only-of-type {\n",
       "        vertical-align: middle;\n",
       "    }\n",
       "\n",
       "    .dataframe tbody tr th {\n",
       "        vertical-align: top;\n",
       "    }\n",
       "\n",
       "    .dataframe thead th {\n",
       "        text-align: right;\n",
       "    }\n",
       "</style>\n",
       "<table border=\"1\" class=\"dataframe\">\n",
       "  <thead>\n",
       "    <tr style=\"text-align: right;\">\n",
       "      <th></th>\n",
       "      <th>유동인구</th>\n",
       "      <th>지하철승하차</th>\n",
       "    </tr>\n",
       "  </thead>\n",
       "  <tbody>\n",
       "    <tr>\n",
       "      <th>유동인구</th>\n",
       "      <td>1.000000</td>\n",
       "      <td>0.490023</td>\n",
       "    </tr>\n",
       "    <tr>\n",
       "      <th>지하철승하차</th>\n",
       "      <td>0.490023</td>\n",
       "      <td>1.000000</td>\n",
       "    </tr>\n",
       "  </tbody>\n",
       "</table>\n",
       "</div>"
      ],
      "text/plain": [
       "            유동인구    지하철승하차\n",
       "유동인구    1.000000  0.490023\n",
       "지하철승하차  0.490023  1.000000"
      ]
     },
     "execution_count": 26,
     "metadata": {},
     "output_type": "execute_result"
    }
   ],
   "source": [
    "# 상계3.4동\n",
    "corr_df = pd.DataFrame(columns = ['유동인구', '지하철승하차'])\n",
    "corr_df['유동인구'] = Udong_2020.loc['상계3.4동'].stack()\n",
    "corr_df['지하철승하차'] = subway_updown2.loc['당고개'].stack()\n",
    "corr_df.corr()"
   ]
  },
  {
   "cell_type": "code",
   "execution_count": 27,
   "metadata": {},
   "outputs": [
    {
     "data": {
      "text/html": [
       "<div>\n",
       "<style scoped>\n",
       "    .dataframe tbody tr th:only-of-type {\n",
       "        vertical-align: middle;\n",
       "    }\n",
       "\n",
       "    .dataframe tbody tr th {\n",
       "        vertical-align: top;\n",
       "    }\n",
       "\n",
       "    .dataframe thead th {\n",
       "        text-align: right;\n",
       "    }\n",
       "</style>\n",
       "<table border=\"1\" class=\"dataframe\">\n",
       "  <thead>\n",
       "    <tr style=\"text-align: right;\">\n",
       "      <th></th>\n",
       "      <th>유동인구</th>\n",
       "      <th>지하철승하차</th>\n",
       "    </tr>\n",
       "  </thead>\n",
       "  <tbody>\n",
       "    <tr>\n",
       "      <th>유동인구</th>\n",
       "      <td>1.00000</td>\n",
       "      <td>0.50222</td>\n",
       "    </tr>\n",
       "    <tr>\n",
       "      <th>지하철승하차</th>\n",
       "      <td>0.50222</td>\n",
       "      <td>1.00000</td>\n",
       "    </tr>\n",
       "  </tbody>\n",
       "</table>\n",
       "</div>"
      ],
      "text/plain": [
       "           유동인구   지하철승하차\n",
       "유동인구    1.00000  0.50222\n",
       "지하철승하차  0.50222  1.00000"
      ]
     },
     "execution_count": 27,
     "metadata": {},
     "output_type": "execute_result"
    }
   ],
   "source": [
    "# 상계8동, 상계9동\n",
    "corr_df = pd.DataFrame(columns = ['유동인구', '지하철승하차'])\n",
    "corr_df['유동인구'] = Udong_2020.loc['상계8동'].stack() + Udong_2020.loc['상계9동'].stack()\n",
    "corr_df['지하철승하차'] = subway_updown2.loc['마들'].stack()\n",
    "corr_df.corr()"
   ]
  },
  {
   "cell_type": "code",
   "execution_count": 28,
   "metadata": {},
   "outputs": [
    {
     "data": {
      "text/html": [
       "<div>\n",
       "<style scoped>\n",
       "    .dataframe tbody tr th:only-of-type {\n",
       "        vertical-align: middle;\n",
       "    }\n",
       "\n",
       "    .dataframe tbody tr th {\n",
       "        vertical-align: top;\n",
       "    }\n",
       "\n",
       "    .dataframe thead th {\n",
       "        text-align: right;\n",
       "    }\n",
       "</style>\n",
       "<table border=\"1\" class=\"dataframe\">\n",
       "  <thead>\n",
       "    <tr style=\"text-align: right;\">\n",
       "      <th></th>\n",
       "      <th>유동인구</th>\n",
       "      <th>지하철승하차</th>\n",
       "    </tr>\n",
       "  </thead>\n",
       "  <tbody>\n",
       "    <tr>\n",
       "      <th>유동인구</th>\n",
       "      <td>1.00000</td>\n",
       "      <td>0.89065</td>\n",
       "    </tr>\n",
       "    <tr>\n",
       "      <th>지하철승하차</th>\n",
       "      <td>0.89065</td>\n",
       "      <td>1.00000</td>\n",
       "    </tr>\n",
       "  </tbody>\n",
       "</table>\n",
       "</div>"
      ],
      "text/plain": [
       "           유동인구   지하철승하차\n",
       "유동인구    1.00000  0.89065\n",
       "지하철승하차  0.89065  1.00000"
      ]
     },
     "execution_count": 28,
     "metadata": {},
     "output_type": "execute_result"
    }
   ],
   "source": [
    "# 신당동\n",
    "corr_df = pd.DataFrame(columns = ['유동인구', '지하철승하차'])\n",
    "corr_df['유동인구'] = Udong_2020.loc['신당동'].stack()\n",
    "corr_df['지하철승하차'] = subway_updown2.loc['신당'].stack() +subway_updown2.loc['청구'].stack() + subway_updown2.loc['약수'].stack() + subway_updown2.loc['버티고개'].stack()\n",
    "corr_df.corr()"
   ]
  },
  {
   "cell_type": "code",
   "execution_count": 29,
   "metadata": {},
   "outputs": [
    {
     "data": {
      "text/html": [
       "<div>\n",
       "<style scoped>\n",
       "    .dataframe tbody tr th:only-of-type {\n",
       "        vertical-align: middle;\n",
       "    }\n",
       "\n",
       "    .dataframe tbody tr th {\n",
       "        vertical-align: top;\n",
       "    }\n",
       "\n",
       "    .dataframe thead th {\n",
       "        text-align: right;\n",
       "    }\n",
       "</style>\n",
       "<table border=\"1\" class=\"dataframe\">\n",
       "  <thead>\n",
       "    <tr style=\"text-align: right;\">\n",
       "      <th></th>\n",
       "      <th>유동인구</th>\n",
       "      <th>지하철승하차</th>\n",
       "    </tr>\n",
       "  </thead>\n",
       "  <tbody>\n",
       "    <tr>\n",
       "      <th>유동인구</th>\n",
       "      <td>1.000000</td>\n",
       "      <td>0.922722</td>\n",
       "    </tr>\n",
       "    <tr>\n",
       "      <th>지하철승하차</th>\n",
       "      <td>0.922722</td>\n",
       "      <td>1.000000</td>\n",
       "    </tr>\n",
       "  </tbody>\n",
       "</table>\n",
       "</div>"
      ],
      "text/plain": [
       "            유동인구    지하철승하차\n",
       "유동인구    1.000000  0.922722\n",
       "지하철승하차  0.922722  1.000000"
      ]
     },
     "execution_count": 29,
     "metadata": {},
     "output_type": "execute_result"
    }
   ],
   "source": [
    "# 을지로동\n",
    "corr_df = pd.DataFrame(columns = ['유동인구', '지하철승하차'])\n",
    "corr_df['유동인구'] = Udong_2020.loc['을지로동'].stack()\n",
    "corr_df['지하철승하차'] = subway_updown2.loc['을지로3가'].stack() +subway_updown2.loc['을지로4가'].stack()\n",
    "corr_df.corr()"
   ]
  },
  {
   "cell_type": "code",
   "execution_count": 30,
   "metadata": {},
   "outputs": [
    {
     "data": {
      "text/html": [
       "<div>\n",
       "<style scoped>\n",
       "    .dataframe tbody tr th:only-of-type {\n",
       "        vertical-align: middle;\n",
       "    }\n",
       "\n",
       "    .dataframe tbody tr th {\n",
       "        vertical-align: top;\n",
       "    }\n",
       "\n",
       "    .dataframe thead th {\n",
       "        text-align: right;\n",
       "    }\n",
       "</style>\n",
       "<table border=\"1\" class=\"dataframe\">\n",
       "  <thead>\n",
       "    <tr style=\"text-align: right;\">\n",
       "      <th></th>\n",
       "      <th>유동인구</th>\n",
       "      <th>지하철승하차</th>\n",
       "    </tr>\n",
       "  </thead>\n",
       "  <tbody>\n",
       "    <tr>\n",
       "      <th>유동인구</th>\n",
       "      <td>1.000000</td>\n",
       "      <td>0.805244</td>\n",
       "    </tr>\n",
       "    <tr>\n",
       "      <th>지하철승하차</th>\n",
       "      <td>0.805244</td>\n",
       "      <td>1.000000</td>\n",
       "    </tr>\n",
       "  </tbody>\n",
       "</table>\n",
       "</div>"
      ],
      "text/plain": [
       "            유동인구    지하철승하차\n",
       "유동인구    1.000000  0.805244\n",
       "지하철승하차  0.805244  1.000000"
      ]
     },
     "execution_count": 30,
     "metadata": {},
     "output_type": "execute_result"
    }
   ],
   "source": [
    "# 장충동\n",
    "corr_df = pd.DataFrame(columns = ['유동인구', '지하철승하차'])\n",
    "corr_df['유동인구'] = Udong_2020.loc['장충동'].stack()\n",
    "corr_df['지하철승하차'] = subway_updown2.loc['동대입구'].stack()\n",
    "corr_df.corr()"
   ]
  },
  {
   "cell_type": "code",
   "execution_count": 31,
   "metadata": {},
   "outputs": [
    {
     "data": {
      "text/html": [
       "<div>\n",
       "<style scoped>\n",
       "    .dataframe tbody tr th:only-of-type {\n",
       "        vertical-align: middle;\n",
       "    }\n",
       "\n",
       "    .dataframe tbody tr th {\n",
       "        vertical-align: top;\n",
       "    }\n",
       "\n",
       "    .dataframe thead th {\n",
       "        text-align: right;\n",
       "    }\n",
       "</style>\n",
       "<table border=\"1\" class=\"dataframe\">\n",
       "  <thead>\n",
       "    <tr style=\"text-align: right;\">\n",
       "      <th></th>\n",
       "      <th>유동인구</th>\n",
       "      <th>지하철승하차</th>\n",
       "    </tr>\n",
       "  </thead>\n",
       "  <tbody>\n",
       "    <tr>\n",
       "      <th>유동인구</th>\n",
       "      <td>1.000000</td>\n",
       "      <td>0.540372</td>\n",
       "    </tr>\n",
       "    <tr>\n",
       "      <th>지하철승하차</th>\n",
       "      <td>0.540372</td>\n",
       "      <td>1.000000</td>\n",
       "    </tr>\n",
       "  </tbody>\n",
       "</table>\n",
       "</div>"
      ],
      "text/plain": [
       "            유동인구    지하철승하차\n",
       "유동인구    1.000000  0.540372\n",
       "지하철승하차  0.540372  1.000000"
      ]
     },
     "execution_count": 31,
     "metadata": {},
     "output_type": "execute_result"
    }
   ],
   "source": [
    "# 중계2.3동\n",
    "corr_df = pd.DataFrame(columns = ['유동인구', '지하철승하차'])\n",
    "corr_df['유동인구'] = Udong_2020.loc['중계2.3동'].stack()\n",
    "corr_df['지하철승하차'] = subway_updown2.loc['중계'].stack()\n",
    "corr_df.corr()"
   ]
  },
  {
   "cell_type": "code",
   "execution_count": 32,
   "metadata": {},
   "outputs": [
    {
     "data": {
      "text/html": [
       "<div>\n",
       "<style scoped>\n",
       "    .dataframe tbody tr th:only-of-type {\n",
       "        vertical-align: middle;\n",
       "    }\n",
       "\n",
       "    .dataframe tbody tr th {\n",
       "        vertical-align: top;\n",
       "    }\n",
       "\n",
       "    .dataframe thead th {\n",
       "        text-align: right;\n",
       "    }\n",
       "</style>\n",
       "<table border=\"1\" class=\"dataframe\">\n",
       "  <thead>\n",
       "    <tr style=\"text-align: right;\">\n",
       "      <th></th>\n",
       "      <th>유동인구</th>\n",
       "      <th>지하철승하차</th>\n",
       "    </tr>\n",
       "  </thead>\n",
       "  <tbody>\n",
       "    <tr>\n",
       "      <th>유동인구</th>\n",
       "      <td>1.000000</td>\n",
       "      <td>0.759292</td>\n",
       "    </tr>\n",
       "    <tr>\n",
       "      <th>지하철승하차</th>\n",
       "      <td>0.759292</td>\n",
       "      <td>1.000000</td>\n",
       "    </tr>\n",
       "  </tbody>\n",
       "</table>\n",
       "</div>"
      ],
      "text/plain": [
       "            유동인구    지하철승하차\n",
       "유동인구    1.000000  0.759292\n",
       "지하철승하차  0.759292  1.000000"
      ]
     },
     "execution_count": 32,
     "metadata": {},
     "output_type": "execute_result"
    }
   ],
   "source": [
    "# 하계1동\n",
    "corr_df = pd.DataFrame(columns = ['유동인구', '지하철승하차'])\n",
    "corr_df['유동인구'] = Udong_2020.loc['하계1동'].stack() + Udong_2020.loc['하계2동'].stack()\n",
    "corr_df['지하철승하차'] = subway_updown2.loc['하계'].stack()\n",
    "corr_df.corr()"
   ]
  },
  {
   "cell_type": "code",
   "execution_count": 33,
   "metadata": {},
   "outputs": [],
   "source": [
    "corr_df1 = pd.DataFrame(columns = ['유동인구', '지하철승하차'])\n",
    "corr_df1['유동인구'] = Udong_2020.loc['명동'].stack()\n",
    "corr_df1['지하철승하차'] = subway_updown2.loc['을지로입구'].stack() + subway_updown2.loc['명동'].stack()\n",
    "corr_1 = corr_df1.corr()['유동인구']['지하철승하차']\n",
    "     \n",
    "corr_df2 = pd.DataFrame(columns = ['유동인구', '지하철승하차'])\n",
    "corr_df2['유동인구'] = Udong_2020.loc['상계1동'].stack()\n",
    "corr_df2['지하철승하차'] = subway_updown2.loc['수락산'].stack()\n",
    "corr_2 = corr_df2.corr()['유동인구']['지하철승하차']\n",
    "\n",
    "corr_df3 = pd.DataFrame(columns = ['유동인구', '지하철승하차'])\n",
    "corr_df3['유동인구'] = Udong_2020.loc['상계3.4동'].stack()\n",
    "corr_df3['지하철승하차'] = subway_updown2.loc['당고개'].stack()\n",
    "corr_3 = corr_df3.corr()['유동인구']['지하철승하차']\n",
    "\n",
    "corr_df4 = pd.DataFrame(columns = ['유동인구', '지하철승하차'])\n",
    "corr_df4['유동인구'] = Udong_2020.loc['상계8동'].stack() + Udong_2020.loc['상계9동'].stack()\n",
    "corr_df4['지하철승하차'] = subway_updown2.loc['마들'].stack()\n",
    "corr_4 = corr_df4.corr()['유동인구']['지하철승하차']\n",
    "\n",
    "corr_df5 = pd.DataFrame(columns = ['유동인구', '지하철승하차'])\n",
    "corr_df5['유동인구'] = Udong_2020.loc['신당동'].stack()\n",
    "corr_df5['지하철승하차'] = subway_updown2.loc['신당'].stack() +subway_updown2.loc['청구'].stack() + subway_updown2.loc['약수'].stack() + subway_updown2.loc['버티고개'].stack()\n",
    "corr_5 = corr_df5.corr()['유동인구']['지하철승하차']\n",
    "\n",
    "corr_df6 = pd.DataFrame(columns = ['유동인구', '지하철승하차'])\n",
    "corr_df6['유동인구'] = Udong_2020.loc['을지로동'].stack()\n",
    "corr_df6['지하철승하차'] = subway_updown2.loc['을지로3가'].stack() +subway_updown2.loc['을지로4가'].stack()\n",
    "corr_6 = corr_df6.corr()['유동인구']['지하철승하차']\n",
    "\n",
    "corr_df7 = pd.DataFrame(columns = ['유동인구', '지하철승하차'])\n",
    "corr_df7['유동인구'] = Udong_2020.loc['장충동'].stack()\n",
    "corr_df7['지하철승하차'] = subway_updown2.loc['동대입구'].stack()\n",
    "corr_7 = corr_df7.corr()['유동인구']['지하철승하차']\n",
    "\n",
    "corr_df8 = pd.DataFrame(columns = ['유동인구', '지하철승하차'])\n",
    "corr_df8['유동인구'] = Udong_2020.loc['중계2.3동'].stack()\n",
    "corr_df8['지하철승하차'] = subway_updown2.loc['중계'].stack()\n",
    "corr_8 = corr_df8.corr()['유동인구']['지하철승하차']\n",
    "\n",
    "corr_df9 = pd.DataFrame(columns = ['유동인구', '지하철승하차'])\n",
    "corr_df9['유동인구'] = Udong_2020.loc['하계1동'].stack() + Udong_2020.loc['하계2동'].stack()\n",
    "corr_df9['지하철승하차'] = subway_updown2.loc['하계'].stack()\n",
    "corr_9 = corr_df9.corr()['유동인구']['지하철승하차']"
   ]
  },
  {
   "cell_type": "code",
   "execution_count": 34,
   "metadata": {},
   "outputs": [
    {
     "name": "stdout",
     "output_type": "stream",
     "text": [
      "지하철 승차 + 하차 상관관계: 0.711424616527692\n"
     ]
    }
   ],
   "source": [
    "print('지하철 승차 + 하차 상관관계: {}'.format((corr_1 + corr_2 + corr_3 + corr_4 + corr_5 + corr_6 + corr_7 + corr_8 + corr_9)/9))"
   ]
  },
  {
   "cell_type": "markdown",
   "metadata": {},
   "source": [
    "# 하차데이터"
   ]
  },
  {
   "cell_type": "markdown",
   "metadata": {},
   "source": [
    "## 명동"
   ]
  },
  {
   "cell_type": "code",
   "execution_count": 35,
   "metadata": {},
   "outputs": [
    {
     "data": {
      "text/html": [
       "<div>\n",
       "<style scoped>\n",
       "    .dataframe tbody tr th:only-of-type {\n",
       "        vertical-align: middle;\n",
       "    }\n",
       "\n",
       "    .dataframe tbody tr th {\n",
       "        vertical-align: top;\n",
       "    }\n",
       "\n",
       "    .dataframe thead th {\n",
       "        text-align: right;\n",
       "    }\n",
       "</style>\n",
       "<table border=\"1\" class=\"dataframe\">\n",
       "  <thead>\n",
       "    <tr style=\"text-align: right;\">\n",
       "      <th></th>\n",
       "      <th>유동인구</th>\n",
       "      <th>지하철하차</th>\n",
       "    </tr>\n",
       "  </thead>\n",
       "  <tbody>\n",
       "    <tr>\n",
       "      <th>유동인구</th>\n",
       "      <td>1.000000</td>\n",
       "      <td>0.949101</td>\n",
       "    </tr>\n",
       "    <tr>\n",
       "      <th>지하철하차</th>\n",
       "      <td>0.949101</td>\n",
       "      <td>1.000000</td>\n",
       "    </tr>\n",
       "  </tbody>\n",
       "</table>\n",
       "</div>"
      ],
      "text/plain": [
       "           유동인구     지하철하차\n",
       "유동인구   1.000000  0.949101\n",
       "지하철하차  0.949101  1.000000"
      ]
     },
     "execution_count": 35,
     "metadata": {},
     "output_type": "execute_result"
    }
   ],
   "source": [
    "corr_df = pd.DataFrame(columns = ['유동인구', '지하철하차'])\n",
    "corr_df['유동인구'] = Udong_2020.loc['명동'].stack()\n",
    "corr_df['지하철하차'] = subway_down.loc['을지로입구'].stack() + subway_down.loc['명동'].stack()\n",
    "corr_df.corr()"
   ]
  },
  {
   "cell_type": "code",
   "execution_count": 36,
   "metadata": {},
   "outputs": [
    {
     "data": {
      "text/plain": [
       "<seaborn.axisgrid.JointGrid at 0x132f021e940>"
      ]
     },
     "execution_count": 36,
     "metadata": {},
     "output_type": "execute_result"
    },
    {
     "data": {
      "image/png": "[encoded data removed]",
      "text/plain": [
       "<Figure size 432x432 with 3 Axes>"
      ]
     },
     "metadata": {
      "needs_background": "light"
     },
     "output_type": "display_data"
    }
   ],
   "source": [
    "ax = sns.jointplot(x = corr_df['유동인구'], y = corr_df['지하철하차'], kind='hex', color='b')\n",
    "ax.set_axis_labels(xlabel = '유동인구', ylabel='지하철 하차인원')"
   ]
  },
  {
   "cell_type": "markdown",
   "metadata": {},
   "source": [
    "## 상계1동"
   ]
  },
  {
   "cell_type": "code",
   "execution_count": 37,
   "metadata": {},
   "outputs": [
    {
     "data": {
      "text/html": [
       "<div>\n",
       "<style scoped>\n",
       "    .dataframe tbody tr th:only-of-type {\n",
       "        vertical-align: middle;\n",
       "    }\n",
       "\n",
       "    .dataframe tbody tr th {\n",
       "        vertical-align: top;\n",
       "    }\n",
       "\n",
       "    .dataframe thead th {\n",
       "        text-align: right;\n",
       "    }\n",
       "</style>\n",
       "<table border=\"1\" class=\"dataframe\">\n",
       "  <thead>\n",
       "    <tr style=\"text-align: right;\">\n",
       "      <th></th>\n",
       "      <th>유동인구</th>\n",
       "      <th>지하철하차</th>\n",
       "    </tr>\n",
       "  </thead>\n",
       "  <tbody>\n",
       "    <tr>\n",
       "      <th>유동인구</th>\n",
       "      <td>1.000000</td>\n",
       "      <td>0.664154</td>\n",
       "    </tr>\n",
       "    <tr>\n",
       "      <th>지하철하차</th>\n",
       "      <td>0.664154</td>\n",
       "      <td>1.000000</td>\n",
       "    </tr>\n",
       "  </tbody>\n",
       "</table>\n",
       "</div>"
      ],
      "text/plain": [
       "           유동인구     지하철하차\n",
       "유동인구   1.000000  0.664154\n",
       "지하철하차  0.664154  1.000000"
      ]
     },
     "execution_count": 37,
     "metadata": {},
     "output_type": "execute_result"
    }
   ],
   "source": [
    "corr_df = pd.DataFrame(columns = ['유동인구', '지하철하차'])\n",
    "corr_df['유동인구'] = Udong_2020.loc['상계1동'].stack()\n",
    "corr_df['지하철하차'] = subway_down.loc['수락산'].stack()\n",
    "corr_df.corr()"
   ]
  },
  {
   "cell_type": "code",
   "execution_count": 38,
   "metadata": {},
   "outputs": [
    {
     "data": {
      "text/plain": [
       "<seaborn.axisgrid.JointGrid at 0x132f21f8080>"
      ]
     },
     "execution_count": 38,
     "metadata": {},
     "output_type": "execute_result"
    },
    {
     "data": {
      "image/png": "[encoded data removed]",
      "text/plain": [
       "<Figure size 432x432 with 3 Axes>"
      ]
     },
     "metadata": {
      "needs_background": "light"
     },
     "output_type": "display_data"
    }
   ],
   "source": [
    "ax = sns.jointplot(x = corr_df['유동인구'], y = corr_df['지하철하차'], kind='hex', color='b')\n",
    "ax.set_axis_labels(xlabel = '유동인구', ylabel='지하철 하차인원')"
   ]
  },
  {
   "cell_type": "markdown",
   "metadata": {},
   "source": [
    "## 상계3.4동"
   ]
  },
  {
   "cell_type": "code",
   "execution_count": 39,
   "metadata": {},
   "outputs": [
    {
     "data": {
      "text/html": [
       "<div>\n",
       "<style scoped>\n",
       "    .dataframe tbody tr th:only-of-type {\n",
       "        vertical-align: middle;\n",
       "    }\n",
       "\n",
       "    .dataframe tbody tr th {\n",
       "        vertical-align: top;\n",
       "    }\n",
       "\n",
       "    .dataframe thead th {\n",
       "        text-align: right;\n",
       "    }\n",
       "</style>\n",
       "<table border=\"1\" class=\"dataframe\">\n",
       "  <thead>\n",
       "    <tr style=\"text-align: right;\">\n",
       "      <th></th>\n",
       "      <th>유동인구</th>\n",
       "      <th>지하철하차</th>\n",
       "    </tr>\n",
       "  </thead>\n",
       "  <tbody>\n",
       "    <tr>\n",
       "      <th>유동인구</th>\n",
       "      <td>1.000000</td>\n",
       "      <td>0.625168</td>\n",
       "    </tr>\n",
       "    <tr>\n",
       "      <th>지하철하차</th>\n",
       "      <td>0.625168</td>\n",
       "      <td>1.000000</td>\n",
       "    </tr>\n",
       "  </tbody>\n",
       "</table>\n",
       "</div>"
      ],
      "text/plain": [
       "           유동인구     지하철하차\n",
       "유동인구   1.000000  0.625168\n",
       "지하철하차  0.625168  1.000000"
      ]
     },
     "execution_count": 39,
     "metadata": {},
     "output_type": "execute_result"
    }
   ],
   "source": [
    "corr_df = pd.DataFrame(columns = ['유동인구', '지하철하차'])\n",
    "corr_df['유동인구'] = Udong_2020.loc['상계3.4동'].stack()\n",
    "corr_df['지하철하차'] = subway_down.loc['당고개'].stack()\n",
    "corr_df.corr()"
   ]
  },
  {
   "cell_type": "code",
   "execution_count": 40,
   "metadata": {},
   "outputs": [
    {
     "data": {
      "text/plain": [
       "<seaborn.axisgrid.JointGrid at 0x132f2211710>"
      ]
     },
     "execution_count": 40,
     "metadata": {},
     "output_type": "execute_result"
    },
    {
     "data": {
      "image/png": "[encoded data removed]",
      "text/plain": [
       "<Figure size 432x432 with 3 Axes>"
      ]
     },
     "metadata": {
      "needs_background": "light"
     },
     "output_type": "display_data"
    }
   ],
   "source": [
    "ax = sns.jointplot(x = corr_df['유동인구'], y = corr_df['지하철하차'], kind='hex', color='b')\n",
    "ax.set_axis_labels(xlabel = '유동인구', ylabel='지하철 하차인원')"
   ]
  },
  {
   "cell_type": "markdown",
   "metadata": {},
   "source": [
    "## 상계8동 + 상계9동"
   ]
  },
  {
   "cell_type": "code",
   "execution_count": 41,
   "metadata": {},
   "outputs": [
    {
     "data": {
      "text/html": [
       "<div>\n",
       "<style scoped>\n",
       "    .dataframe tbody tr th:only-of-type {\n",
       "        vertical-align: middle;\n",
       "    }\n",
       "\n",
       "    .dataframe tbody tr th {\n",
       "        vertical-align: top;\n",
       "    }\n",
       "\n",
       "    .dataframe thead th {\n",
       "        text-align: right;\n",
       "    }\n",
       "</style>\n",
       "<table border=\"1\" class=\"dataframe\">\n",
       "  <thead>\n",
       "    <tr style=\"text-align: right;\">\n",
       "      <th></th>\n",
       "      <th>유동인구</th>\n",
       "      <th>지하철하차</th>\n",
       "    </tr>\n",
       "  </thead>\n",
       "  <tbody>\n",
       "    <tr>\n",
       "      <th>유동인구</th>\n",
       "      <td>1.000000</td>\n",
       "      <td>0.705404</td>\n",
       "    </tr>\n",
       "    <tr>\n",
       "      <th>지하철하차</th>\n",
       "      <td>0.705404</td>\n",
       "      <td>1.000000</td>\n",
       "    </tr>\n",
       "  </tbody>\n",
       "</table>\n",
       "</div>"
      ],
      "text/plain": [
       "           유동인구     지하철하차\n",
       "유동인구   1.000000  0.705404\n",
       "지하철하차  0.705404  1.000000"
      ]
     },
     "execution_count": 41,
     "metadata": {},
     "output_type": "execute_result"
    }
   ],
   "source": [
    "corr_df = pd.DataFrame(columns = ['유동인구', '지하철하차'])\n",
    "corr_df['유동인구'] = Udong_2020.loc['상계8동'].stack() + Udong_2020.loc['상계9동'].stack()\n",
    "corr_df['지하철하차'] = subway_down.loc['마들'].stack()\n",
    "corr_df.corr()"
   ]
  },
  {
   "cell_type": "code",
   "execution_count": 42,
   "metadata": {},
   "outputs": [
    {
     "data": {
      "text/plain": [
       "<seaborn.axisgrid.JointGrid at 0x132f25bf6d8>"
      ]
     },
     "execution_count": 42,
     "metadata": {},
     "output_type": "execute_result"
    },
    {
     "data": {
      "image/png": "[encoded data removed]",
      "text/plain": [
       "<Figure size 432x432 with 3 Axes>"
      ]
     },
     "metadata": {
      "needs_background": "light"
     },
     "output_type": "display_data"
    }
   ],
   "source": [
    "ax = sns.jointplot(x = corr_df['유동인구'], y = corr_df['지하철하차'], kind='hex', color='b')\n",
    "ax.set_axis_labels(xlabel = '유동인구', ylabel='지하철 하차인원')"
   ]
  },
  {
   "cell_type": "markdown",
   "metadata": {},
   "source": [
    "## 신당동"
   ]
  },
  {
   "cell_type": "code",
   "execution_count": 43,
   "metadata": {},
   "outputs": [
    {
     "data": {
      "text/html": [
       "<div>\n",
       "<style scoped>\n",
       "    .dataframe tbody tr th:only-of-type {\n",
       "        vertical-align: middle;\n",
       "    }\n",
       "\n",
       "    .dataframe tbody tr th {\n",
       "        vertical-align: top;\n",
       "    }\n",
       "\n",
       "    .dataframe thead th {\n",
       "        text-align: right;\n",
       "    }\n",
       "</style>\n",
       "<table border=\"1\" class=\"dataframe\">\n",
       "  <thead>\n",
       "    <tr style=\"text-align: right;\">\n",
       "      <th></th>\n",
       "      <th>유동인구</th>\n",
       "      <th>지하철하차</th>\n",
       "    </tr>\n",
       "  </thead>\n",
       "  <tbody>\n",
       "    <tr>\n",
       "      <th>유동인구</th>\n",
       "      <td>1.00000</td>\n",
       "      <td>0.90512</td>\n",
       "    </tr>\n",
       "    <tr>\n",
       "      <th>지하철하차</th>\n",
       "      <td>0.90512</td>\n",
       "      <td>1.00000</td>\n",
       "    </tr>\n",
       "  </tbody>\n",
       "</table>\n",
       "</div>"
      ],
      "text/plain": [
       "          유동인구    지하철하차\n",
       "유동인구   1.00000  0.90512\n",
       "지하철하차  0.90512  1.00000"
      ]
     },
     "execution_count": 43,
     "metadata": {},
     "output_type": "execute_result"
    }
   ],
   "source": [
    "corr_df = pd.DataFrame(columns = ['유동인구', '지하철하차'])\n",
    "corr_df['유동인구'] = Udong_2020.loc['신당동'].stack()\n",
    "corr_df['지하철하차'] = subway_down.loc['신당'].stack() +subway_down.loc['청구'].stack() + subway_down.loc['약수'].stack() + subway_down.loc['버티고개'].stack()\n",
    "corr_df.corr()"
   ]
  },
  {
   "cell_type": "code",
   "execution_count": 44,
   "metadata": {},
   "outputs": [
    {
     "data": {
      "text/plain": [
       "<seaborn.axisgrid.JointGrid at 0x132f2775f28>"
      ]
     },
     "execution_count": 44,
     "metadata": {},
     "output_type": "execute_result"
    },
    {
     "data": {
      "image/png": "[encoded data removed]",
      "text/plain": [
       "<Figure size 432x432 with 3 Axes>"
      ]
     },
     "metadata": {
      "needs_background": "light"
     },
     "output_type": "display_data"
    }
   ],
   "source": [
    "ax = sns.jointplot(x = corr_df['유동인구'], y = corr_df['지하철하차'], kind='hex', color='b')\n",
    "ax.set_axis_labels(xlabel = '유동인구', ylabel='지하철 하차인원')"
   ]
  },
  {
   "cell_type": "markdown",
   "metadata": {},
   "source": [
    "## 을지로동"
   ]
  },
  {
   "cell_type": "code",
   "execution_count": 45,
   "metadata": {},
   "outputs": [
    {
     "data": {
      "text/html": [
       "<div>\n",
       "<style scoped>\n",
       "    .dataframe tbody tr th:only-of-type {\n",
       "        vertical-align: middle;\n",
       "    }\n",
       "\n",
       "    .dataframe tbody tr th {\n",
       "        vertical-align: top;\n",
       "    }\n",
       "\n",
       "    .dataframe thead th {\n",
       "        text-align: right;\n",
       "    }\n",
       "</style>\n",
       "<table border=\"1\" class=\"dataframe\">\n",
       "  <thead>\n",
       "    <tr style=\"text-align: right;\">\n",
       "      <th></th>\n",
       "      <th>유동인구</th>\n",
       "      <th>지하철하차</th>\n",
       "    </tr>\n",
       "  </thead>\n",
       "  <tbody>\n",
       "    <tr>\n",
       "      <th>유동인구</th>\n",
       "      <td>1.000000</td>\n",
       "      <td>0.899459</td>\n",
       "    </tr>\n",
       "    <tr>\n",
       "      <th>지하철하차</th>\n",
       "      <td>0.899459</td>\n",
       "      <td>1.000000</td>\n",
       "    </tr>\n",
       "  </tbody>\n",
       "</table>\n",
       "</div>"
      ],
      "text/plain": [
       "           유동인구     지하철하차\n",
       "유동인구   1.000000  0.899459\n",
       "지하철하차  0.899459  1.000000"
      ]
     },
     "execution_count": 45,
     "metadata": {},
     "output_type": "execute_result"
    }
   ],
   "source": [
    "corr_df = pd.DataFrame(columns = ['유동인구', '지하철하차'])\n",
    "corr_df['유동인구'] = Udong_2020.loc['을지로동'].stack()\n",
    "corr_df['지하철하차'] = subway_down.loc['을지로3가'].stack() +subway_down.loc['을지로4가'].stack()\n",
    "corr_df.corr()"
   ]
  },
  {
   "cell_type": "code",
   "execution_count": 46,
   "metadata": {},
   "outputs": [
    {
     "data": {
      "text/plain": [
       "<seaborn.axisgrid.JointGrid at 0x132f294ec18>"
      ]
     },
     "execution_count": 46,
     "metadata": {},
     "output_type": "execute_result"
    },
    {
     "data": {
      "image/png": "[encoded data removed]",
      "text/plain": [
       "<Figure size 432x432 with 3 Axes>"
      ]
     },
     "metadata": {
      "needs_background": "light"
     },
     "output_type": "display_data"
    }
   ],
   "source": [
    "ax = sns.jointplot(x = corr_df['유동인구'], y = corr_df['지하철하차'], kind='hex', color='b')\n",
    "ax.set_axis_labels(xlabel = '유동인구', ylabel='지하철 하차인원')"
   ]
  },
  {
   "cell_type": "markdown",
   "metadata": {},
   "source": [
    "## 장충동"
   ]
  },
  {
   "cell_type": "code",
   "execution_count": 47,
   "metadata": {},
   "outputs": [
    {
     "data": {
      "text/html": [
       "<div>\n",
       "<style scoped>\n",
       "    .dataframe tbody tr th:only-of-type {\n",
       "        vertical-align: middle;\n",
       "    }\n",
       "\n",
       "    .dataframe tbody tr th {\n",
       "        vertical-align: top;\n",
       "    }\n",
       "\n",
       "    .dataframe thead th {\n",
       "        text-align: right;\n",
       "    }\n",
       "</style>\n",
       "<table border=\"1\" class=\"dataframe\">\n",
       "  <thead>\n",
       "    <tr style=\"text-align: right;\">\n",
       "      <th></th>\n",
       "      <th>유동인구</th>\n",
       "      <th>지하철하차</th>\n",
       "    </tr>\n",
       "  </thead>\n",
       "  <tbody>\n",
       "    <tr>\n",
       "      <th>유동인구</th>\n",
       "      <td>1.000000</td>\n",
       "      <td>0.678094</td>\n",
       "    </tr>\n",
       "    <tr>\n",
       "      <th>지하철하차</th>\n",
       "      <td>0.678094</td>\n",
       "      <td>1.000000</td>\n",
       "    </tr>\n",
       "  </tbody>\n",
       "</table>\n",
       "</div>"
      ],
      "text/plain": [
       "           유동인구     지하철하차\n",
       "유동인구   1.000000  0.678094\n",
       "지하철하차  0.678094  1.000000"
      ]
     },
     "execution_count": 47,
     "metadata": {},
     "output_type": "execute_result"
    }
   ],
   "source": [
    "corr_df = pd.DataFrame(columns = ['유동인구', '지하철하차'])\n",
    "corr_df['유동인구'] = Udong_2020.loc['장충동'].stack()\n",
    "corr_df['지하철하차'] = subway_down.loc['동대입구'].stack()\n",
    "corr_df.corr()"
   ]
  },
  {
   "cell_type": "code",
   "execution_count": 48,
   "metadata": {},
   "outputs": [
    {
     "data": {
      "text/plain": [
       "<seaborn.axisgrid.JointGrid at 0x132f2b64e48>"
      ]
     },
     "execution_count": 48,
     "metadata": {},
     "output_type": "execute_result"
    },
    {
     "data": {
      "image/png": "[encoded data removed]",
      "text/plain": [
       "<Figure size 432x432 with 3 Axes>"
      ]
     },
     "metadata": {
      "needs_background": "light"
     },
     "output_type": "display_data"
    }
   ],
   "source": [
    "ax = sns.jointplot(x = corr_df['유동인구'], y = corr_df['지하철하차'], kind='hex', color='b')\n",
    "ax.set_axis_labels(xlabel = '유동인구', ylabel='지하철 하차인원')"
   ]
  },
  {
   "cell_type": "markdown",
   "metadata": {},
   "source": [
    "## 중계2.3동"
   ]
  },
  {
   "cell_type": "code",
   "execution_count": 49,
   "metadata": {},
   "outputs": [
    {
     "data": {
      "text/html": [
       "<div>\n",
       "<style scoped>\n",
       "    .dataframe tbody tr th:only-of-type {\n",
       "        vertical-align: middle;\n",
       "    }\n",
       "\n",
       "    .dataframe tbody tr th {\n",
       "        vertical-align: top;\n",
       "    }\n",
       "\n",
       "    .dataframe thead th {\n",
       "        text-align: right;\n",
       "    }\n",
       "</style>\n",
       "<table border=\"1\" class=\"dataframe\">\n",
       "  <thead>\n",
       "    <tr style=\"text-align: right;\">\n",
       "      <th></th>\n",
       "      <th>유동인구</th>\n",
       "      <th>지하철하차</th>\n",
       "    </tr>\n",
       "  </thead>\n",
       "  <tbody>\n",
       "    <tr>\n",
       "      <th>유동인구</th>\n",
       "      <td>1.000000</td>\n",
       "      <td>0.749307</td>\n",
       "    </tr>\n",
       "    <tr>\n",
       "      <th>지하철하차</th>\n",
       "      <td>0.749307</td>\n",
       "      <td>1.000000</td>\n",
       "    </tr>\n",
       "  </tbody>\n",
       "</table>\n",
       "</div>"
      ],
      "text/plain": [
       "           유동인구     지하철하차\n",
       "유동인구   1.000000  0.749307\n",
       "지하철하차  0.749307  1.000000"
      ]
     },
     "execution_count": 49,
     "metadata": {},
     "output_type": "execute_result"
    }
   ],
   "source": [
    "corr_df = pd.DataFrame(columns = ['유동인구', '지하철하차'])\n",
    "corr_df['유동인구'] = Udong_2020.loc['중계2.3동'].stack()\n",
    "corr_df['지하철하차'] = subway_down.loc['중계'].stack()\n",
    "corr_df.corr()"
   ]
  },
  {
   "cell_type": "code",
   "execution_count": 50,
   "metadata": {},
   "outputs": [
    {
     "data": {
      "text/plain": [
       "<seaborn.axisgrid.JointGrid at 0x132f2dff080>"
      ]
     },
     "execution_count": 50,
     "metadata": {},
     "output_type": "execute_result"
    },
    {
     "data": {
      "image/png": "[encoded data removed]",
      "text/plain": [
       "<Figure size 432x432 with 3 Axes>"
      ]
     },
     "metadata": {
      "needs_background": "light"
     },
     "output_type": "display_data"
    }
   ],
   "source": [
    "ax = sns.jointplot(x = corr_df['유동인구'], y = corr_df['지하철하차'], kind='hex', color='b')\n",
    "ax.set_axis_labels(xlabel = '유동인구', ylabel='지하철 하차인원')"
   ]
  },
  {
   "cell_type": "markdown",
   "metadata": {},
   "source": [
    "## 하계1동, 하계2동"
   ]
  },
  {
   "cell_type": "code",
   "execution_count": 51,
   "metadata": {},
   "outputs": [
    {
     "data": {
      "text/html": [
       "<div>\n",
       "<style scoped>\n",
       "    .dataframe tbody tr th:only-of-type {\n",
       "        vertical-align: middle;\n",
       "    }\n",
       "\n",
       "    .dataframe tbody tr th {\n",
       "        vertical-align: top;\n",
       "    }\n",
       "\n",
       "    .dataframe thead th {\n",
       "        text-align: right;\n",
       "    }\n",
       "</style>\n",
       "<table border=\"1\" class=\"dataframe\">\n",
       "  <thead>\n",
       "    <tr style=\"text-align: right;\">\n",
       "      <th></th>\n",
       "      <th>유동인구</th>\n",
       "      <th>지하철하차</th>\n",
       "    </tr>\n",
       "  </thead>\n",
       "  <tbody>\n",
       "    <tr>\n",
       "      <th>유동인구</th>\n",
       "      <td>1.000000</td>\n",
       "      <td>0.781337</td>\n",
       "    </tr>\n",
       "    <tr>\n",
       "      <th>지하철하차</th>\n",
       "      <td>0.781337</td>\n",
       "      <td>1.000000</td>\n",
       "    </tr>\n",
       "  </tbody>\n",
       "</table>\n",
       "</div>"
      ],
      "text/plain": [
       "           유동인구     지하철하차\n",
       "유동인구   1.000000  0.781337\n",
       "지하철하차  0.781337  1.000000"
      ]
     },
     "execution_count": 51,
     "metadata": {},
     "output_type": "execute_result"
    }
   ],
   "source": [
    "corr_df = pd.DataFrame(columns = ['유동인구', '지하철하차'])\n",
    "corr_df['유동인구'] = Udong_2020.loc['하계1동'].stack() + Udong_2020.loc['하계2동'].stack()\n",
    "corr_df['지하철하차'] = subway_down.loc['하계'].stack()\n",
    "corr_df.corr()"
   ]
  },
  {
   "cell_type": "code",
   "execution_count": 52,
   "metadata": {},
   "outputs": [
    {
     "data": {
      "text/plain": [
       "<seaborn.axisgrid.JointGrid at 0x132f2991400>"
      ]
     },
     "execution_count": 52,
     "metadata": {},
     "output_type": "execute_result"
    },
    {
     "data": {
      "image/png": "[encoded data removed]",
      "text/plain": [
       "<Figure size 432x432 with 3 Axes>"
      ]
     },
     "metadata": {
      "needs_background": "light"
     },
     "output_type": "display_data"
    }
   ],
   "source": [
    "ax = sns.jointplot(x = corr_df['유동인구'], y = corr_df['지하철하차'], kind='hex', color='b')\n",
    "ax.set_axis_labels(xlabel = '유동인구', ylabel='지하철 하차인원')"
   ]
  },
  {
   "cell_type": "code",
   "execution_count": 53,
   "metadata": {},
   "outputs": [],
   "source": [
    "corr_df1 = pd.DataFrame(columns = ['유동인구', '지하철하차'])\n",
    "corr_df1['유동인구'] = Udong_2020.loc['명동'].stack()\n",
    "corr_df1['지하철하차'] = subway_down.loc['을지로입구'].stack() + subway_down.loc['명동'].stack()\n",
    "corr_1 = corr_df1.corr()['유동인구']['지하철하차']\n",
    "     \n",
    "corr_df2 = pd.DataFrame(columns = ['유동인구', '지하철하차'])\n",
    "corr_df2['유동인구'] = Udong_2020.loc['상계1동'].stack()\n",
    "corr_df2['지하철하차'] = subway_down.loc['수락산'].stack()\n",
    "corr_2 = corr_df2.corr()['유동인구']['지하철하차']\n",
    "\n",
    "corr_df3 = pd.DataFrame(columns = ['유동인구', '지하철하차'])\n",
    "corr_df3['유동인구'] = Udong_2020.loc['상계3.4동'].stack()\n",
    "corr_df3['지하철하차'] = subway_down.loc['당고개'].stack()\n",
    "corr_3 = corr_df3.corr()['유동인구']['지하철하차']\n",
    "\n",
    "corr_df4 = pd.DataFrame(columns = ['유동인구', '지하철하차'])\n",
    "corr_df4['유동인구'] = Udong_2020.loc['상계8동'].stack() + Udong_2020.loc['상계9동'].stack()\n",
    "corr_df4['지하철하차'] = subway_down.loc['마들'].stack()\n",
    "corr_4 = corr_df4.corr()['유동인구']['지하철하차']\n",
    "\n",
    "corr_df5 = pd.DataFrame(columns = ['유동인구', '지하철하차'])\n",
    "corr_df5['유동인구'] = Udong_2020.loc['신당동'].stack()\n",
    "corr_df5['지하철하차'] = subway_down.loc['신당'].stack() +subway_down.loc['청구'].stack() + subway_down.loc['약수'].stack() + subway_down.loc['버티고개'].stack()\n",
    "corr_5 = corr_df5.corr()['유동인구']['지하철하차']\n",
    "\n",
    "corr_df6 = pd.DataFrame(columns = ['유동인구', '지하철하차'])\n",
    "corr_df6['유동인구'] = Udong_2020.loc['을지로동'].stack()\n",
    "corr_df6['지하철하차'] = subway_down.loc['을지로3가'].stack() +subway_down.loc['을지로4가'].stack()\n",
    "corr_6 = corr_df6.corr()['유동인구']['지하철하차']\n",
    "\n",
    "corr_df7 = pd.DataFrame(columns = ['유동인구', '지하철하차'])\n",
    "corr_df7['유동인구'] = Udong_2020.loc['장충동'].stack()\n",
    "corr_df7['지하철하차'] = subway_down.loc['동대입구'].stack()\n",
    "corr_7 = corr_df7.corr()['유동인구']['지하철하차']\n",
    "\n",
    "corr_df8 = pd.DataFrame(columns = ['유동인구', '지하철하차'])\n",
    "corr_df8['유동인구'] = Udong_2020.loc['중계2.3동'].stack()\n",
    "corr_df8['지하철하차'] = subway_down.loc['중계'].stack()\n",
    "corr_8 = corr_df8.corr()['유동인구']['지하철하차']\n",
    "\n",
    "corr_df9 = pd.DataFrame(columns = ['유동인구', '지하철하차'])\n",
    "corr_df9['유동인구'] = Udong_2020.loc['하계1동'].stack() + Udong_2020.loc['하계2동'].stack()\n",
    "corr_df9['지하철하차'] = subway_down.loc['하계'].stack()\n",
    "corr_9 = corr_df9.corr()['유동인구']['지하철하차']"
   ]
  },
  {
   "cell_type": "code",
   "execution_count": 54,
   "metadata": {},
   "outputs": [
    {
     "name": "stdout",
     "output_type": "stream",
     "text": [
      "지하철 하차 상관관계: 0.7730161224779233\n"
     ]
    }
   ],
   "source": [
    "print('지하철 하차 상관관계: {}'.format((corr_1 + corr_2 + corr_3 + corr_4 + corr_5 + corr_6 + corr_7 + corr_8 + corr_9)/9))"
   ]
  },
  {
   "cell_type": "code",
   "execution_count": null,
   "metadata": {},
   "outputs": [],
   "source": []
  }
 ],
 "metadata": {
  "kernelspec": {
   "display_name": "Python 3",
   "language": "python",
   "name": "python3"
  },
  "language_info": {
   "codemirror_mode": {
    "name": "ipython",
    "version": 3
   },
   "file_extension": ".py",
   "mimetype": "text/x-python",
   "name": "python",
   "nbconvert_exporter": "python",
   "pygments_lexer": "ipython3",
   "version": "3.6.10"
  }
 },
 "nbformat": 4,
 "nbformat_minor": 4
}
